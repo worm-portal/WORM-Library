{
 "cells": [
  {
   "cell_type": "markdown",
   "id": "f36d1389-05ac-4bc8-bddc-778da59c6a72",
   "metadata": {},
   "source": [
    "<left>\n",
    "<table style=\"margin-top:0px; margin-left:0px;\">\n",
    "<tr>\n",
    "  <td><img src=\"https://raw.githubusercontent.com/worm-portal/WORM-Figures/master/style/worm.png\" alt=\"WORM\" title=\"WORM\" width=50/></td>\n",
    "  <td><h1 style=font-size:30px>Energy supplies in submarine hydrothermal vents</h1><h2>Breakout Session Activity</h2></td>\n",
    "</tr>\n",
    "</table>\n",
    "</left>\n",
    "\n",
    "\n",
    "<td><img src=\"https://nautiluslive.org/sites/default/files/styles/responsive_image_xl/public/images/2017-10/h1504cam1_20160523204041_copy.png?itok=Hb9TNSTk\" alt=\"Guaymas Basin Vents\" title=\"Guaymas Basin Vents\" width=75%/></td>\n",
    "\n",
    "*Guaymas Basin submarine hydrothermal vents in the Gulf of California. Image from Ocean Exploration Trust.*\n",
    "\n",
    "Marine hydrothermal vents are teeming with thermophilic (heat-loving) chemotrophic (chemical-eating) microbes thriving at the interface between reduced vent fluid and oxidized seawater. This provides a redox gradient perfect for obtaining energy by catalyzing redox reactions.\n",
    "\n",
    "---\n",
    "\n",
    "### Activity: quantifying energy supplies in marine hydrothermal vent fluids and seawater\n",
    "\n",
    "You have been given a CSV file, `S&C10vents_energy.csv`, containing water chemistry data for basal seawater (BSW) and seven vent fluids from around the world. Let's investigate a variety of redox reactions to determine which are energy-yielding in these fluids.\n",
    "\n",
    "1) Some microbes can catalyze the transformation of elemental sulfur ($\\text{S}_{(cr)}^\\circ$) into sulfide and sulfate in a reaction called *sulfur disproportionation*:\n",
    "\n",
    "    $$4 \\text{S}_{(cr)}^\\circ + 4 \\text{H}_2\\text{O} = \\text{SO}_4^{-2} + 3 \\text{H}_2\\text{S} + 2 \\text{H}^+$$\n",
    "\n",
    "    a) Estimate how much energy is available from this reaction (in calories per electron transferred) in pure vent fluid and seawater. Is sulfur disproportionation a viable metabolic strategy in these fluids? What about the reverse reaction (*sulfur comproportionation*)?\n",
    "\n",
    "    b) Sulfur disproportionating microbes have indeed been detected in marine hydrothermal vent communities. [Alain et al. (2022)](https://dx.doi.org/10.1111/1462-2920.15975) predicted ΔG = -52.63 kJ/mole e- for sulfur disproportionation in Trans-Atlantic Geotraverse (TAG) fluid from a vent in the mid-Atlantic ridge reported by [Humphris & Klein (2018)](https://doi.org/10.1146/annurev-marine-121916-063233). How does this value compare to energy estimated from the TAG fluid in this dataset?\n",
    "\n",
    "   c) Try calculating energy supply for sulfur disproportionation in J/kg fluid. What's going on?\n",
    "\n",
    "3) Sulfur exists in many oxidation states in and around seafloor vents, like $\\text{H}_2\\text{S}$, $\\text{FeS}_{(cr)}$, $\\text{FeS}_{2(cr)}$, $\\text{S}_{(cr)}^\\circ$, $\\text{SO}_3^{-2}$, $\\text{S}_2\\text{O}_3^{-2}$ , $\\text{SO}_4^{-2}$, etc. ([Alain et al., 2022](https://dx.doi.org/10.1111/1462-2920.15975)).\n",
    "\n",
    "    a) Try combining half reactions containing sulfur compounds into full redox reactions and calculating affinity per mole of electrons transferred. Are there any reactions that yield energy in pure vent fluid but not in pure seawater?\n",
    "\n",
    "    b) Add a new half reaction from the list that doesn't contain sulfur or a mineral. Plot affinities and energy supplies. Are there reactions where the affinity is high, but energy supply is low? What about the opposite?\n",
    "\n",
    "4) Feel free to explore affinities and energy supplies from all kinds of different redox reactions in vent fluids!"
   ]
  },
  {
   "cell_type": "code",
   "execution_count": null,
   "id": "d719153f-769e-450d-ba93-5e652afee90e",
   "metadata": {},
   "outputs": [],
   "source": [
    "import AqEquil"
   ]
  },
  {
   "cell_type": "code",
   "execution_count": null,
   "id": "26d8500e-0fe3-4fba-a4ed-66c46fd0a4c7",
   "metadata": {},
   "outputs": [],
   "source": [
    "ae = AqEquil.AqEquil(db=\"WORM\", exclude_organics=True)"
   ]
  },
  {
   "cell_type": "code",
   "execution_count": null,
   "id": "dec5d199-360b-4152-b9df-04b8d98c587c",
   "metadata": {},
   "outputs": [],
   "source": [
    "speciation = ae.speciate(\n",
    "        input_filename = \"S&C10vents_energy.csv\", \n",
    "        exclude = ['Year', 'Area'],\n",
    "        charge_balance_on=\"Cl-\",\n",
    "        )"
   ]
  },
  {
   "cell_type": "code",
   "execution_count": null,
   "id": "9fa50b69-addd-4aa0-b68f-31b9973d221e",
   "metadata": {},
   "outputs": [],
   "source": [
    "speciation.save(\"S&C10vents\")"
   ]
  },
  {
   "cell_type": "markdown",
   "id": "f455a5b4-4042-42cd-9ddb-9aa4aafdd082",
   "metadata": {},
   "source": [
    "### The notebook can be closed and restarted from here if necessary"
   ]
  },
  {
   "cell_type": "code",
   "execution_count": null,
   "id": "4ce631a2-aae4-4b16-b6c6-586d6bf4c44a",
   "metadata": {},
   "outputs": [],
   "source": [
    "import AqEquil"
   ]
  },
  {
   "cell_type": "code",
   "execution_count": null,
   "id": "5e417c2b-cebb-4dae-99ed-0cab66944e6e",
   "metadata": {},
   "outputs": [],
   "source": [
    "speciation = AqEquil.load(\"S&C10vents.speciation\")"
   ]
  },
  {
   "cell_type": "code",
   "execution_count": null,
   "id": "97b5bb90-e2d9-4ec5-a8a6-f2293f654e44",
   "metadata": {},
   "outputs": [],
   "source": [
    "speciation.half_cell_reactions"
   ]
  },
  {
   "cell_type": "code",
   "execution_count": null,
   "id": "bf7cf631-45ea-4ecf-9326-efa29e4bbccf",
   "metadata": {},
   "outputs": [],
   "source": [
    "speciation.make_redox_reactions([])"
   ]
  },
  {
   "cell_type": "code",
   "execution_count": null,
   "id": "5f571b91-9d56-48af-b5ae-8b8a2983960c",
   "metadata": {},
   "outputs": [],
   "source": [
    "speciation.apply_redox_reactions(y_type='A',\n",
    "                                y_units='J')"
   ]
  },
  {
   "cell_type": "code",
   "execution_count": null,
   "id": "af0427f4-cdc0-4ba5-91d7-ad66f5bf6642",
   "metadata": {},
   "outputs": [],
   "source": [
    "speciation.scatterplot(x=\"pH\",\n",
    "                       y=speciation.lookup(\"affinity per mole e-\"),\n",
    "                       rxns_as_labels=True, # toggle this to False to get rxn names in the legend if desired\n",
    "                       plot_width=7)"
   ]
  },
  {
   "cell_type": "markdown",
   "id": "f186df3a-bae8-4ad0-b538-213dbbc14b34",
   "metadata": {},
   "source": [
    "### Data source\n",
    "\n",
    "Vent fluid and BSW water chemistry are adapted from [Shock & Canovas (2010)](https://doi.org/10.1111/j.1468-8123.2010.00277.x). Solutes that are below detection limit or were not detected at all were assigned a concentration of 1E-18 molal. A generic pressure of 250 bars was assigned to all sample sites regardless of depth underwater."
   ]
  },
  {
   "cell_type": "code",
   "execution_count": null,
   "id": "3f582fe1-500a-46a3-a6e2-af1afc467aa0",
   "metadata": {},
   "outputs": [],
   "source": []
  }
 ],
 "metadata": {
  "kernelspec": {
   "display_name": "Python 3",
   "language": "python",
   "name": "python3"
  },
  "language_info": {
   "codemirror_mode": {
    "name": "ipython",
    "version": 3
   },
   "file_extension": ".py",
   "mimetype": "text/x-python",
   "name": "python",
   "nbconvert_exporter": "python",
   "pygments_lexer": "ipython3",
   "version": "3.10.12"
  }
 },
 "nbformat": 4,
 "nbformat_minor": 5
}
