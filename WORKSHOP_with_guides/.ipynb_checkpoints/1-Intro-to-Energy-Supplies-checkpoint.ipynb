{
 "cells": [
  {
   "attachments": {},
   "cell_type": "markdown",
   "id": "bbd3890f-beee-43c6-8829-fb31f71f4cac",
   "metadata": {},
   "source": [
    "<left>\n",
    "<table style=\"margin-top:0px; margin-left:0px;\">\n",
    "<tr>\n",
    "  <td><img src=\"https://raw.githubusercontent.com/worm-portal/WORM-Figures/master/style/worm.png\" alt=\"WORM\" title=\"WORM\" width=50/></td>\n",
    "  <td><h1 style=font-size:30px>Introduction to Energy Supply Calculations</h1><br />\n",
    "</tr>\n",
    "</table>\n",
    "</left>"
   ]
  },
  {
   "cell_type": "markdown",
   "id": "be8011d9-00a5-469d-b237-efe5482c8059",
   "metadata": {},
   "source": [
    "Living creatures have an **energy demand**. They need energy to maintain their metabolism, interact with their environment, repair damage, grow, and reproduce. Excess energy can often be stored for later."
   ]
  },
  {
   "cell_type": "markdown",
   "id": "59e2f301-c764-4bff-897f-d181569edb0b",
   "metadata": {},
   "source": [
    "Living creatures need **energy supplies** (sources of energy) to meet or exceed this demand. Some harness the power of sunlight (phototrophs) while others derive energy from chemical compounds (chemotrophs). One interesting place to study how organisms get their energy is in a hot spring."
   ]
  },
  {
   "cell_type": "markdown",
   "id": "e73e2e2a-ec2e-4bd0-9a57-2ede41cee1f8",
   "metadata": {},
   "source": [
    "<center>\n",
    "<img src=\"https://raw.githubusercontent.com/worm-portal/WORM-Figures/master/energy_supply_intro/bison_pool_YNP.png\"  alt=\"Bison Pool in YNP\" title=\"Bison Pool\" width=60%/>\n",
    "<p></p>\n",
    "</center>\n",
    "\n",
    "<i><p style=\"text-align: center;\">Bison Pool, Yellowstone National Park, USA. Image credited to permit YELL-5434</p></i>"
   ]
  },
  {
   "cell_type": "markdown",
   "id": "a7c21db9-c9b2-4512-9ca6-f7a41d681596",
   "metadata": {},
   "source": [
    "Why is a hot spring interesting? Why do scientists study hot springs as analogs for environments in the past, or on other worlds? Hot springs have many of the features relevant to these environments. In simple terms, hot spring water has relatively reduced stuff dissolved in it from magmatic gases and water-rock reactions deep underground. This reduced stuff comes to the surface and combines with oxidized stuff in the atmosphere. Life can take advantage of this oxidation-reduction differential to obtain energy. It's all connected - some of it is visible, some of it is not. We can use thermodynamic calculations to probe what might be going on."
   ]
  },
  {
   "cell_type": "markdown",
   "id": "0ca995d1-e32c-4438-a313-b187e0a83a61",
   "metadata": {},
   "source": [
    "The hottest part of a hot spring is where magma-heated water flows to the surface from underground. Depending on the composition of the water, this can form a visibly well-defined and striking natural pool. For example, the picture above depicts Bison Pool, a hot spring in Yellowstone National Park (YNP) in the United States."
   ]
  },
  {
   "cell_type": "markdown",
   "id": "d3e8a469-688b-45ec-8d2f-e749094774a0",
   "metadata": {},
   "source": [
    "The water bubbling from the source is about 89 °C (close to the boiling temperature of water at the elevation of YNP). A thriving community of microorganisms cling to the surfaces of rocks and organic debris submerged in this scalding water."
   ]
  },
  {
   "cell_type": "markdown",
   "id": "7dc288ed-c0c7-4247-8b3d-d2688735d5ac",
   "metadata": {},
   "source": [
    "Water overflows from Bison Pool and trickles along a path called an **outflow channel**. The temperature of the water cools as it flows down the outflow channel. Not only that, but there are dramatic changes in the chemical composition of the water the further it flows from the source.\n",
    "\n",
    "Here is an ariel photomosaic of Bison Pool labeled with six sample sites where we collected water chemistry data for this demo. The direction of water flow is indicated by dotted arrows. The hottest sample, BP1, was collected closest to the source. The next closest is BP2, then BP3, and so on, until BP6 furthest downstream."
   ]
  },
  {
   "cell_type": "markdown",
   "id": "de4b7ca6-db0f-4076-8c25-80253e8628c3",
   "metadata": {},
   "source": [
    "<center>\n",
    "<img src=\"https://raw.githubusercontent.com/worm-portal/WORM-Figures/master/energy_supply_intro/BP_photomosaic.png\" alt=\"Bison Pool in YNP\" title=\"Bison Pool\" width=40%/>\n",
    "</center>"
   ]
  },
  {
   "cell_type": "markdown",
   "id": "78155270-05af-4892-aaba-150339c90111",
   "metadata": {},
   "source": [
    "Open the input file `YNP_Bison.csv` and examine the water chemistry data for six samples collected from the Bison Pool outflow channel. What major trends in water chemistry can you spot in the input file?"
   ]
  },
  {
   "cell_type": "markdown",
   "id": "6e162e49-e3a0-446b-82cb-2b9910a214fb",
   "metadata": {},
   "source": [
    "Let's speciate this water data collected from the Bison Pool outflow channel to get a better idea of the downstream changes in chemistry. While we're at it, let's quantitiatively estimate energy supplies that chemotrophic organisms might be tapping into. "
   ]
  },
  {
   "cell_type": "markdown",
   "id": "069ada90-6d09-40cb-92c1-32f0b29d5712",
   "metadata": {},
   "source": [
    "First, let's load the thermodynamic database. We'll exclude organic molecules from the calculation because temperatures in this system are too low for inorganic carbon in our input file (measured as $HCO_3^{-}$) to rapidly equilibrate with organic compounds."
   ]
  },
  {
   "cell_type": "code",
   "execution_count": null,
   "id": "06909dbc-f35b-4511-b1b6-01e8bad43568",
   "metadata": {},
   "outputs": [],
   "source": [
    "import AqEquil\n",
    "ae = AqEquil.AqEquil(exclude_organics=True)"
   ]
  },
  {
   "cell_type": "markdown",
   "id": "f4d65616-8b56-4f6f-a938-41e2e3037bc1",
   "metadata": {},
   "source": [
    "Now we can speciate our five outflow channel water chemistry samples in our input file `YNP_bison.csv`."
   ]
  },
  {
   "cell_type": "code",
   "execution_count": null,
   "id": "2bb15f71-5c54-48f2-8ab2-5842f4757493",
   "metadata": {},
   "outputs": [],
   "source": [
    "speciation = ae.speciate(\n",
    "        input_filename = \"YNP_bison.csv\", \n",
    "        exclude = ['Name', 'Year', 'Area'],\n",
    "        )"
   ]
  },
  {
   "cell_type": "markdown",
   "id": "36779d61-c71a-46d1-838f-7fab2e301ba2",
   "metadata": {},
   "source": [
    "Save the speciation results so that we can quit the notebook and come back to them later if we want."
   ]
  },
  {
   "cell_type": "code",
   "execution_count": null,
   "id": "e76302ef-8d2c-4f24-bb45-1f3039858d86",
   "metadata": {},
   "outputs": [],
   "source": [
    "speciation.save(\"bison_sites_energy_example_reactions\")"
   ]
  },
  {
   "cell_type": "markdown",
   "id": "c9060254-7bbe-40d0-bede-a71491e57049",
   "metadata": {},
   "source": [
    "### The notebook can be closed and restarted from here if necessary\n",
    "\n",
    "This next cell loads our speciation results whenever we reopen this notebook."
   ]
  },
  {
   "cell_type": "code",
   "execution_count": null,
   "id": "7c92f426-d393-4acc-ad2c-96171c1b6def",
   "metadata": {},
   "outputs": [],
   "source": [
    "import AqEquil\n",
    "speciation = AqEquil.load(\"bison_sites_energy_example_reactions.speciation\")"
   ]
  },
  {
   "cell_type": "markdown",
   "id": "79cfc160-0ed0-4c68-86fd-c04905606a44",
   "metadata": {},
   "source": [
    "Ok! We have speciated our six samples. We can layer energy supply calculations on top of the speciated samples contained in the `speciation` object we have created or loaded. Let's go over how to do this.\n",
    "\n",
    "Chemotrophic energy supply calculations are written in terms of oxidation-reduction (redox) reactions. One reactant is oxidized, while the other reactant is simultaneously reduced."
   ]
  },
  {
   "cell_type": "markdown",
   "id": "6a33fa40-69fd-4f08-a486-0ae21403502d",
   "metadata": {},
   "source": [
    "For example, hydrogen, $H_2$ can be oxidized to water $H_2O$. This is one half of the reaction. Meanwhile, carbon dioxide $CO_2$ can be reduced to methane, $CH_4$. This is the other half. Put together, the balanced reaction looks like this:\n",
    "\n",
    "$CO_2 + 4 H_2 = 2 H_2O + CH_4$"
   ]
  },
  {
   "cell_type": "markdown",
   "id": "6abbea16-b12a-4f32-b618-c745b6dd52e5",
   "metadata": {},
   "source": [
    "You can also write the reaction in reverse, so that water is reduced to hydrogen and methane is oxidized to carbon dioxide:\n",
    "\n",
    "$2 H_2O + CH_4 = CO_2 + 4 H_2$"
   ]
  },
  {
   "cell_type": "markdown",
   "id": "9c75e3d3-c76f-4aed-9b0f-dcfc0b87af05",
   "metadata": {},
   "source": [
    "The WORM Portal has a bunch of built-in half reactions that can be combined into full redox reactions. We can look at them in the `half_cell_reactions` table:"
   ]
  },
  {
   "cell_type": "code",
   "execution_count": null,
   "id": "1c050fb1-b357-4e63-bfdc-b9b098815625",
   "metadata": {},
   "outputs": [],
   "source": [
    "speciation.half_cell_reactions"
   ]
  },
  {
   "cell_type": "markdown",
   "id": "d721636e-2853-45a0-bb1f-08bff9a59051",
   "metadata": {},
   "source": [
    "Each half reaction (or \"redox couple\") has its own row in the table. There are columns to specify names of chemical forms of oxidants and reductants in each half reaction. These names match species in the [WORM thermodynamic database](https://tinyurl.com/wormdb)."
   ]
  },
  {
   "cell_type": "markdown",
   "id": "22ba04e5-cb0e-49ff-9c53-cd1b03ae46a3",
   "metadata": {},
   "source": [
    "Two or more half reactions can be combined using `make_redox_reactions`. Provide a list of numbers corresponding to the indices of desired half reactions in the `half_cell_reactions` table. For example, to reproduce our forward and backward reaction:\n",
    "\n",
    "H2O to H2 has index 18\n",
    "\n",
    "CO2 to CH4 has index 12\n",
    "\n",
    "Together, `make_redox_reactions` will write these two reactions:\n",
    "\n",
    "$CO_2 + 4 H_2 = 2 H_2O + CH_4$\n",
    "\n",
    "(DIC is reduced to methane by oxidizing hydrogen into water)\n",
    "\n",
    "$2 H_2O + CH_4 = CO_2 + 4 H_2$\n",
    "\n",
    "(Methane is oxidized into DIC by reducing water into hydrogen)\n",
    "\n",
    "The indices provided to `make_redox_reactions` can be in any order:"
   ]
  },
  {
   "cell_type": "code",
   "execution_count": null,
   "id": "677a53f6-eff6-4f21-a7f1-810c4833eeae",
   "metadata": {},
   "outputs": [],
   "source": [
    "speciation.make_redox_reactions([18, 12])"
   ]
  },
  {
   "cell_type": "markdown",
   "id": "6db4306e-ee43-4f3b-9d40-e6ff16700c1f",
   "metadata": {},
   "source": [
    "The left column in the table gives the reaction name that we can call upon later to plot results. The middle column indicates the half reaction pair present in the full reaction. The right column reports a formatted version of the full reaction."
   ]
  },
  {
   "cell_type": "markdown",
   "id": "0d981a28-96a0-4b8f-85dd-d2f83e08c2d1",
   "metadata": {},
   "source": [
    "Now we can `apply_redox_reactions` that we've made.\n",
    "\n",
    "Let's set the parameter `y_type='A'` to calculate chemical affinity for now. The parameter `y_units` can be set to `'J'` for Joules or `cal` for calories."
   ]
  },
  {
   "cell_type": "code",
   "execution_count": null,
   "id": "5239330d-34ca-4748-9b25-1841dee97136",
   "metadata": {},
   "outputs": [],
   "source": [
    "speciation.apply_redox_reactions(y_type='A',\n",
    "                                 y_units='J')"
   ]
  },
  {
   "cell_type": "markdown",
   "id": "5ae4018a-03cc-4810-8055-c47f3127f680",
   "metadata": {},
   "source": [
    "The table of results indicates that we have negative affinities for one reaction and positive affinities for the other. What does this mean? Let's visualize these results and discuss."
   ]
  },
  {
   "cell_type": "markdown",
   "id": "0fd0633e-620e-4b09-a069-abc0ab493443",
   "metadata": {},
   "source": [
    "### Visualizing affinity results\n",
    "\n",
    "Let's examine the results of our energy supply calculation using built-in plot functions.\n",
    "\n",
    "First, let's look at values of **chemical affinity** (-ΔG per mole of electrons transferred) for our reactions along the Bison Pool outflow channel as a function of temperature. Affinity gives us an idea of how far from equilibrium each reaction is. The chemical composition, temperature, and pressure of the system are all being considered in this calculation."
   ]
  },
  {
   "cell_type": "code",
   "execution_count": null,
   "id": "628c1403-c97b-4aac-9c43-28b9839ff0be",
   "metadata": {},
   "outputs": [],
   "source": [
    "speciation.scatterplot(\n",
    "        x = \"Temperature\",\n",
    "        y = speciation.lookup('affinity per mole e-'),\n",
    "        plot_width=7,\n",
    ")"
   ]
  },
  {
   "cell_type": "markdown",
   "id": "9714baa3-6a9c-44c3-9373-75ea679a39c7",
   "metadata": {},
   "source": [
    "In this case, the reduction of DIC to $CH_4$ using $H_2$ has a positive affinity, which means there is energy to be gained if the reaction proceeds as written.\n",
    "\n",
    "The reverse reaction has a negative affinity. It costs energy for the reaction to proceed as written.\n",
    "\n",
    "Note that the trends appear mirrored across affinity=0. If a reaction has 0 affinity, it is at equilibrium and there is no energy to be gained or lost."
   ]
  },
  {
   "cell_type": "markdown",
   "id": "e66c1eaf-16d0-4494-82af-2bb9dfd4d2a4",
   "metadata": {},
   "source": [
    "Affinity is a useful metric for comparing different reactions to estimate how much energy is provided per mole of electrons transferred. For example, 100 grams of pizza will provide more energy than 100 grams of carrots. In a survival situation, it is tempting to live off of pizzas because they have a higher density of calories.\n",
    "\n",
    "🍕😊 vs. 🥕😕"
   ]
  },
  {
   "cell_type": "markdown",
   "id": "6bc632c0-cee7-4355-80d6-f00d88fb0964",
   "metadata": {},
   "source": [
    "But what happens in a survival situation where you must choose between a tiny bite of pizza and a truckload of carrots? The tiny bite of pizza won't provide much energy because it is so limited. The truckload of carrots becomes more appealing because it offers so much more food.\n",
    "\n",
    "🍕😕 vs. 🥕🥕🥕🥕🥕🥕🥕🥕🥕🥕🥕😊"
   ]
  },
  {
   "cell_type": "markdown",
   "id": "394f357e-7477-4b16-9f7b-7c4f0d74c675",
   "metadata": {},
   "source": [
    "What is being described here is the difference between **affinity** and **energy supply**. Energy supply takes into account the availability of reactants. If a reactant is extremely limited, then the reaction might be ill suited to derive metabolic energy, no matter how much energy is packed per electron.\n",
    "\n",
    "The equation for energy supply ($E$) is\n",
    "\n",
    "$$ E = A \\frac{[lim]}{S_{lim}}$$\n",
    "\n",
    "where $A$ stands for the affinity per mole of reaction, $[lim]$ represents the concentration of the limiting reactant, and $S_{lim}$ indicates the coefficient of the limiting reactant. Energy supply is expressed in terms of calories per kilogram of water."
   ]
  },
  {
   "cell_type": "markdown",
   "id": "002711cd-4698-475b-9e62-b7bb5b2731e2",
   "metadata": {},
   "source": [
    "### Calculating energy supplies\n",
    "\n",
    "To calculate energy supplies in our five samples, let's use `apply_redox_reactions` again.\n",
    "\n",
    "This time, let's set the parameter `y_type='E'`."
   ]
  },
  {
   "cell_type": "code",
   "execution_count": null,
   "id": "f3b25936-e474-4ca8-80ef-abe51a183d02",
   "metadata": {},
   "outputs": [],
   "source": [
    "speciation.apply_redox_reactions(y_type='E',\n",
    "                                 y_units='J')"
   ]
  },
  {
   "cell_type": "markdown",
   "id": "1eeb1202-922c-4d87-81e5-c0c2844d323b",
   "metadata": {},
   "source": [
    "This produces a table of values. Each reaction has a column for calculated energy supply values per kg of fluid, and another column showing which reactant was limiting. Note that reactions for which affinity is negative, energy supply is given as 0. This is because there is no energy supply when a reaction is thermodynamically unfavorable.\n",
    "\n",
    "Now let's visualize the results."
   ]
  },
  {
   "cell_type": "markdown",
   "id": "94e48a9e-b64a-40d3-9356-fe931253e618",
   "metadata": {},
   "source": [
    "### Visualizing energy supplies\n",
    "\n",
    "Let's plot the energy supplied by our reactions. Only reactions with energy-yielding (positive non-zero) energy supplies are shown:"
   ]
  },
  {
   "cell_type": "code",
   "execution_count": null,
   "id": "8962747c-a829-4d10-9f92-eabd40a31cfb",
   "metadata": {},
   "outputs": [],
   "source": [
    "speciation.scatterplot(\n",
    "        x = \"Temperature\",\n",
    "        y = speciation.lookup('energy supply'),\n",
    "        plot_width=7,\n",
    "        plot_zero=False,\n",
    ")"
   ]
  },
  {
   "cell_type": "markdown",
   "id": "3b338684-2e44-4310-9dda-87192ec13c68",
   "metadata": {},
   "source": [
    "The reduction of DIC into $CH_4$ using $H_2$ tends to be higher in sample BP5 than all others. Interesting! What are the implications?\n",
    "\n",
    "Maybe microorganisms located at BP5 are carrying out this reaction to gain energy and not elsewhere, and we can design an experiment to test this. Maybe if we detect a $CH_4$ degassing hot spot at BP5, this could be evidence of microbial activity. There are all kinds of ideas that can emerge from these calculations that help us conceptualize the system and contextualize possible relationships between microbes and their environment."
   ]
  },
  {
   "cell_type": "markdown",
   "id": "dbfe7359-038d-4142-93f4-08cf20dfe627",
   "metadata": {},
   "source": [
    "So far, we've only looked at one reaction (forward and reverse). But what if we consider all reactions that have been built into WORM?\n",
    "\n",
    "We can do this by modifying the `make_redox_reactions` cell to\n",
    "\n",
    "``ae.make_redox_reactions()``\n",
    "\n",
    "and then re-running the notebook from the top.\n",
    "\n",
    "However, this takes a few minutes to calculate. Instead, let's load a pre-speciated batch of Bison Pool samples where this has already been done:"
   ]
  },
  {
   "cell_type": "code",
   "execution_count": null,
   "id": "330688b7-229d-44e0-8c42-dcc84f045d86",
   "metadata": {},
   "outputs": [],
   "source": [
    "speciation = AqEquil.load(\"bison_all_reactions.speciation\")"
   ]
  },
  {
   "cell_type": "markdown",
   "id": "14d30ec0-aff3-4a27-99e6-5adc4b11bdc3",
   "metadata": {},
   "source": [
    "There are hundreds of reactions for which affinities can be calculated:"
   ]
  },
  {
   "cell_type": "code",
   "execution_count": null,
   "id": "318d1ece-4bce-4724-b031-334ca7d8b871",
   "metadata": {},
   "outputs": [],
   "source": [
    "speciation.scatterplot(\n",
    "        x = \"Temperature\",\n",
    "        y = speciation.lookup('affinity per mole e-'),\n",
    "        plot_width=7,\n",
    "        colormap = None,\n",
    "        charge_sign_at_end=True,\n",
    ")"
   ]
  },
  {
   "cell_type": "markdown",
   "id": "111ce036-1138-4a74-869a-737076d6dcbe",
   "metadata": {},
   "source": [
    "Only a subset of those reactions yield positive energy supplies:"
   ]
  },
  {
   "cell_type": "code",
   "execution_count": null,
   "id": "d8b537c0-0a6c-4ba1-ac13-bce6946678ba",
   "metadata": {},
   "outputs": [],
   "source": [
    "speciation.scatterplot(\n",
    "        x = \"Temperature\",\n",
    "        y = speciation.lookup('energy supply'),\n",
    "        plot_zero = False,\n",
    "        plot_width = 7,\n",
    "        colormap = None,\n",
    "        charge_sign_at_end=True,\n",
    ")"
   ]
  },
  {
   "cell_type": "markdown",
   "id": "afb70acb-0812-43f9-9b25-8dbadadac599",
   "metadata": {},
   "source": [
    "Note that the oxidation of $HS^-$ into $SO_4^{2-}$ using $O_2$ seemingly provides the most energy at the two hottest sample sites, BP1 and BP2. What do trends in reactants and product concentrations look like?\n",
    "\n",
    "Let's plot the concentration of total $HS^-$:"
   ]
  },
  {
   "cell_type": "code",
   "execution_count": null,
   "id": "904be5e5-bfe6-4ae4-8462-58c9f7a4868f",
   "metadata": {},
   "outputs": [],
   "source": [
    "speciation.scatterplot(\n",
    "        x = \"Temperature\",\n",
    "        y = \"HS-_total\",\n",
    ")"
   ]
  },
  {
   "cell_type": "markdown",
   "id": "20e9cd8f-ec6f-43a0-a88b-c24bf59aa466",
   "metadata": {},
   "source": [
    "Interesting! Sulfide is more abundant at samples BP1 and BP2, but not downstream.\n",
    "\n",
    "Further, the concentration of total sulfate (the product of sulfide oxidation) tends to increase downstream:"
   ]
  },
  {
   "cell_type": "code",
   "execution_count": null,
   "id": "56ff5184-61ac-486b-9c67-97dc721ab268",
   "metadata": {},
   "outputs": [],
   "source": [
    "speciation.scatterplot(\n",
    "        x = \"Temperature\",\n",
    "        y = \"SO4-2_total\",\n",
    ")"
   ]
  },
  {
   "cell_type": "markdown",
   "id": "be29737f-17f5-4580-a9a3-14e5955e36e0",
   "metadata": {},
   "source": [
    "Based on these trends, one possible hypothesis is that the upstream microbes in the Bison Pool outflow channel are consuming sulfide and oxidizing it to sulfate using oxygen. The energy supplied by this reaction is greater than all others (at least among the reactions we have considered).\n",
    "\n",
    "What are some other possibilities that might explain the decrease in sulfide concentration down the Bison Pool outflow channel? Sulfide in its neutral form ($\\text{H}_2\\text{S}$) could offgassing into the atmosphere, or dissolved sulfide could be precipitating into minerals abiotically ([Nordstrom et al., 2009](https://doi.org/10.1016/j.apgeochem.2008.11.019); [2005](http://rcn.montana.edu/Publications/Pdf/2005/Nordstrom.pdf)). Whether or not trends in sulfide and sulface can be attributed to biological activity can be tested with field experiments now that we know that energy can be gained from this redox reaction, particularly in the upsteam outflow channel of Bison Pool. By doing a little modeling, we have generated some research questions, a hypothesis, and have even narrowed down a location within an outflow channel to perform an experiment!"
   ]
  },
  {
   "cell_type": "markdown",
   "id": "bb0f7e6d-9f0f-402b-952b-9d7481c0cadb",
   "metadata": {},
   "source": [
    "Energy supply calculations allow us to speculate about the interaction between biology and geochemistry in natural systems on Earth or on other worlds. These calculations do not necessarily need to apply to natural systems either. Imagine designing growth media to test how chemotrophic microbes respond to different amounts of an energy supplies calculated ahead of time.\n",
    "\n",
    "Let your imagination run wild with possibilities!"
   ]
  },
  {
   "cell_type": "markdown",
   "id": "79a3a692-7dbe-471c-be32-858588d7809e",
   "metadata": {},
   "source": [
    "### Data sources:\n",
    "\n",
    "Water chemistry data for Bison Pool come from [Boyer et al. (2020)](https://www.frontiersin.org/journals/microbiology/articles/10.3389/fmicb.2020.00229/full)."
   ]
  },
  {
   "cell_type": "markdown",
   "id": "2421c447-469e-43e9-8fd3-b10735729ba8",
   "metadata": {},
   "source": [
    "End of demo."
   ]
  }
 ],
 "metadata": {
  "kernelspec": {
   "display_name": "Python 3",
   "language": "python",
   "name": "python3"
  },
  "language_info": {
   "codemirror_mode": {
    "name": "ipython",
    "version": 3
   },
   "file_extension": ".py",
   "mimetype": "text/x-python",
   "name": "python",
   "nbconvert_exporter": "python",
   "pygments_lexer": "ipython3",
   "version": "3.10.12"
  }
 },
 "nbformat": 4,
 "nbformat_minor": 5
}
