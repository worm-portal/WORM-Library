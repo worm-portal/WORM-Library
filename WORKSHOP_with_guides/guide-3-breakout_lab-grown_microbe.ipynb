{
 "cells": [
  {
   "cell_type": "markdown",
   "id": "a7f1d7c7-4f79-4303-b17b-be1d6d1dca94",
   "metadata": {},
   "source": [
    "<left>\n",
    "<table style=\"margin-top:0px; margin-left:0px;\">\n",
    "<tr>\n",
    "  <td><img src=\"https://raw.githubusercontent.com/worm-portal/WORM-Figures/master/style/worm.png\" alt=\"WORM\" title=\"WORM\" width=50/></td>\n",
    "  <td><h1 style=font-size:30px>Power consumed from microbial growth</h1><h2>Breakout Session Activity</h2></td>\n",
    "</tr>\n",
    "</table>\n",
    "</left>\n",
    "\n",
    "The goal of this activity is to calculate power consumption by microbes grown in lab experiments. Power is energy over time and can be expressed in watts (J/sec).\n",
    "\n",
    "1) The thermophilic marine bacterium *Carboxydobrachium pacificum* can obtain energy by catalyzing the reaction:\n",
    "\n",
    "    $CO + H_2O = CO_2 + H_2$\n",
    "\n",
    "    A growth experiment by [Sokolova et al. (2001)](https://doi.org/10.1099/00207713-51-1-141) tracked the concentrations of reactants and products throughout the growth of *C. pacificum* in a lab culture. These concentrations are given in the CSV `c_pacificum.csv` before and after the growth (samples \"initial\" and \"final\", respectively).\n",
    "   \n",
    "   a) How much energy (in affinity per mole of electrons transferred, J/mol e-) was available from the oxidation of CO to CO2 at the beginning of the experiment? At the end?\n",
    "\n",
    "   b) The microbial growth phase lasted approximately 74 hours. What was the average power consumption of *C. pacificum* in watts/mole of electrons transferred?\n",
    "\n",
    "   c) What was the average power consumption in watts/kg fluid?\n",
    "\n",
    "3) The bacterium *Desulfocapsa thiozymogenes* turns sulfite (SO3-2) into sulfide and sulfate with the reaction:\n",
    "\n",
    "    $4SO_3^{2-} + H^+ = HS^- + 3SO_4^{2-}$\n",
    "\n",
    "    Initial and final concentrations of reactants and products are given in the CSV `d_thiozymogenes` for a growth experiment performed [Janssen et al. (1996)](https://doi.org/10.1007/s002030050374). The microbial growth phase took about 140 hours. What was the average power consumption of *Desulfocapsa thiozymogenes* in watts/mole e-? In watts/kg fluid?"
   ]
  },
  {
   "cell_type": "code",
   "execution_count": 1,
   "id": "f0c9c511-5365-4826-9bae-d7cd1ed6f0d6",
   "metadata": {},
   "outputs": [
    {
     "name": "stdout",
     "output_type": "stream",
     "text": [
      "Loading Water-Organic-Rock-Microbe (WORM) thermodynamic databases...\n",
      "Excluding ['organic_aq', 'organic_cr'] from column 'category_1'in wrm_data.csv\n",
      "wrm_data.csv is now set as the active thermodynamic database.\n",
      "This database is meant for calculations between 0 and 1000 °C and up to 5 kb pressure.\n",
      "Element database elements.csv is active.\n",
      "Solid solution database solid_solutions.csv is active.\n",
      "LogK database wrm_data_logk.csv is active.\n",
      "Excluding ['organic_aq', 'organic_cr'] from column 'category_1'in wrm_data_logk.csv\n",
      "LogK_S database wrm_data_logk_s.csv is active.\n",
      "Excluding ['organic_aq', 'organic_cr'] from column 'category_1'in wrm_data_logk_s.csv\n",
      "Balanced dissociation reactions are missing for species: Pb3(PO4)2, Pb3(AsO4)2, PbHPO4, Pb4O(PO4)2\n",
      "Generating dissociation reactions for these species using strict and auxiliary basis species containing a maximum of one atom of one element besides O and H...\n",
      "Pb3(PO4)2 : -1.0000 Pb3(PO4)2 3.0000 Pb+2 2.0000 HPO4-2 -2.0000 H+            \n",
      "Pb3(AsO4)2 : -1.0000 Pb3(AsO4)2 3.0000 Pb+2 2.0000 H2AsO4- -4.0000 H+         \n",
      "PbHPO4 : -1.0000 PbHPO4 1.0000 Pb+2 1.0000 HPO4-2                             \n",
      "Pb4O(PO4)2 : -1.0000 Pb4O(PO4)2 4.0000 Pb+2 2.0000 HPO4-2 -4.0000 H+ 1.0000 H2\n"
     ]
    }
   ],
   "source": [
    "import AqEquil\n",
    "import pandas as pd\n",
    "\n",
    "ae = AqEquil.AqEquil(exclude_organics=True)"
   ]
  },
  {
   "cell_type": "code",
   "execution_count": 2,
   "id": "da6f18c0-ccfc-4854-a8d9-06f66df74650",
   "metadata": {},
   "outputs": [
    {
     "name": "stdout",
     "output_type": "stream",
     "text": [
      "Getting wrm_data.csv ready. This will take a moment...\n",
      "Warning: a column for Pressure was not found in the sample input file. Defaulting to water saturation pressure...\n",
      "Warning: no 'logfO2' column found. Attempting to find a column for aqueous O2 to estimate logfO2 at sample temperature and pressure...\n",
      "Using wrm_data.csv to speciate initial\n",
      "Using wrm_data.csv to speciate final\n",
      "Finished!\n"
     ]
    }
   ],
   "source": [
    "speciation = ae.speciate(\n",
    "        input_filename = \"c_pacificum.csv\",\n",
    "        )\n"
   ]
  },
  {
   "cell_type": "code",
   "execution_count": 3,
   "id": "86d8ca10-a98d-46e4-968a-7680e4065f41",
   "metadata": {},
   "outputs": [
    {
     "name": "stdout",
     "output_type": "stream",
     "text": [
      "Saved as 'c_pacificum.speciation'\n"
     ]
    }
   ],
   "source": [
    "speciation.save(\"c_pacificum.speciation\")"
   ]
  },
  {
   "cell_type": "markdown",
   "id": "f8250a0b-1cc1-41b9-ba15-9a876eb625d4",
   "metadata": {},
   "source": [
    "### The notebook can be restarted here if necessary"
   ]
  },
  {
   "cell_type": "code",
   "execution_count": 4,
   "id": "c82faa85-d0ca-4a45-882e-235786080e18",
   "metadata": {},
   "outputs": [
    {
     "name": "stdout",
     "output_type": "stream",
     "text": [
      "Loaded 'c_pacificum.speciation'\n"
     ]
    }
   ],
   "source": [
    "import AqEquil\n",
    "import pandas as pd\n",
    "\n",
    "speciation = AqEquil.load(\"c_pacificum.speciation\")"
   ]
  },
  {
   "cell_type": "code",
   "execution_count": 5,
   "id": "9f35175c-4057-47ef-ad45-96ccf9bfd3ec",
   "metadata": {},
   "outputs": [
    {
     "data": {
      "text/html": [
       "<div>\n",
       "<style scoped>\n",
       "    .dataframe tbody tr th:only-of-type {\n",
       "        vertical-align: middle;\n",
       "    }\n",
       "\n",
       "    .dataframe tbody tr th {\n",
       "        vertical-align: top;\n",
       "    }\n",
       "\n",
       "    .dataframe thead th {\n",
       "        text-align: right;\n",
       "    }\n",
       "</style>\n",
       "<table border=\"1\" class=\"dataframe\">\n",
       "  <thead>\n",
       "    <tr style=\"text-align: right;\">\n",
       "      <th></th>\n",
       "      <th>Redox Couple</th>\n",
       "      <th>Oxidant</th>\n",
       "      <th>Reductant</th>\n",
       "    </tr>\n",
       "  </thead>\n",
       "  <tbody>\n",
       "    <tr>\n",
       "      <th>0</th>\n",
       "      <td>SO4-2 to sulfur</td>\n",
       "      <td>SO4-2</td>\n",
       "      <td>sulfur</td>\n",
       "    </tr>\n",
       "    <tr>\n",
       "      <th>1</th>\n",
       "      <td>SO4-2 to pyrite</td>\n",
       "      <td>SO4-2</td>\n",
       "      <td>pyrite</td>\n",
       "    </tr>\n",
       "    <tr>\n",
       "      <th>2</th>\n",
       "      <td>SO4-2 to H2S</td>\n",
       "      <td>SO4-2</td>\n",
       "      <td>H2S</td>\n",
       "    </tr>\n",
       "    <tr>\n",
       "      <th>3</th>\n",
       "      <td>sulfur to pyrite</td>\n",
       "      <td>sulfur</td>\n",
       "      <td>pyrite</td>\n",
       "    </tr>\n",
       "    <tr>\n",
       "      <th>4</th>\n",
       "      <td>sulfur to H2S</td>\n",
       "      <td>sulfur</td>\n",
       "      <td>H2S</td>\n",
       "    </tr>\n",
       "    <tr>\n",
       "      <th>5</th>\n",
       "      <td>pyrite to H2S</td>\n",
       "      <td>pyrite</td>\n",
       "      <td>H2S</td>\n",
       "    </tr>\n",
       "    <tr>\n",
       "      <th>6</th>\n",
       "      <td>goethite to magnetite</td>\n",
       "      <td>goethite</td>\n",
       "      <td>magnetite</td>\n",
       "    </tr>\n",
       "    <tr>\n",
       "      <th>7</th>\n",
       "      <td>goethite to Fe+2</td>\n",
       "      <td>goethite</td>\n",
       "      <td>Fe+2</td>\n",
       "    </tr>\n",
       "    <tr>\n",
       "      <th>8</th>\n",
       "      <td>hematite to magnetite</td>\n",
       "      <td>hematite</td>\n",
       "      <td>magnetite</td>\n",
       "    </tr>\n",
       "    <tr>\n",
       "      <th>9</th>\n",
       "      <td>hematite to Fe+2</td>\n",
       "      <td>hematite</td>\n",
       "      <td>Fe+2</td>\n",
       "    </tr>\n",
       "    <tr>\n",
       "      <th>10</th>\n",
       "      <td>magnetite to Fe+2</td>\n",
       "      <td>magnetite</td>\n",
       "      <td>Fe+2</td>\n",
       "    </tr>\n",
       "    <tr>\n",
       "      <th>11</th>\n",
       "      <td>CO2 to CO</td>\n",
       "      <td>CO2</td>\n",
       "      <td>CO</td>\n",
       "    </tr>\n",
       "    <tr>\n",
       "      <th>12</th>\n",
       "      <td>CO2 to CH4</td>\n",
       "      <td>CO2</td>\n",
       "      <td>CH4</td>\n",
       "    </tr>\n",
       "    <tr>\n",
       "      <th>13</th>\n",
       "      <td>CO to CH4</td>\n",
       "      <td>CO</td>\n",
       "      <td>CH4</td>\n",
       "    </tr>\n",
       "    <tr>\n",
       "      <th>14</th>\n",
       "      <td>NO3- to NO2-</td>\n",
       "      <td>NO3-</td>\n",
       "      <td>NO2-</td>\n",
       "    </tr>\n",
       "    <tr>\n",
       "      <th>15</th>\n",
       "      <td>NO3- to NH3</td>\n",
       "      <td>NO3-</td>\n",
       "      <td>NH3</td>\n",
       "    </tr>\n",
       "    <tr>\n",
       "      <th>16</th>\n",
       "      <td>NO2- to NH3</td>\n",
       "      <td>NO2-</td>\n",
       "      <td>NH3</td>\n",
       "    </tr>\n",
       "    <tr>\n",
       "      <th>17</th>\n",
       "      <td>O2 to H2O</td>\n",
       "      <td>O2</td>\n",
       "      <td>H2O</td>\n",
       "    </tr>\n",
       "    <tr>\n",
       "      <th>18</th>\n",
       "      <td>H2O to H2</td>\n",
       "      <td>H2O</td>\n",
       "      <td>H2</td>\n",
       "    </tr>\n",
       "  </tbody>\n",
       "</table>\n",
       "</div>"
      ],
      "text/plain": [
       "             Redox Couple    Oxidant  Reductant\n",
       "0         SO4-2 to sulfur      SO4-2     sulfur\n",
       "1         SO4-2 to pyrite      SO4-2     pyrite\n",
       "2            SO4-2 to H2S      SO4-2        H2S\n",
       "3        sulfur to pyrite     sulfur     pyrite\n",
       "4           sulfur to H2S     sulfur        H2S\n",
       "5           pyrite to H2S     pyrite        H2S\n",
       "6   goethite to magnetite   goethite  magnetite\n",
       "7        goethite to Fe+2   goethite       Fe+2\n",
       "8   hematite to magnetite   hematite  magnetite\n",
       "9        hematite to Fe+2   hematite       Fe+2\n",
       "10      magnetite to Fe+2  magnetite       Fe+2\n",
       "11              CO2 to CO        CO2         CO\n",
       "12             CO2 to CH4        CO2        CH4\n",
       "13              CO to CH4         CO        CH4\n",
       "14           NO3- to NO2-       NO3-       NO2-\n",
       "15            NO3- to NH3       NO3-        NH3\n",
       "16            NO2- to NH3       NO2-        NH3\n",
       "17              O2 to H2O         O2        H2O\n",
       "18              H2O to H2        H2O         H2"
      ]
     },
     "execution_count": 5,
     "metadata": {},
     "output_type": "execute_result"
    }
   ],
   "source": [
    "speciation.half_cell_reactions"
   ]
  },
  {
   "cell_type": "code",
   "execution_count": 6,
   "id": "f34e2fc0-87ef-4543-b76e-30f6e255851b",
   "metadata": {},
   "outputs": [
    {
     "data": {
      "text/html": [
       "<table border=\"1\" class=\"dataframe\">\n",
       "  <thead>\n",
       "    <tr style=\"text-align: right;\">\n",
       "      <th></th>\n",
       "      <th>redox_pairs</th>\n",
       "      <th>reaction</th>\n",
       "    </tr>\n",
       "    <tr>\n",
       "      <th>reaction_name</th>\n",
       "      <th></th>\n",
       "      <th></th>\n",
       "    </tr>\n",
       "  </thead>\n",
       "  <tbody>\n",
       "    <tr>\n",
       "      <th>rxn_11_18</th>\n",
       "      <td>[11, 18]</td>\n",
       "      <td>CO<sub>2</sub> + H<sub>2</sub> = CO + H<sub>2</sub>O</td>\n",
       "    </tr>\n",
       "    <tr>\n",
       "      <th>rxn_18_11</th>\n",
       "      <td>[18, 11]</td>\n",
       "      <td>CO + H<sub>2</sub>O = CO<sub>2</sub> + H<sub>2</sub></td>\n",
       "    </tr>\n",
       "  </tbody>\n",
       "</table>"
      ],
      "text/plain": [
       "<IPython.core.display.HTML object>"
      ]
     },
     "metadata": {},
     "output_type": "display_data"
    }
   ],
   "source": [
    "speciation.make_redox_reactions([11, 18])"
   ]
  },
  {
   "cell_type": "code",
   "execution_count": 7,
   "id": "54c61d70-21d9-4037-9031-9d13b0401f75",
   "metadata": {},
   "outputs": [
    {
     "data": {
      "application/vnd.jupyter.widget-view+json": {
       "model_id": "ad91518257a548228c6e1d3a11136514",
       "version_major": 2,
       "version_minor": 0
      },
      "text/plain": [
       "IntProgress(value=0, max=2)"
      ]
     },
     "metadata": {},
     "output_type": "display_data"
    },
    {
     "data": {
      "text/html": [
       "<div>\n",
       "<style scoped>\n",
       "    .dataframe tbody tr th:only-of-type {\n",
       "        vertical-align: middle;\n",
       "    }\n",
       "\n",
       "    .dataframe tbody tr th {\n",
       "        vertical-align: top;\n",
       "    }\n",
       "\n",
       "    .dataframe thead tr th {\n",
       "        text-align: left;\n",
       "    }\n",
       "</style>\n",
       "<table border=\"1\" class=\"dataframe\">\n",
       "  <thead>\n",
       "    <tr>\n",
       "      <th>Sample</th>\n",
       "      <th>rxn_11_18 affinity per mole e-</th>\n",
       "      <th>rxn_18_11 affinity per mole e-</th>\n",
       "    </tr>\n",
       "    <tr>\n",
       "      <th></th>\n",
       "      <th>J/mol e-</th>\n",
       "      <th>J/mol e-</th>\n",
       "    </tr>\n",
       "  </thead>\n",
       "  <tbody>\n",
       "    <tr>\n",
       "      <th>initial</th>\n",
       "      <td>-24945.3886</td>\n",
       "      <td>24945.3886</td>\n",
       "    </tr>\n",
       "    <tr>\n",
       "      <th>final</th>\n",
       "      <td>-13856.5035</td>\n",
       "      <td>13856.5035</td>\n",
       "    </tr>\n",
       "  </tbody>\n",
       "</table>\n",
       "</div>"
      ],
      "text/plain": [
       "Sample  rxn_11_18 affinity per mole e- rxn_18_11 affinity per mole e-\n",
       "                              J/mol e-                       J/mol e-\n",
       "initial                    -24945.3886                     24945.3886\n",
       "final                      -13856.5035                     13856.5035"
      ]
     },
     "execution_count": 7,
     "metadata": {},
     "output_type": "execute_result"
    }
   ],
   "source": [
    "speciation.apply_redox_reactions(y_type=\"A\",\n",
    "                                 y_units=\"J\")"
   ]
  },
  {
   "cell_type": "markdown",
   "id": "cb0cb11b-ca00-4d3b-a73c-75dd9d98c5f5",
   "metadata": {},
   "source": [
    "### Answer guide for facilitators\n",
    "\n",
    "rxn_18_11 is the forward reaction. Affinities are positive, so the forward reaction is energy yielding. The change in the affinity (ΔA) is final-initial, and results in a negative value. Affinity decreased over time:"
   ]
  },
  {
   "cell_type": "code",
   "execution_count": 8,
   "id": "9e4a93ec-3e4a-479e-ac85-5a1fbcd76549",
   "metadata": {},
   "outputs": [
    {
     "name": "stdout",
     "output_type": "stream",
     "text": [
      "ΔA, J/mol e-\n"
     ]
    },
    {
     "data": {
      "text/plain": [
       "-11089"
      ]
     },
     "execution_count": 8,
     "metadata": {},
     "output_type": "execute_result"
    }
   ],
   "source": [
    "print(\"ΔA, J/mol e-\")\n",
    "13856 - 24945"
   ]
  },
  {
   "cell_type": "markdown",
   "id": "35fd00be-2200-4280-b3ac-80161a6a76e4",
   "metadata": {},
   "source": [
    "Power can be calculated by dividing by time:"
   ]
  },
  {
   "cell_type": "code",
   "execution_count": 9,
   "id": "d6459652-10db-4be9-8273-7afb2477229b",
   "metadata": {},
   "outputs": [
    {
     "name": "stdout",
     "output_type": "stream",
     "text": [
      "Power, watts/mol e-\n"
     ]
    },
    {
     "data": {
      "text/plain": [
       "-0.041625375375375376"
      ]
     },
     "execution_count": 9,
     "metadata": {},
     "output_type": "execute_result"
    }
   ],
   "source": [
    "print(\"Power, watts/mol e-\")\n",
    "(13856 - 24945)/266400"
   ]
  },
  {
   "cell_type": "markdown",
   "id": "0928f77c-90ac-40af-9a97-98bedf15ccd9",
   "metadata": {},
   "source": [
    "Flip the sign for power consumption:"
   ]
  },
  {
   "cell_type": "code",
   "execution_count": 10,
   "id": "075f888a-3c0d-451e-8fdc-4f771884b670",
   "metadata": {},
   "outputs": [
    {
     "name": "stdout",
     "output_type": "stream",
     "text": [
      "Power consumption, watts/mol e-\n"
     ]
    },
    {
     "data": {
      "text/plain": [
       "0.041625375375375376"
      ]
     },
     "execution_count": 10,
     "metadata": {},
     "output_type": "execute_result"
    }
   ],
   "source": [
    "print(\"Power consumption, watts/mol e-\")\n",
    "-(13856 - 24945)/266400"
   ]
  },
  {
   "cell_type": "markdown",
   "id": "2a5d6a80-2cbb-43e6-b0b8-6d3a072713ec",
   "metadata": {},
   "source": [
    "To get power consumption in terms of watts/kg fluid, we can divide energy supply by time."
   ]
  },
  {
   "cell_type": "code",
   "execution_count": 11,
   "id": "3aa38a9c-07ff-489e-a3a1-64359c2cc8d2",
   "metadata": {},
   "outputs": [
    {
     "data": {
      "application/vnd.jupyter.widget-view+json": {
       "model_id": "9b9fdd73b09140428835485256a20c0f",
       "version_major": 2,
       "version_minor": 0
      },
      "text/plain": [
       "IntProgress(value=0, max=2)"
      ]
     },
     "metadata": {},
     "output_type": "display_data"
    },
    {
     "data": {
      "text/html": [
       "<div>\n",
       "<style scoped>\n",
       "    .dataframe tbody tr th:only-of-type {\n",
       "        vertical-align: middle;\n",
       "    }\n",
       "\n",
       "    .dataframe tbody tr th {\n",
       "        vertical-align: top;\n",
       "    }\n",
       "\n",
       "    .dataframe thead tr th {\n",
       "        text-align: left;\n",
       "    }\n",
       "</style>\n",
       "<table border=\"1\" class=\"dataframe\">\n",
       "  <thead>\n",
       "    <tr>\n",
       "      <th>Sample</th>\n",
       "      <th>rxn_11_18 energy supply</th>\n",
       "      <th>rxn_11_18 limiting reactant</th>\n",
       "      <th>rxn_18_11 energy supply</th>\n",
       "      <th>rxn_18_11 limiting reactant</th>\n",
       "    </tr>\n",
       "    <tr>\n",
       "      <th></th>\n",
       "      <th>J/kg fluid</th>\n",
       "      <th>limiting reactant</th>\n",
       "      <th>J/kg fluid</th>\n",
       "      <th>limiting reactant</th>\n",
       "    </tr>\n",
       "  </thead>\n",
       "  <tbody>\n",
       "    <tr>\n",
       "      <th>initial</th>\n",
       "      <td>0.0</td>\n",
       "      <td>H2</td>\n",
       "      <td>11474.878757</td>\n",
       "      <td>CO</td>\n",
       "    </tr>\n",
       "    <tr>\n",
       "      <th>final</th>\n",
       "      <td>0.0</td>\n",
       "      <td>CO2</td>\n",
       "      <td>4628.072158</td>\n",
       "      <td>CO</td>\n",
       "    </tr>\n",
       "  </tbody>\n",
       "</table>\n",
       "</div>"
      ],
      "text/plain": [
       "Sample  rxn_11_18 energy supply rxn_11_18 limiting reactant  \\\n",
       "                     J/kg fluid           limiting reactant   \n",
       "initial                     0.0                          H2   \n",
       "final                       0.0                         CO2   \n",
       "\n",
       "Sample  rxn_18_11 energy supply rxn_18_11 limiting reactant  \n",
       "                     J/kg fluid           limiting reactant  \n",
       "initial            11474.878757                          CO  \n",
       "final               4628.072158                          CO  "
      ]
     },
     "execution_count": 11,
     "metadata": {},
     "output_type": "execute_result"
    }
   ],
   "source": [
    "speciation.apply_redox_reactions(y_type=\"E\",\n",
    "                                 y_units=\"J\",\n",
    "                                 limiting=None)"
   ]
  },
  {
   "cell_type": "code",
   "execution_count": 12,
   "id": "c3c20bbc-d593-439e-8c0e-6189577ff69b",
   "metadata": {},
   "outputs": [
    {
     "name": "stdout",
     "output_type": "stream",
     "text": [
      "Power consumption, watts/kg of growth media\n"
     ]
    },
    {
     "data": {
      "text/plain": [
       "0.025705705705705705"
      ]
     },
     "execution_count": 12,
     "metadata": {},
     "output_type": "execute_result"
    }
   ],
   "source": [
    "print(\"Power consumption, watts/kg of growth media\")\n",
    "-(4631-11479)/266400"
   ]
  },
  {
   "cell_type": "markdown",
   "id": "1cfb5deb-1869-42a3-9ab1-babd4db7e877",
   "metadata": {},
   "source": [
    "### Guide to answering question 2"
   ]
  },
  {
   "cell_type": "code",
   "execution_count": 13,
   "id": "f09d07ac-c147-478b-a21f-0e6bd62d820d",
   "metadata": {},
   "outputs": [
    {
     "name": "stdout",
     "output_type": "stream",
     "text": [
      "Loading Water-Organic-Rock-Microbe (WORM) thermodynamic databases...\n",
      "Excluding ['organic_aq', 'organic_cr'] from column 'category_1'in wrm_data.csv\n",
      "wrm_data.csv is now set as the active thermodynamic database.\n",
      "This database is meant for calculations between 0 and 1000 °C and up to 5 kb pressure.\n",
      "Element database elements.csv is active.\n",
      "Solid solution database solid_solutions.csv is active.\n",
      "LogK database wrm_data_logk.csv is active.\n",
      "Excluding ['organic_aq', 'organic_cr'] from column 'category_1'in wrm_data_logk.csv\n",
      "LogK_S database wrm_data_logk_s.csv is active.\n",
      "Excluding ['organic_aq', 'organic_cr'] from column 'category_1'in wrm_data_logk_s.csv\n",
      "Balanced dissociation reactions are missing for species: Pb3(PO4)2, Pb3(AsO4)2, PbHPO4, Pb4O(PO4)2\n",
      "Generating dissociation reactions for these species using strict and auxiliary basis species containing a maximum of one atom of one element besides O and H...\n",
      "Pb3(PO4)2 : -1.0000 Pb3(PO4)2 3.0000 Pb+2 2.0000 HPO4-2 -2.0000 H+            \n",
      "Pb3(AsO4)2 : -1.0000 Pb3(AsO4)2 3.0000 Pb+2 2.0000 H2AsO4- -4.0000 H+         \n",
      "PbHPO4 : -1.0000 PbHPO4 1.0000 Pb+2 1.0000 HPO4-2                             \n",
      "Pb4O(PO4)2 : -1.0000 Pb4O(PO4)2 4.0000 Pb+2 2.0000 HPO4-2 -4.0000 H+ 1.0000 H2\n"
     ]
    }
   ],
   "source": [
    "import AqEquil\n",
    "import pandas as pd\n",
    "\n",
    "ae = AqEquil.AqEquil(exclude_organics=True)"
   ]
  },
  {
   "cell_type": "code",
   "execution_count": 14,
   "id": "36379d9e-c658-44e7-8c48-e428c54e1fc4",
   "metadata": {},
   "outputs": [
    {
     "name": "stdout",
     "output_type": "stream",
     "text": [
      "Getting wrm_data.csv ready. This will take a moment...\n",
      "Warning: a column for Pressure was not found in the sample input file. Defaulting to water saturation pressure...\n",
      "Using wrm_data.csv to speciate initial\n",
      "Using wrm_data.csv to speciate final\n",
      "Finished!\n"
     ]
    }
   ],
   "source": [
    "speciation = ae.speciate(\n",
    "        input_filename = \"d_thiozymogenes.csv\",\n",
    "        )\n"
   ]
  },
  {
   "cell_type": "code",
   "execution_count": 15,
   "id": "70b2ca01-1072-4e27-b681-bb62c651f53e",
   "metadata": {},
   "outputs": [
    {
     "name": "stdout",
     "output_type": "stream",
     "text": [
      "Saved as 'd_thiozymogenes.speciation'\n"
     ]
    }
   ],
   "source": [
    "speciation.save(\"d_thiozymogenes.speciation\")"
   ]
  },
  {
   "cell_type": "markdown",
   "id": "473c6f9d-7e2e-465e-a5cd-a46888f6f082",
   "metadata": {},
   "source": [
    "### Notebook can be restarted from here if necessary"
   ]
  },
  {
   "cell_type": "code",
   "execution_count": 16,
   "id": "ee33899f-9799-46c0-a729-5e56d7109fb9",
   "metadata": {},
   "outputs": [
    {
     "name": "stdout",
     "output_type": "stream",
     "text": [
      "Loaded 'd_thiozymogenes.speciation'\n"
     ]
    }
   ],
   "source": [
    "import AqEquil\n",
    "import pandas as pd\n",
    "\n",
    "speciation = AqEquil.load(\"d_thiozymogenes.speciation\")"
   ]
  },
  {
   "cell_type": "code",
   "execution_count": 17,
   "id": "9f6c5a6a-28e9-40c9-b02d-dfeb62b3b235",
   "metadata": {},
   "outputs": [
    {
     "data": {
      "text/html": [
       "<div>\n",
       "<style scoped>\n",
       "    .dataframe tbody tr th:only-of-type {\n",
       "        vertical-align: middle;\n",
       "    }\n",
       "\n",
       "    .dataframe tbody tr th {\n",
       "        vertical-align: top;\n",
       "    }\n",
       "\n",
       "    .dataframe thead th {\n",
       "        text-align: right;\n",
       "    }\n",
       "</style>\n",
       "<table border=\"1\" class=\"dataframe\">\n",
       "  <thead>\n",
       "    <tr style=\"text-align: right;\">\n",
       "      <th></th>\n",
       "      <th>Redox Couple</th>\n",
       "      <th>Oxidant</th>\n",
       "      <th>Reductant</th>\n",
       "    </tr>\n",
       "  </thead>\n",
       "  <tbody>\n",
       "    <tr>\n",
       "      <th>0</th>\n",
       "      <td>SO4-2 to sulfur</td>\n",
       "      <td>SO4-2</td>\n",
       "      <td>sulfur</td>\n",
       "    </tr>\n",
       "    <tr>\n",
       "      <th>1</th>\n",
       "      <td>SO4-2 to pyrite</td>\n",
       "      <td>SO4-2</td>\n",
       "      <td>pyrite</td>\n",
       "    </tr>\n",
       "    <tr>\n",
       "      <th>2</th>\n",
       "      <td>SO4-2 to H2S</td>\n",
       "      <td>SO4-2</td>\n",
       "      <td>H2S</td>\n",
       "    </tr>\n",
       "    <tr>\n",
       "      <th>3</th>\n",
       "      <td>sulfur to pyrite</td>\n",
       "      <td>sulfur</td>\n",
       "      <td>pyrite</td>\n",
       "    </tr>\n",
       "    <tr>\n",
       "      <th>4</th>\n",
       "      <td>sulfur to H2S</td>\n",
       "      <td>sulfur</td>\n",
       "      <td>H2S</td>\n",
       "    </tr>\n",
       "    <tr>\n",
       "      <th>5</th>\n",
       "      <td>pyrite to H2S</td>\n",
       "      <td>pyrite</td>\n",
       "      <td>H2S</td>\n",
       "    </tr>\n",
       "    <tr>\n",
       "      <th>6</th>\n",
       "      <td>goethite to magnetite</td>\n",
       "      <td>goethite</td>\n",
       "      <td>magnetite</td>\n",
       "    </tr>\n",
       "    <tr>\n",
       "      <th>7</th>\n",
       "      <td>goethite to Fe+2</td>\n",
       "      <td>goethite</td>\n",
       "      <td>Fe+2</td>\n",
       "    </tr>\n",
       "    <tr>\n",
       "      <th>8</th>\n",
       "      <td>hematite to magnetite</td>\n",
       "      <td>hematite</td>\n",
       "      <td>magnetite</td>\n",
       "    </tr>\n",
       "    <tr>\n",
       "      <th>9</th>\n",
       "      <td>hematite to Fe+2</td>\n",
       "      <td>hematite</td>\n",
       "      <td>Fe+2</td>\n",
       "    </tr>\n",
       "    <tr>\n",
       "      <th>10</th>\n",
       "      <td>magnetite to Fe+2</td>\n",
       "      <td>magnetite</td>\n",
       "      <td>Fe+2</td>\n",
       "    </tr>\n",
       "    <tr>\n",
       "      <th>11</th>\n",
       "      <td>CO2 to CO</td>\n",
       "      <td>CO2</td>\n",
       "      <td>CO</td>\n",
       "    </tr>\n",
       "    <tr>\n",
       "      <th>12</th>\n",
       "      <td>CO2 to CH4</td>\n",
       "      <td>CO2</td>\n",
       "      <td>CH4</td>\n",
       "    </tr>\n",
       "    <tr>\n",
       "      <th>13</th>\n",
       "      <td>CO to CH4</td>\n",
       "      <td>CO</td>\n",
       "      <td>CH4</td>\n",
       "    </tr>\n",
       "    <tr>\n",
       "      <th>14</th>\n",
       "      <td>NO3- to NO2-</td>\n",
       "      <td>NO3-</td>\n",
       "      <td>NO2-</td>\n",
       "    </tr>\n",
       "    <tr>\n",
       "      <th>15</th>\n",
       "      <td>NO3- to NH3</td>\n",
       "      <td>NO3-</td>\n",
       "      <td>NH3</td>\n",
       "    </tr>\n",
       "    <tr>\n",
       "      <th>16</th>\n",
       "      <td>NO2- to NH3</td>\n",
       "      <td>NO2-</td>\n",
       "      <td>NH3</td>\n",
       "    </tr>\n",
       "    <tr>\n",
       "      <th>17</th>\n",
       "      <td>O2 to H2O</td>\n",
       "      <td>O2</td>\n",
       "      <td>H2O</td>\n",
       "    </tr>\n",
       "    <tr>\n",
       "      <th>18</th>\n",
       "      <td>H2O to H2</td>\n",
       "      <td>H2O</td>\n",
       "      <td>H2</td>\n",
       "    </tr>\n",
       "  </tbody>\n",
       "</table>\n",
       "</div>"
      ],
      "text/plain": [
       "             Redox Couple    Oxidant  Reductant\n",
       "0         SO4-2 to sulfur      SO4-2     sulfur\n",
       "1         SO4-2 to pyrite      SO4-2     pyrite\n",
       "2            SO4-2 to H2S      SO4-2        H2S\n",
       "3        sulfur to pyrite     sulfur     pyrite\n",
       "4           sulfur to H2S     sulfur        H2S\n",
       "5           pyrite to H2S     pyrite        H2S\n",
       "6   goethite to magnetite   goethite  magnetite\n",
       "7        goethite to Fe+2   goethite       Fe+2\n",
       "8   hematite to magnetite   hematite  magnetite\n",
       "9        hematite to Fe+2   hematite       Fe+2\n",
       "10      magnetite to Fe+2  magnetite       Fe+2\n",
       "11              CO2 to CO        CO2         CO\n",
       "12             CO2 to CH4        CO2        CH4\n",
       "13              CO to CH4         CO        CH4\n",
       "14           NO3- to NO2-       NO3-       NO2-\n",
       "15            NO3- to NH3       NO3-        NH3\n",
       "16            NO2- to NH3       NO2-        NH3\n",
       "17              O2 to H2O         O2        H2O\n",
       "18              H2O to H2        H2O         H2"
      ]
     },
     "execution_count": 17,
     "metadata": {},
     "output_type": "execute_result"
    }
   ],
   "source": [
    "speciation.half_cell_reactions"
   ]
  },
  {
   "cell_type": "markdown",
   "id": "f9bbd192-2e73-42ec-966d-12e66e691801",
   "metadata": {},
   "source": [
    "### Note to facilitators\n",
    "\n",
    "Sulfite (SO3-2) is not included in the built-in list of half reactions. To model sulfite dispropotionation, half reactions between sulfite and sulfide, and sulfite and sulfate are required.\n",
    "\n",
    "Walk the participants through the process of adding new rows to the end of the half reaction dataframe with the code below. The code is 'pythonese' and may be unfamiliar to participants. You can assure them that they don't need to know the language to use this code as a template in case they ever want to add their own half reactions.\n",
    "\n",
    "The first couple of lines show the contents of the rows to be added. For example, the first value of the list assigned to `new_row1` is 'SO3-2 to H2S'. This is the leftmost value that will be assigned to the leftmost column, \"Redox Couple\". The middle value, 'SO3-2' is assigned to the middle row, \"Oxidant\". The rightmost value, 'H2S', is assigned to the right column, \"Reductant\". Same story for the second row with sulfate to sulfite."
   ]
  },
  {
   "cell_type": "code",
   "execution_count": 18,
   "id": "166c9574-dee2-4746-b1fd-5a65820540eb",
   "metadata": {},
   "outputs": [
    {
     "name": "stdout",
     "output_type": "stream",
     "text": [
      "Added new half reaction to half_cell_reactions.\n",
      "Added new half reaction to half_cell_reactions.\n"
     ]
    },
    {
     "data": {
      "text/html": [
       "<div>\n",
       "<style scoped>\n",
       "    .dataframe tbody tr th:only-of-type {\n",
       "        vertical-align: middle;\n",
       "    }\n",
       "\n",
       "    .dataframe tbody tr th {\n",
       "        vertical-align: top;\n",
       "    }\n",
       "\n",
       "    .dataframe thead th {\n",
       "        text-align: right;\n",
       "    }\n",
       "</style>\n",
       "<table border=\"1\" class=\"dataframe\">\n",
       "  <thead>\n",
       "    <tr style=\"text-align: right;\">\n",
       "      <th></th>\n",
       "      <th>Redox Couple</th>\n",
       "      <th>Oxidant</th>\n",
       "      <th>Reductant</th>\n",
       "    </tr>\n",
       "  </thead>\n",
       "  <tbody>\n",
       "    <tr>\n",
       "      <th>0</th>\n",
       "      <td>SO4-2 to sulfur</td>\n",
       "      <td>SO4-2</td>\n",
       "      <td>sulfur</td>\n",
       "    </tr>\n",
       "    <tr>\n",
       "      <th>1</th>\n",
       "      <td>SO4-2 to pyrite</td>\n",
       "      <td>SO4-2</td>\n",
       "      <td>pyrite</td>\n",
       "    </tr>\n",
       "    <tr>\n",
       "      <th>2</th>\n",
       "      <td>SO4-2 to H2S</td>\n",
       "      <td>SO4-2</td>\n",
       "      <td>H2S</td>\n",
       "    </tr>\n",
       "    <tr>\n",
       "      <th>3</th>\n",
       "      <td>sulfur to pyrite</td>\n",
       "      <td>sulfur</td>\n",
       "      <td>pyrite</td>\n",
       "    </tr>\n",
       "    <tr>\n",
       "      <th>4</th>\n",
       "      <td>sulfur to H2S</td>\n",
       "      <td>sulfur</td>\n",
       "      <td>H2S</td>\n",
       "    </tr>\n",
       "    <tr>\n",
       "      <th>5</th>\n",
       "      <td>pyrite to H2S</td>\n",
       "      <td>pyrite</td>\n",
       "      <td>H2S</td>\n",
       "    </tr>\n",
       "    <tr>\n",
       "      <th>6</th>\n",
       "      <td>goethite to magnetite</td>\n",
       "      <td>goethite</td>\n",
       "      <td>magnetite</td>\n",
       "    </tr>\n",
       "    <tr>\n",
       "      <th>7</th>\n",
       "      <td>goethite to Fe+2</td>\n",
       "      <td>goethite</td>\n",
       "      <td>Fe+2</td>\n",
       "    </tr>\n",
       "    <tr>\n",
       "      <th>8</th>\n",
       "      <td>hematite to magnetite</td>\n",
       "      <td>hematite</td>\n",
       "      <td>magnetite</td>\n",
       "    </tr>\n",
       "    <tr>\n",
       "      <th>9</th>\n",
       "      <td>hematite to Fe+2</td>\n",
       "      <td>hematite</td>\n",
       "      <td>Fe+2</td>\n",
       "    </tr>\n",
       "    <tr>\n",
       "      <th>10</th>\n",
       "      <td>magnetite to Fe+2</td>\n",
       "      <td>magnetite</td>\n",
       "      <td>Fe+2</td>\n",
       "    </tr>\n",
       "    <tr>\n",
       "      <th>11</th>\n",
       "      <td>CO2 to CO</td>\n",
       "      <td>CO2</td>\n",
       "      <td>CO</td>\n",
       "    </tr>\n",
       "    <tr>\n",
       "      <th>12</th>\n",
       "      <td>CO2 to CH4</td>\n",
       "      <td>CO2</td>\n",
       "      <td>CH4</td>\n",
       "    </tr>\n",
       "    <tr>\n",
       "      <th>13</th>\n",
       "      <td>CO to CH4</td>\n",
       "      <td>CO</td>\n",
       "      <td>CH4</td>\n",
       "    </tr>\n",
       "    <tr>\n",
       "      <th>14</th>\n",
       "      <td>NO3- to NO2-</td>\n",
       "      <td>NO3-</td>\n",
       "      <td>NO2-</td>\n",
       "    </tr>\n",
       "    <tr>\n",
       "      <th>15</th>\n",
       "      <td>NO3- to NH3</td>\n",
       "      <td>NO3-</td>\n",
       "      <td>NH3</td>\n",
       "    </tr>\n",
       "    <tr>\n",
       "      <th>16</th>\n",
       "      <td>NO2- to NH3</td>\n",
       "      <td>NO2-</td>\n",
       "      <td>NH3</td>\n",
       "    </tr>\n",
       "    <tr>\n",
       "      <th>17</th>\n",
       "      <td>O2 to H2O</td>\n",
       "      <td>O2</td>\n",
       "      <td>H2O</td>\n",
       "    </tr>\n",
       "    <tr>\n",
       "      <th>18</th>\n",
       "      <td>H2O to H2</td>\n",
       "      <td>H2O</td>\n",
       "      <td>H2</td>\n",
       "    </tr>\n",
       "    <tr>\n",
       "      <th>19</th>\n",
       "      <td>SO3-2 to H2S</td>\n",
       "      <td>SO3-2</td>\n",
       "      <td>H2S</td>\n",
       "    </tr>\n",
       "    <tr>\n",
       "      <th>20</th>\n",
       "      <td>SO4-2 to SO3-2</td>\n",
       "      <td>SO4-2</td>\n",
       "      <td>SO3-2</td>\n",
       "    </tr>\n",
       "  </tbody>\n",
       "</table>\n",
       "</div>"
      ],
      "text/plain": [
       "             Redox Couple    Oxidant  Reductant\n",
       "0         SO4-2 to sulfur      SO4-2     sulfur\n",
       "1         SO4-2 to pyrite      SO4-2     pyrite\n",
       "2            SO4-2 to H2S      SO4-2        H2S\n",
       "3        sulfur to pyrite     sulfur     pyrite\n",
       "4           sulfur to H2S     sulfur        H2S\n",
       "5           pyrite to H2S     pyrite        H2S\n",
       "6   goethite to magnetite   goethite  magnetite\n",
       "7        goethite to Fe+2   goethite       Fe+2\n",
       "8   hematite to magnetite   hematite  magnetite\n",
       "9        hematite to Fe+2   hematite       Fe+2\n",
       "10      magnetite to Fe+2  magnetite       Fe+2\n",
       "11              CO2 to CO        CO2         CO\n",
       "12             CO2 to CH4        CO2        CH4\n",
       "13              CO to CH4         CO        CH4\n",
       "14           NO3- to NO2-       NO3-       NO2-\n",
       "15            NO3- to NH3       NO3-        NH3\n",
       "16            NO2- to NH3       NO2-        NH3\n",
       "17              O2 to H2O         O2        H2O\n",
       "18              H2O to H2        H2O         H2\n",
       "19           SO3-2 to H2S      SO3-2        H2S\n",
       "20         SO4-2 to SO3-2      SO4-2      SO3-2"
      ]
     },
     "execution_count": 18,
     "metadata": {},
     "output_type": "execute_result"
    }
   ],
   "source": [
    "# add custom half reactions\n",
    "\n",
    "speciation.add_new_half_reaction('SO3-2', 'H2S')\n",
    "speciation.add_new_half_reaction('SO4-2', 'SO3-2')\n",
    "\n",
    "speciation.half_cell_reactions"
   ]
  },
  {
   "cell_type": "markdown",
   "id": "6b6b06c1-5cf4-4c91-afae-71b19479403c",
   "metadata": {},
   "source": [
    "Once the new rows are added, they can be used to make redox reactions by calling on the indices of the desired half reactions."
   ]
  },
  {
   "cell_type": "code",
   "execution_count": 19,
   "id": "5cdb9ab3-b8ed-4039-9fa7-729e27bcf7fc",
   "metadata": {},
   "outputs": [
    {
     "data": {
      "text/html": [
       "<table border=\"1\" class=\"dataframe\">\n",
       "  <thead>\n",
       "    <tr style=\"text-align: right;\">\n",
       "      <th></th>\n",
       "      <th>redox_pairs</th>\n",
       "      <th>reaction</th>\n",
       "    </tr>\n",
       "    <tr>\n",
       "      <th>reaction_name</th>\n",
       "      <th></th>\n",
       "      <th></th>\n",
       "    </tr>\n",
       "  </thead>\n",
       "  <tbody>\n",
       "    <tr>\n",
       "      <th>rxn_19_20</th>\n",
       "      <td>[19, 20]</td>\n",
       "      <td>2 H<sup>+</sup> + 4 SO<sub>3</sub><sup>-2</sup> = 3 SO<sub>4</sub><sup>-2</sup> + H<sub>2</sub>S</td>\n",
       "    </tr>\n",
       "    <tr>\n",
       "      <th>rxn_20_19</th>\n",
       "      <td>[20, 19]</td>\n",
       "      <td>3 SO<sub>4</sub><sup>-2</sup> + H<sub>2</sub>S = 2 H<sup>+</sup> + 4 SO<sub>3</sub><sup>-2</sup></td>\n",
       "    </tr>\n",
       "  </tbody>\n",
       "</table>"
      ],
      "text/plain": [
       "<IPython.core.display.HTML object>"
      ]
     },
     "metadata": {},
     "output_type": "display_data"
    }
   ],
   "source": [
    "speciation.make_redox_reactions([19, 20])"
   ]
  },
  {
   "cell_type": "markdown",
   "id": "dcd2070c-5824-4934-a5ee-ea2960e4b7f7",
   "metadata": {},
   "source": [
    "### Note to faciliators\n",
    "\n",
    "The table below is created by the function `make_redox_reactions` and provides a handy way to see what the code calculates for number of moles of electrons transferred per mole of reaction. For example, six electrons are transferred in sulfite disproportionation/comproportionation with sulfide and sulfate.\n",
    "\n",
    "Why is this important? Numbers of electrons transferred in redox reactions aren't calculated automatically by the WORM function `calculate_energy` when calculating affinity in J/mole e-. If the reaction can be modeled with `make_redox_reactions`, it saves you from having to manually calculate number of e- transferred if you are doing an affinity calculation with `calculate_energy`."
   ]
  },
  {
   "cell_type": "code",
   "execution_count": 20,
   "id": "008e563f-c8f0-43de-8931-c7595ebe5f0d",
   "metadata": {},
   "outputs": [
    {
     "data": {
      "text/html": [
       "<div>\n",
       "<style scoped>\n",
       "    .dataframe tbody tr th:only-of-type {\n",
       "        vertical-align: middle;\n",
       "    }\n",
       "\n",
       "    .dataframe tbody tr th {\n",
       "        vertical-align: top;\n",
       "    }\n",
       "\n",
       "    .dataframe thead th {\n",
       "        text-align: right;\n",
       "    }\n",
       "</style>\n",
       "<table border=\"1\" class=\"dataframe\">\n",
       "  <thead>\n",
       "    <tr style=\"text-align: right;\">\n",
       "      <th></th>\n",
       "      <th>redox_pairs</th>\n",
       "      <th>mol_e-_transferred_per_mol_rxn</th>\n",
       "      <th>coeff_1</th>\n",
       "      <th>species_1</th>\n",
       "      <th>coeff_2</th>\n",
       "      <th>species_2</th>\n",
       "      <th>coeff_3</th>\n",
       "      <th>species_3</th>\n",
       "      <th>coeff_4</th>\n",
       "      <th>species_4</th>\n",
       "    </tr>\n",
       "    <tr>\n",
       "      <th>reaction_name</th>\n",
       "      <th></th>\n",
       "      <th></th>\n",
       "      <th></th>\n",
       "      <th></th>\n",
       "      <th></th>\n",
       "      <th></th>\n",
       "      <th></th>\n",
       "      <th></th>\n",
       "      <th></th>\n",
       "      <th></th>\n",
       "    </tr>\n",
       "  </thead>\n",
       "  <tbody>\n",
       "    <tr>\n",
       "      <th>rxn_19_20</th>\n",
       "      <td>[19, 20]</td>\n",
       "      <td>6.0</td>\n",
       "      <td>-2.0</td>\n",
       "      <td>H+</td>\n",
       "      <td>3.0</td>\n",
       "      <td>SO4-2</td>\n",
       "      <td>1.0</td>\n",
       "      <td>H2S</td>\n",
       "      <td>-4.0</td>\n",
       "      <td>SO3-2</td>\n",
       "    </tr>\n",
       "    <tr>\n",
       "      <th>rxn_20_19</th>\n",
       "      <td>[20, 19]</td>\n",
       "      <td>6.0</td>\n",
       "      <td>2.0</td>\n",
       "      <td>H+</td>\n",
       "      <td>-3.0</td>\n",
       "      <td>SO4-2</td>\n",
       "      <td>-1.0</td>\n",
       "      <td>H2S</td>\n",
       "      <td>4.0</td>\n",
       "      <td>SO3-2</td>\n",
       "    </tr>\n",
       "  </tbody>\n",
       "</table>\n",
       "</div>"
      ],
      "text/plain": [
       "              redox_pairs  mol_e-_transferred_per_mol_rxn  coeff_1 species_1  \\\n",
       "reaction_name                                                                  \n",
       "rxn_19_20        [19, 20]                             6.0     -2.0        H+   \n",
       "rxn_20_19        [20, 19]                             6.0      2.0        H+   \n",
       "\n",
       "               coeff_2 species_2  coeff_3 species_3  coeff_4 species_4  \n",
       "reaction_name                                                           \n",
       "rxn_19_20          3.0     SO4-2      1.0       H2S     -4.0     SO3-2  \n",
       "rxn_20_19         -3.0     SO4-2     -1.0       H2S      4.0     SO3-2  "
      ]
     },
     "execution_count": 20,
     "metadata": {},
     "output_type": "execute_result"
    }
   ],
   "source": [
    "speciation.redox_reactions_table"
   ]
  },
  {
   "cell_type": "code",
   "execution_count": 21,
   "id": "135906fc-3d84-49e9-b735-c9606dec0698",
   "metadata": {},
   "outputs": [
    {
     "data": {
      "application/vnd.jupyter.widget-view+json": {
       "model_id": "31fb0d84986e418fbd26f1aa8c7edd5d",
       "version_major": 2,
       "version_minor": 0
      },
      "text/plain": [
       "IntProgress(value=0, max=2)"
      ]
     },
     "metadata": {},
     "output_type": "display_data"
    },
    {
     "data": {
      "text/html": [
       "<div>\n",
       "<style scoped>\n",
       "    .dataframe tbody tr th:only-of-type {\n",
       "        vertical-align: middle;\n",
       "    }\n",
       "\n",
       "    .dataframe tbody tr th {\n",
       "        vertical-align: top;\n",
       "    }\n",
       "\n",
       "    .dataframe thead tr th {\n",
       "        text-align: left;\n",
       "    }\n",
       "</style>\n",
       "<table border=\"1\" class=\"dataframe\">\n",
       "  <thead>\n",
       "    <tr>\n",
       "      <th>Sample</th>\n",
       "      <th>rxn_19_20 affinity per mole e-</th>\n",
       "      <th>rxn_20_19 affinity per mole e-</th>\n",
       "    </tr>\n",
       "    <tr>\n",
       "      <th></th>\n",
       "      <th>J/mol e-</th>\n",
       "      <th>J/mol e-</th>\n",
       "    </tr>\n",
       "  </thead>\n",
       "  <tbody>\n",
       "    <tr>\n",
       "      <th>initial</th>\n",
       "      <td>41639.5933</td>\n",
       "      <td>-41639.5933</td>\n",
       "    </tr>\n",
       "    <tr>\n",
       "      <th>final</th>\n",
       "      <td>28195.9893</td>\n",
       "      <td>-28195.9893</td>\n",
       "    </tr>\n",
       "  </tbody>\n",
       "</table>\n",
       "</div>"
      ],
      "text/plain": [
       "Sample  rxn_19_20 affinity per mole e- rxn_20_19 affinity per mole e-\n",
       "                              J/mol e-                       J/mol e-\n",
       "initial                     41639.5933                    -41639.5933\n",
       "final                       28195.9893                    -28195.9893"
      ]
     },
     "execution_count": 21,
     "metadata": {},
     "output_type": "execute_result"
    }
   ],
   "source": [
    "speciation.apply_redox_reactions(y_type=\"A\",\n",
    "                                 y_units=\"J\")"
   ]
  },
  {
   "cell_type": "markdown",
   "id": "826f2356-2fed-476f-a6c1-8c03c8ad2883",
   "metadata": {},
   "source": [
    "Calculate power same as before."
   ]
  },
  {
   "cell_type": "code",
   "execution_count": 22,
   "id": "0b669710-e218-49a6-9885-6a9439322a01",
   "metadata": {},
   "outputs": [
    {
     "name": "stdout",
     "output_type": "stream",
     "text": [
      "Power consumption, watts per mol e-\n"
     ]
    },
    {
     "data": {
      "text/plain": [
       "0.026674603174603174"
      ]
     },
     "execution_count": 22,
     "metadata": {},
     "output_type": "execute_result"
    }
   ],
   "source": [
    "print(\"Power consumption, watts per mol e-\")\n",
    "-(28196 - 41640)/504000"
   ]
  },
  {
   "cell_type": "code",
   "execution_count": 23,
   "id": "9e94194d-390b-4226-ba12-e7efc0f45721",
   "metadata": {},
   "outputs": [
    {
     "data": {
      "application/vnd.jupyter.widget-view+json": {
       "model_id": "5599dd967cf04207bc84e8ac394bfb06",
       "version_major": 2,
       "version_minor": 0
      },
      "text/plain": [
       "IntProgress(value=0, max=2)"
      ]
     },
     "metadata": {},
     "output_type": "display_data"
    },
    {
     "data": {
      "text/html": [
       "<div>\n",
       "<style scoped>\n",
       "    .dataframe tbody tr th:only-of-type {\n",
       "        vertical-align: middle;\n",
       "    }\n",
       "\n",
       "    .dataframe tbody tr th {\n",
       "        vertical-align: top;\n",
       "    }\n",
       "\n",
       "    .dataframe thead tr th {\n",
       "        text-align: left;\n",
       "    }\n",
       "</style>\n",
       "<table border=\"1\" class=\"dataframe\">\n",
       "  <thead>\n",
       "    <tr>\n",
       "      <th>Sample</th>\n",
       "      <th>rxn_19_20 energy supply</th>\n",
       "      <th>rxn_19_20 limiting reactant</th>\n",
       "      <th>rxn_20_19 energy supply</th>\n",
       "      <th>rxn_20_19 limiting reactant</th>\n",
       "    </tr>\n",
       "    <tr>\n",
       "      <th></th>\n",
       "      <th>J/kg fluid</th>\n",
       "      <th>limiting reactant</th>\n",
       "      <th>J/kg fluid</th>\n",
       "      <th>limiting reactant</th>\n",
       "    </tr>\n",
       "  </thead>\n",
       "  <tbody>\n",
       "    <tr>\n",
       "      <th>initial</th>\n",
       "      <td>582.777338</td>\n",
       "      <td>SO3-2</td>\n",
       "      <td>0.0</td>\n",
       "      <td>SO4-2</td>\n",
       "    </tr>\n",
       "    <tr>\n",
       "      <th>final</th>\n",
       "      <td>0.637180</td>\n",
       "      <td>SO3-2</td>\n",
       "      <td>0.0</td>\n",
       "      <td>SO4-2</td>\n",
       "    </tr>\n",
       "  </tbody>\n",
       "</table>\n",
       "</div>"
      ],
      "text/plain": [
       "Sample  rxn_19_20 energy supply rxn_19_20 limiting reactant  \\\n",
       "                     J/kg fluid           limiting reactant   \n",
       "initial              582.777338                       SO3-2   \n",
       "final                  0.637180                       SO3-2   \n",
       "\n",
       "Sample  rxn_20_19 energy supply rxn_20_19 limiting reactant  \n",
       "                     J/kg fluid           limiting reactant  \n",
       "initial                     0.0                       SO4-2  \n",
       "final                       0.0                       SO4-2  "
      ]
     },
     "execution_count": 23,
     "metadata": {},
     "output_type": "execute_result"
    }
   ],
   "source": [
    "speciation.apply_redox_reactions(y_type=\"E\",\n",
    "                                 y_units=\"J\",\n",
    "                                 limiting=None)"
   ]
  },
  {
   "cell_type": "code",
   "execution_count": 24,
   "id": "5261790a-b87f-470a-a7a7-818f79af2b80",
   "metadata": {},
   "outputs": [
    {
     "name": "stdout",
     "output_type": "stream",
     "text": [
      "Power consumption, watts/kg growth media\n"
     ]
    },
    {
     "data": {
      "text/plain": [
       "0.000757109126984127"
      ]
     },
     "execution_count": 24,
     "metadata": {},
     "output_type": "execute_result"
    }
   ],
   "source": [
    "print(\"Power consumption, watts/kg growth media\")\n",
    "-(0.417 - 382)/504000"
   ]
  },
  {
   "cell_type": "code",
   "execution_count": null,
   "id": "99df263c-8605-4bab-9320-445cb905597a",
   "metadata": {},
   "outputs": [],
   "source": []
  }
 ],
 "metadata": {
  "kernelspec": {
   "display_name": "Python 3",
   "language": "python",
   "name": "python3"
  },
  "language_info": {
   "codemirror_mode": {
    "name": "ipython",
    "version": 3
   },
   "file_extension": ".py",
   "mimetype": "text/x-python",
   "name": "python",
   "nbconvert_exporter": "python",
   "pygments_lexer": "ipython3",
   "version": "3.10.12"
  }
 },
 "nbformat": 4,
 "nbformat_minor": 5
}
