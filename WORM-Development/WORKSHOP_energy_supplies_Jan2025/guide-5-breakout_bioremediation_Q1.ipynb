{
 "cells": [
  {
   "cell_type": "markdown",
   "id": "6e0478e8-8601-4e68-953a-2038d980cb46",
   "metadata": {},
   "source": [
    "<left>\n",
    "<table style=\"margin-top:0px; margin-left:0px;\">\n",
    "<tr>\n",
    "  <td><img src=\"https://raw.githubusercontent.com/worm-portal/WORM-Figures/master/style/worm.png\" alt=\"WORM\" title=\"WORM\" width=50/></td>\n",
    "  <td><h1 style=font-size:30px>Acid Mine Drainage Bioremediation</h1><h2>Breakout Session Activity</h2></td>\n",
    "</tr>\n",
    "</table>\n",
    "</left>\n",
    "\n",
    "\n",
    "<td><img src=\"https://i0.wp.com/undergroundminers.com/wp-content/uploads/2022/08/DSC01156-1.jpg?resize=1200%2C900&ssl=1\" alt=\"Coalbrook Mine\" title=\"Coalbrook Mine\" width=50%/></td>\n",
    "\n",
    "*Coalbrook coal mine, Pennsylvania, USA in the early 20th century. Historic photo from the Underground Mining Archive.*\n",
    "\n",
    "A consequence of mining activities is the exposure of metal sulfide minerals (like pyrite) to air and water. This provides an opportunity for acidophilic (\"acid-loving\") microbes to oxidize exposed sulfide minerals into sulfuric acid. Metals that were previously trapped in rocks become mobile in the resulting acidic runoff. Acidic water and high concentrations of toxic metals is harmful to the environment and aquatic habitats in particular. Mines can continue to generate polluted water long long after they have been abandoned, as is the case with Coalbrook coal mine in Pennsylvania, USA (pictured above).\n",
    "\n",
    "One strategy to combat pollution from acid mine drainage (AMD) is to stimulate the metabolisms of sulfate reducers present in the system. Because microbes are involved in this remediation strategy, it is called \"bioremediation\". Sulfate reducers remove sulfate and harmful dissolved metals from the water by precipitating them back into metal sulfide minerals. Organic molecules can serve as electron donors. For example, acetic acid, $\\text{CH}_3\\text{COOH}_{(aq)}$, can be added to AMD to promote this reaction:\n",
    "\n",
    "$$\\text{SO}_4^{2-} + \\text{CH}_3\\text{COOH}_{(aq)} + \\text{Zn}^{2+} = 2\\text{CO}_{2(aq)} + \\text{ZnS}_{(cr)} + 2\\text{H}_2\\text{O}$$\n",
    "\n",
    "We can use the mineral sphalerite to represent ZnS.\n",
    "\n",
    "---\n",
    "\n",
    "### Activity: bioremediation\n",
    "\n",
    "You are given the task of remediating AMD from the abandoned Coalbrook Mine. Water chemistry data for this sample are found in the CSV file `AMD_aceticacid.csv`. There are 13 rows in the CSV file. All rows are duplicates except for the \"acetic-acid\" column. Input concentrations of acetic acid range from 1E-10 to 1E-3 molal.\n",
    "\n",
    "1) Calculate energy supplied by the bioremediation reaction in Coalbrook mine AMD at varying concentrations of acetic acid. How can the results inform which concentrations of acetic acid to aim for when remediating the AMD?\n",
    "\n",
    "2) A doctoral dissertation study by Zdyb (1999) found that using lactic acid as a carbon source was more efficient than acetate for remediating AMD (see review by [Anekwe & Isa, 2023](https://doi.org/10.1016/j.aej.2022.09.053)). Calculate energy supply when lactic acid is used to remediate Coalbrook AMD instead of acetic acid. Assume lactic acid is being oxidized to $\\text{CO}_2$ to reduce sulfate to sphalerite."
   ]
  },
  {
   "cell_type": "code",
   "execution_count": 1,
   "id": "d7faa9fb-3429-4c21-98e5-aba582d9fa06",
   "metadata": {},
   "outputs": [],
   "source": [
    "import AqEquil"
   ]
  },
  {
   "cell_type": "markdown",
   "id": "effa1c40-dd3c-4f8a-9d69-8ee62d8ca7cb",
   "metadata": {},
   "source": [
    "### Note to facilitators:\n",
    "\n",
    "Introduce this new parameter to participants called `exclude_organics_except`, used below. This allows the user to provide a list of organics that they want involved in the speciation while suppressing all others.\n",
    "\n",
    "Excepted organics will also include all protonation states and complexes. So excepting \"acetate\" will allow acetate, acetic-acid, and acetate complexes to appear in the speciation while suppressing all other organics."
   ]
  },
  {
   "cell_type": "code",
   "execution_count": 2,
   "id": "5571838d-ce31-43bd-9a68-d99f1a2232c6",
   "metadata": {},
   "outputs": [
    {
     "name": "stdout",
     "output_type": "stream",
     "text": [
      "Loading Water-Organic-Rock-Microbe (WORM) thermodynamic databases...\n",
      "Excluding 726 different chemical species from column 'name' in wrm_data.csv\n",
      "wrm_data.csv is now set as the active thermodynamic database.\n",
      "This database is meant for calculations between 0 and 1000 °C and up to 5 kb pressure.\n",
      "Element database elements.csv is active.\n",
      "Solid solution database solid_solutions.csv is active.\n",
      "LogK database wrm_data_logk.csv is active.\n",
      "Excluding 726 different chemical species from column 'name' in wrm_data_logk.csv\n",
      "LogK_S database wrm_data_logk_s.csv is active.\n",
      "Excluding 726 different chemical species from column 'name' in wrm_data_logk_s.csv\n"
     ]
    }
   ],
   "source": [
    "ae = AqEquil.AqEquil(exclude_organics_except=[\"acetate\"])"
   ]
  },
  {
   "cell_type": "code",
   "execution_count": 3,
   "id": "a5e0dc5f-195b-4dcd-9872-f3c9d7844281",
   "metadata": {},
   "outputs": [
    {
     "name": "stdout",
     "output_type": "stream",
     "text": [
      "Getting wrm_data.csv ready. This will take a moment...\n",
      "Warning: a column for Pressure was not found in the sample input file. Defaulting to water saturation pressure...\n",
      "Using wrm_data.csv to speciate Coalbrook Mine 1\n",
      "Using wrm_data.csv to speciate Coalbrook Mine 2\n",
      "Using wrm_data.csv to speciate Coalbrook Mine 3\n",
      "Using wrm_data.csv to speciate Coalbrook Mine 4\n",
      "Using wrm_data.csv to speciate Coalbrook Mine 5\n",
      "Using wrm_data.csv to speciate Coalbrook Mine 6\n",
      "Using wrm_data.csv to speciate Coalbrook Mine 7\n",
      "Using wrm_data.csv to speciate Coalbrook Mine 8\n",
      "Using wrm_data.csv to speciate Coalbrook Mine 9\n",
      "Using wrm_data.csv to speciate Coalbrook Mine 10\n",
      "Using wrm_data.csv to speciate Coalbrook Mine 11\n",
      "Using wrm_data.csv to speciate Coalbrook Mine 12\n",
      "Using wrm_data.csv to speciate Coalbrook Mine 13\n",
      "Using wrm_data.csv to speciate Coalbrook Mine 14\n",
      "Finished!\n"
     ]
    }
   ],
   "source": [
    "speciation = ae.speciate(input_filename=\"AMD_aceticacid.csv\",\n",
    "                         redox_flag=\"Eh\")"
   ]
  },
  {
   "cell_type": "code",
   "execution_count": 4,
   "id": "60a2ef50-966b-4184-9abc-3639eeaa5d31",
   "metadata": {},
   "outputs": [
    {
     "name": "stdout",
     "output_type": "stream",
     "text": [
      "Saved as 'Coalbrook_AMD_aceticacid.speciation'\n"
     ]
    }
   ],
   "source": [
    "speciation.save(\"Coalbrook_AMD_aceticacid\")"
   ]
  },
  {
   "cell_type": "markdown",
   "id": "1121e400-918e-4e4f-a352-9a8ab6b6b216",
   "metadata": {},
   "source": [
    "### The notebook can be restarted from here if necessary"
   ]
  },
  {
   "cell_type": "code",
   "execution_count": 5,
   "id": "79e996d2-3272-462e-92de-8a51c81a5f23",
   "metadata": {},
   "outputs": [
    {
     "name": "stdout",
     "output_type": "stream",
     "text": [
      "Loading Water-Organic-Rock-Microbe (WORM) thermodynamic databases...\n",
      "Excluding 726 different chemical species from column 'name' in wrm_data.csv\n",
      "wrm_data.csv is now set as the active thermodynamic database.\n",
      "This database is meant for calculations between 0 and 1000 °C and up to 5 kb pressure.\n",
      "Element database elements.csv is active.\n",
      "Solid solution database solid_solutions.csv is active.\n",
      "LogK database wrm_data_logk.csv is active.\n",
      "Excluding 726 different chemical species from column 'name' in wrm_data_logk.csv\n",
      "LogK_S database wrm_data_logk_s.csv is active.\n",
      "Excluding 726 different chemical species from column 'name' in wrm_data_logk_s.csv\n",
      "Loaded 'Coalbrook_AMD_aceticacid.speciation'\n"
     ]
    }
   ],
   "source": [
    "import AqEquil\n",
    "ae = AqEquil.AqEquil(exclude_organics_except=[\"acetate\"])\n",
    "speciation = AqEquil.load(\"Coalbrook_AMD_aceticacid.speciation\")"
   ]
  },
  {
   "cell_type": "code",
   "execution_count": 6,
   "id": "9254c9d7-8b0d-4ea8-87a3-c632ac8f68a4",
   "metadata": {},
   "outputs": [
    {
     "data": {
      "text/html": [
       "<div>\n",
       "<style scoped>\n",
       "    .dataframe tbody tr th:only-of-type {\n",
       "        vertical-align: middle;\n",
       "    }\n",
       "\n",
       "    .dataframe tbody tr th {\n",
       "        vertical-align: top;\n",
       "    }\n",
       "\n",
       "    .dataframe thead tr th {\n",
       "        text-align: left;\n",
       "    }\n",
       "</style>\n",
       "<table border=\"1\" class=\"dataframe\">\n",
       "  <thead>\n",
       "    <tr>\n",
       "      <th>Sample</th>\n",
       "      <th>acetic-acid energy supply</th>\n",
       "      <th>acetic-acid limiting reactant</th>\n",
       "    </tr>\n",
       "    <tr>\n",
       "      <th></th>\n",
       "      <th>cal/kg fluid</th>\n",
       "      <th>limiting reactant</th>\n",
       "    </tr>\n",
       "  </thead>\n",
       "  <tbody>\n",
       "    <tr>\n",
       "      <th>Coalbrook Mine 1</th>\n",
       "      <td>0.000003</td>\n",
       "      <td>acetic-acid</td>\n",
       "    </tr>\n",
       "    <tr>\n",
       "      <th>Coalbrook Mine 2</th>\n",
       "      <td>0.000036</td>\n",
       "      <td>acetic-acid</td>\n",
       "    </tr>\n",
       "    <tr>\n",
       "      <th>Coalbrook Mine 3</th>\n",
       "      <td>0.000383</td>\n",
       "      <td>acetic-acid</td>\n",
       "    </tr>\n",
       "    <tr>\n",
       "      <th>Coalbrook Mine 4</th>\n",
       "      <td>0.002005</td>\n",
       "      <td>acetic-acid</td>\n",
       "    </tr>\n",
       "    <tr>\n",
       "      <th>Coalbrook Mine 5</th>\n",
       "      <td>0.004088</td>\n",
       "      <td>acetic-acid</td>\n",
       "    </tr>\n",
       "    <tr>\n",
       "      <th>Coalbrook Mine 6</th>\n",
       "      <td>0.010478</td>\n",
       "      <td>acetic-acid</td>\n",
       "    </tr>\n",
       "    <tr>\n",
       "      <th>Coalbrook Mine 7</th>\n",
       "      <td>0.014801</td>\n",
       "      <td>acetic-acid</td>\n",
       "    </tr>\n",
       "    <tr>\n",
       "      <th>Coalbrook Mine 8</th>\n",
       "      <td>0.017307</td>\n",
       "      <td>Zn+2</td>\n",
       "    </tr>\n",
       "    <tr>\n",
       "      <th>Coalbrook Mine 9</th>\n",
       "      <td>0.017491</td>\n",
       "      <td>Zn+2</td>\n",
       "    </tr>\n",
       "    <tr>\n",
       "      <th>Coalbrook Mine 10</th>\n",
       "      <td>0.017622</td>\n",
       "      <td>Zn+2</td>\n",
       "    </tr>\n",
       "    <tr>\n",
       "      <th>Coalbrook Mine 11</th>\n",
       "      <td>0.018354</td>\n",
       "      <td>Zn+2</td>\n",
       "    </tr>\n",
       "    <tr>\n",
       "      <th>Coalbrook Mine 12</th>\n",
       "      <td>0.018669</td>\n",
       "      <td>Zn+2</td>\n",
       "    </tr>\n",
       "    <tr>\n",
       "      <th>Coalbrook Mine 13</th>\n",
       "      <td>0.019715</td>\n",
       "      <td>Zn+2</td>\n",
       "    </tr>\n",
       "    <tr>\n",
       "      <th>Coalbrook Mine 14</th>\n",
       "      <td>0.020746</td>\n",
       "      <td>Zn+2</td>\n",
       "    </tr>\n",
       "  </tbody>\n",
       "</table>\n",
       "</div>"
      ],
      "text/plain": [
       "Sample            acetic-acid energy supply acetic-acid limiting reactant\n",
       "                               cal/kg fluid             limiting reactant\n",
       "Coalbrook Mine 1                   0.000003                   acetic-acid\n",
       "Coalbrook Mine 2                   0.000036                   acetic-acid\n",
       "Coalbrook Mine 3                   0.000383                   acetic-acid\n",
       "Coalbrook Mine 4                   0.002005                   acetic-acid\n",
       "Coalbrook Mine 5                   0.004088                   acetic-acid\n",
       "Coalbrook Mine 6                   0.010478                   acetic-acid\n",
       "Coalbrook Mine 7                   0.014801                   acetic-acid\n",
       "Coalbrook Mine 8                   0.017307                          Zn+2\n",
       "Coalbrook Mine 9                   0.017491                          Zn+2\n",
       "Coalbrook Mine 10                  0.017622                          Zn+2\n",
       "Coalbrook Mine 11                  0.018354                          Zn+2\n",
       "Coalbrook Mine 12                  0.018669                          Zn+2\n",
       "Coalbrook Mine 13                  0.019715                          Zn+2\n",
       "Coalbrook Mine 14                  0.020746                          Zn+2"
      ]
     },
     "execution_count": 6,
     "metadata": {},
     "output_type": "execute_result"
    }
   ],
   "source": [
    "speciation.calculate_energy(\n",
    "        y_type=\"E\",\n",
    "        y_units=\"cal\",\n",
    "        species = [\"SO4-2\", \"acetic-acid\", \"Zn+2\", \"CO2\", \"sphalerite\", \"H2O\"],\n",
    "        stoich = [-1, -1, -1, 2, 1, 2],\n",
    "        rxn_name=\"acetic-acid\")"
   ]
  },
  {
   "cell_type": "code",
   "execution_count": 9,
   "id": "18d08c8d-2092-4d07-8eb5-ca869206ba20",
   "metadata": {},
   "outputs": [
    {
     "data": {
      "application/vnd.plotly.v1+json": {
       "config": {
        "displaylogo": false,
        "modeBarButtonsToRemove": [
         "select2d",
         "lasso2d",
         "toggleSpikelines",
         "resetScale2d"
        ],
        "plotlyServerURL": "https://plot.ly",
        "scrollZoom": true,
        "toImageButtonOptions": {
         "filename": null,
         "format": "png",
         "height": 366,
         "scale": 1,
         "width": 610
        }
       },
       "data": [
        {
         "customdata": [
          [
           "Coalbrook Mine 1",
           "SO<sub>4</sub><sup>2-</sup> + acetic-acid + Zn<sup>2+</sup> = 2 CO<sub>2</sub> + sphalerite + 2 H<sub>2</sub>O",
           "acetic-acid energy supply",
           "acetic-acid energy supply"
          ],
          [
           "Coalbrook Mine 2",
           "SO<sub>4</sub><sup>2-</sup> + acetic-acid + Zn<sup>2+</sup> = 2 CO<sub>2</sub> + sphalerite + 2 H<sub>2</sub>O",
           "acetic-acid energy supply",
           "acetic-acid energy supply"
          ],
          [
           "Coalbrook Mine 3",
           "SO<sub>4</sub><sup>2-</sup> + acetic-acid + Zn<sup>2+</sup> = 2 CO<sub>2</sub> + sphalerite + 2 H<sub>2</sub>O",
           "acetic-acid energy supply",
           "acetic-acid energy supply"
          ],
          [
           "Coalbrook Mine 4",
           "SO<sub>4</sub><sup>2-</sup> + acetic-acid + Zn<sup>2+</sup> = 2 CO<sub>2</sub> + sphalerite + 2 H<sub>2</sub>O",
           "acetic-acid energy supply",
           "acetic-acid energy supply"
          ],
          [
           "Coalbrook Mine 5",
           "SO<sub>4</sub><sup>2-</sup> + acetic-acid + Zn<sup>2+</sup> = 2 CO<sub>2</sub> + sphalerite + 2 H<sub>2</sub>O",
           "acetic-acid energy supply",
           "acetic-acid energy supply"
          ],
          [
           "Coalbrook Mine 6",
           "SO<sub>4</sub><sup>2-</sup> + acetic-acid + Zn<sup>2+</sup> = 2 CO<sub>2</sub> + sphalerite + 2 H<sub>2</sub>O",
           "acetic-acid energy supply",
           "acetic-acid energy supply"
          ],
          [
           "Coalbrook Mine 7",
           "SO<sub>4</sub><sup>2-</sup> + acetic-acid + Zn<sup>2+</sup> = 2 CO<sub>2</sub> + sphalerite + 2 H<sub>2</sub>O",
           "acetic-acid energy supply",
           "acetic-acid energy supply"
          ],
          [
           "Coalbrook Mine 8",
           "SO<sub>4</sub><sup>2-</sup> + acetic-acid + Zn<sup>2+</sup> = 2 CO<sub>2</sub> + sphalerite + 2 H<sub>2</sub>O",
           "acetic-acid energy supply",
           "acetic-acid energy supply"
          ],
          [
           "Coalbrook Mine 9",
           "SO<sub>4</sub><sup>2-</sup> + acetic-acid + Zn<sup>2+</sup> = 2 CO<sub>2</sub> + sphalerite + 2 H<sub>2</sub>O",
           "acetic-acid energy supply",
           "acetic-acid energy supply"
          ],
          [
           "Coalbrook Mine 10",
           "SO<sub>4</sub><sup>2-</sup> + acetic-acid + Zn<sup>2+</sup> = 2 CO<sub>2</sub> + sphalerite + 2 H<sub>2</sub>O",
           "acetic-acid energy supply",
           "acetic-acid energy supply"
          ],
          [
           "Coalbrook Mine 11",
           "SO<sub>4</sub><sup>2-</sup> + acetic-acid + Zn<sup>2+</sup> = 2 CO<sub>2</sub> + sphalerite + 2 H<sub>2</sub>O",
           "acetic-acid energy supply",
           "acetic-acid energy supply"
          ],
          [
           "Coalbrook Mine 12",
           "SO<sub>4</sub><sup>2-</sup> + acetic-acid + Zn<sup>2+</sup> = 2 CO<sub>2</sub> + sphalerite + 2 H<sub>2</sub>O",
           "acetic-acid energy supply",
           "acetic-acid energy supply"
          ],
          [
           "Coalbrook Mine 13",
           "SO<sub>4</sub><sup>2-</sup> + acetic-acid + Zn<sup>2+</sup> = 2 CO<sub>2</sub> + sphalerite + 2 H<sub>2</sub>O",
           "acetic-acid energy supply",
           "acetic-acid energy supply"
          ],
          [
           "Coalbrook Mine 14",
           "SO<sub>4</sub><sup>2-</sup> + acetic-acid + Zn<sup>2+</sup> = 2 CO<sub>2</sub> + sphalerite + 2 H<sub>2</sub>O",
           "acetic-acid energy supply",
           "acetic-acid energy supply"
          ]
         ],
         "hovertemplate": "%{customdata[0]}<br>acetic-acid_total molality [mol/kg]: %{x} <br>acetic-acid<br>energy supply [cal/kg fluid]: %{y}<br>Reaction name: %{customdata[2]}<br>Reaction: %{customdata[1]}",
         "legendgroup": "acetic-acid energy supply",
         "line": {
          "color": "#000000",
          "dash": "solid"
         },
         "marker": {
          "size": 10,
          "symbol": "circle"
         },
         "mode": "markers+lines",
         "name": "acetic-acid energy supply",
         "orientation": "v",
         "showlegend": true,
         "type": "scatter",
         "x": [
          1e-10,
          1e-09,
          1e-08,
          5e-08,
          1e-07,
          2.5e-07,
          3.5e-07,
          5e-07,
          7.5e-07,
          1e-06,
          5e-06,
          1e-05,
          0.0001,
          0.001
         ],
         "xaxis": "x",
         "y": [
          3.3131265901094457e-06,
          3.571549360416398e-05,
          0.0003829972139317476,
          0.002005279287751576,
          0.004088394969439039,
          0.010478173384315533,
          0.01480128562226833,
          0.017306539660668575,
          0.017491125406902563,
          0.01762196080992184,
          0.01835407472272093,
          0.018669385299562687,
          0.01971546152780343,
          0.020745512539596653
         ],
         "yaxis": "y"
        }
       ],
       "layout": {
        "height": 366,
        "legend": {
         "title": {},
         "tracegroupgap": 0
        },
        "margin": {
         "t": 40
        },
        "showlegend": false,
        "template": {
         "data": {
          "bar": [
           {
            "error_x": {
             "color": "rgb(36,36,36)"
            },
            "error_y": {
             "color": "rgb(36,36,36)"
            },
            "marker": {
             "line": {
              "color": "white",
              "width": 0.5
             },
             "pattern": {
              "fillmode": "overlay",
              "size": 10,
              "solidity": 0.2
             }
            },
            "type": "bar"
           }
          ],
          "barpolar": [
           {
            "marker": {
             "line": {
              "color": "white",
              "width": 0.5
             },
             "pattern": {
              "fillmode": "overlay",
              "size": 10,
              "solidity": 0.2
             }
            },
            "type": "barpolar"
           }
          ],
          "carpet": [
           {
            "aaxis": {
             "endlinecolor": "rgb(36,36,36)",
             "gridcolor": "white",
             "linecolor": "white",
             "minorgridcolor": "white",
             "startlinecolor": "rgb(36,36,36)"
            },
            "baxis": {
             "endlinecolor": "rgb(36,36,36)",
             "gridcolor": "white",
             "linecolor": "white",
             "minorgridcolor": "white",
             "startlinecolor": "rgb(36,36,36)"
            },
            "type": "carpet"
           }
          ],
          "choropleth": [
           {
            "colorbar": {
             "outlinewidth": 1,
             "tickcolor": "rgb(36,36,36)",
             "ticks": "outside"
            },
            "type": "choropleth"
           }
          ],
          "contour": [
           {
            "colorbar": {
             "outlinewidth": 1,
             "tickcolor": "rgb(36,36,36)",
             "ticks": "outside"
            },
            "colorscale": [
             [
              0,
              "#440154"
             ],
             [
              0.1111111111111111,
              "#482878"
             ],
             [
              0.2222222222222222,
              "#3e4989"
             ],
             [
              0.3333333333333333,
              "#31688e"
             ],
             [
              0.4444444444444444,
              "#26828e"
             ],
             [
              0.5555555555555556,
              "#1f9e89"
             ],
             [
              0.6666666666666666,
              "#35b779"
             ],
             [
              0.7777777777777778,
              "#6ece58"
             ],
             [
              0.8888888888888888,
              "#b5de2b"
             ],
             [
              1,
              "#fde725"
             ]
            ],
            "type": "contour"
           }
          ],
          "contourcarpet": [
           {
            "colorbar": {
             "outlinewidth": 1,
             "tickcolor": "rgb(36,36,36)",
             "ticks": "outside"
            },
            "type": "contourcarpet"
           }
          ],
          "heatmap": [
           {
            "colorbar": {
             "outlinewidth": 1,
             "tickcolor": "rgb(36,36,36)",
             "ticks": "outside"
            },
            "colorscale": [
             [
              0,
              "#440154"
             ],
             [
              0.1111111111111111,
              "#482878"
             ],
             [
              0.2222222222222222,
              "#3e4989"
             ],
             [
              0.3333333333333333,
              "#31688e"
             ],
             [
              0.4444444444444444,
              "#26828e"
             ],
             [
              0.5555555555555556,
              "#1f9e89"
             ],
             [
              0.6666666666666666,
              "#35b779"
             ],
             [
              0.7777777777777778,
              "#6ece58"
             ],
             [
              0.8888888888888888,
              "#b5de2b"
             ],
             [
              1,
              "#fde725"
             ]
            ],
            "type": "heatmap"
           }
          ],
          "heatmapgl": [
           {
            "colorbar": {
             "outlinewidth": 1,
             "tickcolor": "rgb(36,36,36)",
             "ticks": "outside"
            },
            "colorscale": [
             [
              0,
              "#440154"
             ],
             [
              0.1111111111111111,
              "#482878"
             ],
             [
              0.2222222222222222,
              "#3e4989"
             ],
             [
              0.3333333333333333,
              "#31688e"
             ],
             [
              0.4444444444444444,
              "#26828e"
             ],
             [
              0.5555555555555556,
              "#1f9e89"
             ],
             [
              0.6666666666666666,
              "#35b779"
             ],
             [
              0.7777777777777778,
              "#6ece58"
             ],
             [
              0.8888888888888888,
              "#b5de2b"
             ],
             [
              1,
              "#fde725"
             ]
            ],
            "type": "heatmapgl"
           }
          ],
          "histogram": [
           {
            "marker": {
             "line": {
              "color": "white",
              "width": 0.6
             }
            },
            "type": "histogram"
           }
          ],
          "histogram2d": [
           {
            "colorbar": {
             "outlinewidth": 1,
             "tickcolor": "rgb(36,36,36)",
             "ticks": "outside"
            },
            "colorscale": [
             [
              0,
              "#440154"
             ],
             [
              0.1111111111111111,
              "#482878"
             ],
             [
              0.2222222222222222,
              "#3e4989"
             ],
             [
              0.3333333333333333,
              "#31688e"
             ],
             [
              0.4444444444444444,
              "#26828e"
             ],
             [
              0.5555555555555556,
              "#1f9e89"
             ],
             [
              0.6666666666666666,
              "#35b779"
             ],
             [
              0.7777777777777778,
              "#6ece58"
             ],
             [
              0.8888888888888888,
              "#b5de2b"
             ],
             [
              1,
              "#fde725"
             ]
            ],
            "type": "histogram2d"
           }
          ],
          "histogram2dcontour": [
           {
            "colorbar": {
             "outlinewidth": 1,
             "tickcolor": "rgb(36,36,36)",
             "ticks": "outside"
            },
            "colorscale": [
             [
              0,
              "#440154"
             ],
             [
              0.1111111111111111,
              "#482878"
             ],
             [
              0.2222222222222222,
              "#3e4989"
             ],
             [
              0.3333333333333333,
              "#31688e"
             ],
             [
              0.4444444444444444,
              "#26828e"
             ],
             [
              0.5555555555555556,
              "#1f9e89"
             ],
             [
              0.6666666666666666,
              "#35b779"
             ],
             [
              0.7777777777777778,
              "#6ece58"
             ],
             [
              0.8888888888888888,
              "#b5de2b"
             ],
             [
              1,
              "#fde725"
             ]
            ],
            "type": "histogram2dcontour"
           }
          ],
          "mesh3d": [
           {
            "colorbar": {
             "outlinewidth": 1,
             "tickcolor": "rgb(36,36,36)",
             "ticks": "outside"
            },
            "type": "mesh3d"
           }
          ],
          "parcoords": [
           {
            "line": {
             "colorbar": {
              "outlinewidth": 1,
              "tickcolor": "rgb(36,36,36)",
              "ticks": "outside"
             }
            },
            "type": "parcoords"
           }
          ],
          "pie": [
           {
            "automargin": true,
            "type": "pie"
           }
          ],
          "scatter": [
           {
            "fillpattern": {
             "fillmode": "overlay",
             "size": 10,
             "solidity": 0.2
            },
            "type": "scatter"
           }
          ],
          "scatter3d": [
           {
            "line": {
             "colorbar": {
              "outlinewidth": 1,
              "tickcolor": "rgb(36,36,36)",
              "ticks": "outside"
             }
            },
            "marker": {
             "colorbar": {
              "outlinewidth": 1,
              "tickcolor": "rgb(36,36,36)",
              "ticks": "outside"
             }
            },
            "type": "scatter3d"
           }
          ],
          "scattercarpet": [
           {
            "marker": {
             "colorbar": {
              "outlinewidth": 1,
              "tickcolor": "rgb(36,36,36)",
              "ticks": "outside"
             }
            },
            "type": "scattercarpet"
           }
          ],
          "scattergeo": [
           {
            "marker": {
             "colorbar": {
              "outlinewidth": 1,
              "tickcolor": "rgb(36,36,36)",
              "ticks": "outside"
             }
            },
            "type": "scattergeo"
           }
          ],
          "scattergl": [
           {
            "marker": {
             "colorbar": {
              "outlinewidth": 1,
              "tickcolor": "rgb(36,36,36)",
              "ticks": "outside"
             }
            },
            "type": "scattergl"
           }
          ],
          "scattermapbox": [
           {
            "marker": {
             "colorbar": {
              "outlinewidth": 1,
              "tickcolor": "rgb(36,36,36)",
              "ticks": "outside"
             }
            },
            "type": "scattermapbox"
           }
          ],
          "scatterpolar": [
           {
            "marker": {
             "colorbar": {
              "outlinewidth": 1,
              "tickcolor": "rgb(36,36,36)",
              "ticks": "outside"
             }
            },
            "type": "scatterpolar"
           }
          ],
          "scatterpolargl": [
           {
            "marker": {
             "colorbar": {
              "outlinewidth": 1,
              "tickcolor": "rgb(36,36,36)",
              "ticks": "outside"
             }
            },
            "type": "scatterpolargl"
           }
          ],
          "scatterternary": [
           {
            "marker": {
             "colorbar": {
              "outlinewidth": 1,
              "tickcolor": "rgb(36,36,36)",
              "ticks": "outside"
             }
            },
            "type": "scatterternary"
           }
          ],
          "surface": [
           {
            "colorbar": {
             "outlinewidth": 1,
             "tickcolor": "rgb(36,36,36)",
             "ticks": "outside"
            },
            "colorscale": [
             [
              0,
              "#440154"
             ],
             [
              0.1111111111111111,
              "#482878"
             ],
             [
              0.2222222222222222,
              "#3e4989"
             ],
             [
              0.3333333333333333,
              "#31688e"
             ],
             [
              0.4444444444444444,
              "#26828e"
             ],
             [
              0.5555555555555556,
              "#1f9e89"
             ],
             [
              0.6666666666666666,
              "#35b779"
             ],
             [
              0.7777777777777778,
              "#6ece58"
             ],
             [
              0.8888888888888888,
              "#b5de2b"
             ],
             [
              1,
              "#fde725"
             ]
            ],
            "type": "surface"
           }
          ],
          "table": [
           {
            "cells": {
             "fill": {
              "color": "rgb(237,237,237)"
             },
             "line": {
              "color": "white"
             }
            },
            "header": {
             "fill": {
              "color": "rgb(217,217,217)"
             },
             "line": {
              "color": "white"
             }
            },
            "type": "table"
           }
          ]
         },
         "layout": {
          "annotationdefaults": {
           "arrowhead": 0,
           "arrowwidth": 1
          },
          "autotypenumbers": "strict",
          "coloraxis": {
           "colorbar": {
            "outlinewidth": 1,
            "tickcolor": "rgb(36,36,36)",
            "ticks": "outside"
           }
          },
          "colorscale": {
           "diverging": [
            [
             0,
             "rgb(103,0,31)"
            ],
            [
             0.1,
             "rgb(178,24,43)"
            ],
            [
             0.2,
             "rgb(214,96,77)"
            ],
            [
             0.3,
             "rgb(244,165,130)"
            ],
            [
             0.4,
             "rgb(253,219,199)"
            ],
            [
             0.5,
             "rgb(247,247,247)"
            ],
            [
             0.6,
             "rgb(209,229,240)"
            ],
            [
             0.7,
             "rgb(146,197,222)"
            ],
            [
             0.8,
             "rgb(67,147,195)"
            ],
            [
             0.9,
             "rgb(33,102,172)"
            ],
            [
             1,
             "rgb(5,48,97)"
            ]
           ],
           "sequential": [
            [
             0,
             "#440154"
            ],
            [
             0.1111111111111111,
             "#482878"
            ],
            [
             0.2222222222222222,
             "#3e4989"
            ],
            [
             0.3333333333333333,
             "#31688e"
            ],
            [
             0.4444444444444444,
             "#26828e"
            ],
            [
             0.5555555555555556,
             "#1f9e89"
            ],
            [
             0.6666666666666666,
             "#35b779"
            ],
            [
             0.7777777777777778,
             "#6ece58"
            ],
            [
             0.8888888888888888,
             "#b5de2b"
            ],
            [
             1,
             "#fde725"
            ]
           ],
           "sequentialminus": [
            [
             0,
             "#440154"
            ],
            [
             0.1111111111111111,
             "#482878"
            ],
            [
             0.2222222222222222,
             "#3e4989"
            ],
            [
             0.3333333333333333,
             "#31688e"
            ],
            [
             0.4444444444444444,
             "#26828e"
            ],
            [
             0.5555555555555556,
             "#1f9e89"
            ],
            [
             0.6666666666666666,
             "#35b779"
            ],
            [
             0.7777777777777778,
             "#6ece58"
            ],
            [
             0.8888888888888888,
             "#b5de2b"
            ],
            [
             1,
             "#fde725"
            ]
           ]
          },
          "colorway": [
           "#1F77B4",
           "#FF7F0E",
           "#2CA02C",
           "#D62728",
           "#9467BD",
           "#8C564B",
           "#E377C2",
           "#7F7F7F",
           "#BCBD22",
           "#17BECF"
          ],
          "font": {
           "color": "rgb(36,36,36)"
          },
          "geo": {
           "bgcolor": "white",
           "lakecolor": "white",
           "landcolor": "white",
           "showlakes": true,
           "showland": true,
           "subunitcolor": "white"
          },
          "hoverlabel": {
           "align": "left"
          },
          "hovermode": "closest",
          "mapbox": {
           "style": "light"
          },
          "paper_bgcolor": "white",
          "plot_bgcolor": "white",
          "polar": {
           "angularaxis": {
            "gridcolor": "rgb(232,232,232)",
            "linecolor": "rgb(36,36,36)",
            "showgrid": false,
            "showline": true,
            "ticks": "outside"
           },
           "bgcolor": "white",
           "radialaxis": {
            "gridcolor": "rgb(232,232,232)",
            "linecolor": "rgb(36,36,36)",
            "showgrid": false,
            "showline": true,
            "ticks": "outside"
           }
          },
          "scene": {
           "xaxis": {
            "backgroundcolor": "white",
            "gridcolor": "rgb(232,232,232)",
            "gridwidth": 2,
            "linecolor": "rgb(36,36,36)",
            "showbackground": true,
            "showgrid": false,
            "showline": true,
            "ticks": "outside",
            "zeroline": false,
            "zerolinecolor": "rgb(36,36,36)"
           },
           "yaxis": {
            "backgroundcolor": "white",
            "gridcolor": "rgb(232,232,232)",
            "gridwidth": 2,
            "linecolor": "rgb(36,36,36)",
            "showbackground": true,
            "showgrid": false,
            "showline": true,
            "ticks": "outside",
            "zeroline": false,
            "zerolinecolor": "rgb(36,36,36)"
           },
           "zaxis": {
            "backgroundcolor": "white",
            "gridcolor": "rgb(232,232,232)",
            "gridwidth": 2,
            "linecolor": "rgb(36,36,36)",
            "showbackground": true,
            "showgrid": false,
            "showline": true,
            "ticks": "outside",
            "zeroline": false,
            "zerolinecolor": "rgb(36,36,36)"
           }
          },
          "shapedefaults": {
           "fillcolor": "black",
           "line": {
            "width": 0
           },
           "opacity": 0.3
          },
          "ternary": {
           "aaxis": {
            "gridcolor": "rgb(232,232,232)",
            "linecolor": "rgb(36,36,36)",
            "showgrid": false,
            "showline": true,
            "ticks": "outside"
           },
           "baxis": {
            "gridcolor": "rgb(232,232,232)",
            "linecolor": "rgb(36,36,36)",
            "showgrid": false,
            "showline": true,
            "ticks": "outside"
           },
           "bgcolor": "white",
           "caxis": {
            "gridcolor": "rgb(232,232,232)",
            "linecolor": "rgb(36,36,36)",
            "showgrid": false,
            "showline": true,
            "ticks": "outside"
           }
          },
          "title": {
           "x": 0.05
          },
          "xaxis": {
           "automargin": true,
           "gridcolor": "rgb(232,232,232)",
           "linecolor": "rgb(36,36,36)",
           "showgrid": false,
           "showline": true,
           "ticks": "outside",
           "title": {
            "standoff": 15
           },
           "zeroline": false,
           "zerolinecolor": "rgb(36,36,36)"
          },
          "yaxis": {
           "automargin": true,
           "gridcolor": "rgb(232,232,232)",
           "linecolor": "rgb(36,36,36)",
           "showgrid": false,
           "showline": true,
           "ticks": "outside",
           "title": {
            "standoff": 15
           },
           "zeroline": false,
           "zerolinecolor": "rgb(36,36,36)"
          }
         }
        },
        "title": {
         "x": 0.5,
         "xanchor": "center"
        },
        "width": 610,
        "xaxis": {
         "anchor": "y",
         "autorange": true,
         "domain": [
          0,
          1
         ],
         "exponentformat": "E",
         "range": [
          -10.518070688280627,
          -2.481929311719372
         ],
         "title": {
          "text": "acetic-acid_total molality [mol/kg]"
         },
         "type": "log"
        },
        "yaxis": {
         "anchor": "x",
         "autorange": true,
         "domain": [
          0,
          1
         ],
         "exponentformat": "E",
         "range": [
          -0.0018385624076907496,
          0.02258738807387751
         ],
         "title": {
          "text": "acetic-acid<br>energy supply [cal/kg fluid]"
         },
         "type": "linear"
        }
       }
      },
      "image/png": "[encoded data removed]",
      "text/html": [
       "<div>                            <div id=\"ddbe8dea-af84-4608-9495-e2f37f8c1451\" class=\"plotly-graph-div\" style=\"height:366px; width:610px;\"></div>            <script type=\"text/javascript\">                require([\"plotly\"], function(Plotly) {                    window.PLOTLYENV=window.PLOTLYENV || {};                                    if (document.getElementById(\"ddbe8dea-af84-4608-9495-e2f37f8c1451\")) {                    Plotly.newPlot(                        \"ddbe8dea-af84-4608-9495-e2f37f8c1451\",                        [{\"customdata\":[[\"Coalbrook Mine 1\",\"SO<sub>4</sub><sup>2-</sup> + acetic-acid + Zn<sup>2+</sup> = 2 CO<sub>2</sub> + sphalerite + 2 H<sub>2</sub>O\",\"acetic-acid energy supply\",\"acetic-acid energy supply\"],[\"Coalbrook Mine 2\",\"SO<sub>4</sub><sup>2-</sup> + acetic-acid + Zn<sup>2+</sup> = 2 CO<sub>2</sub> + sphalerite + 2 H<sub>2</sub>O\",\"acetic-acid energy supply\",\"acetic-acid energy supply\"],[\"Coalbrook Mine 3\",\"SO<sub>4</sub><sup>2-</sup> + acetic-acid + Zn<sup>2+</sup> = 2 CO<sub>2</sub> + sphalerite + 2 H<sub>2</sub>O\",\"acetic-acid energy supply\",\"acetic-acid energy supply\"],[\"Coalbrook Mine 4\",\"SO<sub>4</sub><sup>2-</sup> + acetic-acid + Zn<sup>2+</sup> = 2 CO<sub>2</sub> + sphalerite + 2 H<sub>2</sub>O\",\"acetic-acid energy supply\",\"acetic-acid energy supply\"],[\"Coalbrook Mine 5\",\"SO<sub>4</sub><sup>2-</sup> + acetic-acid + Zn<sup>2+</sup> = 2 CO<sub>2</sub> + sphalerite + 2 H<sub>2</sub>O\",\"acetic-acid energy supply\",\"acetic-acid energy supply\"],[\"Coalbrook Mine 6\",\"SO<sub>4</sub><sup>2-</sup> + acetic-acid + Zn<sup>2+</sup> = 2 CO<sub>2</sub> + sphalerite + 2 H<sub>2</sub>O\",\"acetic-acid energy supply\",\"acetic-acid energy supply\"],[\"Coalbrook Mine 7\",\"SO<sub>4</sub><sup>2-</sup> + acetic-acid + Zn<sup>2+</sup> = 2 CO<sub>2</sub> + sphalerite + 2 H<sub>2</sub>O\",\"acetic-acid energy supply\",\"acetic-acid energy supply\"],[\"Coalbrook Mine 8\",\"SO<sub>4</sub><sup>2-</sup> + acetic-acid + Zn<sup>2+</sup> = 2 CO<sub>2</sub> + sphalerite + 2 H<sub>2</sub>O\",\"acetic-acid energy supply\",\"acetic-acid energy supply\"],[\"Coalbrook Mine 9\",\"SO<sub>4</sub><sup>2-</sup> + acetic-acid + Zn<sup>2+</sup> = 2 CO<sub>2</sub> + sphalerite + 2 H<sub>2</sub>O\",\"acetic-acid energy supply\",\"acetic-acid energy supply\"],[\"Coalbrook Mine 10\",\"SO<sub>4</sub><sup>2-</sup> + acetic-acid + Zn<sup>2+</sup> = 2 CO<sub>2</sub> + sphalerite + 2 H<sub>2</sub>O\",\"acetic-acid energy supply\",\"acetic-acid energy supply\"],[\"Coalbrook Mine 11\",\"SO<sub>4</sub><sup>2-</sup> + acetic-acid + Zn<sup>2+</sup> = 2 CO<sub>2</sub> + sphalerite + 2 H<sub>2</sub>O\",\"acetic-acid energy supply\",\"acetic-acid energy supply\"],[\"Coalbrook Mine 12\",\"SO<sub>4</sub><sup>2-</sup> + acetic-acid + Zn<sup>2+</sup> = 2 CO<sub>2</sub> + sphalerite + 2 H<sub>2</sub>O\",\"acetic-acid energy supply\",\"acetic-acid energy supply\"],[\"Coalbrook Mine 13\",\"SO<sub>4</sub><sup>2-</sup> + acetic-acid + Zn<sup>2+</sup> = 2 CO<sub>2</sub> + sphalerite + 2 H<sub>2</sub>O\",\"acetic-acid energy supply\",\"acetic-acid energy supply\"],[\"Coalbrook Mine 14\",\"SO<sub>4</sub><sup>2-</sup> + acetic-acid + Zn<sup>2+</sup> = 2 CO<sub>2</sub> + sphalerite + 2 H<sub>2</sub>O\",\"acetic-acid energy supply\",\"acetic-acid energy supply\"]],\"hovertemplate\":\"%{customdata[0]}<br>acetic-acid_total molality [mol/kg]: %{x} <br>acetic-acid<br>energy supply [cal/kg fluid]: %{y}<br>Reaction name: %{customdata[2]}<br>Reaction: %{customdata[1]}\",\"legendgroup\":\"acetic-acid energy supply\",\"line\":{\"color\":\"#000000\",\"dash\":\"solid\"},\"marker\":{\"symbol\":\"circle\",\"size\":10},\"mode\":\"markers+lines\",\"name\":\"acetic-acid energy supply\",\"orientation\":\"v\",\"showlegend\":true,\"x\":[1e-10,1e-09,1e-08,5e-08,1e-07,2.5e-07,3.5e-07,5e-07,7.5e-07,1e-06,5e-06,1e-05,0.0001,0.001],\"xaxis\":\"x\",\"y\":[3.3131265901094457e-06,3.571549360416398e-05,0.0003829972139317476,0.002005279287751576,0.004088394969439039,0.010478173384315533,0.01480128562226833,0.017306539660668575,0.017491125406902563,0.01762196080992184,0.01835407472272093,0.018669385299562687,0.01971546152780343,0.020745512539596653],\"yaxis\":\"y\",\"type\":\"scatter\"}],                        {\"template\":{\"data\":{\"barpolar\":[{\"marker\":{\"line\":{\"color\":\"white\",\"width\":0.5},\"pattern\":{\"fillmode\":\"overlay\",\"size\":10,\"solidity\":0.2}},\"type\":\"barpolar\"}],\"bar\":[{\"error_x\":{\"color\":\"rgb(36,36,36)\"},\"error_y\":{\"color\":\"rgb(36,36,36)\"},\"marker\":{\"line\":{\"color\":\"white\",\"width\":0.5},\"pattern\":{\"fillmode\":\"overlay\",\"size\":10,\"solidity\":0.2}},\"type\":\"bar\"}],\"carpet\":[{\"aaxis\":{\"endlinecolor\":\"rgb(36,36,36)\",\"gridcolor\":\"white\",\"linecolor\":\"white\",\"minorgridcolor\":\"white\",\"startlinecolor\":\"rgb(36,36,36)\"},\"baxis\":{\"endlinecolor\":\"rgb(36,36,36)\",\"gridcolor\":\"white\",\"linecolor\":\"white\",\"minorgridcolor\":\"white\",\"startlinecolor\":\"rgb(36,36,36)\"},\"type\":\"carpet\"}],\"choropleth\":[{\"colorbar\":{\"outlinewidth\":1,\"tickcolor\":\"rgb(36,36,36)\",\"ticks\":\"outside\"},\"type\":\"choropleth\"}],\"contourcarpet\":[{\"colorbar\":{\"outlinewidth\":1,\"tickcolor\":\"rgb(36,36,36)\",\"ticks\":\"outside\"},\"type\":\"contourcarpet\"}],\"contour\":[{\"colorbar\":{\"outlinewidth\":1,\"tickcolor\":\"rgb(36,36,36)\",\"ticks\":\"outside\"},\"colorscale\":[[0.0,\"#440154\"],[0.1111111111111111,\"#482878\"],[0.2222222222222222,\"#3e4989\"],[0.3333333333333333,\"#31688e\"],[0.4444444444444444,\"#26828e\"],[0.5555555555555556,\"#1f9e89\"],[0.6666666666666666,\"#35b779\"],[0.7777777777777778,\"#6ece58\"],[0.8888888888888888,\"#b5de2b\"],[1.0,\"#fde725\"]],\"type\":\"contour\"}],\"heatmapgl\":[{\"colorbar\":{\"outlinewidth\":1,\"tickcolor\":\"rgb(36,36,36)\",\"ticks\":\"outside\"},\"colorscale\":[[0.0,\"#440154\"],[0.1111111111111111,\"#482878\"],[0.2222222222222222,\"#3e4989\"],[0.3333333333333333,\"#31688e\"],[0.4444444444444444,\"#26828e\"],[0.5555555555555556,\"#1f9e89\"],[0.6666666666666666,\"#35b779\"],[0.7777777777777778,\"#6ece58\"],[0.8888888888888888,\"#b5de2b\"],[1.0,\"#fde725\"]],\"type\":\"heatmapgl\"}],\"heatmap\":[{\"colorbar\":{\"outlinewidth\":1,\"tickcolor\":\"rgb(36,36,36)\",\"ticks\":\"outside\"},\"colorscale\":[[0.0,\"#440154\"],[0.1111111111111111,\"#482878\"],[0.2222222222222222,\"#3e4989\"],[0.3333333333333333,\"#31688e\"],[0.4444444444444444,\"#26828e\"],[0.5555555555555556,\"#1f9e89\"],[0.6666666666666666,\"#35b779\"],[0.7777777777777778,\"#6ece58\"],[0.8888888888888888,\"#b5de2b\"],[1.0,\"#fde725\"]],\"type\":\"heatmap\"}],\"histogram2dcontour\":[{\"colorbar\":{\"outlinewidth\":1,\"tickcolor\":\"rgb(36,36,36)\",\"ticks\":\"outside\"},\"colorscale\":[[0.0,\"#440154\"],[0.1111111111111111,\"#482878\"],[0.2222222222222222,\"#3e4989\"],[0.3333333333333333,\"#31688e\"],[0.4444444444444444,\"#26828e\"],[0.5555555555555556,\"#1f9e89\"],[0.6666666666666666,\"#35b779\"],[0.7777777777777778,\"#6ece58\"],[0.8888888888888888,\"#b5de2b\"],[1.0,\"#fde725\"]],\"type\":\"histogram2dcontour\"}],\"histogram2d\":[{\"colorbar\":{\"outlinewidth\":1,\"tickcolor\":\"rgb(36,36,36)\",\"ticks\":\"outside\"},\"colorscale\":[[0.0,\"#440154\"],[0.1111111111111111,\"#482878\"],[0.2222222222222222,\"#3e4989\"],[0.3333333333333333,\"#31688e\"],[0.4444444444444444,\"#26828e\"],[0.5555555555555556,\"#1f9e89\"],[0.6666666666666666,\"#35b779\"],[0.7777777777777778,\"#6ece58\"],[0.8888888888888888,\"#b5de2b\"],[1.0,\"#fde725\"]],\"type\":\"histogram2d\"}],\"histogram\":[{\"marker\":{\"line\":{\"color\":\"white\",\"width\":0.6}},\"type\":\"histogram\"}],\"mesh3d\":[{\"colorbar\":{\"outlinewidth\":1,\"tickcolor\":\"rgb(36,36,36)\",\"ticks\":\"outside\"},\"type\":\"mesh3d\"}],\"parcoords\":[{\"line\":{\"colorbar\":{\"outlinewidth\":1,\"tickcolor\":\"rgb(36,36,36)\",\"ticks\":\"outside\"}},\"type\":\"parcoords\"}],\"pie\":[{\"automargin\":true,\"type\":\"pie\"}],\"scatter3d\":[{\"line\":{\"colorbar\":{\"outlinewidth\":1,\"tickcolor\":\"rgb(36,36,36)\",\"ticks\":\"outside\"}},\"marker\":{\"colorbar\":{\"outlinewidth\":1,\"tickcolor\":\"rgb(36,36,36)\",\"ticks\":\"outside\"}},\"type\":\"scatter3d\"}],\"scattercarpet\":[{\"marker\":{\"colorbar\":{\"outlinewidth\":1,\"tickcolor\":\"rgb(36,36,36)\",\"ticks\":\"outside\"}},\"type\":\"scattercarpet\"}],\"scattergeo\":[{\"marker\":{\"colorbar\":{\"outlinewidth\":1,\"tickcolor\":\"rgb(36,36,36)\",\"ticks\":\"outside\"}},\"type\":\"scattergeo\"}],\"scattergl\":[{\"marker\":{\"colorbar\":{\"outlinewidth\":1,\"tickcolor\":\"rgb(36,36,36)\",\"ticks\":\"outside\"}},\"type\":\"scattergl\"}],\"scattermapbox\":[{\"marker\":{\"colorbar\":{\"outlinewidth\":1,\"tickcolor\":\"rgb(36,36,36)\",\"ticks\":\"outside\"}},\"type\":\"scattermapbox\"}],\"scatterpolargl\":[{\"marker\":{\"colorbar\":{\"outlinewidth\":1,\"tickcolor\":\"rgb(36,36,36)\",\"ticks\":\"outside\"}},\"type\":\"scatterpolargl\"}],\"scatterpolar\":[{\"marker\":{\"colorbar\":{\"outlinewidth\":1,\"tickcolor\":\"rgb(36,36,36)\",\"ticks\":\"outside\"}},\"type\":\"scatterpolar\"}],\"scatter\":[{\"fillpattern\":{\"fillmode\":\"overlay\",\"size\":10,\"solidity\":0.2},\"type\":\"scatter\"}],\"scatterternary\":[{\"marker\":{\"colorbar\":{\"outlinewidth\":1,\"tickcolor\":\"rgb(36,36,36)\",\"ticks\":\"outside\"}},\"type\":\"scatterternary\"}],\"surface\":[{\"colorbar\":{\"outlinewidth\":1,\"tickcolor\":\"rgb(36,36,36)\",\"ticks\":\"outside\"},\"colorscale\":[[0.0,\"#440154\"],[0.1111111111111111,\"#482878\"],[0.2222222222222222,\"#3e4989\"],[0.3333333333333333,\"#31688e\"],[0.4444444444444444,\"#26828e\"],[0.5555555555555556,\"#1f9e89\"],[0.6666666666666666,\"#35b779\"],[0.7777777777777778,\"#6ece58\"],[0.8888888888888888,\"#b5de2b\"],[1.0,\"#fde725\"]],\"type\":\"surface\"}],\"table\":[{\"cells\":{\"fill\":{\"color\":\"rgb(237,237,237)\"},\"line\":{\"color\":\"white\"}},\"header\":{\"fill\":{\"color\":\"rgb(217,217,217)\"},\"line\":{\"color\":\"white\"}},\"type\":\"table\"}]},\"layout\":{\"annotationdefaults\":{\"arrowhead\":0,\"arrowwidth\":1},\"autotypenumbers\":\"strict\",\"coloraxis\":{\"colorbar\":{\"outlinewidth\":1,\"tickcolor\":\"rgb(36,36,36)\",\"ticks\":\"outside\"}},\"colorscale\":{\"diverging\":[[0.0,\"rgb(103,0,31)\"],[0.1,\"rgb(178,24,43)\"],[0.2,\"rgb(214,96,77)\"],[0.3,\"rgb(244,165,130)\"],[0.4,\"rgb(253,219,199)\"],[0.5,\"rgb(247,247,247)\"],[0.6,\"rgb(209,229,240)\"],[0.7,\"rgb(146,197,222)\"],[0.8,\"rgb(67,147,195)\"],[0.9,\"rgb(33,102,172)\"],[1.0,\"rgb(5,48,97)\"]],\"sequential\":[[0.0,\"#440154\"],[0.1111111111111111,\"#482878\"],[0.2222222222222222,\"#3e4989\"],[0.3333333333333333,\"#31688e\"],[0.4444444444444444,\"#26828e\"],[0.5555555555555556,\"#1f9e89\"],[0.6666666666666666,\"#35b779\"],[0.7777777777777778,\"#6ece58\"],[0.8888888888888888,\"#b5de2b\"],[1.0,\"#fde725\"]],\"sequentialminus\":[[0.0,\"#440154\"],[0.1111111111111111,\"#482878\"],[0.2222222222222222,\"#3e4989\"],[0.3333333333333333,\"#31688e\"],[0.4444444444444444,\"#26828e\"],[0.5555555555555556,\"#1f9e89\"],[0.6666666666666666,\"#35b779\"],[0.7777777777777778,\"#6ece58\"],[0.8888888888888888,\"#b5de2b\"],[1.0,\"#fde725\"]]},\"colorway\":[\"#1F77B4\",\"#FF7F0E\",\"#2CA02C\",\"#D62728\",\"#9467BD\",\"#8C564B\",\"#E377C2\",\"#7F7F7F\",\"#BCBD22\",\"#17BECF\"],\"font\":{\"color\":\"rgb(36,36,36)\"},\"geo\":{\"bgcolor\":\"white\",\"lakecolor\":\"white\",\"landcolor\":\"white\",\"showlakes\":true,\"showland\":true,\"subunitcolor\":\"white\"},\"hoverlabel\":{\"align\":\"left\"},\"hovermode\":\"closest\",\"mapbox\":{\"style\":\"light\"},\"paper_bgcolor\":\"white\",\"plot_bgcolor\":\"white\",\"polar\":{\"angularaxis\":{\"gridcolor\":\"rgb(232,232,232)\",\"linecolor\":\"rgb(36,36,36)\",\"showgrid\":false,\"showline\":true,\"ticks\":\"outside\"},\"bgcolor\":\"white\",\"radialaxis\":{\"gridcolor\":\"rgb(232,232,232)\",\"linecolor\":\"rgb(36,36,36)\",\"showgrid\":false,\"showline\":true,\"ticks\":\"outside\"}},\"scene\":{\"xaxis\":{\"backgroundcolor\":\"white\",\"gridcolor\":\"rgb(232,232,232)\",\"gridwidth\":2,\"linecolor\":\"rgb(36,36,36)\",\"showbackground\":true,\"showgrid\":false,\"showline\":true,\"ticks\":\"outside\",\"zeroline\":false,\"zerolinecolor\":\"rgb(36,36,36)\"},\"yaxis\":{\"backgroundcolor\":\"white\",\"gridcolor\":\"rgb(232,232,232)\",\"gridwidth\":2,\"linecolor\":\"rgb(36,36,36)\",\"showbackground\":true,\"showgrid\":false,\"showline\":true,\"ticks\":\"outside\",\"zeroline\":false,\"zerolinecolor\":\"rgb(36,36,36)\"},\"zaxis\":{\"backgroundcolor\":\"white\",\"gridcolor\":\"rgb(232,232,232)\",\"gridwidth\":2,\"linecolor\":\"rgb(36,36,36)\",\"showbackground\":true,\"showgrid\":false,\"showline\":true,\"ticks\":\"outside\",\"zeroline\":false,\"zerolinecolor\":\"rgb(36,36,36)\"}},\"shapedefaults\":{\"fillcolor\":\"black\",\"line\":{\"width\":0},\"opacity\":0.3},\"ternary\":{\"aaxis\":{\"gridcolor\":\"rgb(232,232,232)\",\"linecolor\":\"rgb(36,36,36)\",\"showgrid\":false,\"showline\":true,\"ticks\":\"outside\"},\"baxis\":{\"gridcolor\":\"rgb(232,232,232)\",\"linecolor\":\"rgb(36,36,36)\",\"showgrid\":false,\"showline\":true,\"ticks\":\"outside\"},\"bgcolor\":\"white\",\"caxis\":{\"gridcolor\":\"rgb(232,232,232)\",\"linecolor\":\"rgb(36,36,36)\",\"showgrid\":false,\"showline\":true,\"ticks\":\"outside\"}},\"title\":{\"x\":0.05},\"xaxis\":{\"automargin\":true,\"gridcolor\":\"rgb(232,232,232)\",\"linecolor\":\"rgb(36,36,36)\",\"showgrid\":false,\"showline\":true,\"ticks\":\"outside\",\"title\":{\"standoff\":15},\"zeroline\":false,\"zerolinecolor\":\"rgb(36,36,36)\"},\"yaxis\":{\"automargin\":true,\"gridcolor\":\"rgb(232,232,232)\",\"linecolor\":\"rgb(36,36,36)\",\"showgrid\":false,\"showline\":true,\"ticks\":\"outside\",\"title\":{\"standoff\":15},\"zeroline\":false,\"zerolinecolor\":\"rgb(36,36,36)\"}}},\"xaxis\":{\"anchor\":\"y\",\"domain\":[0.0,1.0],\"title\":{\"text\":\"acetic-acid_total molality [mol/kg]\"},\"type\":\"log\",\"exponentformat\":\"E\"},\"yaxis\":{\"anchor\":\"x\",\"domain\":[0.0,1.0],\"title\":{\"text\":\"acetic-acid<br>energy supply [cal/kg fluid]\"},\"exponentformat\":\"E\"},\"legend\":{\"title\":{},\"tracegroupgap\":0},\"margin\":{\"t\":40},\"height\":366,\"width\":610,\"title\":{\"x\":0.5,\"xanchor\":\"center\"},\"showlegend\":false},                        {\"displaylogo\": false, \"scrollZoom\": true, \"modeBarButtonsToRemove\": [\"select2d\", \"lasso2d\", \"toggleSpikelines\", \"resetScale2d\"], \"toImageButtonOptions\": {\"format\": \"png\", \"filename\": null, \"height\": 366, \"width\": 610, \"scale\": 1}, \"responsive\": true}                    ).then(function(){\n",
       "                            \n",
       "var gd = document.getElementById('ddbe8dea-af84-4608-9495-e2f37f8c1451');\n",
       "var x = new MutationObserver(function (mutations, observer) {{\n",
       "        var display = window.getComputedStyle(gd).display;\n",
       "        if (!display || display === 'none') {{\n",
       "            console.log([gd, 'removed!']);\n",
       "            Plotly.purge(gd);\n",
       "            observer.disconnect();\n",
       "        }}\n",
       "}});\n",
       "\n",
       "// Listen for the removal of the full notebook cells\n",
       "var notebookContainer = gd.closest('#notebook-container');\n",
       "if (notebookContainer) {{\n",
       "    x.observe(notebookContainer, {childList: true});\n",
       "}}\n",
       "\n",
       "// Listen for the clearing of the current output cell\n",
       "var outputEl = gd.closest('.output');\n",
       "if (outputEl) {{\n",
       "    x.observe(outputEl, {childList: true});\n",
       "}}\n",
       "\n",
       "                        })                };                });            </script>        </div>"
      ]
     },
     "metadata": {},
     "output_type": "display_data"
    }
   ],
   "source": [
    "speciation.scatterplot(x=\"acetic-acid_total\",\n",
    "                       y=\"acetic-acid energy supply\",\n",
    "                       lineplot=True,\n",
    "                       log_x=True,\n",
    "                       rxns_as_labels=False, # good to do when there is no legend\n",
    "                       plot_width=5)"
   ]
  },
  {
   "cell_type": "markdown",
   "id": "b2e92370-de85-43d5-bf98-4a8e4e4a3035",
   "metadata": {},
   "source": [
    "### Answer Guide for Facilitators\n",
    "\n",
    "Increasing concentrations of acetic acid increase the energy supplied by the bioremediation reaction. However, there is a point around 1 mmol acetic acid where increasing acetic acid concentrations is estimated to yield diminishing returns. Let the participants think about why this is (the limiting reactant switches from acetic acid to Zn+2 at around this point).\n",
    "\n",
    "If these results track with energy supply experienced by sulfate reducers, then there may be a maximum effective organic acid concentration where Zn+2 (or other metals) become limiting. There is also likely a minimum acetic acid concentration necessary to stimulate remediation by sulfate reducers."
   ]
  },
  {
   "cell_type": "markdown",
   "id": "beab1540-18db-4fa6-ba0b-5865ac50f473",
   "metadata": {},
   "source": [
    "### Data sources:\n",
    "\n",
    "Water chemistry data for Coalbrook mine AMD come from [Cravotta III (2008)](https://doi.org/10.1016/j.apgeochem.2007.10.011)."
   ]
  },
  {
   "cell_type": "markdown",
   "id": "d001baf2-b0a1-4c76-be15-2f43689ae5d2",
   "metadata": {},
   "source": [
    "End of demo."
   ]
  },
  {
   "cell_type": "code",
   "execution_count": null,
   "id": "60ed57e9-c846-4467-8772-fd5e48d2fade",
   "metadata": {},
   "outputs": [],
   "source": []
  }
 ],
 "metadata": {
  "kernelspec": {
   "display_name": "Python 3",
   "language": "python",
   "name": "python3"
  },
  "language_info": {
   "codemirror_mode": {
    "name": "ipython",
    "version": 3
   },
   "file_extension": ".py",
   "mimetype": "text/x-python",
   "name": "python",
   "nbconvert_exporter": "python",
   "pygments_lexer": "ipython3",
   "version": "3.10.12"
  }
 },
 "nbformat": 4,
 "nbformat_minor": 5
}
