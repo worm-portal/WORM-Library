{
 "cells": [
  {
   "cell_type": "code",
   "execution_count": 1,
   "metadata": {},
   "outputs": [],
   "source": [
    "import AqEquil\n",
    "ae = AqEquil.AqEquil()"
   ]
  },
  {
   "cell_type": "code",
   "execution_count": 2,
   "metadata": {},
   "outputs": [
    {
     "name": "stdout",
     "output_type": "stream",
     "text": [
      "[1] \"Warning: no 'logfO2' column found. Attempting to find a column for aqueous O2 to estimate logfO2 at sample temperature and pressure...\"\n",
      "Using wrm to speciate Bison Pool\n",
      "Using wrm to speciate Spray Geyser Source\n",
      "[1] \"Warning: non-numeric aqueous O2 value in sample Crater Hills Geyser. Resorting to using Log fO2 (log bars) with a value of -6\"\n",
      "Using wrm to speciate Crater Hills Geyser\n",
      "Using wrm to speciate Ambergris\n",
      "Using wrm to speciate MLS Source\n",
      "Using wrm to speciate Gas Crack\n",
      "Using wrm to speciate Snail\n",
      "Finished!\n"
     ]
    }
   ],
   "source": [
    "speciation = ae.speciate(input_filename=\"input_example_wrm.csv\", # S&C10vents_P.csv\",\n",
    "                         exclude=[\"Year\", \"Area\"],\n",
    "                         \n",
    "                         ### search WORM server for data0\n",
    "                         db=\"wrm\",\n",
    "                         \n",
    "                         ### search current directory for data0\n",
    "#                          db=\"data0.wrf\",\n",
    "                         \n",
    "                         ### search current directory for csv\n",
    "#                          db=\"local_wrm_data.csv\",\n",
    "#                          db_solid_solution=\"local_wrm_solid_solutions.csv\",\n",
    "                         \n",
    "                         ### retrieve data0 from URL\n",
    "#                          db=\"https://raw.githubusercontent.com/worm-portal/WORM-db/master/data0.wrm\",\n",
    "                         \n",
    "                         ### retrieve csv from URL\n",
    "#                          db=\"https://raw.githubusercontent.com/worm-portal/WORM-db/master/wrm_data.csv\",\n",
    "#                          db_solid_solution=\"https://raw.githubusercontent.com/worm-portal/WORM-db/master/solid_solutions.csv\",\n",
    "                         \n",
    "                         strict_minimum_pressure=True,\n",
    "                         delete_generated_folders=True,\n",
    "                         \n",
    "                         ### additional parameters for handling the database\n",
    "#                          db_args={\n",
    "#                            \"exclude_category\":{\"category_1\":[\"organic_aq\"]},\n",
    "#                            \"suppress_redox\":[\"Fe\", \"S\"],\n",
    "#                          },\n",
    "                        )"
   ]
  }
 ],
 "metadata": {
  "kernelspec": {
   "display_name": "Python 3 (dev)",
   "language": "python",
   "name": "python3dev"
  },
  "language_info": {
   "codemirror_mode": {
    "name": "ipython",
    "version": 3
   },
   "file_extension": ".py",
   "mimetype": "text/x-python",
   "name": "python",
   "nbconvert_exporter": "python",
   "pygments_lexer": "ipython3",
   "version": "3.8.0"
  }
 },
 "nbformat": 4,
 "nbformat_minor": 4
}
