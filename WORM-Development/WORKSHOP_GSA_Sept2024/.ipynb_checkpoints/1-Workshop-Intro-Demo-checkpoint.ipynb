{
 "cells": [
  {
   "cell_type": "markdown",
   "metadata": {},
   "source": [
    "<left>\n",
    "<table style=\"margin-top:0px; margin-left:0px;\">\n",
    "<tr>\n",
    "  <td><img src=\"https://raw.githubusercontent.com/worm-portal/WORM-Figures/master/style/worm.png\" alt=\"WORM\" title=\"WORM\" width=50/></td>\n",
    "  <td><h1 style=font-size:30px>Aqueous Geochemical Speciation</h1><h2>WORM Introductory Topic, September 21, 2024</h2></td>\n",
    "</tr>\n",
    "</table>\n",
    "</left>"
   ]
  },
  {
   "cell_type": "markdown",
   "metadata": {},
   "source": [
    "### A story about a geochemist\n",
    "\n",
    "One day a geochemist took a field trip to the Salt Verde River System in central Arizona.\n",
    "\n",
    "It was a beautiful day to explore this tributary of the Colorado river and admire the surrounding scenery.\n",
    "\n",
    "<img src=\"https://upload.wikimedia.org/wikipedia/commons/f/ff/Verde_River_near_Clarkdale%2C_Arizona.jpg\" alt=\"Verde River\" title=\"Verde River\" width=100%/>\n",
    "\n",
    "The geochemist is interested in the quality of the water. The river system is an important source of water for numerous Arizona communities, including the Salt River Pima-Maricopa Indian Community located at the confluence of the Salt and Verde rivers. Further, this river system is home to many native plants and animals, and is a critical flyway for migratory birds. With so many depending on this water, it makes sense to try to understand its composition.\n",
    "\n",
    "<img src=\"https://upload.wikimedia.org/wikipedia/commons/7/76/Gilarivermap.png\" alt=\"Field spectrophotometry\" title=\"'How much silica is in this water?'\" width=300/>\n",
    "\n",
    "The geochemist tucked her sampling permit into her pocket and stepped up to the edge of the Salt River.\n",
    "\n",
    "\"Let's start with something simple,\" the geochemist pondered. \"How much silica is dissolved in this water?\" .\n",
    "\n",
    "She collected a sample in a glass vial and measured the concentration of total silica with a field spectrophotometer.\n",
    "\n",
    "<img src=\"https://www.sierraclub.org/sites/default/files/sce/grand-canyon-chapter/images/Data-page_Verde.jpg\" alt=\"Field spectrophotometry\" title=\"'How much silica is in this water?'\" width=300/>\n",
    "\n",
    "The spectrophotometer read: **15 parts per million (ppm)**, or **0.25 millimolal**.\n",
    "\n",
    "\"That answers that!\" the geochemist said, preparing to go home.\n",
    "\n",
    "But then she recalled that SiO$_{2(aq)}$ can change forms depending on pH:\n",
    "\n",
    "$$\\color{orangered}{\\text{SiO}_{2(aq)} + \\text{H}_{2}\\text{O} \\rightleftharpoons \\text{HSiO}_{3}^{-} + \\text{H}^{+}}$$\n",
    "\n",
    "The geochemist knew that the spectrophotometer only measured total dissolved silica and did not report how much was actually HSiO$_{3}^{-}$.\n",
    "\n",
    "\"How much of the dissolved silica is the hydrogen silicate ion?\" the geochemist asked.\n",
    "\n",
    "She unpacked a pH meter and measured the pH and temperature of the water.\n",
    "\n",
    "<img src=\"https://www.horiba.com/fileadmin/_processed_/csm_Inukami_river__03_8fcde5397f.jpg\" alt=\"Field spectrophotometry\" title=\"'What is the pH and temperature of this water?'\" width=200/>\n",
    "\n",
    "The meter read: **pH 8.3** and **25.0 °C**\n",
    "\n",
    "The geochemist logged into the WORM Portal using her field laptop and calculated the logK of the reaction to form the hydrogen silicate ion at 25.0 °C."
   ]
  },
  {
   "cell_type": "code",
   "execution_count": null,
   "metadata": {},
   "outputs": [],
   "source": [
    "# import the function we need (subcrt)\n",
    "from pyCHNOSZ import subcrt\n",
    "\n",
    "# calculate the logK of SiO2 + H2O = HSiO3- + H+ at 25.0 °C\n",
    "subcrt([\"SiO2\", \"H2O\", \"HSiO3-\", \"H+\"],\n",
    "       [-1, -1, 1, 1],\n",
    "       property=\"logK\", T=25.0,\n",
    "       show=False, messages=False)[\"out\"]"
   ]
  },
  {
   "cell_type": "markdown",
   "metadata": {},
   "source": [
    "$$\\color{orangered}{\\text{logK} = -9.59}$$\n",
    "\n",
    "The geochemist knew that she could use this $\\text{logK}$ and her field measurements to calculate the activity (\"effective concentration\") of HSiO$_{3}^{-}$.\n",
    "\n",
    "$$\\color{orangered}{\\text{logK} = \\log[\\text{HSiO}_{3}^{-}] + \\log[\\text{H}^{+}] - \\log[\\text{SiO}_{2(aq)}] - \\log[\\text{H}_{2}\\text{O}]}$$\n",
    "\n",
    "The log activity of protons is equal to $-\\text{pH}$. Further, the log activity of H$_2$O is very close to zero under surface conditions. This simplifies the equation:\n",
    "\n",
    "$$\\color{orangered}{\\text{logK} = \\log[\\text{HSiO}_{3}^{-}] - \\text{pH} - \\log[\\text{SiO}_{2(aq)}]}$$\n",
    "\n",
    "The geochemist plugged in the $\\text{logK}$ she calculated and the pH and concentration of SiO$_{2(aq)}$ she measured. She solved for HSiO$_{3}^{-}$:\n",
    "\n",
    "\\begin{align}\n",
    "\\color{orangered}{-9.59} &\\color{orangered}{= \\log[\\text{HSiO}_{3}^{-}] - 8.3 - \\log[0.25 \\times 10^{-3} \\text{molal}]} \\\\\n",
    "\\color{orangered}{\\log[\\text{HSiO}_{3}^{-}]} &\\color{orangered}{= -9.59 + 8.3 + \\log[0.25 \\times 10^{-3} \\text{molal}]} \\\\\n",
    "\\color{orangered}{\\text{HSiO}_{3}^{-}} &\\color{orangered}{= 1.3 \\times 10^{-5} \\text{molal}}\n",
    "\\end{align}"
   ]
  },
  {
   "cell_type": "code",
   "execution_count": null,
   "metadata": {},
   "outputs": [],
   "source": [
    "# solve it here, just to be sure!\n",
    "import math\n",
    "10**(-9.59 + 8.3 + math.log10(0.00025))"
   ]
  },
  {
   "cell_type": "markdown",
   "metadata": {},
   "source": [
    "\"The concentration of the hydrogen silicate ion is about two orders of magnitude less than that of dissolved silica,\" the geochemist said. \"That answers that!\"\n",
    "\n",
    "Satisfied with her answer, she finished sampling the Salt River, then moved on to the Verde River that afternoon to collect samples there, too.\n",
    "\n",
    "Driving back to the lab, the geochemist had a sudden realization.\n",
    "\n",
    "\"What if the hydrogen silicate ion is complexing with other ions, like Mg$^{2+}$, Ca$^{2+}$, and Na$^{+}$? What are the concentrations of *those* complexes?\"\n",
    "\n",
    "She unpacked her water sample at the lab and analyzed the total concentrations of major dissolved cations and anions with an ion chromatograph.\n",
    "\n",
    "<img src=\"https://upload.wikimedia.org/wikipedia/commons/thumb/7/73/Metrohm_850.jpg/1280px-Metrohm_850.jpg\" alt=\"Ion Chromatograph\" title=\"'What are the concentrations of total dissolved cations in this water?'\" width=300/>\n",
    "\n",
    "While analyzing the anions, the geochemist had another disturbing realization.\n",
    "\n",
    "\"I'm measuring **total** concentrations of major dissolved cations in the water. Mg$^{2+}$, Ca$^{2+}$, and Na$^{+}$ might also be complexed with anions besides HSiO$_{3}^{-}$, like HCO$_{3}^{-}$ and CO$_3^{2-}$!\"\n",
    "\n",
    "The geochemist sat down and wrote out the chemical reactions for the formation of these complexes.\n",
    "\n",
    "She realized she could designate aqueous species as *basis* or *non-basis* to make the setting up the problem easier. All reactions can be set up to form a single non-basis species from a small selection of simple basis species:"
   ]
  },
  {
   "cell_type": "markdown",
   "metadata": {},
   "source": [
    "$\\color{magenta}{\\text{Basis} : \\text{SiO}_{2}, \\text{H}_{2}\\text{O}, \\text{H}^{+}, \\text{Mg}^{2+}, \\text{Ca}^{2+}, \\text{Na}^{+}, \\text{HCO}_{3}^{-}}$\n",
    "\n",
    "$\\color{lime}{\\text{Non-Basis} : \\text{HSiO}_{3}^{-}, \\text{Mg(HSiO}_{3}\\text{)}^{+}, \\text{Ca(HSiO}_{3}\\text{)}^{+}, \\text{NaHSiO}_{3(aq)}, \\text{Mg(HCO}_{3}\\text{)}^{+}, \\text{Ca(HCO}_{3}\\text{)}^{+}, \\text{NaHCO}_{3}, \\text{CO}_{3}^{2-}, \\text{MgCO}_{3(aq)}, \\text{CaCO}_{3(aq)}, \\text{NaCO}_{3}^{-}}$\n",
    "\n",
    "\n",
    "\\begin{align}\n",
    "\\color{magenta}{\\text{SiO}_{2}} + \\color{magenta}{\\text{H}_{2}\\text{O}} &\\rightleftharpoons \\color{lime}{\\text{HSiO}_{3}^{-}} + \\color{magenta}{\\text{H}^{+}} \\\\\n",
    "\\color{magenta}{\\text{SiO}_{2}} + \\color{magenta}{\\text{Mg}^{2+}} + \\color{magenta}{\\text{H}_{2}\\text{O}} &\\rightleftharpoons \\color{lime}{\\text{Mg(HSiO}_{3}\\text{)}^{+}} + \\color{magenta}{\\text{H}^{+}} \\\\\n",
    "\\color{magenta}{\\text{SiO}_{2}} + \\color{magenta}{\\text{Ca}^{2+}} + \\color{magenta}{\\text{H}_{2}\\text{O}} &\\rightleftharpoons \\color{lime}{\\text{Ca(HSiO}_{3}\\text{)}^{+}} + \\color{magenta}{\\text{H}^{+}} \\\\\n",
    "\\color{magenta}{\\text{SiO}_{2}} + \\color{magenta}{\\text{Na}^{+}} + \\color{magenta}{\\text{H}_{2}\\text{O}} &\\rightleftharpoons \\color{lime}{\\text{NaHSiO}_{3(aq)}} \\\\\n",
    "\\end{align}\n",
    "\n",
    "\\begin{align}\n",
    "\\color{magenta}{\\text{HCO}_{3}^{-}} &\\rightleftharpoons \\color{lime}{\\text{CO}_{3}^{2-}} + \\color{magenta}{\\text{H}^{+}} \\\\\n",
    "\\color{magenta}{\\text{HCO}_{3}^{-}} + \\color{magenta}{\\text{Mg}^{2+}} + &\\rightleftharpoons \\color{lime}{\\text{Mg(HCO}_{3}\\text{)}^{+}} + \\color{magenta}{\\text{H}^{+}} \\\\\n",
    "\\text{...} & \\text{and so on...}\n",
    "\\end{align}"
   ]
  },
  {
   "cell_type": "markdown",
   "metadata": {},
   "source": [
    "To get the concentrations of the complexes, the geochemist figured she would calculate the logK of each reaction then solve the system of nonlinear equations."
   ]
  },
  {
   "cell_type": "markdown",
   "metadata": {},
   "source": [
    "As she assembled the analytical data into spreadsheets on her computer, the geochemist considered the process required to calculate the concentrations of all these solutes.\n",
    "\n",
    "She would have to find the root solution to an enormous set of nonlinear equations. It would take a *lot* of time and effort to do by hand, even for a single sample.\n",
    "\n",
    "\"I've got it!\" the geochemist exclaimed.\n",
    "\n",
    "She logged into her WORM Portal account and grabbed a copy of the Aqueous Speciation notebook from the WORM Library. Using her spreadsheets of analytical data as input for the calculations, the geochemist quickly performed a speciation calculation in the notebook:"
   ]
  },
  {
   "cell_type": "code",
   "execution_count": null,
   "metadata": {},
   "outputs": [],
   "source": [
    "import AqEquil\n",
    "ae = AqEquil.AqEquil(db=\"wrm\")\n",
    "speciation = ae.speciate(input_filename=\"Salt_Verde_River.csv\",\n",
    "                         verbose=0)\n",
    "print(\"Done!\")"
   ]
  },
  {
   "cell_type": "markdown",
   "metadata": {},
   "source": [
    "*(Open 'Salt_Verde_River.csv' in the file browser to see the water chemistry data the geochemist used in her speciation calculation.)*"
   ]
  },
  {
   "cell_type": "markdown",
   "metadata": {},
   "source": [
    "The geochemist could look up calculated log activities of the aqueous species in her samples. Silica complexes, for instance:"
   ]
  },
  {
   "cell_type": "code",
   "execution_count": null,
   "metadata": {},
   "outputs": [],
   "source": [
    "speciation.lookup([\"SiO2\", \"HSiO3-\", \"MgHSiO3+\", \"CaHSiO3+\", \"NaHSiO3\"])"
   ]
  },
  {
   "cell_type": "markdown",
   "metadata": {},
   "source": [
    "The geochemist could even visualize basis species as a percent of the total aqueous species. She started with silica, \"SiO2\"."
   ]
  },
  {
   "cell_type": "code",
   "execution_count": null,
   "metadata": {},
   "outputs": [],
   "source": [
    "speciation.plot_mass_contribution(\"SiO2\")"
   ]
  },
  {
   "cell_type": "markdown",
   "metadata": {},
   "source": [
    "She could also visualize magnesium, calcium, and their complexes:"
   ]
  },
  {
   "cell_type": "code",
   "execution_count": null,
   "metadata": {},
   "outputs": [],
   "source": [
    "speciation.plot_mass_contribution(\"Mg+2\")"
   ]
  },
  {
   "cell_type": "code",
   "execution_count": null,
   "metadata": {},
   "outputs": [],
   "source": [
    "speciation.plot_mass_contribution(\"Ca+2\")"
   ]
  },
  {
   "cell_type": "markdown",
   "metadata": {},
   "source": [
    "And bicarbonate:"
   ]
  },
  {
   "cell_type": "code",
   "execution_count": null,
   "metadata": {},
   "outputs": [],
   "source": [
    "speciation.plot_mass_contribution(\"HCO3-\")"
   ]
  },
  {
   "cell_type": "markdown",
   "metadata": {},
   "source": [
    "She could compare the compositions of the two samples with a barplot..."
   ]
  },
  {
   "cell_type": "code",
   "execution_count": null,
   "metadata": {},
   "outputs": [],
   "source": [
    "speciation.barplot(['Na+', 'Cl-'])"
   ]
  },
  {
   "cell_type": "markdown",
   "metadata": {},
   "source": [
    "...and plot mineral saturation indices (distance from equilibrium, in kcal/mol). She could see which pure minerals were supersaturated (blue, thermodynamic drive to precipitate) and undersaturated (orange, thermodynamic drive to dissolve) in a sample:"
   ]
  },
  {
   "cell_type": "code",
   "execution_count": null,
   "metadata": {},
   "outputs": [],
   "source": [
    "speciation.plot_mineral_saturation('Salt River', plot_width=6)"
   ]
  },
  {
   "cell_type": "markdown",
   "metadata": {},
   "source": [
    "\"That answers that!\" The geochemist stood up to go home and eat a nice meal to celebrate a job well done. But something stopped her. It was another burning question.\n",
    "\n",
    "\"What about the other dozen samples I collected today?\""
   ]
  },
  {
   "cell_type": "markdown",
   "metadata": {},
   "source": [
    "### Workshop Outline\n",
    "\n",
    "- <s>Story time! Aqueous geochemical speciation with WORM</s>\n",
    "- Hands-on exploration in a breakout session"
   ]
  }
 ],
 "metadata": {
  "kernelspec": {
   "display_name": "Python 3",
   "language": "python",
   "name": "python3"
  },
  "language_info": {
   "codemirror_mode": {
    "name": "ipython",
    "version": 3
   },
   "file_extension": ".py",
   "mimetype": "text/x-python",
   "name": "python",
   "nbconvert_exporter": "python",
   "pygments_lexer": "ipython3",
   "version": "3.10.12"
  }
 },
 "nbformat": 4,
 "nbformat_minor": 4
}
