{
 "cells": [
  {
   "cell_type": "markdown",
   "metadata": {},
   "source": [
    "<left>\n",
    "<table style=\"margin-top:0px; margin-left:0px;\">\n",
    "<tr>\n",
    "  <td><img src=\"https://raw.githubusercontent.com/worm-portal/WORM-Figures/master/style/worm.png\" alt=\"WORM\" title=\"WORM\" width=50/></td>\n",
    "  <td><h1 style=font-size:30px>Mass Transfer and Reaction Paths</h1><h2>Breakout Session</h2></td>\n",
    "</tr>\n",
    "</table>\n",
    "</left>\n",
    "\n",
    "Here are a couple of example activities involving water-rock reaction modeling. Pick the one that most interests you or go wild with your own ideas!\n",
    "\n",
    "In case you need it, here is a link to [the WORM database table](https://tinyurl.com/wormdb). It can be helpful for looking up mineral names. Descriptions of columns and their units can be found in the [WORM database documentation](https://worm-portal.asu.edu/docs/database/). \n",
    "\n",
    "---\n",
    "\n",
    "### Activity: Serpentinization, continued!\n",
    "\n",
    "<img src=\"https://www.le-comptoir-geologique.com/_media/img/small/telechargement-6-2-2.png\" alt=\"enstatite\" title=\"enstatite\" width=50%/>\n",
    "\n",
    "[Enstatite](https://www.mindat.org/min-1384.html). Image credit: Y. Vessely\n",
    "<br/>\n",
    "\n",
    "Forsterite can react with a pH 6 fluid to produce chrysotile and brucite. What happens if we change the Mg:Si ratio of the reactant mineral? Are different minerals produced? What happens to the pH of the fluid?\n",
    "\n",
    "| Group | Mineral | Formula | Mg:Si | Reactive at surface conditions? | Product minerals | pH change? |\n",
    "|-------|---------|---------|-------|---------------------------------|------------------|------------|\n",
    "| olivine | forsterite | Mg2SiO4 | 2:1 | highly | chrysotile, brucite | Big increase |\n",
    "| orthopyroxine | enstatite | MgSiO3 | 1:1 | highly | ??? | ??? |\n",
    "| clinopyroxene | diopside | CaMgSi2O6 | 1:2 | slightly | ??? | ??? |\n",
    "\n",
    "1. Explore what is predicted to happen to these serpentinizing endmember minerals when they are reacted with speciated pH 6 fluid.\n",
    "    <ol type=\"a\">\n",
    "      <li>Can you uncover the blanks in the table?</li>\n",
    "      <li>What can be said about Mg:Si in the types and abundance of product minerals?</li>\n",
    "    </ol><br>\n",
    "    \n",
    "2. What happens when you react a rock made up of forsterite, enstatite, and diopside (each with ~0.33 mole fraction)?\n",
    "\n",
    "---\n",
    "\n",
    "### Activity: Destroyed by acid mine drainage!\n",
    "\n",
    "<img src=\"https://files.structurae.net/files/photos/5256/2021-07-16/dsc03469.jpeg\" alt=\"struts\" title=\"Concrete Struts\" width=50%/>\n",
    "Image credit: Nicolas Janberg\n",
    "<br/><br/>\n",
    "\n",
    "The year is 2050. County officials in Shamokin, Pennsylvania are investigating reports of eroding infrastructure. The reports indicate degradation of the concrete struts that support a bridge spanning a large stagnant pond. An investigation reveals that polluted runoff from the abandoned Henry Clay Sterling Mine has contaminated the pond in contact with the struts.\n",
    "\n",
    "A task force is assembled to gather evidence that the acid mine drainage is causing destruction of the bridge struts. It is your task to estimate the extent of the damage so the county can budget for bridge repair.\n",
    "\n",
    "For every 10 kg of water in the pond, there is 1 mole of concrete in contact with water.\n",
    "\n",
    "If there is < 10% disintegration of concrete volume after equilibration with the pond, then \\\\$1M will be needed to patch up the concrete. Any more than that and the struts will need to be completely replaced for \\\\$5M. What do you recommend based on your model?\n",
    "\n",
    "Hint: assume portlandite (cement) is a stand-in for concrete.\n",
    "\n",
    "(Acid mine drainage data is adapted from [Cravotta III 2008](https://doi.org/10.1016/j.apgeochem.2007.10.011))\n",
    "\n",
    "---\n",
    "\n",
    "### Activity: Lime the lake!\n",
    "\n",
    "Honnedaga Lake in upstate New York is home to brook trout, *Salvelinus fontinalis*.\n",
    "\n",
    "<img src=\"https://www.fws.gov/sites/default/files/styles/banner_image_xl/public/banner_images/2021-07/natdiglib_32715_full.jpg\" alt=\"brook trout\" title=\"Brook Trout\" width=100%/>\n",
    "\n",
    "Acidification of the lake from acid rain is suspected to have caused a marked decline in the population of brook trout [since the late 1960s](http://fish.dnr.cornell.edu/trout/honnedaga.htm).\n",
    "\n",
    "You are investigating possible methods for improving the water quality of the lake. One technique for mitigating lake acidification is through a process called *liming*. This is where crushed agricultural limestone (CaCO$_3$) is spread evenly across the pond or lake with a barge. A crew of 3 can dispense around 10 tons of limestone per hour.\n",
    "\n",
    "Model the water-rock reaction between Honnedaga Lake water and limestone.\n",
    "- What happens to the pH of the lake?\n",
    "- Acid rain has led to an increased concentration of dissolved sulfate in the lake. What happens to the speciation of sulfate when the lake is limed?\n",
    "- Why does the pH of the lake increase when limestone is added?\n",
    "- Lake Honnedaga has a surface area of 3.33 km$^2$ and an average depth of 15 m. About how many moles of limestone would be needed to saturate the lake? How many hours would it take a barge to dispense that much limestone?\n",
    "\n",
    "Hint: assume limestone is mainly composed of calcite.\n",
    "\n",
    "(Honnedaga Lake data is adapted from the [USGS Honnedaga Lake Tributary dataset](https://nwis.waterdata.usgs.gov/usa/nwis/qwdata/?site_no=0134277112&agency_cd=USGS&inventory_output=0&rdb_inventory_output=value&TZoutput=0&pm_cd_compare=Greater%20than&radio_parm_cds=all_parm_cds&format=html_table&qw_attributes=expanded&qw_sample_wide=separated_wide&rdb_qw_attributes=0&date_format=YYYY-MM-DD&rdb_compression=file&submitted_form=brief_list))\n",
    "\n",
    "---"
   ]
  },
  {
   "cell_type": "markdown",
   "metadata": {},
   "source": [
    "Load the AqEquil Python package."
   ]
  },
  {
   "cell_type": "code",
   "execution_count": null,
   "metadata": {},
   "outputs": [],
   "source": [
    "import AqEquil"
   ]
  },
  {
   "cell_type": "markdown",
   "metadata": {},
   "source": [
    "Load the thermodynamic database. Organics are excluded here to cut down on calculation time."
   ]
  },
  {
   "cell_type": "code",
   "execution_count": null,
   "metadata": {},
   "outputs": [],
   "source": [
    "ae = AqEquil.AqEquil(exclude_organics=True)"
   ]
  },
  {
   "cell_type": "markdown",
   "metadata": {},
   "source": [
    "Load water chemistry data from a CSV file and perform the speciation calculation. The formation of certain minerals can be suppressed here, if desired. "
   ]
  },
  {
   "cell_type": "code",
   "execution_count": null,
   "metadata": {},
   "outputs": [],
   "source": [
    "speciation = ae.speciate(input_filename=\"pH6-8_fluids.csv\",\n",
    "                         alter_options=[[\"antigorite\", \"Suppress\"]],\n",
    "                         )"
   ]
  },
  {
   "cell_type": "markdown",
   "metadata": {},
   "source": [
    "Save the speciation as a file. This allows you to load the speciation whenever the notebook is opened or the kernel is restarted. Not having to re-run the speciation saves time."
   ]
  },
  {
   "cell_type": "code",
   "execution_count": null,
   "metadata": {},
   "outputs": [],
   "source": [
    "speciation.save(\"serp\")"
   ]
  },
  {
   "cell_type": "markdown",
   "metadata": {},
   "source": [
    "The notebook can be safely shut down or restarted and resumed from this point."
   ]
  },
  {
   "cell_type": "code",
   "execution_count": null,
   "metadata": {},
   "outputs": [],
   "source": [
    "import AqEquil\n",
    "speciation = AqEquil.load(\"serp\")"
   ]
  },
  {
   "cell_type": "code",
   "execution_count": null,
   "metadata": {},
   "outputs": [],
   "source": [
    "For = AqEquil.Reactant(reactant_name=\"forsterite\",\n",
    "                       amount_remaining=1, # moles of mineral to react per kg H2O\n",
    "                       f_rate_law='Relative rate equation', # forward rate law\n",
    "                       f_eq1=1, # dXi(n)/dXi (mol/mol), the mole fraction of this mineral in the rock\n",
    "                       b_rate_law=\"Partial equilibrium\", # backward rate law\n",
    "                       )\n",
    "\n",
    "# combine the mineral reactants in a list to prepare the reaction\n",
    "r = AqEquil.Prepare_Reaction(reactants=[For])"
   ]
  },
  {
   "cell_type": "markdown",
   "metadata": {},
   "source": [
    "React the minerals with the speciated fluids."
   ]
  },
  {
   "cell_type": "code",
   "execution_count": null,
   "metadata": {},
   "outputs": [],
   "source": [
    "speciation = AqEquil.react(speciation, r)"
   ]
  },
  {
   "cell_type": "markdown",
   "metadata": {},
   "source": [
    "The `lookup()` function can be used to look up many things about the speciation, including sample names."
   ]
  },
  {
   "cell_type": "code",
   "execution_count": null,
   "metadata": {},
   "outputs": [],
   "source": [
    "speciation.lookup('pH')"
   ]
  },
  {
   "cell_type": "markdown",
   "metadata": {},
   "source": [
    "Select one of the samples for analysis and plotting."
   ]
  },
  {
   "cell_type": "code",
   "execution_count": null,
   "metadata": {},
   "outputs": [],
   "source": [
    "# get mass transfer data for a sample\n",
    "m = speciation.mt(\"pH6\")"
   ]
  },
  {
   "cell_type": "markdown",
   "metadata": {},
   "source": [
    "## Available plot types"
   ]
  },
  {
   "cell_type": "markdown",
   "metadata": {},
   "source": [
    "Plot pH as a function of reaction progress (Xi)"
   ]
  },
  {
   "cell_type": "code",
   "execution_count": null,
   "metadata": {},
   "outputs": [],
   "source": [
    "m.plot_pH()"
   ]
  },
  {
   "cell_type": "markdown",
   "metadata": {},
   "source": [
    "Plot concentrations of dissolved elements as a function of reaction progress (Xi)"
   ]
  },
  {
   "cell_type": "code",
   "execution_count": null,
   "metadata": {},
   "outputs": [],
   "source": [
    "m.plot_elements(log=True)"
   ]
  },
  {
   "cell_type": "markdown",
   "metadata": {},
   "source": [
    "Plot activity of aqueous basis species as a function of reaction progress (Xi)"
   ]
  },
  {
   "cell_type": "code",
   "execution_count": null,
   "metadata": {},
   "outputs": [],
   "source": [
    "m.plot_aqueous_species(plot_basis=True)"
   ]
  },
  {
   "cell_type": "markdown",
   "metadata": {},
   "source": [
    "Plot activity of non-basis aqueous species as a function of reaction progress (Xi)"
   ]
  },
  {
   "cell_type": "code",
   "execution_count": null,
   "metadata": {},
   "outputs": [],
   "source": [
    "m.plot_aqueous_species(plot_basis=False)"
   ]
  },
  {
   "cell_type": "markdown",
   "metadata": {},
   "source": [
    "Plot moles of product minerals as a function of reaction progress (Xi)"
   ]
  },
  {
   "cell_type": "code",
   "execution_count": null,
   "metadata": {},
   "outputs": [],
   "source": [
    "m.plot_product_minerals(show_reactant_minerals=False, log_y=True, y_type='mole')"
   ]
  },
  {
   "cell_type": "markdown",
   "metadata": {},
   "source": [
    "Create an interactive reaction path diagram with desired species as x, y, and balance variables. (It might take a minute to load the plot.)\n",
    "\n",
    "Once it is ready, hover your mouse over the plot to see more.\n",
    "\n",
    "The red line and dots indicate the reaction path of the fluid. Open circles represent 'projections', where the point is above or below the plane in multidimensional space. Closed circles indicate points along the reaction path that are interacting with activity fields and/or saturation lines present in the diagram.\n",
    "\n",
    "We recommend setting `calculate_projected_points=False` when you are visualizing a sample that has many elements (e.g., the Henry Clay Sterling Mine example). This is because calculating whether a point is projected involves looping through every permutation of x, y, and balance variables. The more elements present, the longer it takes to finish."
   ]
  },
  {
   "cell_type": "code",
   "execution_count": null,
   "metadata": {},
   "outputs": [],
   "source": [
    "e = m.plot_reaction_paths([\"SiO2\",\"Mg+2\", \"Ca+2\"], # x, y, and balance variables\n",
    "                          flip_xy=False, # flip variables on x and y axes?\n",
    "                          res=300, # 300 calculations per axis. Higher is slower but makes smoother region lines\n",
    "                          minerals_to_show=[\"quartz\"], # ensure certain mineral saturation lines will appear\n",
    "                          calculate_projected_points=True, # set to False if there are many elements in the system\n",
    "                         )[0].show()"
   ]
  },
  {
   "cell_type": "markdown",
   "metadata": {},
   "source": [
    "The next cell will plot reaction paths with all permutations of x, y, and balance variables. This might take a minute or more.\n",
    "\n",
    "Running this cell is not recommended when you have many elements of the system (e.g., the Henry Clay Sterling acid mine drainage example). This is because there are too many permutations of x, y, and balance variables to plot in one notebook. The cell will probably never finish running! Instead, use the technique shown in the cell directly above to define x, y, and balance variables manually and skip the next cell."
   ]
  },
  {
   "cell_type": "code",
   "execution_count": null,
   "metadata": {},
   "outputs": [],
   "source": [
    "fig_list = m.plot_reaction_paths(res=150, # resolution of background mineral stability field\n",
    "                                 flip_xy=False, # flip variables on x and y axes?\n",
    "                                 minerals_to_show=[\"quartz\"], # ensure certain mineral saturation lines will appear\n",
    "                                 calculate_projected_points=True, # set to False if there are many elements in the system\n",
    "                                )\n",
    "\n",
    "_ = [fig.show() for fig in fig_list]"
   ]
  },
  {
   "cell_type": "markdown",
   "metadata": {},
   "source": [
    "Plot mass contribution of a basis species across reaction progress (Xi)."
   ]
  },
  {
   "cell_type": "code",
   "execution_count": null,
   "metadata": {},
   "outputs": [],
   "source": [
    "m.plot_mass_contribution(\"SiO2\")"
   ]
  },
  {
   "cell_type": "markdown",
   "metadata": {},
   "source": [
    "## Tables"
   ]
  },
  {
   "cell_type": "markdown",
   "metadata": {},
   "source": [
    "Here is a list of tables that can be examined and exported after a water-rock reaction calculation:\n",
    "\n",
    "Miscellaneous parameters (pH, temperature, pressure, redox)\n",
    "- `misc_params`\n",
    "\n",
    "Distributions of aqueous species\n",
    "- `aq_distribution_logact`\n",
    "- `aq_distribution_logmolal`\n",
    "- `aq_distribution_molal`\n",
    "\n",
    "Distributions of basis species\n",
    "- `basis_logact`\n",
    "- `basis_molality`\n",
    "- `basis_ppm`\n",
    "\n",
    "Distributions of elements\n",
    "- `dissolved_elements_molal`\n",
    "- `dissolved_elements_ppm`\n",
    "\n",
    "Moles of minerals and solid solutions\n",
    "- `moles_minerals`\n",
    "- `moles_product_minerals`\n",
    "- `moles_product_minerals_and_solid_solutions`\n",
    "- `moles_solid_solutions`\n",
    "\n",
    "Saturation states of minerals and solid solutions\n",
    "- `saturation_states_pure_solids_affinity`\n",
    "- `saturation_states_pure_solids_log_Q_over_K`\n",
    "- `saturation_states_solid_solutions_affinity`\n",
    "- `saturation_states_solid_solutions_log_Q_over_K`"
   ]
  },
  {
   "cell_type": "markdown",
   "metadata": {},
   "source": [
    "For example:"
   ]
  },
  {
   "cell_type": "code",
   "execution_count": null,
   "metadata": {},
   "outputs": [],
   "source": [
    "m.misc_params"
   ]
  },
  {
   "cell_type": "markdown",
   "metadata": {},
   "source": [
    "Tables can be exported as CSV files with:"
   ]
  },
  {
   "cell_type": "code",
   "execution_count": null,
   "metadata": {},
   "outputs": [],
   "source": [
    "m.aq_distribution_logact.to_csv(\"my_output.csv\")"
   ]
  },
  {
   "cell_type": "markdown",
   "metadata": {},
   "source": [
    "Documentation is available for any function by including `?` at the end of the function name. For instance, here is the documentation for the `AqEquil.Reactant` function used earlier in the notebook to define forsterite and fayalite as minerals to react with speciated fluids:"
   ]
  },
  {
   "cell_type": "code",
   "execution_count": null,
   "metadata": {},
   "outputs": [],
   "source": [
    "AqEquil.Reactant?"
   ]
  },
  {
   "cell_type": "code",
   "execution_count": null,
   "metadata": {},
   "outputs": [],
   "source": []
  }
 ],
 "metadata": {
  "kernelspec": {
   "display_name": "Python 3",
   "language": "python",
   "name": "python3"
  },
  "language_info": {
   "codemirror_mode": {
    "name": "ipython",
    "version": 3
   },
   "file_extension": ".py",
   "mimetype": "text/x-python",
   "name": "python",
   "nbconvert_exporter": "python",
   "pygments_lexer": "ipython3",
   "version": "3.10.12"
  }
 },
 "nbformat": 4,
 "nbformat_minor": 4
}
