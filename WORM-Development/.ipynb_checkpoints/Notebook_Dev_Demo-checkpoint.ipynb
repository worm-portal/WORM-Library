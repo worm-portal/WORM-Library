{
 "cells": [
  {
   "cell_type": "markdown",
   "metadata": {},
   "source": [
    "### Cheat sheets for markdown formatting:\n",
    "\n",
    "- [General formatting, links, and pictures](https://medium.com/ibm-data-science-experience/markdown-for-jupyter-notebooks-cheatsheet-386c05aeebed)\n",
    "- [Equation examples](https://jupyter-notebook.readthedocs.io/en/stable/examples/Notebook/Typesetting%20Equations.html)\n",
    "- [Symbols for equations](https://kapeli.com/cheat_sheets/LaTeX_Math_Symbols.docset/Contents/Resources/Documents/index)\n",
    "\n",
    "### Tips for visualizations in an R notebook:\n",
    "\n",
    "Select the kernel ```R``` in your notebook for R development. Control the size of R plots by putting ```options(repr.plot.width=x, repr.plot.height=y)``` in a cell somewhere before your plots, where x and y are your desired dimensions.\n",
    "\n",
    "- [Simple graphs in R](https://sites.harding.edu/fmccown/r/)\n",
    "- [Sophisticated graphs in R with ggplot](https://www.r-graph-gallery.com/)\n",
    "- [Interactive plots in R with plotly](https://plotly.com/r/)\n",
    "\n",
    "### Tips for visualizations in a Python Notebook:\n",
    "\n",
    "Select the kernel ```Python``` in your notebook for Python development. Put ```%matplotlib inline``` in a cell somewhere before your python plots so they show up in a Jupyter Notebook.\n",
    "\n",
    "- [Simple graphs in Python](https://matplotlib.org/tutorials/introductory/pyplot.html)"
   ]
  },
  {
   "cell_type": "code",
   "execution_count": 1,
   "metadata": {},
   "outputs": [
    {
     "data": {
      "image/png": "[encoded data removed]",
      "text/plain": [
       "<Figure size 432x288 with 1 Axes>"
      ]
     },
     "metadata": {
      "needs_background": "light"
     },
     "output_type": "display_data"
    }
   ],
   "source": [
    "# simple python plot\n",
    "\n",
    "%matplotlib inline\n",
    "import matplotlib.pyplot as plt\n",
    "\n",
    "plt.plot([1,2,3], [2,4,6], label=\"trend1\")\n",
    "plt.plot([1,2,3], [2,3,7], label=\"trend2\")\n",
    "plt.xlabel(\"x\")\n",
    "plt.ylabel(\"y\")\n",
    "plt.legend()\n",
    "plt.show()"
   ]
  },
  {
   "cell_type": "markdown",
   "metadata": {},
   "source": [
    "# Iron Cycling in Yellowstone Hot Springs\n",
    "\n",
    "By a GEOPIG Student\n",
    "\n",
    "### What is iron cycling?\n",
    "\n",
    "Some microorganisms cycle iron. This is great because there is a way to create *italicized* and **bold** text! Lorem ipsum dolor sit amet, consectetur adipiscing elit. Maecenas sodales magna sed erat condimentum, quis auctor nisl dictum [cool link](https://i.imgur.com/o6IX7IQ.jpg). Class aptent taciti sociosqu ad litora torquent per conubia nostra, per inceptos himenaeos. Nunc pharetra a tellus quis pulvinar. Sed tincidunt porta nibh, vitae cursus augue egestas et. Sed mollis dapibus nisl et lacinia."
   ]
  },
  {
   "cell_type": "markdown",
   "metadata": {},
   "source": [
    "<img src=\"https://www.syracuse.com/resizer/LYyUWMKB-nannv1SHFvUBrbyj9k=/450x0/smart/cloudfront-us-east-1.images.arcpublishing.com/advancelocal/3YEY56GZ5VG7PAFI32UNXXSMPA.jpg\" alt=\"Alt text that describes the graphic\" title=\"Title text\" />\n",
    "\n",
    "***"
   ]
  },
  {
   "cell_type": "markdown",
   "metadata": {},
   "source": [
    "### Iron oxidation rate measurements\n",
    "\n",
    "Lorem ipsum dolor sit amet, consectetur adipiscing elit. Maecenas sodales magna sed erat condimentum, quis auctor nisl dictum. Class aptent taciti sociosqu ad litora torquent per conubia nostra, per inceptos himenaeos. Nunc pharetra a tellus quis pulvinar. Sed tincidunt porta nibh, vitae cursus augue egestas et. Sed mollis dapibus nisl et lacinia."
   ]
  },
  {
   "cell_type": "markdown",
   "metadata": {},
   "source": [
    "<img src=\"img/nice_spring.jpg\" alt=\"Alt text that describes the graphic\" title=\"Title text\" />\n",
    "\n",
    "Above: A nice custom image."
   ]
  },
  {
   "cell_type": "markdown",
   "metadata": {},
   "source": [
    "Iron oxidation rates have been shown to follow the equation:\n",
    "\n",
    "$$ \\frac{-d[Fe^{2+}]}{dt} = 6 \\times 10^{-5}[Fe^{2+}]+1.7[FeOH^{+}]+4.3 \\times 10^{5}[FeOH_{2}] $$\n",
    "\n",
    "Source: [Morgan and Lahav, 2007](https://doi.org/10.1016/j.chemosphere.2007.02.015)"
   ]
  },
  {
   "cell_type": "markdown",
   "metadata": {},
   "source": [
    "***"
   ]
  },
  {
   "cell_type": "markdown",
   "metadata": {},
   "source": [
    "It is possible to model this equation in a Jupyter notebook."
   ]
  },
  {
   "cell_type": "code",
   "execution_count": 2,
   "metadata": {},
   "outputs": [],
   "source": [
    "# load packages\n",
    "\n",
    "import sympy as sym # for symbolic math\n",
    "import matplotlib.pyplot as plt # for plotting\n",
    "\n",
    "# allows python plots in a python notebook:\n",
    "%matplotlib inline "
   ]
  },
  {
   "cell_type": "code",
   "execution_count": 3,
   "metadata": {},
   "outputs": [
    {
     "data": {
      "text/plain": [
       "1.760000000043e-06"
      ]
     },
     "execution_count": 3,
     "metadata": {},
     "output_type": "execute_result"
    }
   ],
   "source": [
    "# using built-in algebra:\n",
    "\n",
    "fe2 = 1e-3\n",
    "feoh = 1e-6\n",
    "feoh2 = 1e-12\n",
    "\n",
    "(6e-5)*fe2 + 1.7*feoh + (4.3e-5)*feoh2"
   ]
  },
  {
   "cell_type": "markdown",
   "metadata": {},
   "source": [
    "Here's using symbolic math with the sympy package:"
   ]
  },
  {
   "cell_type": "code",
   "execution_count": 4,
   "metadata": {},
   "outputs": [
    {
     "data": {
      "text/latex": [
       "$\\displaystyle 1.7 FeOH + 4.3 \\cdot 10^{-5} FeOH_{2} + 6.0 \\cdot 10^{-5} Fe^{2+}$"
      ],
      "text/plain": [
       "1.7*FeOH + 4.3e-5*FeOH_2 + 6.0e-5*Fe^2+"
      ]
     },
     "execution_count": 4,
     "metadata": {},
     "output_type": "execute_result"
    }
   ],
   "source": [
    "# define symbols\n",
    "fe2_sym, feoh_sym, feoh2_sym = sym.symbols(\"Fe^2+ FeOH FeOH_2\")\n",
    "\n",
    "# define expression\n",
    "dfedt = (6e-5)*fe2_sym + 1.7*feoh_sym + (4.3e-5)*feoh2_sym\n",
    "\n",
    "# display expression\n",
    "dfedt"
   ]
  },
  {
   "cell_type": "code",
   "execution_count": 5,
   "metadata": {},
   "outputs": [
    {
     "data": {
      "text/latex": [
       "$\\displaystyle 1.760000000043 \\cdot 10^{-6}$"
      ],
      "text/plain": [
       "1.76000000004300e-6"
      ]
     },
     "execution_count": 5,
     "metadata": {},
     "output_type": "execute_result"
    }
   ],
   "source": [
    "# .subs({}) is useful for solving expressions numerically\n",
    "dfedt.subs({\"Fe^2+\":fe2, \"FeOH\":feoh, \"FeOH_2\":feoh2})"
   ]
  },
  {
   "cell_type": "code",
   "execution_count": 6,
   "metadata": {},
   "outputs": [
    {
     "data": {
      "text/plain": [
       "([1e-07, 1e-06, 1e-05, 0.0001, 0.001, 0.01, 0.1],\n",
       " [1.76000430000000e-6,\n",
       "  1.76004300000000e-6,\n",
       "  1.76043000000000e-6,\n",
       "  1.76430000000000e-6,\n",
       "  1.80300000000000e-6,\n",
       "  2.19000000000000e-6,\n",
       "  6.06000000000000e-6])"
      ]
     },
     "execution_count": 6,
     "metadata": {},
     "output_type": "execute_result"
    }
   ],
   "source": [
    "# python comprehension lists \n",
    "\n",
    "feoh2_vals = [1e-7, 1e-6, 1e-5, 1e-4, 1e-3, 1e-2, 1e-1] # molality of FeOH2\n",
    "rates = [dfedt.subs({\"FeOH_2\":val, \"Fe^2+\":fe2, \"FeOH\":feoh}) for val in feoh2_vals] # resulting rates\n",
    "\n",
    "feoh2_vals, rates"
   ]
  },
  {
   "cell_type": "code",
   "execution_count": 7,
   "metadata": {},
   "outputs": [
    {
     "data": {
      "image/png": "[encoded data removed]",
      "text/plain": [
       "<Figure size 432x288 with 1 Axes>"
      ]
     },
     "metadata": {
      "needs_background": "light"
     },
     "output_type": "display_data"
    }
   ],
   "source": [
    "# plot\n",
    "\n",
    "plt.plot(feoh2_vals, rates, label=\"rate\")\n",
    "plt.xlabel(\"[FeOH2]\")\n",
    "plt.ylabel(\"mol Fe(II)/(l min)\")\n",
    "plt.show()"
   ]
  },
  {
   "cell_type": "markdown",
   "metadata": {},
   "source": [
    "### Interpretation\n",
    "\n",
    "The plot above shows ... Lorem ipsum dolor sit amet, consectetur adipiscing elit. Maecenas sodales magna sed erat condimentum, quis auctor nisl dictum. Class aptent taciti sociosqu ad litora torquent per conubia nostra, per inceptos himenaeos. Nunc pharetra a tellus quis pulvinar. Sed tincidunt porta nibh, vitae cursus augue egestas et. Sed mollis dapibus nisl et lacinia."
   ]
  },
  {
   "cell_type": "code",
   "execution_count": null,
   "metadata": {},
   "outputs": [],
   "source": []
  }
 ],
 "metadata": {
  "kernelspec": {
   "display_name": "Python 3",
   "language": "python",
   "name": "python3"
  },
  "language_info": {
   "codemirror_mode": {
    "name": "ipython",
    "version": 3
   },
   "file_extension": ".py",
   "mimetype": "text/x-python",
   "name": "python",
   "nbconvert_exporter": "python",
   "pygments_lexer": "ipython3",
   "version": "3.9.1"
  }
 },
 "nbformat": 4,
 "nbformat_minor": 4
}
