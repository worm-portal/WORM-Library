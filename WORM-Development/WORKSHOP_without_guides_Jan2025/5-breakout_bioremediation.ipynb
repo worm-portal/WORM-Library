{
 "cells": [
  {
   "cell_type": "markdown",
   "id": "6e0478e8-8601-4e68-953a-2038d980cb46",
   "metadata": {},
   "source": [
    "<left>\n",
    "<table style=\"margin-top:0px; margin-left:0px;\">\n",
    "<tr>\n",
    "  <td><img src=\"https://raw.githubusercontent.com/worm-portal/WORM-Figures/master/style/worm.png\" alt=\"WORM\" title=\"WORM\" width=50/></td>\n",
    "  <td><h1 style=font-size:30px>Acid Mine Drainage Bioremediation</h1><h2>Breakout Session Activity</h2></td>\n",
    "</tr>\n",
    "</table>\n",
    "</left>\n",
    "\n",
    "<td><img src=\"https://i0.wp.com/undergroundminers.com/wp-content/uploads/2022/08/DSC01156-1.jpg?resize=1200%2C900&ssl=1\" alt=\"Coalbrook Mine\" title=\"Coalbrook Mine\" width=50%/></td>\n",
    "\n",
    "*Coalbrook coal mine, Pennsylvania, USA in the early 20th century. Historic photo from the Underground Mining Archive.*\n",
    "\n",
    "A consequence of mining activities is the exposure of metal sulfide minerals (like pyrite) to air and water. This provides an opportunity for acidophilic (\"acid-loving\") microbes to oxidize exposed sulfide minerals into sulfuric acid. Metals that were previously trapped in rocks become mobile in the resulting acidic runoff. Acidic water and high concentrations of toxic metals is harmful to the environment and aquatic habitats in particular. Mines can continue to generate polluted water long long after they have been abandoned, as is the case with Coalbrook coal mine in Pennsylvania, USA (pictured above).\n",
    "\n",
    "One strategy to combat pollution from acid mine drainage (AMD) is to stimulate the metabolisms of sulfate reducers present in the system. Because microbes are involved in this remediation strategy, it is called \"bioremediation\". Sulfate reducers remove sulfate and harmful dissolved metals from the water by precipitating them back into metal sulfide minerals. Organic molecules can serve as electron donors. For example, acetic acid, $\\text{CH}_3\\text{COOH}_{(aq)}$, can be added to AMD to promote this reaction:\n",
    "\n",
    "$$\\text{SO}_4^{2-} + \\text{CH}_3\\text{COOH}_{(aq)} + \\text{Zn}^{2+} = 2\\text{CO}_{2(aq)} + \\text{ZnS}_{(cr)} + 2\\text{H}_2\\text{O}$$\n",
    "\n",
    "We can use the mineral sphalerite to represent ZnS.\n",
    "\n",
    "---\n",
    "\n",
    "### Activity: bioremediation\n",
    "\n",
    "You are given the task of remediating AMD from the abandoned Coalbrook Mine. Water chemistry data for this sample are found in the CSV file `AMD_aceticacid.csv`. There are 13 rows in the CSV file. All rows are duplicates except for the \"acetic-acid\" column. Input concentrations of acetic acid range from 1E-10 to 1E-3 molal.\n",
    "\n",
    "1) Calculate energy supplied by the bioremediation reaction in Coalbrook mine AMD at varying concentrations of acetic acid. How can the results inform which concentrations of acetic acid to aim for when remediating the AMD?\n",
    "\n",
    "2) A doctoral dissertation study by Zdyb (1999) found that using lactic acid as a carbon source was more efficient than acetate for remediating AMD (see review by [Anekwe & Isa, 2023](https://doi.org/10.1016/j.aej.2022.09.053)). Calculate energy supply when lactic acid is used to remediate Coalbrook AMD instead of acetic acid. Assume lactic acid is being oxidized to $\\text{CO}_2$ to reduce sulfate to sphalerite."
   ]
  },
  {
   "cell_type": "code",
   "execution_count": null,
   "id": "d7faa9fb-3429-4c21-98e5-aba582d9fa06",
   "metadata": {},
   "outputs": [],
   "source": [
    "import AqEquil"
   ]
  },
  {
   "cell_type": "code",
   "execution_count": null,
   "id": "5571838d-ce31-43bd-9a68-d99f1a2232c6",
   "metadata": {},
   "outputs": [],
   "source": [
    "ae = AqEquil.AqEquil(exclude_organics_except=[\"acetate\"])"
   ]
  },
  {
   "cell_type": "code",
   "execution_count": null,
   "id": "a5e0dc5f-195b-4dcd-9872-f3c9d7844281",
   "metadata": {},
   "outputs": [],
   "source": [
    "speciation = ae.speciate(input_filename=\"AMD_aceticacid.csv\",\n",
    "                         redox_flag=\"Eh\")"
   ]
  },
  {
   "cell_type": "code",
   "execution_count": null,
   "id": "60a2ef50-966b-4184-9abc-3639eeaa5d31",
   "metadata": {},
   "outputs": [],
   "source": [
    "speciation.save(\"Coalbrook_AMD_aceticacid\")"
   ]
  },
  {
   "cell_type": "markdown",
   "id": "1121e400-918e-4e4f-a352-9a8ab6b6b216",
   "metadata": {},
   "source": [
    "### The notebook can be restarted from here if necessary"
   ]
  },
  {
   "cell_type": "code",
   "execution_count": null,
   "id": "79e996d2-3272-462e-92de-8a51c81a5f23",
   "metadata": {},
   "outputs": [],
   "source": [
    "import AqEquil\n",
    "ae = AqEquil.AqEquil(exclude_organics_except=[\"acetate\"])\n",
    "speciation = AqEquil.load(\"Coalbrook_AMD_aceticacid.speciation\")"
   ]
  },
  {
   "cell_type": "code",
   "execution_count": null,
   "id": "60ed57e9-c846-4467-8772-fd5e48d2fade",
   "metadata": {},
   "outputs": [],
   "source": [
    "speciation.calculate_energy(\n",
    "        y_type=\"\",\n",
    "        y_units=\"\",\n",
    "        species = [],\n",
    "        stoich = [],\n",
    "        rxn_name=\"\",\n",
    "        )"
   ]
  },
  {
   "cell_type": "code",
   "execution_count": null,
   "id": "887bba21-467d-46e0-adf8-7f855ade8ada",
   "metadata": {},
   "outputs": [],
   "source": [
    "speciation.scatterplot(x=\"\",\n",
    "                       y=\"\",\n",
    "                       lineplot=True,\n",
    "                       log_x=True,\n",
    "                       rxns_as_labels=False,\n",
    "                       plot_width=5)"
   ]
  },
  {
   "cell_type": "markdown",
   "id": "5a58eaf2-cd56-4804-9033-0e4427e3f91e",
   "metadata": {},
   "source": [
    "### Data sources:\n",
    "\n",
    "Water chemistry data for Coalbrook mine AMD come from [Cravotta III (2008)](https://doi.org/10.1016/j.apgeochem.2007.10.011)."
   ]
  },
  {
   "cell_type": "markdown",
   "id": "d0971cbe-ff3b-4562-8eed-fb3fabf3ca12",
   "metadata": {},
   "source": [
    "End of demo."
   ]
  }
 ],
 "metadata": {
  "kernelspec": {
   "display_name": "Python 3",
   "language": "python",
   "name": "python3"
  },
  "language_info": {
   "codemirror_mode": {
    "name": "ipython",
    "version": 3
   },
   "file_extension": ".py",
   "mimetype": "text/x-python",
   "name": "python",
   "nbconvert_exporter": "python",
   "pygments_lexer": "ipython3",
   "version": "3.10.12"
  }
 },
 "nbformat": 4,
 "nbformat_minor": 5
}
