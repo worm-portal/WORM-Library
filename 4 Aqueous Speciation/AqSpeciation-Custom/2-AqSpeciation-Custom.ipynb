{
 "cells": [
  {
   "cell_type": "markdown",
   "metadata": {},
   "source": [
    "# Aqueous Speciation with a Custom Database"
   ]
  },
  {
   "cell_type": "markdown",
   "metadata": {},
   "source": [
    "### User options"
   ]
  },
  {
   "cell_type": "code",
   "execution_count": 1,
   "metadata": {},
   "outputs": [],
   "source": [
    "# User options -----------------------------------------------------------------\n",
    "\n",
    "# input\n",
    "input_filename <- \"input_example_redox.csv\" # name of input file\n",
    "db <- \"wfs\"         # which thermo database to use? Default is 'jus'.\n",
    "\n",
    "# redox options:\n",
    "redox_flag  <-  0     # -3, -2, -1, 0, or 1 (see EQ3 documentation for more info)\n",
    "redox_aux <- \"Fe+3\"   # ignored unless redox_flag is 1. Input species, e.g. \"Fe+3\"\n",
    "default_logfO2 <- -6  # what is the default logfO2 if a redox value can't be found?\n",
    "\n",
    "# aqueous block options\n",
    "exclude <- c(\"Year\", \"Area\")  # which columns in input file to exclude from aqueous block?\n",
    "suppress <- c()  # which species to suppress in aqueous block?\n",
    "\n",
    "# charge balance options\n",
    "charge_balance_on <- \"none\"  # \"none\" for no charge balance. Otherwise, \"H+\" or \"Na+\", etc.\n",
    "\n",
    "# EQ3_Batch options\n",
    "suppress_missing <- TRUE         # suppress the formation of an aqueous species if it is missing a value in the input file?\n",
    "verbose <- 1                     # 2 for all messages, 1 for errors or warnings only, 0 for silent\n",
    "create_join <- TRUE              # join all forms of output together into one csv?\n",
    "report_filename <- \"report.csv\"  # filename of output report, e.g. \"report.csv\"\n",
    "csv_filename <- \"input_processed.csv\" # filename of input summary?\n",
    "\n",
    "# aqueous distributions and contributions\n",
    "get_aq_dist  <- TRUE            # extract aqueous distributions after EQ3 output files are generated?\n",
    "aq_dist_type <- \"log_activity\"  # can be \"molality\", \"log_molality\", \"log_gamma\", or \"log_activity\"\n",
    "get_aq_contrib  <- TRUE        # extract aqueous contributions after EQ3 output files are generated?\n",
    "aq_contrib_other <- TRUE       # include an \"other\" species for the sake of summing percents to 100?\n",
    "\n",
    "# mineral saturation\n",
    "get_mineral_sat <- TRUE         # extract mineral saturation affinities after EQ3 output files are generated?\n",
    "mineral_sat_type <- \"affinity\"  # can be \"logQoverK\" or \"affinity\"\n",
    "\n",
    "# redox\n",
    "get_redox <- TRUE   # extract redox information after EQ3 output files are generated?\n",
    "redox_type <- \"Eh\"  # Can be \"Eh\", \"pe\", \"logfO2\", or \"Ah\"\n",
    "\n",
    "# affinity and energy supply\n",
    "get_affinity_energy <- TRUE           # calculate reaction affinities and energy supplies after EQ3 output files are generated?\n",
    "rxn_filename <- \"rxns.txt\"            # file containing reactions of interest for affinity and energy supply calculations\n",
    "not_limiting <- c(\"H+\", \"OH-\", \"H2O\") # which species should not be considered limiting reactants?\n",
    "\n",
    "# charge balance\n",
    "get_charge_balance <- TRUE  # extract charge balance information after EQ3 output files are generated? Mines ionic strength and charge balance results.\n",
    "\n",
    "# database options\n",
    "custom_db <- TRUE  # supplying a custom data0 file? TRUE or FALSE. Custom 3 letter code should be assigned to variable db, above.\n",
    "batch_3o_filename <- paste0(\"batch_3o_\", db, \".rds\")  # name of file where batch_3o object will be saved. Must have an .rds extension."
   ]
  },
  {
   "cell_type": "markdown",
   "metadata": {},
   "source": [
    "# Create EQ3 input files"
   ]
  },
  {
   "cell_type": "code",
   "execution_count": 2,
   "metadata": {},
   "outputs": [
    {
     "name": "stdout",
     "output_type": "stream",
     "text": [
      "[1] \"Warning: no 'logfO2' column found. Attempting to find a column for aqueous O2 to estimate logfO2 at sample temperature and pressure...\"\n",
      "[1] \"Warning: non-numeric aqueous O2 value in sample Crater Hills Geyser. Resorting to using Log fO2 (log bars) with a value of -6\"\n",
      "[1] \"Done! Took 0.4 seconds.\"\n",
      "[1] \"Code was last updated on August 24, 2020\"\n"
     ]
    }
   ],
   "source": [
    "source(\"/home/shock/repos/batch_eq3/preprocess_for_EQ3.r\")"
   ]
  },
  {
   "cell_type": "markdown",
   "metadata": {},
   "source": [
    "# Run EQ3"
   ]
  },
  {
   "cell_type": "code",
   "execution_count": 3,
   "metadata": {},
   "outputs": [
    {
     "name": "stderr",
     "output_type": "stream",
     "text": [
      "Running EQPT on data0.wfs...\n",
      "\n",
      "Calling EQPT using wfs\n",
      "\n",
      "calling EQ3 on Crater.Hills.Geyser.3i using wfs\n",
      "\n",
      "calling EQ3 on Gas.Crack.3i using wfs\n",
      "\n",
      "calling EQ3 on Spray.Geyser.Source.3i using wfs\n",
      "\n",
      "calling EQ3 on Bison.Pool.3i using wfs\n",
      "\n",
      "calling EQ3 on Snail.3i using wfs\n",
      "\n",
      "calling EQ3 on Ambergris.3i using wfs\n",
      "\n",
      "calling EQ3 on MLS.Source.3i using wfs\n",
      "\n"
     ]
    },
    {
     "name": "stdout",
     "output_type": "stream",
     "text": [
      "[1] \"runEQ3Batch finished! Took 1.6 seconds.\"\n"
     ]
    }
   ],
   "source": [
    "source(\"/home/shock/repos/batch_eq3/runEQ3Batch.r\")"
   ]
  },
  {
   "cell_type": "code",
   "execution_count": 4,
   "metadata": {},
   "outputs": [
    {
     "name": "stdout",
     "output_type": "stream",
     "text": [
      "[1] \"Now processing EQ3 output files...\"\n"
     ]
    },
    {
     "name": "stderr",
     "output_type": "stream",
     "text": [
      "Processing EQ3 output for Ambergris\n",
      "\n",
      "Processing EQ3 output for Bison Pool\n",
      "\n",
      "Processing EQ3 output for Crater Hills Geyser\n",
      "\n",
      "Processing EQ3 output for Gas Crack\n",
      "\n",
      "Processing EQ3 output for MLS Source\n",
      "\n",
      "Processing EQ3 output for Snail\n",
      "\n",
      "Processing EQ3 output for Spray Geyser Source\n",
      "\n"
     ]
    },
    {
     "name": "stdout",
     "output_type": "stream",
     "text": [
      "[1] \"Finished processing EQ3 output files...\"\n",
      "[1] \"Now processing aqueous contribution data...\"\n"
     ]
    },
    {
     "name": "stderr",
     "output_type": "stream",
     "text": [
      "Processing aqueous contribution of Ambergris...\n",
      "\n",
      "Processing aqueous contribution of Bison Pool...\n",
      "\n",
      "Processing aqueous contribution of Crater Hills Geyser...\n",
      "\n",
      "Processing aqueous contribution of Gas Crack...\n",
      "\n",
      "Processing aqueous contribution of MLS Source...\n",
      "\n",
      "Processing aqueous contribution of Snail...\n",
      "\n",
      "Processing aqueous contribution of Spray Geyser Source...\n",
      "\n"
     ]
    },
    {
     "name": "stdout",
     "output_type": "stream",
     "text": [
      "[1] \"Finished processing aqueous contribution data...\"\n",
      "Time difference of 0.03752232 secs\n",
      "[1] \"Finished mining .3o files. Time elapsed: 0.829372406005859\"\n"
     ]
    }
   ],
   "source": [
    "source(\"/home/shock/repos/batch_eq3/3o_mine.r\")"
   ]
  },
  {
   "cell_type": "code",
   "execution_count": 5,
   "metadata": {},
   "outputs": [
    {
     "data": {
      "text/html": [
       "<table>\n",
       "<thead><tr><th></th><th scope=col>Year_NA</th><th scope=col>Area_</th><th scope=col>H+_pH</th><th scope=col>Temperature_degC</th><th scope=col>O2_Molality</th><th scope=col>HS-_Molality</th><th scope=col>SO4-2_Molality</th><th scope=col>Fe+2_Molality</th><th scope=col>rho</th><th scope=col>redox_flag</th><th scope=col>...</th><th scope=col>r_5_affinity</th><th scope=col>r_6_affinity</th><th scope=col>r_7_affinity</th><th scope=col>r_1_energy</th><th scope=col>r_2_energy</th><th scope=col>r_3_energy</th><th scope=col>r_4_energy</th><th scope=col>r_5_energy</th><th scope=col>r_6_energy</th><th scope=col>r_7_energy</th></tr></thead>\n",
       "<tbody>\n",
       "\t<tr><th scope=row>Bison Pool</th><td>2014       </td><td>YNP        </td><td> 7.640     </td><td>92.2       </td><td>9.38e-06   </td><td>3.49e-06   </td><td>0.000153000</td><td>1.07e-06   </td><td>0.9638569  </td><td>0          </td><td>...        </td><td>NA         </td><td>NA         </td><td>NA         </td><td>NA         </td><td>NA         </td><td>NA         </td><td>NA         </td><td>NA         </td><td>NA         </td><td>NA         </td></tr>\n",
       "\t<tr><th scope=row>Spray Geyser Source</th><td>2012       </td><td>YNP        </td><td> 8.021     </td><td>92.9       </td><td>3.13e-06   </td><td>3.62e-06   </td><td>0.000182000</td><td>0.00e+00   </td><td>0.9633782  </td><td>0          </td><td>...        </td><td>NA         </td><td>NA         </td><td>NA         </td><td>NA         </td><td>NA         </td><td>NA         </td><td>NA         </td><td>NA         </td><td>NA         </td><td>NA         </td></tr>\n",
       "\t<tr><th scope=row>Crater Hills Geyser</th><td>2012       </td><td>YNP        </td><td> 3.327     </td><td>89.0       </td><td>0.00e+00   </td><td>1.74e-05   </td><td>0.005370000</td><td>1.00e-05   </td><td>0.9660154  </td><td>0          </td><td>...        </td><td>NA         </td><td>NA         </td><td>NA         </td><td>NA         </td><td>NA         </td><td>NA         </td><td>NA         </td><td>NA         </td><td>NA         </td><td>NA         </td></tr>\n",
       "\t<tr><th scope=row>Ambergris</th><td>2011       </td><td>Iceland    </td><td> 8.452     </td><td>81.5       </td><td>5.31e-05   </td><td>3.01e-05   </td><td>0.000596000</td><td>3.62e-08   </td><td>0.9708785  </td><td>0          </td><td>...        </td><td>NA         </td><td>NA         </td><td>NA         </td><td>NA         </td><td>NA         </td><td>NA         </td><td>NA         </td><td>NA         </td><td>NA         </td><td>NA         </td></tr>\n",
       "\t<tr><th scope=row>MLS Source</th><td>2007       </td><td>YNP        </td><td> 7.850     </td><td>94.0       </td><td>7.19e-06   </td><td>1.78e-06   </td><td>0.000372645</td><td>1.39e-07   </td><td>0.9626212  </td><td>0          </td><td>...        </td><td>NA         </td><td>NA         </td><td>NA         </td><td>NA         </td><td>NA         </td><td>NA         </td><td>NA         </td><td>NA         </td><td>NA         </td><td>NA         </td></tr>\n",
       "\t<tr><th scope=row>Gas Crack</th><td>2014       </td><td>Oman       </td><td>11.670     </td><td>32.2       </td><td>3.44e-05   </td><td>6.24e-06   </td><td>0.000002600</td><td>1.38e-08   </td><td>0.9949648  </td><td>0          </td><td>...        </td><td>NA         </td><td>NA         </td><td>NA         </td><td>NA         </td><td>NA         </td><td>NA         </td><td>NA         </td><td>NA         </td><td>NA         </td><td>NA         </td></tr>\n",
       "</tbody>\n",
       "</table>\n"
      ],
      "text/latex": [
       "\\begin{tabular}{r|lllllllllllllllllllllllllllllllllllllllllllllllllllllll}\n",
       "  & Year\\_NA & Area\\_ & H+\\_pH & Temperature\\_degC & O2\\_Molality & HS-\\_Molality & SO4-2\\_Molality & Fe+2\\_Molality & rho & redox\\_flag & ... & r\\_5\\_affinity & r\\_6\\_affinity & r\\_7\\_affinity & r\\_1\\_energy & r\\_2\\_energy & r\\_3\\_energy & r\\_4\\_energy & r\\_5\\_energy & r\\_6\\_energy & r\\_7\\_energy\\\\\n",
       "\\hline\n",
       "\tBison Pool & 2014        & YNP         &  7.640      & 92.2        & 9.38e-06    & 3.49e-06    & 0.000153000 & 1.07e-06    & 0.9638569   & 0           & ...         & NA          & NA          & NA          & NA          & NA          & NA          & NA          & NA          & NA          & NA         \\\\\n",
       "\tSpray Geyser Source & 2012        & YNP         &  8.021      & 92.9        & 3.13e-06    & 3.62e-06    & 0.000182000 & 0.00e+00    & 0.9633782   & 0           & ...         & NA          & NA          & NA          & NA          & NA          & NA          & NA          & NA          & NA          & NA         \\\\\n",
       "\tCrater Hills Geyser & 2012        & YNP         &  3.327      & 89.0        & 0.00e+00    & 1.74e-05    & 0.005370000 & 1.00e-05    & 0.9660154   & 0           & ...         & NA          & NA          & NA          & NA          & NA          & NA          & NA          & NA          & NA          & NA         \\\\\n",
       "\tAmbergris & 2011        & Iceland     &  8.452      & 81.5        & 5.31e-05    & 3.01e-05    & 0.000596000 & 3.62e-08    & 0.9708785   & 0           & ...         & NA          & NA          & NA          & NA          & NA          & NA          & NA          & NA          & NA          & NA         \\\\\n",
       "\tMLS Source & 2007        & YNP         &  7.850      & 94.0        & 7.19e-06    & 1.78e-06    & 0.000372645 & 1.39e-07    & 0.9626212   & 0           & ...         & NA          & NA          & NA          & NA          & NA          & NA          & NA          & NA          & NA          & NA         \\\\\n",
       "\tGas Crack & 2014        & Oman        & 11.670      & 32.2        & 3.44e-05    & 6.24e-06    & 0.000002600 & 1.38e-08    & 0.9949648   & 0           & ...         & NA          & NA          & NA          & NA          & NA          & NA          & NA          & NA          & NA          & NA         \\\\\n",
       "\\end{tabular}\n"
      ],
      "text/markdown": [
       "\n",
       "| <!--/--> | Year_NA | Area_ | H+_pH | Temperature_degC | O2_Molality | HS-_Molality | SO4-2_Molality | Fe+2_Molality | rho | redox_flag | ... | r_5_affinity | r_6_affinity | r_7_affinity | r_1_energy | r_2_energy | r_3_energy | r_4_energy | r_5_energy | r_6_energy | r_7_energy |\n",
       "|---|---|---|---|---|---|---|---|---|---|---|---|---|---|---|---|---|---|---|---|---|---|\n",
       "| Bison Pool | 2014        | YNP         |  7.640      | 92.2        | 9.38e-06    | 3.49e-06    | 0.000153000 | 1.07e-06    | 0.9638569   | 0           | ...         | NA          | NA          | NA          | NA          | NA          | NA          | NA          | NA          | NA          | NA          |\n",
       "| Spray Geyser Source | 2012        | YNP         |  8.021      | 92.9        | 3.13e-06    | 3.62e-06    | 0.000182000 | 0.00e+00    | 0.9633782   | 0           | ...         | NA          | NA          | NA          | NA          | NA          | NA          | NA          | NA          | NA          | NA          |\n",
       "| Crater Hills Geyser | 2012        | YNP         |  3.327      | 89.0        | 0.00e+00    | 1.74e-05    | 0.005370000 | 1.00e-05    | 0.9660154   | 0           | ...         | NA          | NA          | NA          | NA          | NA          | NA          | NA          | NA          | NA          | NA          |\n",
       "| Ambergris | 2011        | Iceland     |  8.452      | 81.5        | 5.31e-05    | 3.01e-05    | 0.000596000 | 3.62e-08    | 0.9708785   | 0           | ...         | NA          | NA          | NA          | NA          | NA          | NA          | NA          | NA          | NA          | NA          |\n",
       "| MLS Source | 2007        | YNP         |  7.850      | 94.0        | 7.19e-06    | 1.78e-06    | 0.000372645 | 1.39e-07    | 0.9626212   | 0           | ...         | NA          | NA          | NA          | NA          | NA          | NA          | NA          | NA          | NA          | NA          |\n",
       "| Gas Crack | 2014        | Oman        | 11.670      | 32.2        | 3.44e-05    | 6.24e-06    | 0.000002600 | 1.38e-08    | 0.9949648   | 0           | ...         | NA          | NA          | NA          | NA          | NA          | NA          | NA          | NA          | NA          | NA          |\n",
       "\n"
      ],
      "text/plain": [
       "                    Year_NA Area_   H+_pH  Temperature_degC O2_Molality\n",
       "Bison Pool          2014    YNP      7.640 92.2             9.38e-06   \n",
       "Spray Geyser Source 2012    YNP      8.021 92.9             3.13e-06   \n",
       "Crater Hills Geyser 2012    YNP      3.327 89.0             0.00e+00   \n",
       "Ambergris           2011    Iceland  8.452 81.5             5.31e-05   \n",
       "MLS Source          2007    YNP      7.850 94.0             7.19e-06   \n",
       "Gas Crack           2014    Oman    11.670 32.2             3.44e-05   \n",
       "                    HS-_Molality SO4-2_Molality Fe+2_Molality rho      \n",
       "Bison Pool          3.49e-06     0.000153000    1.07e-06      0.9638569\n",
       "Spray Geyser Source 3.62e-06     0.000182000    0.00e+00      0.9633782\n",
       "Crater Hills Geyser 1.74e-05     0.005370000    1.00e-05      0.9660154\n",
       "Ambergris           3.01e-05     0.000596000    3.62e-08      0.9708785\n",
       "MLS Source          1.78e-06     0.000372645    1.39e-07      0.9626212\n",
       "Gas Crack           6.24e-06     0.000002600    1.38e-08      0.9949648\n",
       "                    redox_flag ... r_5_affinity r_6_affinity r_7_affinity\n",
       "Bison Pool          0          ... NA           NA           NA          \n",
       "Spray Geyser Source 0          ... NA           NA           NA          \n",
       "Crater Hills Geyser 0          ... NA           NA           NA          \n",
       "Ambergris           0          ... NA           NA           NA          \n",
       "MLS Source          0          ... NA           NA           NA          \n",
       "Gas Crack           0          ... NA           NA           NA          \n",
       "                    r_1_energy r_2_energy r_3_energy r_4_energy r_5_energy\n",
       "Bison Pool          NA         NA         NA         NA         NA        \n",
       "Spray Geyser Source NA         NA         NA         NA         NA        \n",
       "Crater Hills Geyser NA         NA         NA         NA         NA        \n",
       "Ambergris           NA         NA         NA         NA         NA        \n",
       "MLS Source          NA         NA         NA         NA         NA        \n",
       "Gas Crack           NA         NA         NA         NA         NA        \n",
       "                    r_6_energy r_7_energy\n",
       "Bison Pool          NA         NA        \n",
       "Spray Geyser Source NA         NA        \n",
       "Crater Hills Geyser NA         NA        \n",
       "Ambergris           NA         NA        \n",
       "MLS Source          NA         NA        \n",
       "Gas Crack           NA         NA        "
      ]
     },
     "metadata": {},
     "output_type": "display_data"
    }
   ],
   "source": [
    "# read the first few lines of the report\n",
    "head(batch_3o[[\"report\"]])"
   ]
  },
  {
   "cell_type": "markdown",
   "metadata": {},
   "source": [
    "# Demonstration of new features"
   ]
  },
  {
   "cell_type": "markdown",
   "metadata": {},
   "source": [
    "### Load a previous batch_3o dataset"
   ]
  },
  {
   "cell_type": "code",
   "execution_count": 6,
   "metadata": {},
   "outputs": [
    {
     "data": {
      "text/html": [
       "<ol class=list-inline>\n",
       "\t<li>'sample_data'</li>\n",
       "\t<li>'aq_contrib'</li>\n",
       "\t<li>'report'</li>\n",
       "\t<li>'input'</li>\n",
       "\t<li>'input_processed'</li>\n",
       "</ol>\n"
      ],
      "text/latex": [
       "\\begin{enumerate*}\n",
       "\\item 'sample\\_data'\n",
       "\\item 'aq\\_contrib'\n",
       "\\item 'report'\n",
       "\\item 'input'\n",
       "\\item 'input\\_processed'\n",
       "\\end{enumerate*}\n"
      ],
      "text/markdown": [
       "1. 'sample_data'\n",
       "2. 'aq_contrib'\n",
       "3. 'report'\n",
       "4. 'input'\n",
       "5. 'input_processed'\n",
       "\n",
       "\n"
      ],
      "text/plain": [
       "[1] \"sample_data\"     \"aq_contrib\"      \"report\"          \"input\"          \n",
       "[5] \"input_processed\""
      ]
     },
     "metadata": {},
     "output_type": "display_data"
    }
   ],
   "source": [
    "batch_3o <- readRDS(file=batch_3o_filename)\n",
    "names(batch_3o)"
   ]
  },
  {
   "cell_type": "markdown",
   "metadata": {},
   "source": [
    "### Plot Demo\n",
    "\n",
    "Create a speciation barplot for bicarbonate"
   ]
  },
  {
   "cell_type": "code",
   "execution_count": 7,
   "metadata": {},
   "outputs": [],
   "source": [
    "library(dplyr)\n",
    "\n",
    "set.seed(23151813) # set a random seed\n",
    "\n",
    "this_basis <- \"Fe+2\"\n",
    "df_spec <- batch_3o[[\"aq_contrib\"]] %>%\n",
    "    filter(basis==this_basis)\n",
    "\n",
    "df_spec[, \"molality\"] <- as.numeric(df_spec[, \"molality\"])\n",
    "df_spec[, \"percent\"] <- as.numeric(df_spec[, \"percent\"])\n",
    "\n",
    "# head(df_spec)"
   ]
  },
  {
   "cell_type": "code",
   "execution_count": 8,
   "metadata": {},
   "outputs": [
    {
     "name": "stderr",
     "output_type": "stream",
     "text": [
      "Registered S3 methods overwritten by 'ggplot2':\n",
      "  method         from \n",
      "  [.quosures     rlang\n",
      "  c.quosures     rlang\n",
      "  print.quosures rlang\n",
      "\n"
     ]
    },
    {
     "data": {
      "image/png": "[encoded data removed]",
      "text/plain": [
       "plot without title"
      ]
     },
     "metadata": {
      "image/png": {
       "height": 180,
       "width": 300
      }
     },
     "output_type": "display_data"
    }
   ],
   "source": [
    "library(ggplot2)\n",
    "\n",
    "# plot resizing options\n",
    "options(repr.plot.width=5, repr.plot.height=3)\n",
    "\n",
    "# create ggplot\n",
    "g <- ggplot(df_spec, aes(fill=species, y=percent, x=sample)) + \n",
    "    geom_bar(stat=\"identity\") +\n",
    "    ylab(\"%\") +\n",
    "    ggtitle(paste(\"Species Accounting for Mass Balance of\", this_basis)) +\n",
    "    theme(axis.line=element_line(colour = \"black\", size=0.25, linetype = \"solid\"),\n",
    "          axis.text.x=element_text(angle=45, vjust=1, hjust=1),\n",
    "          axis.title.x=element_blank(),\n",
    "          panel.grid.major=element_blank(), panel.grid.minor=element_blank(),\n",
    "          panel.background = element_blank(),\n",
    "          legend.key=element_rect(fill=NA, color=NA),\n",
    "          legend.title=element_blank(),\n",
    "          plot.title = element_text(size=9, hjust=0.5)) +\n",
    "    guides(color=guide_legend(override.aes=list(fill=NA)))\n",
    "\n",
    "print(g)"
   ]
  },
  {
   "cell_type": "code",
   "execution_count": 9,
   "metadata": {},
   "outputs": [],
   "source": [
    "# # interactive plot\n",
    "# library(plotly)\n",
    "# ggplotly(g, height=300, width=500)"
   ]
  },
  {
   "cell_type": "code",
   "execution_count": 10,
   "metadata": {},
   "outputs": [
    {
     "data": {
      "text/plain": [
       "R version 3.6.1 (2019-07-05)\n",
       "Platform: x86_64-conda_cos6-linux-gnu (64-bit)\n",
       "Running under: Ubuntu 20.04.1 LTS\n",
       "\n",
       "Matrix products: default\n",
       "BLAS/LAPACK: /opt/conda/envs/R/lib/R/lib/libRblas.so\n",
       "\n",
       "locale:\n",
       "[1] C.UTF-8\n",
       "\n",
       "attached base packages:\n",
       "[1] stats     graphics  grDevices utils     datasets  methods   base     \n",
       "\n",
       "other attached packages:\n",
       "[1] ggplot2_3.1.1   reticulate_1.12 dplyr_0.8.0.1   CHNOSZ_1.4.0   \n",
       "\n",
       "loaded via a namespace (and not attached):\n",
       " [1] Rcpp_1.0.1       magrittr_1.5     munsell_0.5.0    tidyselect_0.2.5\n",
       " [5] uuid_0.1-2       colorspace_1.4-1 lattice_0.20-38  R6_2.4.0        \n",
       " [9] rlang_0.3.4      plyr_1.8.4       tools_3.6.1      grid_3.6.1      \n",
       "[13] gtable_0.3.0     withr_2.1.2      htmltools_0.3.6  lazyeval_0.2.2  \n",
       "[17] digest_0.6.18    assertthat_0.2.1 tibble_2.1.1     crayon_1.3.4    \n",
       "[21] Matrix_1.2-17    IRdisplay_0.7.0  purrr_0.3.2      repr_0.19.2     \n",
       "[25] base64enc_0.1-3  IRkernel_1.1.1   glue_1.3.1       evaluate_0.13   \n",
       "[29] labeling_0.3     pbdZMQ_0.3-3     compiler_3.6.1   pillar_1.3.1    \n",
       "[33] scales_1.0.0     jsonlite_1.6     pkgconfig_2.0.2 "
      ]
     },
     "metadata": {},
     "output_type": "display_data"
    }
   ],
   "source": [
    "sessionInfo()"
   ]
  },
  {
   "cell_type": "code",
   "execution_count": null,
   "metadata": {},
   "outputs": [],
   "source": []
  }
 ],
 "metadata": {
  "kernelspec": {
   "display_name": "R",
   "language": "R",
   "name": "ir"
  },
  "language_info": {
   "codemirror_mode": "r",
   "file_extension": ".r",
   "mimetype": "text/x-r-source",
   "name": "R",
   "pygments_lexer": "r",
   "version": "3.6.1"
  }
 },
 "nbformat": 4,
 "nbformat_minor": 4
}
