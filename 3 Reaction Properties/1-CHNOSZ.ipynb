{
 "cells": [
  {
   "cell_type": "markdown",
   "metadata": {
    "colab_type": "text",
    "id": "fiCAjMnEZtoa"
   },
   "source": [
    "## Introduction to Jupyter Notebooks and R\n",
    "\n",
    "Grayson Boyer, January 11, 2021"
   ]
  },
  {
   "cell_type": "markdown",
   "metadata": {
    "colab_type": "text",
    "id": "SCL7JayZZtob"
   },
   "source": [
    "The kernel should be set to \"R\" for this tutorial."
   ]
  },
  {
   "cell_type": "markdown",
   "metadata": {
    "colab_type": "text",
    "id": "w4a8QIA3Ztod"
   },
   "source": [
    "Terms:\n",
    "\n",
    "- **Jupyter Notebook:** a shareable document that may contain blocks of code, equations, text, and visualizations.\n",
    "- **Jupyter Hub:** An online service for working with Jupyter notebooks. This instance of Jupyter Hub is called the Water Organic Rock Microbe (WORM) Portal.\n",
    "- **R:** a programming language.\n",
    "- **CHNOSZ:** a package (add-on) for R that supports thermodynamic calculations."
   ]
  },
  {
   "cell_type": "markdown",
   "metadata": {
    "colab_type": "text",
    "id": "5YEZwt-NZtod"
   },
   "source": [
    "Execute code in a cell by selecting it and hitting the 'run' button, or SHIFT+ENTER."
   ]
  },
  {
   "cell_type": "code",
   "execution_count": null,
   "metadata": {
    "colab": {},
    "colab_type": "code",
    "id": "IV9GZoYcZtoe"
   },
   "outputs": [],
   "source": [
    "\"Hello World!\""
   ]
  },
  {
   "cell_type": "markdown",
   "metadata": {
    "colab_type": "text",
    "id": "4QXGRNWZZtoh"
   },
   "source": [
    "You can do math in a cell. '#' allows comments on a line."
   ]
  },
  {
   "cell_type": "code",
   "execution_count": null,
   "metadata": {
    "colab": {},
    "colab_type": "code",
    "id": "c5wXS00fZtoh"
   },
   "outputs": [],
   "source": [
    "1+1  # addition\n",
    "2-1  # subtraction\n",
    "2*3  # multiplication\n",
    "9/3  # division\n",
    "3^3  # exponents"
   ]
  },
  {
   "cell_type": "code",
   "execution_count": null,
   "metadata": {
    "colab": {},
    "colab_type": "code",
    "id": "bEUxP0z7Ztok"
   },
   "outputs": [],
   "source": [
    "9*10^(4/6)"
   ]
  },
  {
   "cell_type": "markdown",
   "metadata": {
    "colab_type": "text",
    "id": "OUzTKUhdZtom"
   },
   "source": [
    "Concatenate with c() to group things:"
   ]
  },
  {
   "cell_type": "code",
   "execution_count": null,
   "metadata": {
    "colab": {},
    "colab_type": "code",
    "id": "V3s6pQtwZton"
   },
   "outputs": [],
   "source": [
    "c(6, 2, 3, 3)"
   ]
  },
  {
   "cell_type": "code",
   "execution_count": null,
   "metadata": {
    "colab": {},
    "colab_type": "code",
    "id": "W_5lczjxZtop"
   },
   "outputs": [],
   "source": [
    "c(6, 2, 3, 3)*2"
   ]
  },
  {
   "cell_type": "code",
   "execution_count": null,
   "metadata": {
    "colab": {},
    "colab_type": "code",
    "id": "sDhJXFD2Ztot"
   },
   "outputs": [],
   "source": [
    "seq(2, 7, 1) # get a sequence of numbers (to, from, by)\n",
    "rep(4, 3)    # repeat a value (value to repeat, times)"
   ]
  },
  {
   "cell_type": "markdown",
   "metadata": {
    "colab_type": "text",
    "id": "nqIxHuDUZtoy"
   },
   "source": [
    "## CHNOSZ"
   ]
  },
  {
   "cell_type": "markdown",
   "metadata": {
    "colab_type": "text",
    "id": "2KugmmlVZtoz"
   },
   "source": [
    "### Getting CHNOSZ ready\n",
    "\n",
    "Get CHNOSZ loaded in your notebook with:"
   ]
  },
  {
   "cell_type": "code",
   "execution_count": null,
   "metadata": {
    "colab": {},
    "colab_type": "code",
    "id": "bC6QRhPyZto3"
   },
   "outputs": [],
   "source": [
    "library(CHNOSZ)"
   ]
  },
  {
   "cell_type": "markdown",
   "metadata": {
    "colab_type": "text",
    "id": "B-3b8CeOZto6"
   },
   "source": [
    "Use info(\"name\") to search for the index number of a chemical species in OBIGT."
   ]
  },
  {
   "cell_type": "code",
   "execution_count": null,
   "metadata": {
    "colab": {},
    "colab_type": "code",
    "id": "-KK3cj52Zto7"
   },
   "outputs": [],
   "source": [
    "info(\"Pyri\")  # a partial name might result in approximate matches to try"
   ]
  },
  {
   "cell_type": "code",
   "execution_count": null,
   "metadata": {
    "colab": {},
    "colab_type": "code",
    "id": "XJ1Bf0HMZto-"
   },
   "outputs": [],
   "source": [
    "info(\"pyrite\") # case sensitive!"
   ]
  },
  {
   "cell_type": "markdown",
   "metadata": {
    "colab_type": "text",
    "id": "jXMg12kJZtpB"
   },
   "source": [
    "Use info(index) to get the entry itself."
   ]
  },
  {
   "cell_type": "code",
   "execution_count": null,
   "metadata": {
    "colab": {},
    "colab_type": "code",
    "id": "R1pIO3ubZtpB"
   },
   "outputs": [],
   "source": [
    "info(1899)"
   ]
  },
  {
   "cell_type": "markdown",
   "metadata": {
    "colab_type": "text",
    "id": "mbYn_p_CZtpE"
   },
   "source": [
    "What do these columns mean? What units are entries in? We can use `help(thermo)` for documentation."
   ]
  },
  {
   "cell_type": "code",
   "execution_count": null,
   "metadata": {
    "colab": {},
    "colab_type": "code",
    "id": "AfpiiFASZtpE"
   },
   "outputs": [],
   "source": [
    "#help(thermo)"
   ]
  },
  {
   "cell_type": "markdown",
   "metadata": {
    "colab_type": "text",
    "id": "yFrMmoF2ZtpH"
   },
   "source": [
    "You can nest two info()s to look up a chemical species directly from its name."
   ]
  },
  {
   "cell_type": "code",
   "execution_count": null,
   "metadata": {
    "colab": {},
    "colab_type": "code",
    "id": "wafZG4dAZtpH"
   },
   "outputs": [],
   "source": [
    "info(info(\"pyrite\"))"
   ]
  },
  {
   "cell_type": "markdown",
   "metadata": {
    "colab_type": "text",
    "id": "5o31bmUUZtpJ"
   },
   "source": [
    "### Perform a SUPCRT-like thermodynamic calculation\n",
    "\n",
    "Let's calculate reaction properties for the Knallgas reaction:\n",
    "\n",
    "$$H_{2(aq)} + \\frac{1}{2}O_{2(aq)} = H_{2}O_{}$$\n",
    "\n",
    "We can use CHNOSZ's subcrt() function for this."
   ]
  },
  {
   "cell_type": "code",
   "execution_count": null,
   "metadata": {
    "colab": {},
    "colab_type": "code",
    "id": "AOpH_pAkZtpK"
   },
   "outputs": [],
   "source": [
    "subcrt(\n",
    "    species=c(\"H2\", \"O2\", \"H2O\"), # what chemical species are present in rxn?\n",
    "    coeff=c(-1, -0.5, 1) # what are their stoichiometries? negative = reactant\n",
    "      )"
   ]
  },
  {
   "cell_type": "markdown",
   "metadata": {
    "colab_type": "text",
    "id": "dokngkBjZtpM"
   },
   "source": [
    "What are the units used in the output table? We can use help() to find the answer in the documentation for the subcrt function:"
   ]
  },
  {
   "cell_type": "code",
   "execution_count": null,
   "metadata": {
    "colab": {},
    "colab_type": "code",
    "id": "W97WtDljZtpN"
   },
   "outputs": [],
   "source": [
    "#help(subcrt)"
   ]
  },
  {
   "cell_type": "markdown",
   "metadata": {
    "colab_type": "text",
    "id": "xw4UHQHaZtpO"
   },
   "source": [
    "You can modify subcrt to calculate properties at a specific temperature (T) and pressure (P). If a temperature is given but no pressure, CHNOSZ will perform calculations along the liquid-vapor saturation curve (PSAT)."
   ]
  },
  {
   "cell_type": "code",
   "execution_count": null,
   "metadata": {
    "colab": {},
    "colab_type": "code",
    "id": "NmpWTPs9ZtpP"
   },
   "outputs": [],
   "source": [
    "subcrt(\n",
    "    species=c(\"H2\", \"O2\", \"H2O\"), # what chemical species are present in rxn?\n",
    "    coeff=c(-1, -0.5, 1), # what are their stoichiometries? negative = reactant\n",
    "    T=350, # degrees C\n",
    "    P=2000 # bars pressure\n",
    "      )"
   ]
  },
  {
   "cell_type": "markdown",
   "metadata": {
    "colab_type": "text",
    "id": "llEyU-hbZtpR"
   },
   "source": [
    "This can be done for a range of temperatures and pressures, but be certain the number of T's and P's are the same! (See what happens to the results if they're not!)"
   ]
  },
  {
   "cell_type": "code",
   "execution_count": null,
   "metadata": {
    "colab": {},
    "colab_type": "code",
    "id": "zKM9ckOwZtpR"
   },
   "outputs": [],
   "source": [
    "subcrt(\n",
    "    species=c(\"H2\", \"O2\", \"H2O\"), # what chemical species are present in rxn?\n",
    "    coeff=c(-1, -0.5, 1), # what are their stoichiometries? negative = reactant\n",
    "    T=c(150, 250, 250.25, 350), # degrees C\n",
    "    P=c(1000, 1050, 1050, 2000) # bars pressure\n",
    "      )"
   ]
  },
  {
   "cell_type": "markdown",
   "metadata": {
    "colab_type": "text",
    "id": "vEGV0u3VZtpT"
   },
   "source": [
    "You can change the phase (cr, liq, aq, gas) of a chemical species if an entry exists in OBIGT. Searching for \"O2\" with info() will reveal that it has entries for \"aq\" and \"gas\" phases. Aqueous O2 is selected by default in subcrt(), but we can change it to a gas in our reaction:"
   ]
  },
  {
   "cell_type": "code",
   "execution_count": null,
   "metadata": {
    "colab": {},
    "colab_type": "code",
    "id": "bJJw82QqZtpU"
   },
   "outputs": [],
   "source": [
    "subcrt(\n",
    "    species=c(\"H2\", \"O2\", \"H2O\"), # what chemical species are present in rxn?\n",
    "    coeff=c(-1, -0.5, 1), # what are their stoichiometries? negative = reactant\n",
    "    state=c(\"aq\", \"gas\", \"liq\"), # what phases are the chemical species in?\n",
    "    T=350, # degrees C\n",
    "    P=2000 # bars pressure\n",
    "      )"
   ]
  },
  {
   "cell_type": "markdown",
   "metadata": {
    "colab_type": "text",
    "id": "myzp1HRzZtpW"
   },
   "source": [
    "Another example, this time with the reaction:\n",
    "\n",
    "\\begin{align}\n",
    "\\mathop{\\rm{K(AlSi_{3})O_{8}}}\\limits_{(K\\text{-}feldspar)} + \\mathop{\\rm{Al_{2}Si_{2}O_{5}(OH)_{4}}}\\limits_{(kaolinite)} & \\rightleftharpoons \\rm{H_{2}O} + \\rm{2SiO_{2(aq)}} + \\mathop{\\rm{KAl_{2}(AlSi_{3})O_{10}(OH)_{2}}}\\limits_{(muscovite)} \\\\\n",
    "\\end{align}\n",
    "\n",
    "First, let's check if these entries are in the database:"
   ]
  },
  {
   "cell_type": "code",
   "execution_count": null,
   "metadata": {
    "colab": {},
    "colab_type": "code",
    "id": "vbuPXGlkZtpW"
   },
   "outputs": [],
   "source": [
    "info(\"K-feld\") # a partial name might result in approximate matches to try"
   ]
  },
  {
   "cell_type": "code",
   "execution_count": null,
   "metadata": {
    "colab": {},
    "colab_type": "code",
    "id": "Uf1J8SHRduo7"
   },
   "outputs": [],
   "source": [
    "info(info(c(\"K-feldspar\", \"kaolinite\", \"muscovite\")))"
   ]
  },
  {
   "cell_type": "code",
   "execution_count": null,
   "metadata": {
    "colab": {},
    "colab_type": "code",
    "id": "ei623TxYdP2t"
   },
   "outputs": [],
   "source": [
    "# tell CHNOSZ to use species from the SUPCRT92 database\n",
    "add.OBIGT(\"SUPCRT92\")"
   ]
  },
  {
   "cell_type": "code",
   "execution_count": null,
   "metadata": {
    "colab": {},
    "colab_type": "code",
    "id": "7m7usxdgZtpY"
   },
   "outputs": [],
   "source": [
    "info(info(c(\"K-feldspar\", \"kaolinite\", \"muscovite\")))"
   ]
  },
  {
   "cell_type": "code",
   "execution_count": null,
   "metadata": {
    "colab": {},
    "colab_type": "code",
    "id": "n_CZ5F8EZtpb"
   },
   "outputs": [],
   "source": [
    "subcrt(\n",
    "    species=c(\"K-feldspar\", \"kaolinite\", \"H2O\", \"SiO2\", \"muscovite\"), # what chemical species are present in rxn?\n",
    "    coeff=c(-1, -1, 1, 2, 1), # what are their stoichiometries? negative = reactant\n",
    "    T=seq(0, 350, 10) # seq(from, to, by) is used to specify a sequence\n",
    "      )"
   ]
  },
  {
   "cell_type": "markdown",
   "metadata": {
    "colab_type": "text",
    "id": "JsuJbAUUZtpd"
   },
   "source": [
    "### Exporting and plotting results from subcrt"
   ]
  },
  {
   "cell_type": "markdown",
   "metadata": {
    "colab_type": "text",
    "id": "AEUNBoFJZtpe"
   },
   "source": [
    "You can export a table of results into your notebook directory as a downloadable csv."
   ]
  },
  {
   "cell_type": "code",
   "execution_count": null,
   "metadata": {
    "colab": {},
    "colab_type": "code",
    "id": "sluUpa-pZtpe"
   },
   "outputs": [],
   "source": [
    "my_results = subcrt(\n",
    "    species=c(\"K-feldspar\", \"kaolinite\", \"H2O\", \"SiO2\", \"muscovite\"), # what chemical species are present in rxn?\n",
    "    coeff=c(-1, -1, 1, 2, 1), # what are their stoichiometries? negative = reactant\n",
    "    T=seq(0, 350, 10) # seq(from, to, by) is used to specify a sequence\n",
    "      )\n",
    "\n",
    "write.csv(my_results$out, \"my results.csv\")"
   ]
  },
  {
   "cell_type": "markdown",
   "metadata": {
    "colab_type": "text",
    "id": "zTx1Rzs2Ztpg"
   },
   "source": [
    "Results can also be plotted directly in a notebook:"
   ]
  },
  {
   "cell_type": "code",
   "execution_count": null,
   "metadata": {
    "colab": {},
    "colab_type": "code",
    "id": "OIkGPV5VZtpj"
   },
   "outputs": [],
   "source": [
    "plot(x=my_results$out$T, # temperature\n",
    "     y=my_results$out$logK, # logK\n",
    "     col=\"red\", # line color\n",
    "     lwd=2, # line thickness\n",
    "     type=\"l\", # specify line plot\n",
    "     xlab=\"Temperature, degrees C\", # x label\n",
    "     ylab=\"logK\" # y label\n",
    "    )"
   ]
  },
  {
   "cell_type": "markdown",
   "metadata": {
    "colab_type": "text",
    "id": "MH5xoFLCZtpk"
   },
   "source": [
    "Export a plot as a png image."
   ]
  },
  {
   "cell_type": "code",
   "execution_count": null,
   "metadata": {
    "colab": {},
    "colab_type": "code",
    "id": "Q7tZJrS_Ztpl"
   },
   "outputs": [],
   "source": [
    "png(\"my plot.png\", width=4, height=4, units=\"in\", res=300)\n",
    "\n",
    "plot(x=my_results$out$T, # temperature\n",
    "     y=my_results$out$logK, # logK\n",
    "     col=\"red\", # line color\n",
    "     lwd=2, # line thickness\n",
    "     type=\"l\", # specify line plot\n",
    "     xlab=\"Temperature, degrees C\", # x label\n",
    "     ylab=\"logK\" # y label\n",
    "    )\n",
    "\n",
    "dev.off()"
   ]
  },
  {
   "cell_type": "markdown",
   "metadata": {
    "colab_type": "text",
    "id": "o9F3fCvvZtpx"
   },
   "source": [
    "## Diagram Demo"
   ]
  },
  {
   "cell_type": "code",
   "execution_count": null,
   "metadata": {
    "colab": {},
    "colab_type": "code",
    "id": "j59uv8qlg_tB"
   },
   "outputs": [],
   "source": [
    "reset() # reset database"
   ]
  },
  {
   "cell_type": "code",
   "execution_count": null,
   "metadata": {
    "colab": {},
    "colab_type": "code",
    "id": "7GLogl6ZfppP"
   },
   "outputs": [],
   "source": [
    "# set plot size options\n",
    "library(repr)\n",
    "options(repr.plot.width=4, repr.plot.height=3) # width and height of plots"
   ]
  },
  {
   "cell_type": "markdown",
   "metadata": {
    "colab_type": "text",
    "id": "_bBxk-sHZtp0"
   },
   "source": [
    "Activity diagram of aqueous carbonate species at 25 $^{\\circ}$C and 1 bar as a function of pH.\n",
    "\n",
    "$$\\text{CO}_{2} + \\text{H}_{2}\\text{O} \\rightleftharpoons \\text{HCO}_{3}^{-} + \\text{H}^{+} \\rightleftharpoons \\text{CO}_{3}^{2-} + 2\\text{H}^{+}$$\n",
    "\n",
    "This plot assumes a total carbon log activity of -3"
   ]
  },
  {
   "cell_type": "code",
   "execution_count": null,
   "metadata": {
    "colab": {},
    "colab_type": "code",
    "id": "ynrw9yXjZtp0"
   },
   "outputs": [],
   "source": [
    "basis(\"CHNOS+\")\n",
    "species(c(\"HCO3-\",\"CO3-2\",\"CO2\"))\n",
    "a <-affinity(pH=c(2,14), T=25)\n",
    "e <-equilibrate(a)\n",
    "diagram(e, col=c(\"red\",\"blue\",\"green\"), lwd=2, lty=c(1,1,1), dy=-1)"
   ]
  },
  {
   "cell_type": "markdown",
   "metadata": {
    "colab_type": "text",
    "id": "JrZgrGgYZtp2"
   },
   "source": [
    "As above, but with fractional abundances (\"degree of formation\"):"
   ]
  },
  {
   "cell_type": "code",
   "execution_count": null,
   "metadata": {
    "colab": {},
    "colab_type": "code",
    "id": "fH6CqGYhZtp3"
   },
   "outputs": [],
   "source": [
    "basis(\"CHNOS+\")\n",
    "species(c(\"HCO3-\",\"CO3-2\",\"CO2\"))\n",
    "a <-affinity(pH=c(2,14), T=25)\n",
    "e <-equilibrate(a)\n",
    "diagram(e, alpha=TRUE, ylim=c(0,1), col=c(\"red\",\"blue\",\"green\"), lwd=2, lty=c(1,1,1), dy=-0.1)"
   ]
  },
  {
   "cell_type": "markdown",
   "metadata": {
    "colab_type": "text",
    "id": "tGFLLGsaZtp5"
   },
   "source": [
    "Predominance diagram of carbonate species along the liquid-vapor saturation curve as a function of temperature and pH:"
   ]
  },
  {
   "cell_type": "code",
   "execution_count": null,
   "metadata": {
    "colab": {},
    "colab_type": "code",
    "id": "7MtPJj4GZtp5"
   },
   "outputs": [],
   "source": [
    "basis(\"CHNOS+\")\n",
    "species(c(\"HCO3-\",\"CO3-2\",\"CO2\"))\n",
    "a <-affinity(pH=c(2,14), T=c(0,350))\n",
    "diagram(a, fill=\"heat\")"
   ]
  },
  {
   "cell_type": "markdown",
   "metadata": {
    "colab_type": "text",
    "id": "8MatEFO7Ztp8"
   },
   "source": [
    "Activity diagram of Al$^{3+}$ species at 25 $^{\\circ}$C and 1 bar as a function of pH."
   ]
  },
  {
   "cell_type": "code",
   "execution_count": null,
   "metadata": {
    "colab": {},
    "colab_type": "code",
    "id": "gfM_npqIZtp8"
   },
   "outputs": [],
   "source": [
    "reset() # reset database and basis species"
   ]
  },
  {
   "cell_type": "code",
   "execution_count": null,
   "metadata": {
    "colab": {},
    "colab_type": "code",
    "id": "zqkSRqVoZtp_"
   },
   "outputs": [],
   "source": [
    "# load a few additional species like AlO+\n",
    "add.obigt(\"SLOP98\")"
   ]
  },
  {
   "cell_type": "code",
   "execution_count": null,
   "metadata": {
    "colab": {},
    "colab_type": "code",
    "id": "aIGqm2n4ZtqD"
   },
   "outputs": [],
   "source": [
    "basis(c(\"Al+3\",\"H2O\",\"O2\",\"H+\"),c(-3,0,-80,-7))\n",
    "species(c(\"Al+3\",\"AlOH+2\",\"AlO+\",\"HAlO2\", \"AlO2-\"))\n",
    "a <-affinity(pH=c(2, 8), T=25)\n",
    "diagram(a, alpha=TRUE, ylim=c(0,1), col=c(\"red\",\"blue\",\"green\",\"orange\",\"purple\"), lwd=2, lty=c(1,1,1), dy=-0.1)"
   ]
  },
  {
   "cell_type": "markdown",
   "metadata": {
    "colab_type": "text",
    "id": "sAsEfpx8ZtqH"
   },
   "source": [
    "Predominance diagram of Al$^{3+}$ species as a function of pH and temperature:"
   ]
  },
  {
   "cell_type": "code",
   "execution_count": null,
   "metadata": {
    "colab": {},
    "colab_type": "code",
    "id": "DjinJbVXZtqI"
   },
   "outputs": [],
   "source": [
    "basis(c(\"Al+3\",\"H2O\",\"O2\",\"H+\"),c(-3,0,-80,-7))\n",
    "species(c(\"Al+3\",\"AlOH+2\",\"AlO+\",\"HAlO2\", \"AlO2-\"))\n",
    "a <-affinity(pH=c(0, 8, 600), T=c(25, 350, 600))\n",
    "diagram(a, fill=\"heat\", main=\"Al+3 speciation, PSAT pressure\") \n",
    "\n",
    "a <-affinity(pH=c(0, 8, 600), T=c(25, 350, 600), P=5000)\n",
    "diagram(a, fill=\"heat\", main=\"Al+3 speciation, 5000 bars\")"
   ]
  },
  {
   "cell_type": "markdown",
   "metadata": {
    "colab_type": "text",
    "id": "itfI1u2jZtqQ"
   },
   "source": [
    "Eh-pH diagram of aqueous sulfur species."
   ]
  },
  {
   "cell_type": "code",
   "execution_count": null,
   "metadata": {
    "colab": {},
    "colab_type": "code",
    "id": "yvC3E2sWZtqS"
   },
   "outputs": [],
   "source": [
    "reset() # reset database and basis species"
   ]
  },
  {
   "cell_type": "code",
   "execution_count": null,
   "metadata": {
    "colab": {},
    "colab_type": "code",
    "id": "PsAf5_75ZtqV"
   },
   "outputs": [],
   "source": [
    "basis(\"CHNOS+\")\n",
    "swap.basis(\"O2\", \"e-\")\n",
    "species(c(\"H2S\", \"HS-\", \"HSO4-\", \"SO4-2\"))\n",
    "a <- affinity(pH = c(0, 12), Eh = c(-0.5, 1))\n",
    "diagram(a, fill = \"terrain\")\n",
    "water.lines(a) # adds lines indicating the stability region of water"
   ]
  }
 ],
 "metadata": {
  "colab": {
   "collapsed_sections": [],
   "name": "CHNOSZ demo.ipynb",
   "provenance": []
  },
  "kernelspec": {
   "display_name": "R",
   "language": "R",
   "name": "ir"
  },
  "language_info": {
   "codemirror_mode": "r",
   "file_extension": ".r",
   "mimetype": "text/x-r-source",
   "name": "R",
   "pygments_lexer": "r",
   "version": "3.6.1"
  }
 },
 "nbformat": 4,
 "nbformat_minor": 4
}
