{
 "cells": [
  {
   "cell_type": "markdown",
   "metadata": {},
   "source": [
    "<left>\n",
    "<table style=\"margin-top:0px; margin-left:0px;\">\n",
    "<tr>\n",
    "  <td><img src=\"https://raw.githubusercontent.com/worm-portal/WORM-Figures/master/style/worm.png\" alt=\"WORM\" title=\"WORM\" width=50/></td>\n",
    "  <td><h1 style=font-size:30px>Welcome to the WORM Portal</h1></td>\n",
    "</tr>\n",
    "</table>\n",
    "</left>"
   ]
  },
  {
   "cell_type": "markdown",
   "metadata": {},
   "source": [
    "The Water Organic Rock Microbe (WORM) Portal is an online computational space that comes with tools for modeling reactions. These tools are in the form of Jupyter notebooks (you are looking at one now!). Notebooks are files that can mix working code, text, and visualizations. Notebooks are handy because they can perform calculations, contain descriptions of what is happening at each step, and can be modified and shared with others.\n",
    "\n",
    "The WORM Portal is under active development by Everett Shock's research group, GEOPIG. Content and organization is likely to change over time. Suggestions and feeback are appreciated! Contact Grayson Boyer (gmboyer@asu.edu) about joining the [WORM community on Slack](http://wormportal.slack.com/)."
   ]
  },
  {
   "cell_type": "markdown",
   "metadata": {},
   "source": [
    "---"
   ]
  },
  {
   "cell_type": "markdown",
   "metadata": {},
   "source": [
    "### What can you do on the WORM Portal?\n",
    "\n",
    "**Calculate reaction properties:**\n",
    "- calculate reaction properties at a desired temperature and pressure\n",
    "  - logK, $\\Delta$G, $\\Delta$H, $\\Delta$S, $\\Delta$V, $\\Delta$Cp\n",
    "- calculate the properties of water at a desired temperature and pressure\n",
    "  - density, dielectric constant, viscosity, Gibbs free energy, and more \n",
    "- switch between SUPCRT92 and Deep Earth Water (DEW) water models\n",
    "- activity diagrams (e.g., log activity of chemical species as a function of a chosen variable)\n",
    "- predominance diagrams (e.g., plot mineral stability regions as a function of two variables)\n",
    "- static, interactive, and animated diagrams\n",
    "\n",
    "<left>\n",
    "<table style=\"margin-top:0px; margin-left:0px;\">\n",
    "<tr>\n",
    "  <td><img src=\"https://raw.githubusercontent.com/worm-portal/WORM-Figures/master/1-Introduction/activity.png\" alt=\"activity diagram\" title=\"activity diagram\" width=300/></td>\n",
    "  <td><img src=\"https://raw.githubusercontent.com/worm-portal/WORM-Figures/master/1-Introduction/predominance.png\" alt=\"predominance diagram\" title=\"predominance diagram\" width=300/></td>\n",
    "</tr>\n",
    "</table>\n",
    "<\\left>"
   ]
  },
  {
   "cell_type": "markdown",
   "metadata": {},
   "source": [
    "**Aqueous speciation calculations:**\n",
    "- predict the distribution of dissolved aqueous species with a geochemical speciation calculations\n",
    "  - speciate one or more samples at a time\n",
    "  - calculate ionic strength, charge imbalance, and ion activity ratios\n",
    "  - calculate equilibrium fugacities of gases\n",
    "  - calculate mineral saturation indices\n",
    "  - calculate potentials of redox couples\n",
    "    - *e.g.*, the Eh of O$_2$/H$_2$O, H$_2$S/SO$_4^{2-}$, NH$_3$/NO$_3^-$, *etc.*\n",
    "- use the built-in WRM database or supply a custom database\n",
    "  - custom database: increase pressure\n",
    "  - custom database: add/modify/remove chemical species\n",
    "- correct for charge imbalance by adjusting pH or the concentration of an chosen ion\n",
    "- set aqueous species' concentration on equilibrium with minerals or gases\n",
    "- alter and suppress aqueous species (e.g., alter a species logK, suppress the formation of a species)\n",
    "- model reaction paths and mixing (EQ6)\n",
    "- built-in plots of speciation results:\n",
    "  - one variable across multiple samples (bar plot)\n",
    "  \n",
    "<img src=\"https://raw.githubusercontent.com/worm-portal/WORM-Figures/master/1-Introduction/barplot.png\" alt=\"barplot\" title=\"barplot\" width=500/>\n",
    "\n",
    "  - two or more variables across multiple samples (scatter plot)\n",
    "\n",
    "<img src=\"https://raw.githubusercontent.com/worm-portal/WORM-Figures/master/1-Introduction/scatterplot.png\" alt=\"scatterplot\" title=\"scatterplot\" width=400/>\n",
    "\n",
    "  - species contribution to mass balance (stacked bar plot)\n",
    "\n",
    "<img src=\"https://raw.githubusercontent.com/worm-portal/WORM-Figures/master/1-Introduction/massbalance.png\" alt=\"basis species contribution to mass balance\" title=\"basis species contribution to mass balance\" width=400/></td>\n",
    "\n",
    "  - mineral saturation index\n",
    "\n",
    "<img src=\"https://raw.githubusercontent.com/worm-portal/WORM-Figures/master/1-Introduction/saturationindex.png\" alt=\"mineral saturation indices\" title=\"mineral saturation indices\" width=500/>"
   ]
  },
  {
   "cell_type": "markdown",
   "metadata": {},
   "source": [
    "**Thermodynamic property estimation:**\n",
    "- estimate thermodynamic properties of neutral aqueous organic molecules\n",
    "  - uses hybrid first/second order group contribution approach\n",
    "  - some functional groups are supported, others aren't\n",
    "  - supply a molecule's name to auto-generate properties\n",
    "  - or, help the estimation by supplying experimental data\n",
    "\n",
    "<img src=\"https://raw.githubusercontent.com/worm-portal/WORM-Figures/master/1-Introduction/example_molecule.svg\" alt=\"estimate properties of neutral organic molecules\" title=\"estimate properties of neutral organic molecules\" width=300/>"
   ]
  },
  {
   "cell_type": "markdown",
   "metadata": {},
   "source": [
    "For a fully interactive demonstration of many of these features in a single notebook, check out **/WORM-Library/WORM-Tour/WORM-Tour.ipynb**"
   ]
  },
  {
   "cell_type": "markdown",
   "metadata": {},
   "source": [
    "---"
   ]
  },
  {
   "cell_type": "markdown",
   "metadata": {},
   "source": [
    "### Useful Terms\n",
    "\n",
    "Here are a few terms useful for understanding WORM and Jupyter Notebooks.\n",
    "\n",
    "- **WORM Portal:** a free online computational environment equipped with ready-made tools to assist calculations involving <u>W</u>ater, <u>O</u>rganics, <u>R</u>ocks, and <u>M</u>icrobes.\n",
    "- **Jupyter Notebook:** a shareable interactive digital document that can contain blocks of code, equations, text, and visualizations. Notebooks have the file extension .ipynb, short for *IPython notebook* (Jupyter's original name).\n",
    "- **JupyterHub:** Provides a way to work with Jupyter notebooks online. This instance of JupyterHub is called the Water Organic Rock Microbe (WORM) Portal and it is running on a physical server at Arizona State University.\n",
    "- **Jupyterlab:** An extension for Jupyter that improves the graphical user interface (GUI), among other things. WORM looks the way it does because of Jupyterlab.\n",
    "- **WORM Library:** A collection of Jupyter notebooks geared toward calculating thermodynamic reaction properties, performing geochemical aqueous speciation, estimating properties of organic molecules, and more. The WORM-Library folder is 'read-only' so many notebooks, especially those that read and write files, must be copied to your workspace before they function. Instructions are given in the 'Getting Started' section, below.\n",
    "\n",
    "Tools currently available on the WORM Portal.\n",
    "\n",
    "- **pyCHNOSZ:** supports thermodynamic calculations, such as estimating standard state reaction properties at elevated temperatures and pressures.\n",
    "- **EQ3:** short for EQ3NR, a program for performing aqueous geochemical speciation and solubility calculations ([Wolery 1992](https://doi.org/10.2172/138643)).\n",
    "- **AqEquil:** allows you to use EQ3 inside a Jupyter Notebook, speciate multiple samples at once, and quickly visualize output with plots.\n",
    "- **AqOrg:** a tool for estimating the partial molal thermodynamic properties of neutral aqueous organic compounds.\n",
    "\n",
    "Terms related to the anatomy of a Jupyter Notebook.\n",
    "\n",
    "- **Python:** a programming language. WORM Jupyter notebooks have chunks of Python code that calculate things and display plots.\n",
    "- **Kernel:** this is the instance of Python running in the background of a WORM Jupyter notebook.\n",
    "- **Cell:** a section of a Jupyter notebook. You can activate (run) a cell by clicking to select it and then pressing SHIFT+ENTER. Below is a code cell with 5+7. What do you think will happen when you activate it?"
   ]
  },
  {
   "cell_type": "code",
   "execution_count": 1,
   "metadata": {},
   "outputs": [
    {
     "data": {
      "text/plain": [
       "12"
      ]
     },
     "execution_count": 1,
     "metadata": {},
     "output_type": "execute_result"
    }
   ],
   "source": [
    "5+7"
   ]
  },
  {
   "cell_type": "markdown",
   "metadata": {},
   "source": [
    "---"
   ]
  },
  {
   "cell_type": "markdown",
   "metadata": {},
   "source": [
    "### Getting Started"
   ]
  },
  {
   "cell_type": "markdown",
   "metadata": {},
   "source": [
    "Here are some steps to help you get started by copying a WORM notebook to your personal workspace and running them.\n",
    "\n",
    "1. **Make sure you are in the 1-Introduction folder.**\n",
    "2. **Select and copy '2-Notebook-Intro.ipynb'** To do this, right-click the file and choose 'Copy'.\n",
    "3. **Navigate to your personal workspace and create a folder called 'demo'.** You can return to your personal workspace by clicking the folder icon to the left of /WORM-Library/ in the browser window. Create a folder by clicking the New Folder button above the file browser window.\n",
    "4. **Enter your new folder and paste the file.** Right click in the file browser window and select 'Paste'. The file you copied should appear. Note that entire folders cannot be copied this way.\n",
    "5. **Open and run the copied notebook.** Double click the notebook file to open it. Click the first cell to select it and SHIFT+ENTER to execute it. Keep executing cells until you produce the diagram at the bottom of the notebook.\n",
    "6. **Try modifying the notebook.** Change a number or two and see what happens. Try to produce an error! You can always undo changes, close the file without saving and then reopen it, or grab a fresh copy of a notebook from the WORM library.\n",
    "7. **Practice good practices.** From the Kernel tab, select 'Restart Kernel and Run All Cells...'. This will refresh the kernel and execute all cells in the notebook from top to bottom. It is good to get into the habit of restarting the kernel and running cells in order whenever you make a change. See the Running Notebooks section of Best Practices (below) for more info.\n",
    "8. **Shut down the notebook.** Close the notebook with File > Close and Shutdown Notebook.\n",
    "\n",
    "All of the demos and software tools in the WORM library can be copied to your workspace and run in this way. Some notebooks require input files to run. These are often CSV and TXT files that must be copy+pasted alongside the notebook to your workspace."
   ]
  },
  {
   "cell_type": "markdown",
   "metadata": {},
   "source": [
    "---"
   ]
  },
  {
   "cell_type": "markdown",
   "metadata": {},
   "source": [
    "### Best Practices\n",
    "\n",
    "**Running Notebooks.** It is generally a good idea to run cells from the top of the notebook to the bottom, and not out of order. A quick way to do this is by selecting the 'Restart Kernel and Run All Cells...' option under the 'Kernel' tab on the top bar. Running cells in a notebook out of order might cause the underlying Python code to do unintended things. The advice I was given was: \"your cool result isn't real unless you 'restart and run all'!\"\n",
    "\n",
    "**Organizing Notebooks.** You can avoid cluttering your workspace by organizing projects into folders. You can create a new folder by right clicking in the file browser and selecting 'New Folder'. Rename folders by right clicking on them and selecting 'Rename'.\n",
    "\n",
    "**Shutting Down Notebooks.** Notebooks do not shut down automatically when you close your browser. They continue to run on the WORM server using up computational resources. Help free up resources for other users by shutting down your notebooks after you are done. One way to do this is with File > Close and Shutdown Notebook. Shut down multiple notebooks at once by clicking the 'Running Terminal and Kernels' tab on the left bar, then 'Shut Down All'."
   ]
  },
  {
   "cell_type": "markdown",
   "metadata": {},
   "source": [
    "---"
   ]
  },
  {
   "cell_type": "markdown",
   "metadata": {},
   "source": [
    "### Tips and Tricks\n",
    "\n",
    "**Dark Mode.** Activate with Settings > JupyterLab Theme > JupyterLab Dark.\n",
    "\n",
    "**Delete a folder with lots of subfolders and files.** Open the launcher and then start a new Terminal session. Enter `ls` to get a list of files and folders in your current directory. Delete a folder with\n",
    "\n",
    "`rm -r 'foldername'`\n",
    "\n",
    "where *foldername* is the path to the directory. For example:\n",
    "\n",
    "```rm -r 'MyCoolProject/MyUnwantedFolder'```"
   ]
  },
  {
   "cell_type": "markdown",
   "metadata": {},
   "source": [
    "---"
   ]
  },
  {
   "cell_type": "markdown",
   "metadata": {},
   "source": []
  }
 ],
 "metadata": {
  "kernelspec": {
   "display_name": "Python 3",
   "language": "python",
   "name": "python3"
  },
  "language_info": {
   "codemirror_mode": {
    "name": "ipython",
    "version": 3
   },
   "file_extension": ".py",
   "mimetype": "text/x-python",
   "name": "python",
   "nbconvert_exporter": "python",
   "pygments_lexer": "ipython3",
   "version": "3.7.0"
  },
  "toc-autonumbering": false,
  "toc-showcode": false,
  "toc-showmarkdowntxt": false,
  "toc-showtags": false
 },
 "nbformat": 4,
 "nbformat_minor": 4
}
