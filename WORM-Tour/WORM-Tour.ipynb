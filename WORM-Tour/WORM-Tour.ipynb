{
 "cells": [
  {
   "cell_type": "markdown",
   "metadata": {},
   "source": [
    "<img src=\"https://gitlab.com/worm1/worm-figures/-/raw/master/WORM-tour/title.png\" title=\"WORM title\" width=800/>"
   ]
  },
  {
   "cell_type": "markdown",
   "metadata": {},
   "source": [
    "<img src=\"https://gitlab.com/worm1/worm-figures/-/raw/master/WORM-tour/whyWORM.png\" title=\"Why WORM?\" width=800/>"
   ]
  },
  {
   "cell_type": "markdown",
   "metadata": {},
   "source": [
    "<img src=\"https://gitlab.com/worm1/worm-figures/-/raw/master/WORM-tour/aboutWORM.png\" title=\"About WORM\" width=800/>"
   ]
  },
  {
   "cell_type": "markdown",
   "metadata": {},
   "source": [
    "<img src=\"https://gitlab.com/worm1/worm-figures/-/raw/master/WORM-tour/outline.png\" title=\"Outline\" width=800/>"
   ]
  },
  {
   "cell_type": "markdown",
   "metadata": {},
   "source": [
    "---"
   ]
  },
  {
   "cell_type": "markdown",
   "metadata": {},
   "source": [
    "## Brief WORM Portal tour here..."
   ]
  },
  {
   "cell_type": "markdown",
   "metadata": {},
   "source": [
    "---"
   ]
  },
  {
   "cell_type": "markdown",
   "metadata": {},
   "source": [
    "## Aqueous speciation with AqEquil"
   ]
  },
  {
   "cell_type": "markdown",
   "metadata": {},
   "source": [
    "<img src=\"https://gitlab.com/worm1/worm-figures/-/raw/master/WORM-tour/speciation.png\" title=\"speciation\" width=800/>"
   ]
  },
  {
   "cell_type": "markdown",
   "metadata": {},
   "source": [
    "Split species into *basis* and *non-basis* to make setting up the problem easier.\n",
    "\n",
    "$\\color{blue}{\\text{Basis} : \\text{H}_{2}\\text{O}, \\text{H}^{+}, \\text{SiO}_{2(aq)}, \\text{Mg}^{2+}, \\text{Ca}^{2+}, \\text{Na}^{+}}$\n",
    "\n",
    "$\\color{darkorange}{\\text{Non-Basis} : \\text{HSiO}_{3}^{-}, \\text{Mg(HSiO}_{3}\\text{)}^{+}, \\text{Ca(HSiO}_{3}\\text{)}^{+}, \\text{NaHSiO}_{3(aq)}, \\text{Mg(HCO}_{3}\\text{)}^{+}, \\text{Ca(HCO}_{3}\\text{)}^{+}, \\text{NaHCO}_{3}, \\text{CO}_{3}^{2-}, \\text{MgCO}_{3(aq)}, \\text{CaCO}_{3(aq)}, \\text{NaCO}_{3}^{-}}$\n",
    "\n",
    "\n",
    "\\begin{align}\n",
    "\\color{blue}{\\text{SiO}_{2(aq)}} + \\color{blue}{\\text{H}_{2}\\text{O}} &\\rightleftharpoons \\color{darkorange}{\\text{HSiO}_{3}^{-}} + \\color{blue}{\\text{H}^{+}} \\\\\n",
    "\\color{blue}{\\text{SiO}_{2(aq)}} + \\color{blue}{\\text{Mg}^{2+}} + \\color{blue}{\\text{H}_{2}\\text{O}} &\\rightleftharpoons \\color{darkorange}{\\text{Mg(HSiO}_{3}\\text{)}^{+}} + \\color{blue}{\\text{H}^{+}} \\\\\n",
    "\\color{blue}{\\text{SiO}_{2(aq)}} + \\color{blue}{\\text{Ca}^{2+}} + \\color{blue}{\\text{H}_{2}\\text{O}} &\\rightleftharpoons \\color{darkorange}{\\text{Ca(HSiO}_{3}\\text{)}^{+}} + \\color{blue}{\\text{H}^{+}} \\\\\n",
    "\\color{blue}{\\text{SiO}_{2(aq)}} + \\color{blue}{\\text{Na}^{+}} + \\color{blue}{\\text{H}_{2}\\text{O}} &\\rightleftharpoons \\color{darkorange}{\\text{NaHSiO}_{3(aq)}} \\\\\n",
    "\\end{align}\n",
    "\n",
    "\\begin{align}\n",
    "\\color{blue}{\\text{HCO}_{3}^{-}} &\\rightleftharpoons \\color{darkorange}{\\text{CO}_{3}^{2-}} + \\color{blue}{\\text{H}^{+}} \\\\\n",
    "\\color{blue}{\\text{HCO}_{3}^{-}} + \\color{blue}{\\text{Mg}^{2+}} + &\\rightleftharpoons \\color{darkorange}{\\text{Mg(HCO}_{3}\\text{)}^{+}} + \\color{blue}{\\text{H}^{+}} \\\\\n",
    "\\text{...} & \\text{and so on...}\n",
    "\\end{align}\n",
    "\n",
    "To find the concentrations of all basis and non-basis, you'd need to find the root of an enormous set of equilibrium equations. Not easy to do by hand!\n",
    "\n",
    "Fortunately, computational tools exist to help."
   ]
  },
  {
   "cell_type": "markdown",
   "metadata": {},
   "source": [
    "---"
   ]
  },
  {
   "cell_type": "markdown",
   "metadata": {},
   "source": [
    "### Example: submarine hydrothermal vent fluids\n",
    "\n",
    "- <u>S&C10vents.csv</u> contains a variety of subsea hydrothermal vent fluids ([Shock & Canovas 2010](https://onlinelibrary.wiley.com/doi/full/10.1111/j.1468-8123.2010.00277.x))\n",
    "\n",
    "- Speciate these fluids and visualize the results\n",
    "\n",
    "Load the AqEquil (aqueous equilibration) package:"
   ]
  },
  {
   "cell_type": "code",
   "execution_count": null,
   "metadata": {},
   "outputs": [],
   "source": [
    "from AqEquil import AqEquil"
   ]
  },
  {
   "cell_type": "markdown",
   "metadata": {},
   "source": [
    "Speciate the submarine hydrothermal vent samples in \"S&C10vents.csv\" with `speciate()`:"
   ]
  },
  {
   "cell_type": "code",
   "execution_count": null,
   "metadata": {},
   "outputs": [],
   "source": [
    "speciation = AqEquil().speciate(input_filename=\"S&C10vents.csv\",\n",
    "                                report_filename=\"out.csv\")"
   ]
  },
  {
   "cell_type": "code",
   "execution_count": null,
   "metadata": {},
   "outputs": [],
   "source": [
    "speciation.barplot('METHANE')"
   ]
  },
  {
   "cell_type": "code",
   "execution_count": null,
   "metadata": {},
   "outputs": [],
   "source": [
    "speciation.barplot([\"Ca+2\", \"Mg+2\", \"K+\"])"
   ]
  },
  {
   "cell_type": "code",
   "execution_count": null,
   "metadata": {},
   "outputs": [],
   "source": [
    "speciation.lookup([\"SiO2\", \"Mg(HSiO3)+\", \"Ca(HSiO3)+\", \"NaHSiO3\"])"
   ]
  },
  {
   "cell_type": "code",
   "execution_count": null,
   "metadata": {},
   "outputs": [],
   "source": [
    "speciation.plot_mass_contribution(\"Ca+2\")"
   ]
  },
  {
   "cell_type": "code",
   "execution_count": null,
   "metadata": {},
   "outputs": [],
   "source": [
    "speciation.scatterplot(\"pH\", \"HS-\")"
   ]
  },
  {
   "cell_type": "code",
   "execution_count": null,
   "metadata": {},
   "outputs": [],
   "source": [
    "speciation.scatterplot(\"pH\", [\"HS-\", \"H2S\"])"
   ]
  },
  {
   "cell_type": "code",
   "execution_count": null,
   "metadata": {},
   "outputs": [],
   "source": [
    "speciation.plot_mineral_saturation('Lau')"
   ]
  },
  {
   "cell_type": "markdown",
   "metadata": {},
   "source": [
    "---"
   ]
  },
  {
   "cell_type": "markdown",
   "metadata": {},
   "source": [
    "### Increasing pressure\n",
    "\n",
    "The default database goes from 0-350°C at saturation pressure:"
   ]
  },
  {
   "cell_type": "code",
   "execution_count": null,
   "metadata": {},
   "outputs": [],
   "source": [
    "speciation.lookup([\"Temperature\", \"Pressure\", \"pH\"])"
   ]
  },
  {
   "cell_type": "markdown",
   "metadata": {},
   "source": [
    "What if we want to increase the pressure? (Or temperature range?)\n",
    "\n",
    "The database can be recalibrated to different T-P ranges with `create_data0()`. For instance, 250 bars:"
   ]
  },
  {
   "cell_type": "code",
   "execution_count": null,
   "metadata": {},
   "outputs": [],
   "source": [
    "AqEquil().create_data0(\n",
    "    filename = \"wrm_data.csv\", # thermodynamic datasheet CSV\n",
    "    grid_temps=[0.01, 50, 100, 150, 200, 250, 300, 350], # degrees C\n",
    "    grid_press=[250, 250, 250, 250, 250, 250, 250, 250], # bars\n",
    "    db = \"cst\", # three letter name of your recalibrated database\n",
    "    template_name=\"sample_template_cst.csv\", # creates a blank template for sample data\n",
    "    )"
   ]
  },
  {
   "cell_type": "markdown",
   "metadata": {},
   "source": [
    "Once the database has been recalibrated as 'cst', use it in a speciation calculation:"
   ]
  },
  {
   "cell_type": "code",
   "execution_count": null,
   "metadata": {},
   "outputs": [],
   "source": [
    "speciation = AqEquil().speciate(input_filename=\"S&C10vents.csv\",\n",
    "                                custom_db=True, # use a custom database?\n",
    "                                db=\"cst\", # name of the custom database\n",
    "                               )"
   ]
  },
  {
   "cell_type": "code",
   "execution_count": null,
   "metadata": {},
   "outputs": [],
   "source": [
    "speciation.lookup([\"Temperature\", \"Pressure\", \"pH\"])"
   ]
  },
  {
   "cell_type": "markdown",
   "metadata": {},
   "source": [
    "---"
   ]
  },
  {
   "cell_type": "markdown",
   "metadata": {},
   "source": [
    "### Microbial energy supply"
   ]
  },
  {
   "cell_type": "markdown",
   "metadata": {},
   "source": [
    "<img src=\"https://www.igpms.ucsb.edu/sites/default/files/styles/medium/public/2019-05/guaymas-microbial-mats.jpg\" title=\"Credit: Professor Andreas Teske, UNC Chapel Hill\" width=500/>\n",
    "\n",
    "*Microbial mats on hydrothermal sediments in the Guaymas Basin*\n",
    "\n",
    "*Methanopyrus kandleri* has been found in submarine hydrothermal systems, including the Guaymas Basin."
   ]
  },
  {
   "cell_type": "markdown",
   "metadata": {},
   "source": [
    "<center>\n",
    "<img src=\"img/methanopyrus.jpg\" title=\"Methanopyrus kandleri. Credit: K.O. Stetter, R. Huber and R. Rachel, Univ. Regensburg, Germany.\" width=200/>\n",
    "<\\center>\n",
    "\n",
    "<center><i>Methanopyrus kandleri<\\i></center>"
   ]
  },
  {
   "cell_type": "markdown",
   "metadata": {},
   "source": [
    "These microbes can grow up to 122°C and produce CH$_4$ by reducing CO$_2$ with H$_2$:\n",
    "\n",
    "\\begin{align}\n",
    "\\mathop{\\rm{CO_{2}}} + \\mathop{\\rm{4H_{2}}} & \\rightleftharpoons \\rm{2H_{2}O} + \\rm{CH_{4}} \\\\\n",
    "\\end{align}"
   ]
  },
  {
   "cell_type": "markdown",
   "metadata": {},
   "source": [
    "What is the chemical affinity and energy supply in our vent fluid samples?"
   ]
  },
  {
   "cell_type": "markdown",
   "metadata": {},
   "source": [
    "<img src=\"https://gitlab.com/worm1/worm-figures/-/raw/master/WORM-tour/affinity.png\" title=\"Affinity calculation\" width=800/>"
   ]
  },
  {
   "cell_type": "markdown",
   "metadata": {},
   "source": [
    "<img src=\"https://gitlab.com/worm1/worm-figures/-/raw/master/WORM-tour/energy.png\" title=\"Energy supply calculation\" width=800/>"
   ]
  },
  {
   "cell_type": "code",
   "execution_count": null,
   "metadata": {},
   "outputs": [],
   "source": [
    "speciation = AqEquil().speciate(input_filename=\"S&C10vents.csv\",\n",
    "                                report_filename=\"out.csv\",\n",
    "                                custom_db=True,\n",
    "                                db=\"cst\",\n",
    "                                get_affinity_energy=True, # calculate energy supplies\n",
    "                                rxn_filename=\"H2_oxidation_rxns.txt\", # file defining reactions\n",
    "                               )"
   ]
  },
  {
   "cell_type": "markdown",
   "metadata": {},
   "source": [
    "Here's that reaction again:\n",
    "\n",
    "\\begin{align}\n",
    "\\mathop{\\rm{CO_{2}}} + \\mathop{\\rm{4H_{2}}} & \\rightleftharpoons \\rm{2H_{2}O} + \\rm{CH_{4}} \\\\\n",
    "\\end{align}"
   ]
  },
  {
   "cell_type": "code",
   "execution_count": null,
   "metadata": {},
   "outputs": [],
   "source": [
    "speciation.lookup([\"Temperature\", \"H2_CO2_affinity\", \"H2_CO2_energy\"])"
   ]
  },
  {
   "cell_type": "code",
   "execution_count": null,
   "metadata": {},
   "outputs": [],
   "source": [
    "speciation.scatterplot(\"H2\", \"H2_CO2_energy\")"
   ]
  },
  {
   "cell_type": "markdown",
   "metadata": {},
   "source": [
    "---\n",
    "### Basic EQ6 integration"
   ]
  },
  {
   "cell_type": "code",
   "execution_count": null,
   "metadata": {},
   "outputs": [],
   "source": [
    "AqEquil().runeq6(\"crisqtz.6i\", \"wrm\")"
   ]
  },
  {
   "cell_type": "markdown",
   "metadata": {},
   "source": [
    "---\n",
    "## Reaction Property Calculations with pyCHNOSZ"
   ]
  },
  {
   "cell_type": "markdown",
   "metadata": {},
   "source": [
    "<img src=\"https://gitlab.com/worm1/worm-figures/-/raw/master/WORM-tour/pyCHNOSZ.png\" title=\"AqOrg\" width=800/>"
   ]
  },
  {
   "cell_type": "markdown",
   "metadata": {
    "colab_type": "text",
    "id": "myzp1HRzZtpW"
   },
   "source": [
    "### Example:\n",
    "\n",
    "\\begin{align}\n",
    "\\mathop{\\rm{K(AlSi_{3})O_{8}}}\\limits_{\\text{(K-feldspar)}} + \\mathop{\\rm{Al_{2}Si_{2}O_{5}(OH)_{4}}}\\limits_{\\text{(kaolinite)}} & \\rightleftharpoons \\rm{H_{2}O} + \\rm{2SiO_{2(aq)}} + \\mathop{\\rm{KAl_{2}(AlSi_{3})O_{10}(OH)_{2}}}\\limits_{\\text{(muscovite)}} \\\\\n",
    "\\end{align}\n",
    "\n",
    "- What are the standard molal properties of this reaction from 0 to 350°C at saturation pressure?\n",
    "- At elevated pressure?\n",
    "\n",
    "First, load up the pyCHNOSZ package:"
   ]
  },
  {
   "cell_type": "code",
   "execution_count": null,
   "metadata": {},
   "outputs": [],
   "source": [
    "from pyCHNOSZ import *"
   ]
  },
  {
   "cell_type": "markdown",
   "metadata": {},
   "source": [
    "Check that these species are in the database with `info()`:"
   ]
  },
  {
   "cell_type": "code",
   "execution_count": null,
   "metadata": {
    "colab": {},
    "colab_type": "code",
    "id": "Uf1J8SHRduo7"
   },
   "outputs": [],
   "source": [
    "info(info([\"K-feldspar\", \"kaolinite\", \"SiO2\", \"muscovite\"]))"
   ]
  },
  {
   "cell_type": "markdown",
   "metadata": {},
   "source": [
    "Calculate reaction properties with `subcrt()`:"
   ]
  },
  {
   "cell_type": "code",
   "execution_count": null,
   "metadata": {
    "colab": {},
    "colab_type": "code",
    "id": "n_CZ5F8EZtpb"
   },
   "outputs": [],
   "source": [
    "subcrt(species=[\"K-feldspar\", \"kaolinite\", \"H2O\", \"SiO2\", \"muscovite\"],\n",
    "       coeff=[-1, -1, 1, 2, 1])"
   ]
  },
  {
   "cell_type": "markdown",
   "metadata": {},
   "source": [
    "It is also possible to specify temperature and pressures:"
   ]
  },
  {
   "cell_type": "code",
   "execution_count": null,
   "metadata": {},
   "outputs": [],
   "source": [
    "subcrt(species=[\"K-feldspar\", \"kaolinite\", \"H2O\", \"SiO2\", \"muscovite\"],\n",
    "       coeff=[-1, -1, 1, 2, 1],\n",
    "       T=255, P=1100)"
   ]
  },
  {
   "cell_type": "markdown",
   "metadata": {},
   "source": [
    "Create a predominance diagram of minerals in the K$_2$O-Al$_2$O$_3$-SiO$_2$-H$_2$O system:"
   ]
  },
  {
   "cell_type": "code",
   "execution_count": null,
   "metadata": {},
   "outputs": [],
   "source": [
    "# make HSiO4 available\n",
    "add_OBIGT(\"AS04\") \n",
    "\n",
    "# define basis and species in a mini-speciation calculation\n",
    "basis([\"Al+3\", \"H4SiO4\", \"K+\", \"H2O\", \"H+\", \"O2\"])\n",
    "species([\"gibbsite\", \"muscovite\", \"kaolinite\", \"pyrophyllite\", \"K-feldspar\"])\n",
    "\n",
    "# what basis species should go on the x and y axes? Ranges? Number of calculations?\n",
    "params = {\"H4SiO4\":[-8, 0, 600], \"K+\":[-1, 8, 600]}\n",
    "a = affinity(**params)\n",
    "\n",
    "# create the diagram\n",
    "_ = diagram(a, xlab=\"log(aH4SiO4)\", ylab=\"log(aK+/aH+)\", fill=\"terrain\")"
   ]
  },
  {
   "cell_type": "markdown",
   "metadata": {},
   "source": [
    "---\n",
    "## Estimate thermodynamic properties of aqueous organics with AqOrg"
   ]
  },
  {
   "cell_type": "markdown",
   "metadata": {},
   "source": [
    "<img src=\"https://gitlab.com/worm1/worm-figures/-/raw/master/WORM-tour/AqOrg_slide.png\" title=\"AqOrg\" width=800/>"
   ]
  },
  {
   "cell_type": "markdown",
   "metadata": {},
   "source": [
    "<img src=\"https://gitlab.com/worm1/worm-figures/-/raw/master/5-Thermodynamic-Property-Estimation/1-Aq-Organics-Intro-Demo/Figure-1.png\" width=800 height=600 style=\"background-color:white;padding:0px;\"/>"
   ]
  },
  {
   "cell_type": "markdown",
   "metadata": {},
   "source": [
    "First, import the package:"
   ]
  },
  {
   "cell_type": "code",
   "execution_count": null,
   "metadata": {},
   "outputs": [],
   "source": [
    "from AqOrg import Estimate"
   ]
  },
  {
   "cell_type": "markdown",
   "metadata": {},
   "source": [
    "Estimate the properties of the molecule with `Estimate()`"
   ]
  },
  {
   "cell_type": "code",
   "execution_count": null,
   "metadata": {},
   "outputs": [],
   "source": [
    "hexanol = Estimate(\"1-hexanol\")"
   ]
  },
  {
   "cell_type": "markdown",
   "metadata": {},
   "source": [
    "View group matches:"
   ]
  },
  {
   "cell_type": "code",
   "execution_count": null,
   "metadata": {},
   "outputs": [],
   "source": [
    "hexanol.group_matches"
   ]
  },
  {
   "cell_type": "markdown",
   "metadata": {},
   "source": [
    "View estimated properties:"
   ]
  },
  {
   "cell_type": "code",
   "execution_count": null,
   "metadata": {},
   "outputs": [],
   "source": [
    "hexanol.OBIGT"
   ]
  },
  {
   "cell_type": "markdown",
   "metadata": {},
   "source": [
    "### Example: Archaeal Lipids"
   ]
  },
  {
   "cell_type": "markdown",
   "metadata": {},
   "source": [
    "Archaeol is a lipid biomarker for Archaea."
   ]
  },
  {
   "cell_type": "markdown",
   "metadata": {},
   "source": [
    "<img src=\"http://www.clovegarden.com/ingred/img/archaea01l.jpg\" title=\"archaeal membrane\" width=600/>\n",
    "<img src=\"https://gitlab.com/worm1/worm-figures/-/raw/master/WORM-tour/Archaeol_structure.png\" title=\"archaeol\" width=600 style=\"background-color:white;padding:20px;\"/>\n",
    "<img src=\"https://gitlab.com/worm1/worm-figures/-/raw/master/WORM-tour/Unsaturated_archaeol.png\" title=\"unsaturated archaeol\" width=600 style=\"background-color:white;padding:20px;\"/>"
   ]
  },
  {
   "cell_type": "markdown",
   "metadata": {},
   "source": [
    "Estimate the properties of archaeol with `Estimate()`."
   ]
  },
  {
   "cell_type": "code",
   "execution_count": null,
   "metadata": {},
   "outputs": [],
   "source": [
    "archaeol = Estimate(\"archaeol\", Cph=2633)"
   ]
  },
  {
   "cell_type": "code",
   "execution_count": null,
   "metadata": {},
   "outputs": [],
   "source": [
    "archaeol.OBIGT"
   ]
  },
  {
   "cell_type": "code",
   "execution_count": null,
   "metadata": {},
   "outputs": [],
   "source": [
    "unsaturated_archaeol = Estimate(\"2,3-Bis[[(2E,6E,10E)-3,7,11,15-tetramethylhexadeca-2,6,10,14-tetraenyl]oxy]-1-propanol\", Cph=2593)"
   ]
  },
  {
   "cell_type": "markdown",
   "metadata": {},
   "source": [
    "Estimated properties can be imported into pyCHNOSZ with `mod_OBIGT()`:"
   ]
  },
  {
   "cell_type": "code",
   "execution_count": null,
   "metadata": {},
   "outputs": [],
   "source": [
    "# make archaeol and unsaturated archaeol available to pyCHNOSZ\n",
    "mod_OBIGT(archaeol.OBIGT)\n",
    "mod_OBIGT(unsaturated_archaeol.OBIGT)"
   ]
  },
  {
   "cell_type": "markdown",
   "metadata": {},
   "source": [
    "Now that these lipids are loaded into pyCHNOSZ, we can create an activity diagram:"
   ]
  },
  {
   "cell_type": "code",
   "execution_count": null,
   "metadata": {},
   "outputs": [],
   "source": [
    "# define basis and species in a mini-speciation calculation\n",
    "basis([\"CO2\", \"H2\", \"H2O\"])\n",
    "species([\"archaeol\", \"2,3-Bis[[(2E,6E,10E)-3,7,11,15-tetramethylhexadeca-2,6,10,14-tetraenyl]oxy]-1-propanol\"])\n",
    "\n",
    "# what basis species should go on the x and y axes? Ranges? Number of calculations?\n",
    "a = affinity(H2=[-30, 0, 600], T=[0, 350, 600])\n",
    "\n",
    "# create the diagram\n",
    "_ = diagram(a, names=[\"archaeol\", \"unsaturated archaeol\"], fill=\"terrain\")"
   ]
  },
  {
   "cell_type": "markdown",
   "metadata": {},
   "source": [
    "---"
   ]
  },
  {
   "cell_type": "markdown",
   "metadata": {},
   "source": [
    "<img src=\"https://gitlab.com/worm1/worm-figures/-/raw/master/WORM-tour/outline.png\" title=\"outline\" width=800/>"
   ]
  },
  {
   "cell_type": "markdown",
   "metadata": {},
   "source": [
    "<img src=\"https://gitlab.com/worm1/worm-figures/-/raw/master/WORM-tour/wrapup.png\" title=\"wrap up\" width=800/>"
   ]
  },
  {
   "cell_type": "markdown",
   "metadata": {},
   "source": [
    "<img src=\"https://gitlab.com/worm1/worm-figures/-/raw/master/WORM-tour/thanks.png\" title=\"acknowledgements\" width=800/>"
   ]
  },
  {
   "cell_type": "code",
   "execution_count": null,
   "metadata": {},
   "outputs": [],
   "source": []
  }
 ],
 "metadata": {
  "kernelspec": {
   "display_name": "Python 3",
   "language": "python",
   "name": "python3"
  },
  "language_info": {
   "codemirror_mode": {
    "name": "ipython",
    "version": 3
   },
   "file_extension": ".py",
   "mimetype": "text/x-python",
   "name": "python",
   "nbconvert_exporter": "python",
   "pygments_lexer": "ipython3",
   "version": "3.7.0"
  }
 },
 "nbformat": 4,
 "nbformat_minor": 4
}
