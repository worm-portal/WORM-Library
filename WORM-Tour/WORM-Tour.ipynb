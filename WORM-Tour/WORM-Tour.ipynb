{
 "cells": [
  {
   "cell_type": "markdown",
   "metadata": {},
   "source": [
    "<img src=\"https://gitlab.com/worm1/worm-figures/-/raw/master/WORM-tour/title.png\" title=\"WORM title\" width=800/>"
   ]
  },
  {
   "cell_type": "markdown",
   "metadata": {},
   "source": [
    "<img src=\"https://gitlab.com/worm1/worm-figures/-/raw/master/WORM-tour/whyWORM.png\" title=\"Why WORM?\" width=800/>"
   ]
  },
  {
   "cell_type": "markdown",
   "metadata": {},
   "source": [
    "<img src=\"https://gitlab.com/worm1/worm-figures/-/raw/master/WORM-tour/aboutWORM.png\" title=\"About WORM\" width=800/>"
   ]
  },
  {
   "cell_type": "markdown",
   "metadata": {},
   "source": [
    "<img src=\"https://gitlab.com/worm1/worm-figures/-/raw/master/WORM-tour/outline.png\" title=\"Outline\" width=800/>"
   ]
  },
  {
   "cell_type": "markdown",
   "metadata": {},
   "source": [
    "---"
   ]
  },
  {
   "cell_type": "markdown",
   "metadata": {},
   "source": [
    "## Brief WORM Portal tour here..."
   ]
  },
  {
   "cell_type": "markdown",
   "metadata": {},
   "source": [
    "---"
   ]
  },
  {
   "cell_type": "markdown",
   "metadata": {},
   "source": [
    "## Aqueous speciation with AqEquil"
   ]
  },
  {
   "cell_type": "markdown",
   "metadata": {},
   "source": [
    "<img src=\"https://gitlab.com/worm1/worm-figures/-/raw/master/WORM-tour/speciation.png\" title=\"speciation\" width=800/>"
   ]
  },
  {
   "cell_type": "markdown",
   "metadata": {},
   "source": [
    "Split species into *basis* and *non-basis* to make setting up the problem easier.\n",
    "\n",
    "$\\color{blue}{\\text{Basis} : \\text{H}_{2}\\text{O}, \\text{H}^{+}, \\text{SiO}_{2(aq)}, \\text{Mg}^{2+}, \\text{Ca}^{2+}, \\text{Na}^{+}}$\n",
    "\n",
    "$\\color{darkorange}{\\text{Non-Basis} : \\text{HSiO}_{3}^{-}, \\text{Mg(HSiO}_{3}\\text{)}^{+}, \\text{Ca(HSiO}_{3}\\text{)}^{+}, \\text{NaHSiO}_{3(aq)}, \\text{Mg(HCO}_{3}\\text{)}^{+}, \\text{Ca(HCO}_{3}\\text{)}^{+}, \\text{NaHCO}_{3}, \\text{CO}_{3}^{2-}, \\text{MgCO}_{3(aq)}, \\text{CaCO}_{3(aq)}, \\text{NaCO}_{3}^{-}}$\n",
    "\n",
    "\n",
    "\\begin{align}\n",
    "\\color{blue}{\\text{SiO}_{2(aq)}} + \\color{blue}{\\text{H}_{2}\\text{O}} &\\rightleftharpoons \\color{darkorange}{\\text{HSiO}_{3}^{-}} + \\color{blue}{\\text{H}^{+}} \\\\\n",
    "\\color{blue}{\\text{SiO}_{2(aq)}} + \\color{blue}{\\text{Mg}^{2+}} + \\color{blue}{\\text{H}_{2}\\text{O}} &\\rightleftharpoons \\color{darkorange}{\\text{Mg(HSiO}_{3}\\text{)}^{+}} + \\color{blue}{\\text{H}^{+}} \\\\\n",
    "\\color{blue}{\\text{SiO}_{2(aq)}} + \\color{blue}{\\text{Ca}^{2+}} + \\color{blue}{\\text{H}_{2}\\text{O}} &\\rightleftharpoons \\color{darkorange}{\\text{Ca(HSiO}_{3}\\text{)}^{+}} + \\color{blue}{\\text{H}^{+}} \\\\\n",
    "\\color{blue}{\\text{SiO}_{2(aq)}} + \\color{blue}{\\text{Na}^{+}} + \\color{blue}{\\text{H}_{2}\\text{O}} &\\rightleftharpoons \\color{darkorange}{\\text{NaHSiO}_{3(aq)}} \\\\\n",
    "\\end{align}\n",
    "\n",
    "\\begin{align}\n",
    "\\color{blue}{\\text{HCO}_{3}^{-}} &\\rightleftharpoons \\color{darkorange}{\\text{CO}_{3}^{2-}} + \\color{blue}{\\text{H}^{+}} \\\\\n",
    "\\color{blue}{\\text{HCO}_{3}^{-}} + \\color{blue}{\\text{Mg}^{2+}} + &\\rightleftharpoons \\color{darkorange}{\\text{Mg(HCO}_{3}\\text{)}^{+}} + \\color{blue}{\\text{H}^{+}} \\\\\n",
    "\\text{...} & \\text{and so on...}\n",
    "\\end{align}\n",
    "\n",
    "To find the concentrations of all basis and non-basis, you'd need to find the root of an enormous set of equilibrium equations. Not easy to do by hand!\n",
    "\n",
    "Fortunately, computational tools exist to help."
   ]
  },
  {
   "cell_type": "markdown",
   "metadata": {},
   "source": [
    "---"
   ]
  },
  {
   "cell_type": "markdown",
   "metadata": {},
   "source": [
    "### Example: submarine hydrothermal vent fluids\n",
    "\n",
    "- <u>S&C10vents.csv</u> contains a variety of subsea hydrothermal vent fluids ([Shock & Canovas 2010](https://onlinelibrary.wiley.com/doi/full/10.1111/j.1468-8123.2010.00277.x))\n",
    "\n",
    "- Speciate these fluids and visualize the results\n",
    "\n",
    "Load the AqEquil (aqueous equilibration) package:"
   ]
  },
  {
   "cell_type": "code",
   "execution_count": 1,
   "metadata": {},
   "outputs": [],
   "source": [
    "from AqEquil import AqEquil"
   ]
  },
  {
   "cell_type": "markdown",
   "metadata": {},
   "source": [
    "Speciate the submarine hydrothermal vent samples in \"S&C10vents.csv\" with `speciate()`:"
   ]
  },
  {
   "cell_type": "code",
   "execution_count": 2,
   "metadata": {},
   "outputs": [
    {
     "name": "stdout",
     "output_type": "stream",
     "text": [
      "Using wrm to speciate Rainbow\n",
      "Using wrm to speciate BSW\n",
      "Using wrm to speciate Endeavour\n",
      "Using wrm to speciate Guaymas\n",
      "Using wrm to speciate 9N\n",
      "Using wrm to speciate Lau\n",
      "Using wrm to speciate TAG\n",
      "Using wrm to speciate Kairei\n",
      "Finished!\n"
     ]
    }
   ],
   "source": [
    "speciation = AqEquil().speciate(input_filename=\"S&C10vents.csv\",\n",
    "                                report_filename=\"out.csv\")"
   ]
  },
  {
   "cell_type": "code",
   "execution_count": 3,
   "metadata": {},
   "outputs": [
    {
     "data": {
      "image/png": "[encoded data removed]",
      "text/plain": [
       "<Figure size 432x288 with 1 Axes>"
      ]
     },
     "metadata": {
      "needs_background": "light"
     },
     "output_type": "display_data"
    }
   ],
   "source": [
    "speciation.barplot('METHANE')"
   ]
  },
  {
   "cell_type": "code",
   "execution_count": 4,
   "metadata": {},
   "outputs": [
    {
     "data": {
      "image/png": "[encoded data removed]",
      "text/plain": [
       "<Figure size 432x288 with 1 Axes>"
      ]
     },
     "metadata": {
      "needs_background": "light"
     },
     "output_type": "display_data"
    }
   ],
   "source": [
    "speciation.barplot([\"Ca+2\", \"Mg+2\", \"K+\"])"
   ]
  },
  {
   "cell_type": "code",
   "execution_count": 5,
   "metadata": {},
   "outputs": [
    {
     "data": {
      "text/html": [
       "<div>\n",
       "<style scoped>\n",
       "    .dataframe tbody tr th:only-of-type {\n",
       "        vertical-align: middle;\n",
       "    }\n",
       "\n",
       "    .dataframe tbody tr th {\n",
       "        vertical-align: top;\n",
       "    }\n",
       "\n",
       "    .dataframe thead tr th {\n",
       "        text-align: left;\n",
       "    }\n",
       "</style>\n",
       "<table border=\"1\" class=\"dataframe\">\n",
       "  <thead>\n",
       "    <tr>\n",
       "      <th>Sample</th>\n",
       "      <th>Ca(HSiO3)+</th>\n",
       "      <th>Mg(HSiO3)+</th>\n",
       "      <th>NaHSiO3</th>\n",
       "      <th>SiO2</th>\n",
       "    </tr>\n",
       "    <tr>\n",
       "      <th></th>\n",
       "      <th>log_activity</th>\n",
       "      <th>log_activity</th>\n",
       "      <th>log_activity</th>\n",
       "      <th>log_activity</th>\n",
       "    </tr>\n",
       "  </thead>\n",
       "  <tbody>\n",
       "    <tr>\n",
       "      <th>BSW</th>\n",
       "      <td>-7.6118</td>\n",
       "      <td>-6.5192</td>\n",
       "      <td>-4.3167</td>\n",
       "      <td>-3.9598</td>\n",
       "    </tr>\n",
       "    <tr>\n",
       "      <th>Rainbow</th>\n",
       "      <td>-9.1682</td>\n",
       "      <td>NaN</td>\n",
       "      <td>-8.3880</td>\n",
       "      <td>-2.1612</td>\n",
       "    </tr>\n",
       "    <tr>\n",
       "      <th>Guaymas</th>\n",
       "      <td>-4.7647</td>\n",
       "      <td>NaN</td>\n",
       "      <td>-3.9382</td>\n",
       "      <td>-1.8676</td>\n",
       "    </tr>\n",
       "    <tr>\n",
       "      <th>Endeavour</th>\n",
       "      <td>-7.2733</td>\n",
       "      <td>NaN</td>\n",
       "      <td>-5.8542</td>\n",
       "      <td>-1.7696</td>\n",
       "    </tr>\n",
       "    <tr>\n",
       "      <th>Lau</th>\n",
       "      <td>-9.3419</td>\n",
       "      <td>NaN</td>\n",
       "      <td>-8.5857</td>\n",
       "      <td>-1.8386</td>\n",
       "    </tr>\n",
       "    <tr>\n",
       "      <th>9N</th>\n",
       "      <td>-9.1106</td>\n",
       "      <td>NaN</td>\n",
       "      <td>-8.0336</td>\n",
       "      <td>-1.6990</td>\n",
       "    </tr>\n",
       "    <tr>\n",
       "      <th>TAG</th>\n",
       "      <td>-8.7628</td>\n",
       "      <td>NaN</td>\n",
       "      <td>-7.5495</td>\n",
       "      <td>-1.6576</td>\n",
       "    </tr>\n",
       "    <tr>\n",
       "      <th>Kairei</th>\n",
       "      <td>-7.1127</td>\n",
       "      <td>NaN</td>\n",
       "      <td>-6.0386</td>\n",
       "      <td>-1.7773</td>\n",
       "    </tr>\n",
       "  </tbody>\n",
       "</table>\n",
       "</div>"
      ],
      "text/plain": [
       "Sample      Ca(HSiO3)+   Mg(HSiO3)+      NaHSiO3         SiO2\n",
       "          log_activity log_activity log_activity log_activity\n",
       "BSW            -7.6118      -6.5192      -4.3167      -3.9598\n",
       "Rainbow        -9.1682          NaN      -8.3880      -2.1612\n",
       "Guaymas        -4.7647          NaN      -3.9382      -1.8676\n",
       "Endeavour      -7.2733          NaN      -5.8542      -1.7696\n",
       "Lau            -9.3419          NaN      -8.5857      -1.8386\n",
       "9N             -9.1106          NaN      -8.0336      -1.6990\n",
       "TAG            -8.7628          NaN      -7.5495      -1.6576\n",
       "Kairei         -7.1127          NaN      -6.0386      -1.7773"
      ]
     },
     "execution_count": 5,
     "metadata": {},
     "output_type": "execute_result"
    }
   ],
   "source": [
    "speciation.lookup([\"SiO2\", \"Mg(HSiO3)+\", \"Ca(HSiO3)+\", \"NaHSiO3\"])"
   ]
  },
  {
   "cell_type": "code",
   "execution_count": 6,
   "metadata": {},
   "outputs": [
    {
     "data": {
      "image/png": "[encoded data removed]",
      "text/plain": [
       "<Figure size 432x288 with 1 Axes>"
      ]
     },
     "metadata": {
      "needs_background": "light"
     },
     "output_type": "display_data"
    }
   ],
   "source": [
    "speciation.plot_mass_contribution(\"Ca+2\")"
   ]
  },
  {
   "cell_type": "code",
   "execution_count": 7,
   "metadata": {},
   "outputs": [
    {
     "data": {
      "image/png": "[encoded data removed]",
      "text/plain": [
       "<Figure size 432x288 with 1 Axes>"
      ]
     },
     "metadata": {
      "needs_background": "light"
     },
     "output_type": "display_data"
    }
   ],
   "source": [
    "speciation.scatterplot(\"pH\", \"HS-\")"
   ]
  },
  {
   "cell_type": "code",
   "execution_count": 8,
   "metadata": {},
   "outputs": [
    {
     "data": {
      "image/png": "[encoded data removed]",
      "text/plain": [
       "<Figure size 432x288 with 1 Axes>"
      ]
     },
     "metadata": {
      "needs_background": "light"
     },
     "output_type": "display_data"
    }
   ],
   "source": [
    "speciation.scatterplot(\"pH\", [\"HS-\", \"H2S\"])"
   ]
  },
  {
   "cell_type": "code",
   "execution_count": 9,
   "metadata": {},
   "outputs": [
    {
     "data": {
      "image/png": "[encoded data removed]",
      "text/plain": [
       "<Figure size 432x288 with 1 Axes>"
      ]
     },
     "metadata": {
      "needs_background": "light"
     },
     "output_type": "display_data"
    }
   ],
   "source": [
    "speciation.plot_mineral_saturation('Lau')"
   ]
  },
  {
   "cell_type": "markdown",
   "metadata": {},
   "source": [
    "---"
   ]
  },
  {
   "cell_type": "markdown",
   "metadata": {},
   "source": [
    "### Increasing pressure\n",
    "\n",
    "The default database goes from 0-350°C at saturation pressure:"
   ]
  },
  {
   "cell_type": "code",
   "execution_count": 10,
   "metadata": {},
   "outputs": [
    {
     "data": {
      "text/html": [
       "<div>\n",
       "<style scoped>\n",
       "    .dataframe tbody tr th:only-of-type {\n",
       "        vertical-align: middle;\n",
       "    }\n",
       "\n",
       "    .dataframe tbody tr th {\n",
       "        vertical-align: top;\n",
       "    }\n",
       "\n",
       "    .dataframe thead tr th {\n",
       "        text-align: left;\n",
       "    }\n",
       "</style>\n",
       "<table border=\"1\" class=\"dataframe\">\n",
       "  <thead>\n",
       "    <tr>\n",
       "      <th>Sample</th>\n",
       "      <th>Temperature</th>\n",
       "      <th>Pressure</th>\n",
       "      <th>pH</th>\n",
       "    </tr>\n",
       "    <tr>\n",
       "      <th></th>\n",
       "      <th>degC</th>\n",
       "      <th>bar</th>\n",
       "      <th>pH</th>\n",
       "    </tr>\n",
       "  </thead>\n",
       "  <tbody>\n",
       "    <tr>\n",
       "      <th>BSW</th>\n",
       "      <td>2.0</td>\n",
       "      <td>1.0462</td>\n",
       "      <td>7.80</td>\n",
       "    </tr>\n",
       "    <tr>\n",
       "      <th>Rainbow</th>\n",
       "      <td>350.0</td>\n",
       "      <td>165.2100</td>\n",
       "      <td>3.03</td>\n",
       "    </tr>\n",
       "    <tr>\n",
       "      <th>Guaymas</th>\n",
       "      <td>315.0</td>\n",
       "      <td>105.5600</td>\n",
       "      <td>6.95</td>\n",
       "    </tr>\n",
       "    <tr>\n",
       "      <th>Endeavour</th>\n",
       "      <td>345.0</td>\n",
       "      <td>155.3900</td>\n",
       "      <td>5.10</td>\n",
       "    </tr>\n",
       "    <tr>\n",
       "      <th>Lau</th>\n",
       "      <td>334.0</td>\n",
       "      <td>135.3800</td>\n",
       "      <td>2.22</td>\n",
       "    </tr>\n",
       "    <tr>\n",
       "      <th>9N</th>\n",
       "      <td>350.0</td>\n",
       "      <td>165.2100</td>\n",
       "      <td>2.84</td>\n",
       "    </tr>\n",
       "    <tr>\n",
       "      <th>TAG</th>\n",
       "      <td>350.0</td>\n",
       "      <td>165.2100</td>\n",
       "      <td>3.31</td>\n",
       "    </tr>\n",
       "    <tr>\n",
       "      <th>Kairei</th>\n",
       "      <td>349.0</td>\n",
       "      <td>163.2100</td>\n",
       "      <td>4.98</td>\n",
       "    </tr>\n",
       "  </tbody>\n",
       "</table>\n",
       "</div>"
      ],
      "text/plain": [
       "Sample    Temperature  Pressure    pH\n",
       "                 degC       bar    pH\n",
       "BSW               2.0    1.0462  7.80\n",
       "Rainbow         350.0  165.2100  3.03\n",
       "Guaymas         315.0  105.5600  6.95\n",
       "Endeavour       345.0  155.3900  5.10\n",
       "Lau             334.0  135.3800  2.22\n",
       "9N              350.0  165.2100  2.84\n",
       "TAG             350.0  165.2100  3.31\n",
       "Kairei          349.0  163.2100  4.98"
      ]
     },
     "execution_count": 10,
     "metadata": {},
     "output_type": "execute_result"
    }
   ],
   "source": [
    "speciation.lookup([\"Temperature\", \"Pressure\", \"pH\"])"
   ]
  },
  {
   "cell_type": "markdown",
   "metadata": {},
   "source": [
    "What if we want to increase the pressure? (Or temperature range?)\n",
    "\n",
    "The database can be recalibrated to different T-P ranges with `create_data0()`. For instance, 250 bars:"
   ]
  },
  {
   "cell_type": "code",
   "execution_count": 11,
   "metadata": {},
   "outputs": [
    {
     "name": "stdout",
     "output_type": "stream",
     "text": [
      "Creating data0.cst...\n",
      "Finished creating data0.cst.\n"
     ]
    }
   ],
   "source": [
    "AqEquil().create_data0(\n",
    "    filename = \"wrm_data.csv\", # thermodynamic datasheet CSV\n",
    "    grid_temps=[0.01, 50, 100, 150, 200, 250, 300, 350], # degrees C\n",
    "    grid_press=[250, 250, 250, 250, 250, 250, 250, 250], # bars\n",
    "    db = \"cst\", # three letter name of your recalibrated database\n",
    "    template_name=\"sample_template_cst.csv\", # creates a blank template for sample data\n",
    "    )"
   ]
  },
  {
   "cell_type": "markdown",
   "metadata": {},
   "source": [
    "Once the database has been recalibrated as 'cst', use it in a speciation calculation:"
   ]
  },
  {
   "cell_type": "code",
   "execution_count": 12,
   "metadata": {},
   "outputs": [
    {
     "name": "stdout",
     "output_type": "stream",
     "text": [
      "Successfully created a data1.cst from data0.cst\n",
      "Using cst to speciate Rainbow\n",
      "Using cst to speciate BSW\n",
      "Using cst to speciate Endeavour\n",
      "Using cst to speciate Guaymas\n",
      "Using cst to speciate 9N\n",
      "Using cst to speciate Lau\n",
      "Using cst to speciate TAG\n",
      "Using cst to speciate Kairei\n",
      "Finished!\n"
     ]
    }
   ],
   "source": [
    "speciation = AqEquil().speciate(input_filename=\"S&C10vents.csv\",\n",
    "                                custom_db=True, # use a custom database?\n",
    "                                db=\"cst\", # name of the custom database\n",
    "                               )"
   ]
  },
  {
   "cell_type": "code",
   "execution_count": 13,
   "metadata": {},
   "outputs": [
    {
     "data": {
      "text/html": [
       "<div>\n",
       "<style scoped>\n",
       "    .dataframe tbody tr th:only-of-type {\n",
       "        vertical-align: middle;\n",
       "    }\n",
       "\n",
       "    .dataframe tbody tr th {\n",
       "        vertical-align: top;\n",
       "    }\n",
       "\n",
       "    .dataframe thead tr th {\n",
       "        text-align: left;\n",
       "    }\n",
       "</style>\n",
       "<table border=\"1\" class=\"dataframe\">\n",
       "  <thead>\n",
       "    <tr>\n",
       "      <th>Sample</th>\n",
       "      <th>Temperature</th>\n",
       "      <th>Pressure</th>\n",
       "      <th>pH</th>\n",
       "    </tr>\n",
       "    <tr>\n",
       "      <th></th>\n",
       "      <th>degC</th>\n",
       "      <th>bar</th>\n",
       "      <th>pH</th>\n",
       "    </tr>\n",
       "  </thead>\n",
       "  <tbody>\n",
       "    <tr>\n",
       "      <th>BSW</th>\n",
       "      <td>2.0</td>\n",
       "      <td>250.0</td>\n",
       "      <td>7.80</td>\n",
       "    </tr>\n",
       "    <tr>\n",
       "      <th>Rainbow</th>\n",
       "      <td>350.0</td>\n",
       "      <td>250.0</td>\n",
       "      <td>3.03</td>\n",
       "    </tr>\n",
       "    <tr>\n",
       "      <th>Guaymas</th>\n",
       "      <td>315.0</td>\n",
       "      <td>250.0</td>\n",
       "      <td>6.95</td>\n",
       "    </tr>\n",
       "    <tr>\n",
       "      <th>Endeavour</th>\n",
       "      <td>345.0</td>\n",
       "      <td>250.0</td>\n",
       "      <td>5.10</td>\n",
       "    </tr>\n",
       "    <tr>\n",
       "      <th>Lau</th>\n",
       "      <td>334.0</td>\n",
       "      <td>250.0</td>\n",
       "      <td>2.22</td>\n",
       "    </tr>\n",
       "    <tr>\n",
       "      <th>9N</th>\n",
       "      <td>350.0</td>\n",
       "      <td>250.0</td>\n",
       "      <td>2.84</td>\n",
       "    </tr>\n",
       "    <tr>\n",
       "      <th>TAG</th>\n",
       "      <td>350.0</td>\n",
       "      <td>250.0</td>\n",
       "      <td>3.31</td>\n",
       "    </tr>\n",
       "    <tr>\n",
       "      <th>Kairei</th>\n",
       "      <td>349.0</td>\n",
       "      <td>250.0</td>\n",
       "      <td>4.98</td>\n",
       "    </tr>\n",
       "  </tbody>\n",
       "</table>\n",
       "</div>"
      ],
      "text/plain": [
       "Sample    Temperature Pressure    pH\n",
       "                 degC      bar    pH\n",
       "BSW               2.0    250.0  7.80\n",
       "Rainbow         350.0    250.0  3.03\n",
       "Guaymas         315.0    250.0  6.95\n",
       "Endeavour       345.0    250.0  5.10\n",
       "Lau             334.0    250.0  2.22\n",
       "9N              350.0    250.0  2.84\n",
       "TAG             350.0    250.0  3.31\n",
       "Kairei          349.0    250.0  4.98"
      ]
     },
     "execution_count": 13,
     "metadata": {},
     "output_type": "execute_result"
    }
   ],
   "source": [
    "speciation.lookup([\"Temperature\", \"Pressure\", \"pH\"])"
   ]
  },
  {
   "cell_type": "markdown",
   "metadata": {},
   "source": [
    "---"
   ]
  },
  {
   "cell_type": "markdown",
   "metadata": {},
   "source": [
    "### Microbial energy supply"
   ]
  },
  {
   "cell_type": "markdown",
   "metadata": {},
   "source": [
    "<img src=\"https://www.igpms.ucsb.edu/sites/default/files/styles/medium/public/2019-05/guaymas-microbial-mats.jpg\" title=\"Credit: Professor Andreas Teske, UNC Chapel Hill\" width=500/>\n",
    "\n",
    "*Microbial mats on hydrothermal sediments in the Guaymas Basin*\n",
    "\n",
    "*Methanopyrus kandleri* has been found in submarine hydrothermal systems, including the Guaymas Basin."
   ]
  },
  {
   "cell_type": "markdown",
   "metadata": {},
   "source": [
    "<center>\n",
    "<img src=\"https://alchetron.com/cdn/methanopyrus-4b113cae-c869-47bb-8c69-1e113a1b9c8-resize-750.jpeg\" title=\"Methanopyrus kandleri.\" width=200/>\n",
    "<\\center>\n",
    "\n",
    "<center><i>Methanopyrus kandleri<\\i></center>"
   ]
  },
  {
   "cell_type": "markdown",
   "metadata": {},
   "source": [
    "These microbes can grow up to 122°C and produce CH$_4$ by reducing CO$_2$ with H$_2$:\n",
    "\n",
    "\\begin{align}\n",
    "\\mathop{\\rm{CO_{2}}} + \\mathop{\\rm{4H_{2}}} & \\rightleftharpoons \\rm{2H_{2}O} + \\rm{CH_{4}} \\\\\n",
    "\\end{align}"
   ]
  },
  {
   "cell_type": "markdown",
   "metadata": {},
   "source": [
    "What is the chemical affinity and energy supply in our vent fluid samples?"
   ]
  },
  {
   "cell_type": "markdown",
   "metadata": {},
   "source": [
    "<img src=\"https://gitlab.com/worm1/worm-figures/-/raw/master/WORM-tour/affinity.png\" title=\"Affinity calculation\" width=800/>"
   ]
  },
  {
   "cell_type": "markdown",
   "metadata": {},
   "source": [
    "<img src=\"https://gitlab.com/worm1/worm-figures/-/raw/master/WORM-tour/energy.png\" title=\"Energy supply calculation\" width=800/>"
   ]
  },
  {
   "cell_type": "code",
   "execution_count": 14,
   "metadata": {},
   "outputs": [
    {
     "name": "stdout",
     "output_type": "stream",
     "text": [
      "Successfully created a data1.cst from data0.cst\n",
      "Using cst to speciate Rainbow\n",
      "Using cst to speciate BSW\n",
      "Using cst to speciate Endeavour\n",
      "Using cst to speciate Guaymas\n",
      "Using cst to speciate 9N\n",
      "Using cst to speciate Lau\n",
      "Using cst to speciate TAG\n",
      "Using cst to speciate Kairei\n",
      "Finished!\n"
     ]
    }
   ],
   "source": [
    "speciation = AqEquil().speciate(input_filename=\"S&C10vents.csv\",\n",
    "                                report_filename=\"out.csv\",\n",
    "                                custom_db=True,\n",
    "                                db=\"cst\",\n",
    "                                get_affinity_energy=True, # calculate energy supplies\n",
    "                                rxn_filename=\"H2_oxidation_rxns.txt\", # file defining reactions\n",
    "                               )"
   ]
  },
  {
   "cell_type": "markdown",
   "metadata": {},
   "source": [
    "Here's that reaction again:\n",
    "\n",
    "\\begin{align}\n",
    "\\mathop{\\rm{CO_{2}}} + \\mathop{\\rm{4H_{2}}} & \\rightleftharpoons \\rm{2H_{2}O} + \\rm{CH_{4}} \\\\\n",
    "\\end{align}"
   ]
  },
  {
   "cell_type": "code",
   "execution_count": 15,
   "metadata": {},
   "outputs": [
    {
     "data": {
      "text/html": [
       "<div>\n",
       "<style scoped>\n",
       "    .dataframe tbody tr th:only-of-type {\n",
       "        vertical-align: middle;\n",
       "    }\n",
       "\n",
       "    .dataframe tbody tr th {\n",
       "        vertical-align: top;\n",
       "    }\n",
       "\n",
       "    .dataframe thead tr th {\n",
       "        text-align: left;\n",
       "    }\n",
       "</style>\n",
       "<table border=\"1\" class=\"dataframe\">\n",
       "  <thead>\n",
       "    <tr>\n",
       "      <th>Sample</th>\n",
       "      <th>Temperature</th>\n",
       "      <th>H2_CO2_affinity</th>\n",
       "      <th>H2_CO2_energy</th>\n",
       "    </tr>\n",
       "    <tr>\n",
       "      <th></th>\n",
       "      <th>degC</th>\n",
       "      <th>cal/mol e-</th>\n",
       "      <th>cal/kg.H2O</th>\n",
       "    </tr>\n",
       "  </thead>\n",
       "  <tbody>\n",
       "    <tr>\n",
       "      <th>BSW</th>\n",
       "      <td>2.0</td>\n",
       "      <td>NaN</td>\n",
       "      <td>NaN</td>\n",
       "    </tr>\n",
       "    <tr>\n",
       "      <th>Rainbow</th>\n",
       "      <td>350.0</td>\n",
       "      <td>847.6372</td>\n",
       "      <td>27.124390</td>\n",
       "    </tr>\n",
       "    <tr>\n",
       "      <th>Guaymas</th>\n",
       "      <td>315.0</td>\n",
       "      <td>280.7452</td>\n",
       "      <td>1.909067</td>\n",
       "    </tr>\n",
       "    <tr>\n",
       "      <th>Endeavour</th>\n",
       "      <td>345.0</td>\n",
       "      <td>-1107.4280</td>\n",
       "      <td>-1.373210</td>\n",
       "    </tr>\n",
       "    <tr>\n",
       "      <th>Lau</th>\n",
       "      <td>334.0</td>\n",
       "      <td>-334.3526</td>\n",
       "      <td>-0.334353</td>\n",
       "    </tr>\n",
       "    <tr>\n",
       "      <th>9N</th>\n",
       "      <td>350.0</td>\n",
       "      <td>317.8897</td>\n",
       "      <td>1.144403</td>\n",
       "    </tr>\n",
       "    <tr>\n",
       "      <th>TAG</th>\n",
       "      <td>350.0</td>\n",
       "      <td>-1290.5540</td>\n",
       "      <td>-0.955010</td>\n",
       "    </tr>\n",
       "    <tr>\n",
       "      <th>Kairei</th>\n",
       "      <td>349.0</td>\n",
       "      <td>660.1799</td>\n",
       "      <td>10.813750</td>\n",
       "    </tr>\n",
       "  </tbody>\n",
       "</table>\n",
       "</div>"
      ],
      "text/plain": [
       "Sample    Temperature H2_CO2_affinity H2_CO2_energy\n",
       "                 degC      cal/mol e-    cal/kg.H2O\n",
       "BSW               2.0             NaN           NaN\n",
       "Rainbow         350.0        847.6372     27.124390\n",
       "Guaymas         315.0        280.7452      1.909067\n",
       "Endeavour       345.0      -1107.4280     -1.373210\n",
       "Lau             334.0       -334.3526     -0.334353\n",
       "9N              350.0        317.8897      1.144403\n",
       "TAG             350.0      -1290.5540     -0.955010\n",
       "Kairei          349.0        660.1799     10.813750"
      ]
     },
     "execution_count": 15,
     "metadata": {},
     "output_type": "execute_result"
    }
   ],
   "source": [
    "speciation.lookup([\"Temperature\", \"H2_CO2_affinity\", \"H2_CO2_energy\"])"
   ]
  },
  {
   "cell_type": "code",
   "execution_count": 16,
   "metadata": {},
   "outputs": [
    {
     "data": {
      "image/png": "[encoded data removed]",
      "text/plain": [
       "<Figure size 432x288 with 1 Axes>"
      ]
     },
     "metadata": {
      "needs_background": "light"
     },
     "output_type": "display_data"
    }
   ],
   "source": [
    "speciation.scatterplot(\"H2\", \"H2_CO2_energy\")"
   ]
  },
  {
   "cell_type": "markdown",
   "metadata": {},
   "source": [
    "---\n",
    "### Basic EQ6 integration"
   ]
  },
  {
   "cell_type": "code",
   "execution_count": 17,
   "metadata": {},
   "outputs": [
    {
     "name": "stdout",
     "output_type": "stream",
     "text": [
      "Using wrm to speciate crisqtz\n"
     ]
    }
   ],
   "source": [
    "AqEquil().runeq6(\"crisqtz.6i\", \"wrm\")"
   ]
  },
  {
   "cell_type": "markdown",
   "metadata": {},
   "source": [
    "---\n",
    "## Reaction Property Calculations with pyCHNOSZ"
   ]
  },
  {
   "cell_type": "markdown",
   "metadata": {},
   "source": [
    "<img src=\"https://gitlab.com/worm1/worm-figures/-/raw/master/WORM-tour/pyCHNOSZ.png\" title=\"AqOrg\" width=800/>"
   ]
  },
  {
   "cell_type": "markdown",
   "metadata": {
    "colab_type": "text",
    "id": "myzp1HRzZtpW"
   },
   "source": [
    "### Example:\n",
    "\n",
    "\\begin{align}\n",
    "\\mathop{\\rm{K(AlSi_{3})O_{8}}}\\limits_{\\text{(K-feldspar)}} + \\mathop{\\rm{Al_{2}Si_{2}O_{5}(OH)_{4}}}\\limits_{\\text{(kaolinite)}} & \\rightleftharpoons \\rm{H_{2}O} + \\rm{2SiO_{2(aq)}} + \\mathop{\\rm{KAl_{2}(AlSi_{3})O_{10}(OH)_{2}}}\\limits_{\\text{(muscovite)}} \\\\\n",
    "\\end{align}\n",
    "\n",
    "- What are the standard molal properties of this reaction from 0 to 350°C at saturation pressure?\n",
    "- At elevated pressure?\n",
    "\n",
    "First, load up the pyCHNOSZ package:"
   ]
  },
  {
   "cell_type": "code",
   "execution_count": 18,
   "metadata": {},
   "outputs": [],
   "source": [
    "from pyCHNOSZ import *"
   ]
  },
  {
   "cell_type": "markdown",
   "metadata": {},
   "source": [
    "Check that these species are in the database with `info()`:"
   ]
  },
  {
   "cell_type": "code",
   "execution_count": 19,
   "metadata": {
    "colab": {},
    "colab_type": "code",
    "id": "Uf1J8SHRduo7"
   },
   "outputs": [
    {
     "name": "stdout",
     "output_type": "stream",
     "text": [
      "info.character: found SiO2(aq); other available phases are coesite, cristobalite,alpha, cristobalite,beta, quartz, quartz,beta, tridymite,high, tridymite,low, chalcedony, cristobalite\n",
      "\n",
      "info.numeric: Cp of K-feldspar(cr) is NA; set by EOS parameters to 44.22 cal K-1 mol-1\n",
      "\n",
      "info.numeric: Cp of kaolinite(cr) is NA; set by EOS parameters to 57.27 cal K-1 mol-1\n",
      "\n",
      "info.numeric: Cp of muscovite(cr) is NA; set by EOS parameters to 76.81 cal K-1 mol-1\n",
      "\n"
     ]
    },
    {
     "data": {
      "text/html": [
       "<div>\n",
       "<style scoped>\n",
       "    .dataframe tbody tr th:only-of-type {\n",
       "        vertical-align: middle;\n",
       "    }\n",
       "\n",
       "    .dataframe tbody tr th {\n",
       "        vertical-align: top;\n",
       "    }\n",
       "\n",
       "    .dataframe thead th {\n",
       "        text-align: right;\n",
       "    }\n",
       "</style>\n",
       "<table border=\"1\" class=\"dataframe\">\n",
       "  <thead>\n",
       "    <tr style=\"text-align: right;\">\n",
       "      <th></th>\n",
       "      <th>name</th>\n",
       "      <th>abbrv</th>\n",
       "      <th>formula</th>\n",
       "      <th>state</th>\n",
       "      <th>ref1</th>\n",
       "      <th>ref2</th>\n",
       "      <th>date</th>\n",
       "      <th>E_units</th>\n",
       "      <th>G</th>\n",
       "      <th>H</th>\n",
       "      <th>...</th>\n",
       "      <th>Cp</th>\n",
       "      <th>V</th>\n",
       "      <th>a1.a</th>\n",
       "      <th>a2.b</th>\n",
       "      <th>a3.c</th>\n",
       "      <th>a4.d</th>\n",
       "      <th>c1.e</th>\n",
       "      <th>c2.f</th>\n",
       "      <th>omega.lambda</th>\n",
       "      <th>z.T</th>\n",
       "    </tr>\n",
       "  </thead>\n",
       "  <tbody>\n",
       "    <tr>\n",
       "      <th>2557</th>\n",
       "      <td>K-feldspar</td>\n",
       "      <td>K-Fs</td>\n",
       "      <td>K(AlSi3)O8</td>\n",
       "      <td>cr</td>\n",
       "      <td>HDNB78 [S92]</td>\n",
       "      <td>N</td>\n",
       "      <td>5.May.78</td>\n",
       "      <td>cal</td>\n",
       "      <td>-895374.0</td>\n",
       "      <td>-949188.0</td>\n",
       "      <td>...</td>\n",
       "      <td>44.215918</td>\n",
       "      <td>108.87</td>\n",
       "      <td>76.617</td>\n",
       "      <td>0.004311</td>\n",
       "      <td>-2994500.0</td>\n",
       "      <td>0.0</td>\n",
       "      <td>0.0</td>\n",
       "      <td>0.0</td>\n",
       "      <td>0.0</td>\n",
       "      <td>1400.0</td>\n",
       "    </tr>\n",
       "    <tr>\n",
       "      <th>2543</th>\n",
       "      <td>kaolinite</td>\n",
       "      <td>Kln</td>\n",
       "      <td>Al2Si2O5(OH)4</td>\n",
       "      <td>cr</td>\n",
       "      <td>HDNB78 [S92]</td>\n",
       "      <td>N</td>\n",
       "      <td>5.May.78</td>\n",
       "      <td>cal</td>\n",
       "      <td>-905614.0</td>\n",
       "      <td>-982221.0</td>\n",
       "      <td>...</td>\n",
       "      <td>57.267215</td>\n",
       "      <td>99.52</td>\n",
       "      <td>72.770</td>\n",
       "      <td>0.029200</td>\n",
       "      <td>-2152000.0</td>\n",
       "      <td>0.0</td>\n",
       "      <td>0.0</td>\n",
       "      <td>0.0</td>\n",
       "      <td>0.0</td>\n",
       "      <td>1000.0</td>\n",
       "    </tr>\n",
       "    <tr>\n",
       "      <th>67</th>\n",
       "      <td>SiO2</td>\n",
       "      <td>NA</td>\n",
       "      <td>SiO2</td>\n",
       "      <td>aq</td>\n",
       "      <td>SHS89.1 [S92]</td>\n",
       "      <td>N</td>\n",
       "      <td>13.Jan.89</td>\n",
       "      <td>cal</td>\n",
       "      <td>-199190.0</td>\n",
       "      <td>-209775.0</td>\n",
       "      <td>...</td>\n",
       "      <td>-76.100000</td>\n",
       "      <td>16.10</td>\n",
       "      <td>0.190</td>\n",
       "      <td>170.000000</td>\n",
       "      <td>20.0</td>\n",
       "      <td>-27000.0</td>\n",
       "      <td>29.1</td>\n",
       "      <td>-512000.0</td>\n",
       "      <td>12910.0</td>\n",
       "      <td>0.0</td>\n",
       "    </tr>\n",
       "    <tr>\n",
       "      <th>2553</th>\n",
       "      <td>muscovite</td>\n",
       "      <td>Ms</td>\n",
       "      <td>KAl2(AlSi3)O10(OH)2</td>\n",
       "      <td>cr</td>\n",
       "      <td>HDNB78 [S92]</td>\n",
       "      <td>N</td>\n",
       "      <td>5.May.78</td>\n",
       "      <td>cal</td>\n",
       "      <td>-1336301.0</td>\n",
       "      <td>-1427408.0</td>\n",
       "      <td>...</td>\n",
       "      <td>76.806657</td>\n",
       "      <td>140.71</td>\n",
       "      <td>97.560</td>\n",
       "      <td>0.026380</td>\n",
       "      <td>-2544000.0</td>\n",
       "      <td>0.0</td>\n",
       "      <td>0.0</td>\n",
       "      <td>0.0</td>\n",
       "      <td>0.0</td>\n",
       "      <td>1000.0</td>\n",
       "    </tr>\n",
       "  </tbody>\n",
       "</table>\n",
       "<p>4 rows × 21 columns</p>\n",
       "</div>"
      ],
      "text/plain": [
       "            name abbrv              formula state           ref1 ref2  \\\n",
       "2557  K-feldspar  K-Fs           K(AlSi3)O8    cr   HDNB78 [S92]    N   \n",
       "2543   kaolinite   Kln        Al2Si2O5(OH)4    cr   HDNB78 [S92]    N   \n",
       "67          SiO2    NA                 SiO2    aq  SHS89.1 [S92]    N   \n",
       "2553   muscovite    Ms  KAl2(AlSi3)O10(OH)2    cr   HDNB78 [S92]    N   \n",
       "\n",
       "           date E_units          G          H  ...         Cp       V    a1.a  \\\n",
       "2557   5.May.78     cal  -895374.0  -949188.0  ...  44.215918  108.87  76.617   \n",
       "2543   5.May.78     cal  -905614.0  -982221.0  ...  57.267215   99.52  72.770   \n",
       "67    13.Jan.89     cal  -199190.0  -209775.0  ... -76.100000   16.10   0.190   \n",
       "2553   5.May.78     cal -1336301.0 -1427408.0  ...  76.806657  140.71  97.560   \n",
       "\n",
       "            a2.b       a3.c     a4.d  c1.e      c2.f  omega.lambda     z.T  \n",
       "2557    0.004311 -2994500.0      0.0   0.0       0.0           0.0  1400.0  \n",
       "2543    0.029200 -2152000.0      0.0   0.0       0.0           0.0  1000.0  \n",
       "67    170.000000       20.0 -27000.0  29.1 -512000.0       12910.0     0.0  \n",
       "2553    0.026380 -2544000.0      0.0   0.0       0.0           0.0  1000.0  \n",
       "\n",
       "[4 rows x 21 columns]"
      ]
     },
     "execution_count": 19,
     "metadata": {},
     "output_type": "execute_result"
    }
   ],
   "source": [
    "info(info([\"K-feldspar\", \"kaolinite\", \"SiO2\", \"muscovite\"]))"
   ]
  },
  {
   "cell_type": "markdown",
   "metadata": {},
   "source": [
    "Calculate reaction properties with `subcrt()`:"
   ]
  },
  {
   "cell_type": "code",
   "execution_count": 20,
   "metadata": {
    "colab": {},
    "colab_type": "code",
    "id": "n_CZ5F8EZtpb"
   },
   "outputs": [
    {
     "name": "stdout",
     "output_type": "stream",
     "text": [
      "info.character: found H2O(liq); other available states are cr, gas\n",
      "\n",
      "info.character: found SiO2(aq); other available phases are coesite, cristobalite,alpha, cristobalite,beta, quartz, quartz,beta, tridymite,high, tridymite,low, chalcedony, cristobalite\n",
      "\n",
      "subcrt: 5 species at 15 values of T (ºC) and P (bar) (wet) [energy units: cal]\n",
      "\n"
     ]
    },
    {
     "data": {
      "text/html": [
       "<div>\n",
       "<style scoped>\n",
       "    .dataframe tbody tr th:only-of-type {\n",
       "        vertical-align: middle;\n",
       "    }\n",
       "\n",
       "    .dataframe tbody tr th {\n",
       "        vertical-align: top;\n",
       "    }\n",
       "\n",
       "    .dataframe thead th {\n",
       "        text-align: right;\n",
       "    }\n",
       "</style>\n",
       "<table border=\"1\" class=\"dataframe\">\n",
       "  <thead>\n",
       "    <tr style=\"text-align: right;\">\n",
       "      <th></th>\n",
       "      <th>coeff</th>\n",
       "      <th>name</th>\n",
       "      <th>formula</th>\n",
       "      <th>state</th>\n",
       "      <th>ispecies</th>\n",
       "    </tr>\n",
       "  </thead>\n",
       "  <tbody>\n",
       "    <tr>\n",
       "      <th>2557</th>\n",
       "      <td>-1</td>\n",
       "      <td>K-feldspar</td>\n",
       "      <td>K(AlSi3)O8</td>\n",
       "      <td>cr</td>\n",
       "      <td>2557.0</td>\n",
       "    </tr>\n",
       "    <tr>\n",
       "      <th>2543</th>\n",
       "      <td>-1</td>\n",
       "      <td>kaolinite</td>\n",
       "      <td>Al2Si2O5(OH)4</td>\n",
       "      <td>cr</td>\n",
       "      <td>2543.0</td>\n",
       "    </tr>\n",
       "    <tr>\n",
       "      <th>1</th>\n",
       "      <td>1</td>\n",
       "      <td>water</td>\n",
       "      <td>H2O</td>\n",
       "      <td>liq</td>\n",
       "      <td>1.0</td>\n",
       "    </tr>\n",
       "    <tr>\n",
       "      <th>67</th>\n",
       "      <td>2</td>\n",
       "      <td>SiO2</td>\n",
       "      <td>SiO2</td>\n",
       "      <td>aq</td>\n",
       "      <td>67.0</td>\n",
       "    </tr>\n",
       "    <tr>\n",
       "      <th>2553</th>\n",
       "      <td>1</td>\n",
       "      <td>muscovite</td>\n",
       "      <td>KAl2(AlSi3)O10(OH)2</td>\n",
       "      <td>cr</td>\n",
       "      <td>2553.0</td>\n",
       "    </tr>\n",
       "  </tbody>\n",
       "</table>\n",
       "</div>"
      ],
      "text/plain": [
       "      coeff        name              formula state  ispecies\n",
       "2557     -1  K-feldspar           K(AlSi3)O8    cr    2557.0\n",
       "2543     -1   kaolinite        Al2Si2O5(OH)4    cr    2543.0\n",
       "1         1       water                  H2O   liq       1.0\n",
       "67        2        SiO2                 SiO2    aq      67.0\n",
       "2553      1   muscovite  KAl2(AlSi3)O10(OH)2    cr    2553.0"
      ]
     },
     "metadata": {},
     "output_type": "display_data"
    },
    {
     "data": {
      "text/html": [
       "<div>\n",
       "<style scoped>\n",
       "    .dataframe tbody tr th:only-of-type {\n",
       "        vertical-align: middle;\n",
       "    }\n",
       "\n",
       "    .dataframe tbody tr th {\n",
       "        vertical-align: top;\n",
       "    }\n",
       "\n",
       "    .dataframe thead th {\n",
       "        text-align: right;\n",
       "    }\n",
       "</style>\n",
       "<table border=\"1\" class=\"dataframe\">\n",
       "  <thead>\n",
       "    <tr style=\"text-align: right;\">\n",
       "      <th></th>\n",
       "      <th>T</th>\n",
       "      <th>P</th>\n",
       "      <th>rho</th>\n",
       "      <th>logK</th>\n",
       "      <th>G</th>\n",
       "      <th>H</th>\n",
       "      <th>S</th>\n",
       "      <th>V</th>\n",
       "      <th>Cp</th>\n",
       "    </tr>\n",
       "  </thead>\n",
       "  <tbody>\n",
       "    <tr>\n",
       "      <th>1</th>\n",
       "      <td>0.01</td>\n",
       "      <td>1.000000</td>\n",
       "      <td>0.999829</td>\n",
       "      <td>-8.328090</td>\n",
       "      <td>10409.258104</td>\n",
       "      <td>22914.037676</td>\n",
       "      <td>45.779326</td>\n",
       "      <td>-11.155500</td>\n",
       "      <td>-447.204769</td>\n",
       "    </tr>\n",
       "    <tr>\n",
       "      <th>2</th>\n",
       "      <td>25.00</td>\n",
       "      <td>1.000000</td>\n",
       "      <td>0.997061</td>\n",
       "      <td>-7.051003</td>\n",
       "      <td>9619.288519</td>\n",
       "      <td>16134.244670</td>\n",
       "      <td>21.852280</td>\n",
       "      <td>-17.485226</td>\n",
       "      <td>-158.903975</td>\n",
       "    </tr>\n",
       "    <tr>\n",
       "      <th>3</th>\n",
       "      <td>50.00</td>\n",
       "      <td>1.000000</td>\n",
       "      <td>0.988030</td>\n",
       "      <td>-6.220115</td>\n",
       "      <td>9197.288626</td>\n",
       "      <td>13466.922013</td>\n",
       "      <td>13.213475</td>\n",
       "      <td>-20.439476</td>\n",
       "      <td>-68.715258</td>\n",
       "    </tr>\n",
       "    <tr>\n",
       "      <th>4</th>\n",
       "      <td>75.00</td>\n",
       "      <td>1.000000</td>\n",
       "      <td>0.974864</td>\n",
       "      <td>-5.597888</td>\n",
       "      <td>8917.598386</td>\n",
       "      <td>12285.478164</td>\n",
       "      <td>9.674511</td>\n",
       "      <td>-22.119885</td>\n",
       "      <td>-30.581287</td>\n",
       "    </tr>\n",
       "    <tr>\n",
       "      <th>5</th>\n",
       "      <td>100.00</td>\n",
       "      <td>1.013220</td>\n",
       "      <td>0.958393</td>\n",
       "      <td>-5.093168</td>\n",
       "      <td>8696.183136</td>\n",
       "      <td>11782.210421</td>\n",
       "      <td>8.271013</td>\n",
       "      <td>-23.196874</td>\n",
       "      <td>-11.707746</td>\n",
       "    </tr>\n",
       "    <tr>\n",
       "      <th>6</th>\n",
       "      <td>125.00</td>\n",
       "      <td>2.320144</td>\n",
       "      <td>0.939073</td>\n",
       "      <td>-4.662990</td>\n",
       "      <td>8495.098718</td>\n",
       "      <td>11628.131643</td>\n",
       "      <td>7.869733</td>\n",
       "      <td>-23.966840</td>\n",
       "      <td>-1.599566</td>\n",
       "    </tr>\n",
       "    <tr>\n",
       "      <th>7</th>\n",
       "      <td>150.00</td>\n",
       "      <td>4.757169</td>\n",
       "      <td>0.917058</td>\n",
       "      <td>-4.284951</td>\n",
       "      <td>8296.548133</td>\n",
       "      <td>11662.460840</td>\n",
       "      <td>7.955131</td>\n",
       "      <td>-24.602986</td>\n",
       "      <td>3.832525</td>\n",
       "    </tr>\n",
       "    <tr>\n",
       "      <th>8</th>\n",
       "      <td>175.00</td>\n",
       "      <td>8.918049</td>\n",
       "      <td>0.892343</td>\n",
       "      <td>-3.945992</td>\n",
       "      <td>8091.646227</td>\n",
       "      <td>11792.875654</td>\n",
       "      <td>8.259580</td>\n",
       "      <td>-25.246353</td>\n",
       "      <td>6.313741</td>\n",
       "    </tr>\n",
       "    <tr>\n",
       "      <th>9</th>\n",
       "      <td>200.00</td>\n",
       "      <td>15.536499</td>\n",
       "      <td>0.864743</td>\n",
       "      <td>-3.638153</td>\n",
       "      <td>7876.569060</td>\n",
       "      <td>11954.965566</td>\n",
       "      <td>8.620306</td>\n",
       "      <td>-26.063214</td>\n",
       "      <td>6.421813</td>\n",
       "    </tr>\n",
       "    <tr>\n",
       "      <th>10</th>\n",
       "      <td>225.00</td>\n",
       "      <td>25.478603</td>\n",
       "      <td>0.833873</td>\n",
       "      <td>-3.356530</td>\n",
       "      <td>7650.819583</td>\n",
       "      <td>12089.006298</td>\n",
       "      <td>8.909943</td>\n",
       "      <td>-27.319075</td>\n",
       "      <td>3.837636</td>\n",
       "    </tr>\n",
       "    <tr>\n",
       "      <th>11</th>\n",
       "      <td>250.00</td>\n",
       "      <td>39.736493</td>\n",
       "      <td>0.799072</td>\n",
       "      <td>-3.098384</td>\n",
       "      <td>7416.837243</td>\n",
       "      <td>12116.300626</td>\n",
       "      <td>8.983589</td>\n",
       "      <td>-29.536201</td>\n",
       "      <td>-3.136008</td>\n",
       "    </tr>\n",
       "    <tr>\n",
       "      <th>12</th>\n",
       "      <td>275.00</td>\n",
       "      <td>59.431251</td>\n",
       "      <td>0.759236</td>\n",
       "      <td>-2.862989</td>\n",
       "      <td>7180.857459</td>\n",
       "      <td>11893.548108</td>\n",
       "      <td>8.597997</td>\n",
       "      <td>-33.930768</td>\n",
       "      <td>-19.785510</td>\n",
       "    </tr>\n",
       "    <tr>\n",
       "      <th>13</th>\n",
       "      <td>300.00</td>\n",
       "      <td>85.837843</td>\n",
       "      <td>0.712408</td>\n",
       "      <td>-2.652400</td>\n",
       "      <td>6956.079639</td>\n",
       "      <td>11076.799658</td>\n",
       "      <td>7.190127</td>\n",
       "      <td>-43.941600</td>\n",
       "      <td>-64.819056</td>\n",
       "    </tr>\n",
       "    <tr>\n",
       "      <th>14</th>\n",
       "      <td>325.00</td>\n",
       "      <td>120.457572</td>\n",
       "      <td>0.654577</td>\n",
       "      <td>-2.474670</td>\n",
       "      <td>6773.057098</td>\n",
       "      <td>8530.490760</td>\n",
       "      <td>2.938619</td>\n",
       "      <td>-72.658742</td>\n",
       "      <td>-234.155907</td>\n",
       "    </tr>\n",
       "    <tr>\n",
       "      <th>15</th>\n",
       "      <td>350.00</td>\n",
       "      <td>165.211289</td>\n",
       "      <td>0.574688</td>\n",
       "      <td>-2.359478</td>\n",
       "      <td>6727.686469</td>\n",
       "      <td>-2473.987632</td>\n",
       "      <td>-14.765904</td>\n",
       "      <td>-211.500284</td>\n",
       "      <td>-1684.113530</td>\n",
       "    </tr>\n",
       "  </tbody>\n",
       "</table>\n",
       "</div>"
      ],
      "text/plain": [
       "         T           P       rho      logK             G             H  \\\n",
       "1     0.01    1.000000  0.999829 -8.328090  10409.258104  22914.037676   \n",
       "2    25.00    1.000000  0.997061 -7.051003   9619.288519  16134.244670   \n",
       "3    50.00    1.000000  0.988030 -6.220115   9197.288626  13466.922013   \n",
       "4    75.00    1.000000  0.974864 -5.597888   8917.598386  12285.478164   \n",
       "5   100.00    1.013220  0.958393 -5.093168   8696.183136  11782.210421   \n",
       "6   125.00    2.320144  0.939073 -4.662990   8495.098718  11628.131643   \n",
       "7   150.00    4.757169  0.917058 -4.284951   8296.548133  11662.460840   \n",
       "8   175.00    8.918049  0.892343 -3.945992   8091.646227  11792.875654   \n",
       "9   200.00   15.536499  0.864743 -3.638153   7876.569060  11954.965566   \n",
       "10  225.00   25.478603  0.833873 -3.356530   7650.819583  12089.006298   \n",
       "11  250.00   39.736493  0.799072 -3.098384   7416.837243  12116.300626   \n",
       "12  275.00   59.431251  0.759236 -2.862989   7180.857459  11893.548108   \n",
       "13  300.00   85.837843  0.712408 -2.652400   6956.079639  11076.799658   \n",
       "14  325.00  120.457572  0.654577 -2.474670   6773.057098   8530.490760   \n",
       "15  350.00  165.211289  0.574688 -2.359478   6727.686469  -2473.987632   \n",
       "\n",
       "            S           V           Cp  \n",
       "1   45.779326  -11.155500  -447.204769  \n",
       "2   21.852280  -17.485226  -158.903975  \n",
       "3   13.213475  -20.439476   -68.715258  \n",
       "4    9.674511  -22.119885   -30.581287  \n",
       "5    8.271013  -23.196874   -11.707746  \n",
       "6    7.869733  -23.966840    -1.599566  \n",
       "7    7.955131  -24.602986     3.832525  \n",
       "8    8.259580  -25.246353     6.313741  \n",
       "9    8.620306  -26.063214     6.421813  \n",
       "10   8.909943  -27.319075     3.837636  \n",
       "11   8.983589  -29.536201    -3.136008  \n",
       "12   8.597997  -33.930768   -19.785510  \n",
       "13   7.190127  -43.941600   -64.819056  \n",
       "14   2.938619  -72.658742  -234.155907  \n",
       "15 -14.765904 -211.500284 -1684.113530  "
      ]
     },
     "metadata": {},
     "output_type": "display_data"
    },
    {
     "data": {
      "text/plain": [
       "<pyCHNOSZ.fun.SubcrtOutput at 0x7f43d1b1bda0>"
      ]
     },
     "execution_count": 20,
     "metadata": {},
     "output_type": "execute_result"
    }
   ],
   "source": [
    "subcrt(species=[\"K-feldspar\", \"kaolinite\", \"H2O\", \"SiO2\", \"muscovite\"],\n",
    "       coeff=[-1, -1, 1, 2, 1])"
   ]
  },
  {
   "cell_type": "markdown",
   "metadata": {},
   "source": [
    "It is also possible to specify temperature and pressures:"
   ]
  },
  {
   "cell_type": "code",
   "execution_count": 21,
   "metadata": {},
   "outputs": [
    {
     "name": "stdout",
     "output_type": "stream",
     "text": [
      "info.character: found H2O(liq); other available states are cr, gas\n",
      "\n",
      "info.character: found SiO2(aq); other available phases are coesite, cristobalite,alpha, cristobalite,beta, quartz, quartz,beta, tridymite,high, tridymite,low, chalcedony, cristobalite\n",
      "\n",
      "subcrt: 5 species at 255 ºC and 1100 bar (wet) [energy units: cal]\n",
      "\n"
     ]
    },
    {
     "data": {
      "text/html": [
       "<div>\n",
       "<style scoped>\n",
       "    .dataframe tbody tr th:only-of-type {\n",
       "        vertical-align: middle;\n",
       "    }\n",
       "\n",
       "    .dataframe tbody tr th {\n",
       "        vertical-align: top;\n",
       "    }\n",
       "\n",
       "    .dataframe thead th {\n",
       "        text-align: right;\n",
       "    }\n",
       "</style>\n",
       "<table border=\"1\" class=\"dataframe\">\n",
       "  <thead>\n",
       "    <tr style=\"text-align: right;\">\n",
       "      <th></th>\n",
       "      <th>coeff</th>\n",
       "      <th>name</th>\n",
       "      <th>formula</th>\n",
       "      <th>state</th>\n",
       "      <th>ispecies</th>\n",
       "    </tr>\n",
       "  </thead>\n",
       "  <tbody>\n",
       "    <tr>\n",
       "      <th>2557</th>\n",
       "      <td>-1</td>\n",
       "      <td>K-feldspar</td>\n",
       "      <td>K(AlSi3)O8</td>\n",
       "      <td>cr</td>\n",
       "      <td>2557.0</td>\n",
       "    </tr>\n",
       "    <tr>\n",
       "      <th>2543</th>\n",
       "      <td>-1</td>\n",
       "      <td>kaolinite</td>\n",
       "      <td>Al2Si2O5(OH)4</td>\n",
       "      <td>cr</td>\n",
       "      <td>2543.0</td>\n",
       "    </tr>\n",
       "    <tr>\n",
       "      <th>1</th>\n",
       "      <td>1</td>\n",
       "      <td>water</td>\n",
       "      <td>H2O</td>\n",
       "      <td>liq</td>\n",
       "      <td>1.0</td>\n",
       "    </tr>\n",
       "    <tr>\n",
       "      <th>67</th>\n",
       "      <td>2</td>\n",
       "      <td>SiO2</td>\n",
       "      <td>SiO2</td>\n",
       "      <td>aq</td>\n",
       "      <td>67.0</td>\n",
       "    </tr>\n",
       "    <tr>\n",
       "      <th>2553</th>\n",
       "      <td>1</td>\n",
       "      <td>muscovite</td>\n",
       "      <td>KAl2(AlSi3)O10(OH)2</td>\n",
       "      <td>cr</td>\n",
       "      <td>2553.0</td>\n",
       "    </tr>\n",
       "  </tbody>\n",
       "</table>\n",
       "</div>"
      ],
      "text/plain": [
       "      coeff        name              formula state  ispecies\n",
       "2557     -1  K-feldspar           K(AlSi3)O8    cr    2557.0\n",
       "2543     -1   kaolinite        Al2Si2O5(OH)4    cr    2543.0\n",
       "1         1       water                  H2O   liq       1.0\n",
       "67        2        SiO2                 SiO2    aq      67.0\n",
       "2553      1   muscovite  KAl2(AlSi3)O10(OH)2    cr    2553.0"
      ]
     },
     "metadata": {},
     "output_type": "display_data"
    },
    {
     "data": {
      "text/html": [
       "<div>\n",
       "<style scoped>\n",
       "    .dataframe tbody tr th:only-of-type {\n",
       "        vertical-align: middle;\n",
       "    }\n",
       "\n",
       "    .dataframe tbody tr th {\n",
       "        vertical-align: top;\n",
       "    }\n",
       "\n",
       "    .dataframe thead th {\n",
       "        text-align: right;\n",
       "    }\n",
       "</style>\n",
       "<table border=\"1\" class=\"dataframe\">\n",
       "  <thead>\n",
       "    <tr style=\"text-align: right;\">\n",
       "      <th></th>\n",
       "      <th>T</th>\n",
       "      <th>P</th>\n",
       "      <th>rho</th>\n",
       "      <th>logK</th>\n",
       "      <th>G</th>\n",
       "      <th>H</th>\n",
       "      <th>S</th>\n",
       "      <th>V</th>\n",
       "      <th>Cp</th>\n",
       "    </tr>\n",
       "  </thead>\n",
       "  <tbody>\n",
       "    <tr>\n",
       "      <th>1</th>\n",
       "      <td>255.0</td>\n",
       "      <td>1100</td>\n",
       "      <td>0.877722</td>\n",
       "      <td>-2.75729</td>\n",
       "      <td>6663.417575</td>\n",
       "      <td>12127.355096</td>\n",
       "      <td>10.345998</td>\n",
       "      <td>-27.272605</td>\n",
       "      <td>11.16644</td>\n",
       "    </tr>\n",
       "  </tbody>\n",
       "</table>\n",
       "</div>"
      ],
      "text/plain": [
       "       T     P       rho     logK            G             H          S  \\\n",
       "1  255.0  1100  0.877722 -2.75729  6663.417575  12127.355096  10.345998   \n",
       "\n",
       "           V        Cp  \n",
       "1 -27.272605  11.16644  "
      ]
     },
     "metadata": {},
     "output_type": "display_data"
    },
    {
     "data": {
      "text/plain": [
       "<pyCHNOSZ.fun.SubcrtOutput at 0x7f43d19f80f0>"
      ]
     },
     "execution_count": 21,
     "metadata": {},
     "output_type": "execute_result"
    }
   ],
   "source": [
    "subcrt(species=[\"K-feldspar\", \"kaolinite\", \"H2O\", \"SiO2\", \"muscovite\"],\n",
    "       coeff=[-1, -1, 1, 2, 1],\n",
    "       T=255, P=1100)"
   ]
  },
  {
   "cell_type": "markdown",
   "metadata": {},
   "source": [
    "Create a predominance diagram of minerals in the K$_2$O-Al$_2$O$_3$-SiO$_2$-H$_2$O system:"
   ]
  },
  {
   "cell_type": "code",
   "execution_count": 22,
   "metadata": {},
   "outputs": [
    {
     "name": "stdout",
     "output_type": "stream",
     "text": [
      "add.OBIGT: read 3 rows; made 2 replacements, 1 additions [energy units: cal]\n",
      "\n",
      "affinity: temperature is 25 ºC\n",
      "\n",
      "affinity: pressure is Psat\n",
      "\n",
      "affinity: variable 1 is log10(a_H4SiO4) at 600 values from -8 to 0\n",
      "\n",
      "affinity: variable 2 is log10(a_K+) at 600 values from -1 to 8\n",
      "\n",
      "subcrt: 11 species at 25 ºC and 1 bar (wet) [energy units: cal]\n",
      "\n"
     ]
    },
    {
     "data": {
      "image/png": "[encoded data removed]",
      "text/plain": [
       "<IPython.core.display.Image object>"
      ]
     },
     "metadata": {},
     "output_type": "display_data"
    },
    {
     "name": "stdout",
     "output_type": "stream",
     "text": [
      "balance: on moles of Al+3 in formation reactions\n",
      "\n",
      "diagram: using maximum affinity method for 2-D diagram\n",
      "\n"
     ]
    }
   ],
   "source": [
    "# make HSiO4 available\n",
    "add_OBIGT(\"AS04\") \n",
    "\n",
    "# define basis and species in a mini-speciation calculation\n",
    "basis([\"Al+3\", \"H4SiO4\", \"K+\", \"H2O\", \"H+\", \"O2\"])\n",
    "species([\"gibbsite\", \"muscovite\", \"kaolinite\", \"pyrophyllite\", \"K-feldspar\"])\n",
    "\n",
    "# what basis species should go on the x and y axes? Ranges? Number of calculations?\n",
    "params = {\"H4SiO4\":[-8, 0, 600], \"K+\":[-1, 8, 600]}\n",
    "a = affinity(**params)\n",
    "\n",
    "# create the diagram\n",
    "_ = diagram(a, xlab=\"log(aH4SiO4)\", ylab=\"log(aK+/aH+)\", fill=\"terrain\")"
   ]
  },
  {
   "cell_type": "markdown",
   "metadata": {},
   "source": [
    "---\n",
    "## Estimate thermodynamic properties of aqueous organics with AqOrg"
   ]
  },
  {
   "cell_type": "markdown",
   "metadata": {},
   "source": [
    "<img src=\"https://gitlab.com/worm1/worm-figures/-/raw/master/WORM-tour/AqOrg_slide.png\" title=\"AqOrg\" width=800/>"
   ]
  },
  {
   "cell_type": "markdown",
   "metadata": {},
   "source": [
    "<img src=\"https://gitlab.com/worm1/worm-figures/-/raw/master/5-Thermodynamic-Property-Estimation/1-Aq-Organics-Intro-Demo/Figure-1.png\" width=800 height=600 style=\"background-color:white;padding:0px;\"/>"
   ]
  },
  {
   "cell_type": "markdown",
   "metadata": {},
   "source": [
    "First, import the package:"
   ]
  },
  {
   "cell_type": "code",
   "execution_count": 23,
   "metadata": {},
   "outputs": [],
   "source": [
    "from AqOrg import Estimate"
   ]
  },
  {
   "cell_type": "markdown",
   "metadata": {},
   "source": [
    "Estimate the properties of the molecule with `Estimate()`"
   ]
  },
  {
   "cell_type": "code",
   "execution_count": 24,
   "metadata": {},
   "outputs": [
    {
     "data": {
      "image/svg+xml": [
       "<svg baseProfile=\"full\" height=\"150px\" version=\"1.1\" width=\"450px\" xml:space=\"preserve\" xmlns=\"http://www.w3.org/2000/svg\" xmlns:rdkit=\"http://www.rdkit.org/xml\" xmlns:xlink=\"http://www.w3.org/1999/xlink\">\n",
       "<rect height=\"150\" style=\"opacity:1.0;fill:#FFFFFF;stroke:none\" width=\"450\" x=\"0\" y=\"0\"> </rect>\n",
       "<path d=\"M 20.4545,92.6442 81.5759,57.3558\" style=\"fill:none;fill-rule:evenodd;stroke:#000000;stroke-width:2px;stroke-linecap:butt;stroke-linejoin:miter;stroke-opacity:1\"/>\n",
       "<path d=\"M 81.5759,57.3558 142.697,92.6442\" style=\"fill:none;fill-rule:evenodd;stroke:#000000;stroke-width:2px;stroke-linecap:butt;stroke-linejoin:miter;stroke-opacity:1\"/>\n",
       "<path d=\"M 142.697,92.6442 203.818,57.3558\" style=\"fill:none;fill-rule:evenodd;stroke:#000000;stroke-width:2px;stroke-linecap:butt;stroke-linejoin:miter;stroke-opacity:1\"/>\n",
       "<path d=\"M 203.818,57.3558 264.94,92.6442\" style=\"fill:none;fill-rule:evenodd;stroke:#000000;stroke-width:2px;stroke-linecap:butt;stroke-linejoin:miter;stroke-opacity:1\"/>\n",
       "<path d=\"M 264.94,92.6442 326.061,57.3558\" style=\"fill:none;fill-rule:evenodd;stroke:#000000;stroke-width:2px;stroke-linecap:butt;stroke-linejoin:miter;stroke-opacity:1\"/>\n",
       "<path d=\"M 326.061,57.3558 350.127,71.25\" style=\"fill:none;fill-rule:evenodd;stroke:#000000;stroke-width:2px;stroke-linecap:butt;stroke-linejoin:miter;stroke-opacity:1\"/>\n",
       "<path d=\"M 350.127,71.25 374.192,85.1442\" style=\"fill:none;fill-rule:evenodd;stroke:#FF0000;stroke-width:2px;stroke-linecap:butt;stroke-linejoin:miter;stroke-opacity:1\"/>\n",
       "<text style=\"font-size:15px;font-style:normal;font-weight:normal;fill-opacity:1;stroke:none;font-family:sans-serif;text-anchor:start;fill:#FF0000\" x=\"373.677\" y=\"100.144\"><tspan>OH</tspan></text>\n",
       "</svg>"
      ],
      "text/plain": [
       "<IPython.core.display.SVG object>"
      ]
     },
     "metadata": {},
     "output_type": "display_data"
    }
   ],
   "source": [
    "hexanol = Estimate(\"1-hexanol\")"
   ]
  },
  {
   "cell_type": "markdown",
   "metadata": {},
   "source": [
    "View group matches:"
   ]
  },
  {
   "cell_type": "code",
   "execution_count": 25,
   "metadata": {},
   "outputs": [
    {
     "data": {
      "text/html": [
       "<div>\n",
       "<style scoped>\n",
       "    .dataframe tbody tr th:only-of-type {\n",
       "        vertical-align: middle;\n",
       "    }\n",
       "\n",
       "    .dataframe tbody tr th {\n",
       "        vertical-align: top;\n",
       "    }\n",
       "\n",
       "    .dataframe thead th {\n",
       "        text-align: right;\n",
       "    }\n",
       "</style>\n",
       "<table border=\"1\" class=\"dataframe\">\n",
       "  <thead>\n",
       "    <tr style=\"text-align: right;\">\n",
       "      <th></th>\n",
       "      <th>[C!H3]-[CX4H3R0]</th>\n",
       "      <th>C-[CX4H2R0]-C</th>\n",
       "      <th>O-[CX4H2]-C</th>\n",
       "      <th>C-[OX2H]</th>\n",
       "      <th>formula</th>\n",
       "    </tr>\n",
       "  </thead>\n",
       "  <tbody>\n",
       "    <tr>\n",
       "      <th>1-hexanol</th>\n",
       "      <td>1</td>\n",
       "      <td>4</td>\n",
       "      <td>1</td>\n",
       "      <td>1</td>\n",
       "      <td>C6H14O</td>\n",
       "    </tr>\n",
       "  </tbody>\n",
       "</table>\n",
       "</div>"
      ],
      "text/plain": [
       "           [C!H3]-[CX4H3R0]  C-[CX4H2R0]-C  O-[CX4H2]-C  C-[OX2H] formula\n",
       "1-hexanol                 1              4            1         1  C6H14O"
      ]
     },
     "execution_count": 25,
     "metadata": {},
     "output_type": "execute_result"
    }
   ],
   "source": [
    "hexanol.group_matches"
   ]
  },
  {
   "cell_type": "markdown",
   "metadata": {},
   "source": [
    "View estimated properties:"
   ]
  },
  {
   "cell_type": "code",
   "execution_count": 26,
   "metadata": {},
   "outputs": [
    {
     "data": {
      "text/html": [
       "<div>\n",
       "<style scoped>\n",
       "    .dataframe tbody tr th:only-of-type {\n",
       "        vertical-align: middle;\n",
       "    }\n",
       "\n",
       "    .dataframe tbody tr th {\n",
       "        vertical-align: top;\n",
       "    }\n",
       "\n",
       "    .dataframe thead th {\n",
       "        text-align: right;\n",
       "    }\n",
       "</style>\n",
       "<table border=\"1\" class=\"dataframe\">\n",
       "  <thead>\n",
       "    <tr style=\"text-align: right;\">\n",
       "      <th></th>\n",
       "      <th>name</th>\n",
       "      <th>abbrv</th>\n",
       "      <th>formula</th>\n",
       "      <th>state</th>\n",
       "      <th>ref1</th>\n",
       "      <th>ref2</th>\n",
       "      <th>date</th>\n",
       "      <th>E_units</th>\n",
       "      <th>G</th>\n",
       "      <th>H</th>\n",
       "      <th>...</th>\n",
       "      <th>Cp</th>\n",
       "      <th>V</th>\n",
       "      <th>a1.a</th>\n",
       "      <th>a2.b</th>\n",
       "      <th>a3.c</th>\n",
       "      <th>a4.d</th>\n",
       "      <th>c1.e</th>\n",
       "      <th>c2.f</th>\n",
       "      <th>omega.lambda</th>\n",
       "      <th>z.T</th>\n",
       "    </tr>\n",
       "  </thead>\n",
       "  <tbody>\n",
       "    <tr>\n",
       "      <th>0</th>\n",
       "      <td>1-hexanol</td>\n",
       "      <td>C6H14O</td>\n",
       "      <td>C6H14O</td>\n",
       "      <td>aq</td>\n",
       "      <td>AqOrg</td>\n",
       "      <td>GrpAdd</td>\n",
       "      <td>26/07/2021 15:39:08</td>\n",
       "      <td>J</td>\n",
       "      <td>-147480.0</td>\n",
       "      <td>-387470.0</td>\n",
       "      <td>...</td>\n",
       "      <td>613.200273</td>\n",
       "      <td>117.72</td>\n",
       "      <td>98.783255</td>\n",
       "      <td>70.450358</td>\n",
       "      <td>119.933082</td>\n",
       "      <td>-46.711667</td>\n",
       "      <td>581.936497</td>\n",
       "      <td>12.6553</td>\n",
       "      <td>-0.602091</td>\n",
       "      <td>0</td>\n",
       "    </tr>\n",
       "  </tbody>\n",
       "</table>\n",
       "<p>1 rows × 21 columns</p>\n",
       "</div>"
      ],
      "text/plain": [
       "        name   abbrv formula state   ref1    ref2                 date  \\\n",
       "0  1-hexanol  C6H14O  C6H14O    aq  AqOrg  GrpAdd  26/07/2021 15:39:08   \n",
       "\n",
       "  E_units         G         H  ...          Cp       V       a1.a       a2.b  \\\n",
       "0       J -147480.0 -387470.0  ...  613.200273  117.72  98.783255  70.450358   \n",
       "\n",
       "         a3.c       a4.d        c1.e     c2.f  omega.lambda  z.T  \n",
       "0  119.933082 -46.711667  581.936497  12.6553     -0.602091    0  \n",
       "\n",
       "[1 rows x 21 columns]"
      ]
     },
     "execution_count": 26,
     "metadata": {},
     "output_type": "execute_result"
    }
   ],
   "source": [
    "hexanol.OBIGT"
   ]
  },
  {
   "cell_type": "markdown",
   "metadata": {},
   "source": [
    "### Example: Archaeal Lipids"
   ]
  },
  {
   "cell_type": "markdown",
   "metadata": {},
   "source": [
    "Archaeol is a lipid biomarker for Archaea."
   ]
  },
  {
   "cell_type": "markdown",
   "metadata": {},
   "source": [
    "<img src=\"http://www.clovegarden.com/ingred/img/archaea01l.jpg\" title=\"archaeal membrane\" width=600/>\n",
    "<img src=\"https://gitlab.com/worm1/worm-figures/-/raw/master/WORM-tour/Archaeol_structure.png\" title=\"archaeol\" width=600 style=\"background-color:white;padding:20px;\"/>\n",
    "<img src=\"https://gitlab.com/worm1/worm-figures/-/raw/master/WORM-tour/Unsaturated_archaeol.png\" title=\"unsaturated archaeol\" width=600 style=\"background-color:white;padding:20px;\"/>"
   ]
  },
  {
   "cell_type": "markdown",
   "metadata": {},
   "source": [
    "Estimate the properties of archaeol with `Estimate()`."
   ]
  },
  {
   "cell_type": "code",
   "execution_count": 27,
   "metadata": {},
   "outputs": [
    {
     "data": {
      "image/svg+xml": [
       "<svg baseProfile=\"full\" height=\"150px\" version=\"1.1\" width=\"450px\" xml:space=\"preserve\" xmlns=\"http://www.w3.org/2000/svg\" xmlns:rdkit=\"http://www.rdkit.org/xml\" xmlns:xlink=\"http://www.w3.org/1999/xlink\">\n",
       "<rect height=\"150\" style=\"opacity:1.0;fill:#FFFFFF;stroke:none\" width=\"450\" x=\"0\" y=\"0\"> </rect>\n",
       "<path d=\"M 413.673,6.81818 400.625,16.5767\" style=\"fill:none;fill-rule:evenodd;stroke:#000000;stroke-width:2px;stroke-linecap:butt;stroke-linejoin:miter;stroke-opacity:1\"/>\n",
       "<path d=\"M 400.625,16.5767 385.65,10.1561\" style=\"fill:none;fill-rule:evenodd;stroke:#000000;stroke-width:2px;stroke-linecap:butt;stroke-linejoin:miter;stroke-opacity:1\"/>\n",
       "<path d=\"M 400.625,16.5767 402.552,32.7557\" style=\"fill:none;fill-rule:evenodd;stroke:#000000;stroke-width:2px;stroke-linecap:butt;stroke-linejoin:miter;stroke-opacity:1\"/>\n",
       "<path d=\"M 402.552,32.7557 389.504,42.5142\" style=\"fill:none;fill-rule:evenodd;stroke:#000000;stroke-width:2px;stroke-linecap:butt;stroke-linejoin:miter;stroke-opacity:1\"/>\n",
       "<path d=\"M 389.504,42.5142 391.432,58.6933\" style=\"fill:none;fill-rule:evenodd;stroke:#000000;stroke-width:2px;stroke-linecap:butt;stroke-linejoin:miter;stroke-opacity:1\"/>\n",
       "<path d=\"M 391.432,58.6933 378.384,68.4518\" style=\"fill:none;fill-rule:evenodd;stroke:#000000;stroke-width:2px;stroke-linecap:butt;stroke-linejoin:miter;stroke-opacity:1\"/>\n",
       "<path d=\"M 378.384,68.4518 380.311,84.6308\" style=\"fill:none;fill-rule:evenodd;stroke:#000000;stroke-width:2px;stroke-linecap:butt;stroke-linejoin:miter;stroke-opacity:1\"/>\n",
       "<path d=\"M 378.384,68.4518 363.409,62.0312\" style=\"fill:none;fill-rule:evenodd;stroke:#000000;stroke-width:2px;stroke-linecap:butt;stroke-linejoin:miter;stroke-opacity:1\"/>\n",
       "<path d=\"M 363.409,62.0312 350.361,71.7897\" style=\"fill:none;fill-rule:evenodd;stroke:#000000;stroke-width:2px;stroke-linecap:butt;stroke-linejoin:miter;stroke-opacity:1\"/>\n",
       "<path d=\"M 350.361,71.7897 335.386,65.3692\" style=\"fill:none;fill-rule:evenodd;stroke:#000000;stroke-width:2px;stroke-linecap:butt;stroke-linejoin:miter;stroke-opacity:1\"/>\n",
       "<path d=\"M 335.386,65.3692 322.338,75.1277\" style=\"fill:none;fill-rule:evenodd;stroke:#000000;stroke-width:2px;stroke-linecap:butt;stroke-linejoin:miter;stroke-opacity:1\"/>\n",
       "<path d=\"M 322.338,75.1277 307.363,68.7071\" style=\"fill:none;fill-rule:evenodd;stroke:#000000;stroke-width:2px;stroke-linecap:butt;stroke-linejoin:miter;stroke-opacity:1\"/>\n",
       "<path d=\"M 322.338,75.1277 324.265,91.3067\" style=\"fill:none;fill-rule:evenodd;stroke:#000000;stroke-width:2px;stroke-linecap:butt;stroke-linejoin:miter;stroke-opacity:1\"/>\n",
       "<path d=\"M 324.265,91.3067 311.217,101.065\" style=\"fill:none;fill-rule:evenodd;stroke:#000000;stroke-width:2px;stroke-linecap:butt;stroke-linejoin:miter;stroke-opacity:1\"/>\n",
       "<path d=\"M 311.217,101.065 313.144,117.244\" style=\"fill:none;fill-rule:evenodd;stroke:#000000;stroke-width:2px;stroke-linecap:butt;stroke-linejoin:miter;stroke-opacity:1\"/>\n",
       "<path d=\"M 313.144,117.244 300.096,127.003\" style=\"fill:none;fill-rule:evenodd;stroke:#000000;stroke-width:2px;stroke-linecap:butt;stroke-linejoin:miter;stroke-opacity:1\"/>\n",
       "<path d=\"M 300.096,127.003 302.024,143.182\" style=\"fill:none;fill-rule:evenodd;stroke:#000000;stroke-width:2px;stroke-linecap:butt;stroke-linejoin:miter;stroke-opacity:1\"/>\n",
       "<path d=\"M 300.096,127.003 285.121,120.582\" style=\"fill:none;fill-rule:evenodd;stroke:#000000;stroke-width:2px;stroke-linecap:butt;stroke-linejoin:miter;stroke-opacity:1\"/>\n",
       "<path d=\"M 285.121,120.582 272.073,130.341\" style=\"fill:none;fill-rule:evenodd;stroke:#000000;stroke-width:2px;stroke-linecap:butt;stroke-linejoin:miter;stroke-opacity:1\"/>\n",
       "<path d=\"M 272.073,130.341 265.854,127.674\" style=\"fill:none;fill-rule:evenodd;stroke:#000000;stroke-width:2px;stroke-linecap:butt;stroke-linejoin:miter;stroke-opacity:1\"/>\n",
       "<path d=\"M 265.854,127.674 259.635,125.008\" style=\"fill:none;fill-rule:evenodd;stroke:#FF0000;stroke-width:2px;stroke-linecap:butt;stroke-linejoin:miter;stroke-opacity:1\"/>\n",
       "<path d=\"M 254.562,125.817 249.306,129.748\" style=\"fill:none;fill-rule:evenodd;stroke:#FF0000;stroke-width:2px;stroke-linecap:butt;stroke-linejoin:miter;stroke-opacity:1\"/>\n",
       "<path d=\"M 249.306,129.748 244.05,133.679\" style=\"fill:none;fill-rule:evenodd;stroke:#000000;stroke-width:2px;stroke-linecap:butt;stroke-linejoin:miter;stroke-opacity:1\"/>\n",
       "<path d=\"M 244.05,133.679 229.075,127.258\" style=\"fill:none;fill-rule:evenodd;stroke:#000000;stroke-width:2px;stroke-linecap:butt;stroke-linejoin:miter;stroke-opacity:1\"/>\n",
       "<path d=\"M 229.075,127.258 216.028,137.017\" style=\"fill:none;fill-rule:evenodd;stroke:#000000;stroke-width:2px;stroke-linecap:butt;stroke-linejoin:miter;stroke-opacity:1\"/>\n",
       "<path d=\"M 229.075,127.258 228.274,120.526\" style=\"fill:none;fill-rule:evenodd;stroke:#000000;stroke-width:2px;stroke-linecap:butt;stroke-linejoin:miter;stroke-opacity:1\"/>\n",
       "<path d=\"M 228.274,120.526 227.472,113.795\" style=\"fill:none;fill-rule:evenodd;stroke:#FF0000;stroke-width:2px;stroke-linecap:butt;stroke-linejoin:miter;stroke-opacity:1\"/>\n",
       "<path d=\"M 216.028,137.017 210.985,134.855\" style=\"fill:none;fill-rule:evenodd;stroke:#000000;stroke-width:2px;stroke-linecap:butt;stroke-linejoin:miter;stroke-opacity:1\"/>\n",
       "<path d=\"M 210.985,134.855 205.942,132.693\" style=\"fill:none;fill-rule:evenodd;stroke:#FF0000;stroke-width:2px;stroke-linecap:butt;stroke-linejoin:miter;stroke-opacity:1\"/>\n",
       "<path d=\"M 224.612,109.992 218.393,107.325\" style=\"fill:none;fill-rule:evenodd;stroke:#FF0000;stroke-width:2px;stroke-linecap:butt;stroke-linejoin:miter;stroke-opacity:1\"/>\n",
       "<path d=\"M 218.393,107.325 212.173,104.658\" style=\"fill:none;fill-rule:evenodd;stroke:#000000;stroke-width:2px;stroke-linecap:butt;stroke-linejoin:miter;stroke-opacity:1\"/>\n",
       "<path d=\"M 212.173,104.658 210.246,88.4794\" style=\"fill:none;fill-rule:evenodd;stroke:#000000;stroke-width:2px;stroke-linecap:butt;stroke-linejoin:miter;stroke-opacity:1\"/>\n",
       "<path d=\"M 210.246,88.4794 195.271,82.0589\" style=\"fill:none;fill-rule:evenodd;stroke:#000000;stroke-width:2px;stroke-linecap:butt;stroke-linejoin:miter;stroke-opacity:1\"/>\n",
       "<path d=\"M 195.271,82.0589 193.344,65.8798\" style=\"fill:none;fill-rule:evenodd;stroke:#000000;stroke-width:2px;stroke-linecap:butt;stroke-linejoin:miter;stroke-opacity:1\"/>\n",
       "<path d=\"M 195.271,82.0589 182.223,91.8174\" style=\"fill:none;fill-rule:evenodd;stroke:#000000;stroke-width:2px;stroke-linecap:butt;stroke-linejoin:miter;stroke-opacity:1\"/>\n",
       "<path d=\"M 182.223,91.8174 167.248,85.3968\" style=\"fill:none;fill-rule:evenodd;stroke:#000000;stroke-width:2px;stroke-linecap:butt;stroke-linejoin:miter;stroke-opacity:1\"/>\n",
       "<path d=\"M 167.248,85.3968 154.2,95.1553\" style=\"fill:none;fill-rule:evenodd;stroke:#000000;stroke-width:2px;stroke-linecap:butt;stroke-linejoin:miter;stroke-opacity:1\"/>\n",
       "<path d=\"M 154.2,95.1553 139.225,88.7347\" style=\"fill:none;fill-rule:evenodd;stroke:#000000;stroke-width:2px;stroke-linecap:butt;stroke-linejoin:miter;stroke-opacity:1\"/>\n",
       "<path d=\"M 139.225,88.7347 126.177,98.4932\" style=\"fill:none;fill-rule:evenodd;stroke:#000000;stroke-width:2px;stroke-linecap:butt;stroke-linejoin:miter;stroke-opacity:1\"/>\n",
       "<path d=\"M 139.225,88.7347 137.298,72.5557\" style=\"fill:none;fill-rule:evenodd;stroke:#000000;stroke-width:2px;stroke-linecap:butt;stroke-linejoin:miter;stroke-opacity:1\"/>\n",
       "<path d=\"M 137.298,72.5557 122.323,66.1351\" style=\"fill:none;fill-rule:evenodd;stroke:#000000;stroke-width:2px;stroke-linecap:butt;stroke-linejoin:miter;stroke-opacity:1\"/>\n",
       "<path d=\"M 122.323,66.1351 120.396,49.9561\" style=\"fill:none;fill-rule:evenodd;stroke:#000000;stroke-width:2px;stroke-linecap:butt;stroke-linejoin:miter;stroke-opacity:1\"/>\n",
       "<path d=\"M 120.396,49.9561 105.421,43.5355\" style=\"fill:none;fill-rule:evenodd;stroke:#000000;stroke-width:2px;stroke-linecap:butt;stroke-linejoin:miter;stroke-opacity:1\"/>\n",
       "<path d=\"M 105.421,43.5355 103.494,27.3565\" style=\"fill:none;fill-rule:evenodd;stroke:#000000;stroke-width:2px;stroke-linecap:butt;stroke-linejoin:miter;stroke-opacity:1\"/>\n",
       "<path d=\"M 105.421,43.5355 92.3728,53.294\" style=\"fill:none;fill-rule:evenodd;stroke:#000000;stroke-width:2px;stroke-linecap:butt;stroke-linejoin:miter;stroke-opacity:1\"/>\n",
       "<path d=\"M 92.3728,53.294 77.3977,46.8734\" style=\"fill:none;fill-rule:evenodd;stroke:#000000;stroke-width:2px;stroke-linecap:butt;stroke-linejoin:miter;stroke-opacity:1\"/>\n",
       "<path d=\"M 77.3977,46.8734 64.3499,56.6319\" style=\"fill:none;fill-rule:evenodd;stroke:#000000;stroke-width:2px;stroke-linecap:butt;stroke-linejoin:miter;stroke-opacity:1\"/>\n",
       "<path d=\"M 64.3499,56.6319 49.3748,50.2114\" style=\"fill:none;fill-rule:evenodd;stroke:#000000;stroke-width:2px;stroke-linecap:butt;stroke-linejoin:miter;stroke-opacity:1\"/>\n",
       "<path d=\"M 49.3748,50.2114 36.3269,59.9699\" style=\"fill:none;fill-rule:evenodd;stroke:#000000;stroke-width:2px;stroke-linecap:butt;stroke-linejoin:miter;stroke-opacity:1\"/>\n",
       "<path d=\"M 49.3748,50.2114 47.4476,34.0323\" style=\"fill:none;fill-rule:evenodd;stroke:#000000;stroke-width:2px;stroke-linecap:butt;stroke-linejoin:miter;stroke-opacity:1\"/>\n",
       "<text style=\"font-size:5px;font-style:normal;font-weight:normal;fill-opacity:1;stroke:none;font-family:sans-serif;text-anchor:start;fill:#FF0000\" x=\"254.562\" y=\"126.636\"><tspan>O</tspan></text>\n",
       "<text style=\"font-size:5px;font-style:normal;font-weight:normal;fill-opacity:1;stroke:none;font-family:sans-serif;text-anchor:start;fill:#FF0000\" x=\"196.163\" y=\"133.312\"><tspan>HO</tspan></text>\n",
       "<text style=\"font-size:5px;font-style:normal;font-weight:normal;fill-opacity:1;stroke:none;font-family:sans-serif;text-anchor:start;fill:#FF0000\" x=\"224.612\" y=\"113.795\"><tspan>O</tspan></text>\n",
       "</svg>"
      ],
      "text/plain": [
       "<IPython.core.display.SVG object>"
      ]
     },
     "metadata": {},
     "output_type": "display_data"
    }
   ],
   "source": [
    "archaeol = Estimate(\"archaeol\", Cph=2633)"
   ]
  },
  {
   "cell_type": "code",
   "execution_count": 28,
   "metadata": {},
   "outputs": [
    {
     "data": {
      "text/html": [
       "<div>\n",
       "<style scoped>\n",
       "    .dataframe tbody tr th:only-of-type {\n",
       "        vertical-align: middle;\n",
       "    }\n",
       "\n",
       "    .dataframe tbody tr th {\n",
       "        vertical-align: top;\n",
       "    }\n",
       "\n",
       "    .dataframe thead th {\n",
       "        text-align: right;\n",
       "    }\n",
       "</style>\n",
       "<table border=\"1\" class=\"dataframe\">\n",
       "  <thead>\n",
       "    <tr style=\"text-align: right;\">\n",
       "      <th></th>\n",
       "      <th>name</th>\n",
       "      <th>abbrv</th>\n",
       "      <th>formula</th>\n",
       "      <th>state</th>\n",
       "      <th>ref1</th>\n",
       "      <th>ref2</th>\n",
       "      <th>date</th>\n",
       "      <th>E_units</th>\n",
       "      <th>G</th>\n",
       "      <th>H</th>\n",
       "      <th>...</th>\n",
       "      <th>Cp</th>\n",
       "      <th>V</th>\n",
       "      <th>a1.a</th>\n",
       "      <th>a2.b</th>\n",
       "      <th>a3.c</th>\n",
       "      <th>a4.d</th>\n",
       "      <th>c1.e</th>\n",
       "      <th>c2.f</th>\n",
       "      <th>omega.lambda</th>\n",
       "      <th>z.T</th>\n",
       "    </tr>\n",
       "  </thead>\n",
       "  <tbody>\n",
       "    <tr>\n",
       "      <th>0</th>\n",
       "      <td>archaeol</td>\n",
       "      <td>C43H88O3</td>\n",
       "      <td>C43H88O3</td>\n",
       "      <td>aq</td>\n",
       "      <td>AqOrg</td>\n",
       "      <td>GrpAdd</td>\n",
       "      <td>26/07/2021 15:39:09</td>\n",
       "      <td>J</td>\n",
       "      <td>-70530.0</td>\n",
       "      <td>-1617450.0</td>\n",
       "      <td>...</td>\n",
       "      <td>3664.52079</td>\n",
       "      <td>709.94</td>\n",
       "      <td>599.206356</td>\n",
       "      <td>415.887609</td>\n",
       "      <td>825.540648</td>\n",
       "      <td>-304.983826</td>\n",
       "      <td>3638.546169</td>\n",
       "      <td>10.42243</td>\n",
       "      <td>-0.520494</td>\n",
       "      <td>0</td>\n",
       "    </tr>\n",
       "  </tbody>\n",
       "</table>\n",
       "<p>1 rows × 21 columns</p>\n",
       "</div>"
      ],
      "text/plain": [
       "       name     abbrv   formula state   ref1    ref2                 date  \\\n",
       "0  archaeol  C43H88O3  C43H88O3    aq  AqOrg  GrpAdd  26/07/2021 15:39:09   \n",
       "\n",
       "  E_units        G          H  ...          Cp       V        a1.a  \\\n",
       "0       J -70530.0 -1617450.0  ...  3664.52079  709.94  599.206356   \n",
       "\n",
       "         a2.b        a3.c        a4.d         c1.e      c2.f  omega.lambda  \\\n",
       "0  415.887609  825.540648 -304.983826  3638.546169  10.42243     -0.520494   \n",
       "\n",
       "   z.T  \n",
       "0    0  \n",
       "\n",
       "[1 rows x 21 columns]"
      ]
     },
     "execution_count": 28,
     "metadata": {},
     "output_type": "execute_result"
    }
   ],
   "source": [
    "archaeol.OBIGT"
   ]
  },
  {
   "cell_type": "code",
   "execution_count": 29,
   "metadata": {},
   "outputs": [
    {
     "data": {
      "image/svg+xml": [
       "<svg baseProfile=\"full\" height=\"150px\" version=\"1.1\" width=\"450px\" xml:space=\"preserve\" xmlns=\"http://www.w3.org/2000/svg\" xmlns:rdkit=\"http://www.rdkit.org/xml\" xmlns:xlink=\"http://www.w3.org/1999/xlink\">\n",
       "<rect height=\"150\" style=\"opacity:1.0;fill:#FFFFFF;stroke:none\" width=\"450\" x=\"0\" y=\"0\"> </rect>\n",
       "<path d=\"M 413.673,6.81818 400.625,16.5767\" style=\"fill:none;fill-rule:evenodd;stroke:#000000;stroke-width:2px;stroke-linecap:butt;stroke-linejoin:miter;stroke-opacity:1\"/>\n",
       "<path d=\"M 400.625,16.5767 402.552,32.7557\" style=\"fill:none;fill-rule:evenodd;stroke:#000000;stroke-width:2px;stroke-linecap:butt;stroke-linejoin:miter;stroke-opacity:1\"/>\n",
       "<path d=\"M 404.15,18.6181 405.499,29.9434\" style=\"fill:none;fill-rule:evenodd;stroke:#000000;stroke-width:2px;stroke-linecap:butt;stroke-linejoin:miter;stroke-opacity:1\"/>\n",
       "<path d=\"M 400.625,16.5767 385.65,10.1561\" style=\"fill:none;fill-rule:evenodd;stroke:#000000;stroke-width:2px;stroke-linecap:butt;stroke-linejoin:miter;stroke-opacity:1\"/>\n",
       "<path d=\"M 402.552,32.7557 389.504,42.5142\" style=\"fill:none;fill-rule:evenodd;stroke:#000000;stroke-width:2px;stroke-linecap:butt;stroke-linejoin:miter;stroke-opacity:1\"/>\n",
       "<path d=\"M 389.504,42.5142 391.432,58.6933\" style=\"fill:none;fill-rule:evenodd;stroke:#000000;stroke-width:2px;stroke-linecap:butt;stroke-linejoin:miter;stroke-opacity:1\"/>\n",
       "<path d=\"M 391.432,58.6933 378.384,68.4518\" style=\"fill:none;fill-rule:evenodd;stroke:#000000;stroke-width:2px;stroke-linecap:butt;stroke-linejoin:miter;stroke-opacity:1\"/>\n",
       "<path d=\"M 378.384,68.4518 363.409,62.0312\" style=\"fill:none;fill-rule:evenodd;stroke:#000000;stroke-width:2px;stroke-linecap:butt;stroke-linejoin:miter;stroke-opacity:1\"/>\n",
       "<path d=\"M 377.422,64.4937 366.939,59.9993\" style=\"fill:none;fill-rule:evenodd;stroke:#000000;stroke-width:2px;stroke-linecap:butt;stroke-linejoin:miter;stroke-opacity:1\"/>\n",
       "<path d=\"M 378.384,68.4518 380.311,84.6308\" style=\"fill:none;fill-rule:evenodd;stroke:#000000;stroke-width:2px;stroke-linecap:butt;stroke-linejoin:miter;stroke-opacity:1\"/>\n",
       "<path d=\"M 363.409,62.0312 350.361,71.7897\" style=\"fill:none;fill-rule:evenodd;stroke:#000000;stroke-width:2px;stroke-linecap:butt;stroke-linejoin:miter;stroke-opacity:1\"/>\n",
       "<path d=\"M 350.361,71.7897 335.386,65.3692\" style=\"fill:none;fill-rule:evenodd;stroke:#000000;stroke-width:2px;stroke-linecap:butt;stroke-linejoin:miter;stroke-opacity:1\"/>\n",
       "<path d=\"M 335.386,65.3692 322.338,75.1277\" style=\"fill:none;fill-rule:evenodd;stroke:#000000;stroke-width:2px;stroke-linecap:butt;stroke-linejoin:miter;stroke-opacity:1\"/>\n",
       "<path d=\"M 322.338,75.1277 324.265,91.3067\" style=\"fill:none;fill-rule:evenodd;stroke:#000000;stroke-width:2px;stroke-linecap:butt;stroke-linejoin:miter;stroke-opacity:1\"/>\n",
       "<path d=\"M 325.863,77.1691 327.212,88.4944\" style=\"fill:none;fill-rule:evenodd;stroke:#000000;stroke-width:2px;stroke-linecap:butt;stroke-linejoin:miter;stroke-opacity:1\"/>\n",
       "<path d=\"M 322.338,75.1277 307.363,68.7071\" style=\"fill:none;fill-rule:evenodd;stroke:#000000;stroke-width:2px;stroke-linecap:butt;stroke-linejoin:miter;stroke-opacity:1\"/>\n",
       "<path d=\"M 324.265,91.3067 311.217,101.065\" style=\"fill:none;fill-rule:evenodd;stroke:#000000;stroke-width:2px;stroke-linecap:butt;stroke-linejoin:miter;stroke-opacity:1\"/>\n",
       "<path d=\"M 311.217,101.065 313.144,117.244\" style=\"fill:none;fill-rule:evenodd;stroke:#000000;stroke-width:2px;stroke-linecap:butt;stroke-linejoin:miter;stroke-opacity:1\"/>\n",
       "<path d=\"M 313.144,117.244 300.096,127.003\" style=\"fill:none;fill-rule:evenodd;stroke:#000000;stroke-width:2px;stroke-linecap:butt;stroke-linejoin:miter;stroke-opacity:1\"/>\n",
       "<path d=\"M 300.096,127.003 285.121,120.582\" style=\"fill:none;fill-rule:evenodd;stroke:#000000;stroke-width:2px;stroke-linecap:butt;stroke-linejoin:miter;stroke-opacity:1\"/>\n",
       "<path d=\"M 299.134,123.045 288.652,118.55\" style=\"fill:none;fill-rule:evenodd;stroke:#000000;stroke-width:2px;stroke-linecap:butt;stroke-linejoin:miter;stroke-opacity:1\"/>\n",
       "<path d=\"M 300.096,127.003 302.024,143.182\" style=\"fill:none;fill-rule:evenodd;stroke:#000000;stroke-width:2px;stroke-linecap:butt;stroke-linejoin:miter;stroke-opacity:1\"/>\n",
       "<path d=\"M 285.121,120.582 272.073,130.341\" style=\"fill:none;fill-rule:evenodd;stroke:#000000;stroke-width:2px;stroke-linecap:butt;stroke-linejoin:miter;stroke-opacity:1\"/>\n",
       "<path d=\"M 272.073,130.341 265.854,127.674\" style=\"fill:none;fill-rule:evenodd;stroke:#000000;stroke-width:2px;stroke-linecap:butt;stroke-linejoin:miter;stroke-opacity:1\"/>\n",
       "<path d=\"M 265.854,127.674 259.635,125.008\" style=\"fill:none;fill-rule:evenodd;stroke:#FF0000;stroke-width:2px;stroke-linecap:butt;stroke-linejoin:miter;stroke-opacity:1\"/>\n",
       "<path d=\"M 254.562,125.817 249.306,129.748\" style=\"fill:none;fill-rule:evenodd;stroke:#FF0000;stroke-width:2px;stroke-linecap:butt;stroke-linejoin:miter;stroke-opacity:1\"/>\n",
       "<path d=\"M 249.306,129.748 244.05,133.679\" style=\"fill:none;fill-rule:evenodd;stroke:#000000;stroke-width:2px;stroke-linecap:butt;stroke-linejoin:miter;stroke-opacity:1\"/>\n",
       "<path d=\"M 244.05,133.679 229.075,127.258\" style=\"fill:none;fill-rule:evenodd;stroke:#000000;stroke-width:2px;stroke-linecap:butt;stroke-linejoin:miter;stroke-opacity:1\"/>\n",
       "<path d=\"M 229.075,127.258 216.028,137.017\" style=\"fill:none;fill-rule:evenodd;stroke:#000000;stroke-width:2px;stroke-linecap:butt;stroke-linejoin:miter;stroke-opacity:1\"/>\n",
       "<path d=\"M 229.075,127.258 228.274,120.526\" style=\"fill:none;fill-rule:evenodd;stroke:#000000;stroke-width:2px;stroke-linecap:butt;stroke-linejoin:miter;stroke-opacity:1\"/>\n",
       "<path d=\"M 228.274,120.526 227.472,113.795\" style=\"fill:none;fill-rule:evenodd;stroke:#FF0000;stroke-width:2px;stroke-linecap:butt;stroke-linejoin:miter;stroke-opacity:1\"/>\n",
       "<path d=\"M 216.028,137.017 210.985,134.855\" style=\"fill:none;fill-rule:evenodd;stroke:#000000;stroke-width:2px;stroke-linecap:butt;stroke-linejoin:miter;stroke-opacity:1\"/>\n",
       "<path d=\"M 210.985,134.855 205.942,132.693\" style=\"fill:none;fill-rule:evenodd;stroke:#FF0000;stroke-width:2px;stroke-linecap:butt;stroke-linejoin:miter;stroke-opacity:1\"/>\n",
       "<path d=\"M 224.612,109.992 218.393,107.325\" style=\"fill:none;fill-rule:evenodd;stroke:#FF0000;stroke-width:2px;stroke-linecap:butt;stroke-linejoin:miter;stroke-opacity:1\"/>\n",
       "<path d=\"M 218.393,107.325 212.173,104.658\" style=\"fill:none;fill-rule:evenodd;stroke:#000000;stroke-width:2px;stroke-linecap:butt;stroke-linejoin:miter;stroke-opacity:1\"/>\n",
       "<path d=\"M 212.173,104.658 210.246,88.4794\" style=\"fill:none;fill-rule:evenodd;stroke:#000000;stroke-width:2px;stroke-linecap:butt;stroke-linejoin:miter;stroke-opacity:1\"/>\n",
       "<path d=\"M 210.246,88.4794 195.271,82.0589\" style=\"fill:none;fill-rule:evenodd;stroke:#000000;stroke-width:2px;stroke-linecap:butt;stroke-linejoin:miter;stroke-opacity:1\"/>\n",
       "<path d=\"M 206.716,90.5113 196.233,86.017\" style=\"fill:none;fill-rule:evenodd;stroke:#000000;stroke-width:2px;stroke-linecap:butt;stroke-linejoin:miter;stroke-opacity:1\"/>\n",
       "<path d=\"M 195.271,82.0589 193.344,65.8798\" style=\"fill:none;fill-rule:evenodd;stroke:#000000;stroke-width:2px;stroke-linecap:butt;stroke-linejoin:miter;stroke-opacity:1\"/>\n",
       "<path d=\"M 195.271,82.0589 182.223,91.8174\" style=\"fill:none;fill-rule:evenodd;stroke:#000000;stroke-width:2px;stroke-linecap:butt;stroke-linejoin:miter;stroke-opacity:1\"/>\n",
       "<path d=\"M 182.223,91.8174 167.248,85.3968\" style=\"fill:none;fill-rule:evenodd;stroke:#000000;stroke-width:2px;stroke-linecap:butt;stroke-linejoin:miter;stroke-opacity:1\"/>\n",
       "<path d=\"M 167.248,85.3968 154.2,95.1553\" style=\"fill:none;fill-rule:evenodd;stroke:#000000;stroke-width:2px;stroke-linecap:butt;stroke-linejoin:miter;stroke-opacity:1\"/>\n",
       "<path d=\"M 154.2,95.1553 139.225,88.7347\" style=\"fill:none;fill-rule:evenodd;stroke:#000000;stroke-width:2px;stroke-linecap:butt;stroke-linejoin:miter;stroke-opacity:1\"/>\n",
       "<path d=\"M 153.238,91.1972 142.755,86.7028\" style=\"fill:none;fill-rule:evenodd;stroke:#000000;stroke-width:2px;stroke-linecap:butt;stroke-linejoin:miter;stroke-opacity:1\"/>\n",
       "<path d=\"M 139.225,88.7347 126.177,98.4932\" style=\"fill:none;fill-rule:evenodd;stroke:#000000;stroke-width:2px;stroke-linecap:butt;stroke-linejoin:miter;stroke-opacity:1\"/>\n",
       "<path d=\"M 139.225,88.7347 137.298,72.5557\" style=\"fill:none;fill-rule:evenodd;stroke:#000000;stroke-width:2px;stroke-linecap:butt;stroke-linejoin:miter;stroke-opacity:1\"/>\n",
       "<path d=\"M 137.298,72.5557 122.323,66.1351\" style=\"fill:none;fill-rule:evenodd;stroke:#000000;stroke-width:2px;stroke-linecap:butt;stroke-linejoin:miter;stroke-opacity:1\"/>\n",
       "<path d=\"M 122.323,66.1351 120.396,49.9561\" style=\"fill:none;fill-rule:evenodd;stroke:#000000;stroke-width:2px;stroke-linecap:butt;stroke-linejoin:miter;stroke-opacity:1\"/>\n",
       "<path d=\"M 120.396,49.9561 105.421,43.5355\" style=\"fill:none;fill-rule:evenodd;stroke:#000000;stroke-width:2px;stroke-linecap:butt;stroke-linejoin:miter;stroke-opacity:1\"/>\n",
       "<path d=\"M 116.865,51.988 106.383,47.4936\" style=\"fill:none;fill-rule:evenodd;stroke:#000000;stroke-width:2px;stroke-linecap:butt;stroke-linejoin:miter;stroke-opacity:1\"/>\n",
       "<path d=\"M 105.421,43.5355 103.494,27.3565\" style=\"fill:none;fill-rule:evenodd;stroke:#000000;stroke-width:2px;stroke-linecap:butt;stroke-linejoin:miter;stroke-opacity:1\"/>\n",
       "<path d=\"M 105.421,43.5355 92.3728,53.294\" style=\"fill:none;fill-rule:evenodd;stroke:#000000;stroke-width:2px;stroke-linecap:butt;stroke-linejoin:miter;stroke-opacity:1\"/>\n",
       "<path d=\"M 92.3728,53.294 77.3977,46.8734\" style=\"fill:none;fill-rule:evenodd;stroke:#000000;stroke-width:2px;stroke-linecap:butt;stroke-linejoin:miter;stroke-opacity:1\"/>\n",
       "<path d=\"M 77.3977,46.8734 64.3499,56.6319\" style=\"fill:none;fill-rule:evenodd;stroke:#000000;stroke-width:2px;stroke-linecap:butt;stroke-linejoin:miter;stroke-opacity:1\"/>\n",
       "<path d=\"M 64.3499,56.6319 49.3748,50.2114\" style=\"fill:none;fill-rule:evenodd;stroke:#000000;stroke-width:2px;stroke-linecap:butt;stroke-linejoin:miter;stroke-opacity:1\"/>\n",
       "<path d=\"M 63.3877,52.6738 52.9052,48.1795\" style=\"fill:none;fill-rule:evenodd;stroke:#000000;stroke-width:2px;stroke-linecap:butt;stroke-linejoin:miter;stroke-opacity:1\"/>\n",
       "<path d=\"M 49.3748,50.2114 36.3269,59.9699\" style=\"fill:none;fill-rule:evenodd;stroke:#000000;stroke-width:2px;stroke-linecap:butt;stroke-linejoin:miter;stroke-opacity:1\"/>\n",
       "<path d=\"M 49.3748,50.2114 47.4476,34.0323\" style=\"fill:none;fill-rule:evenodd;stroke:#000000;stroke-width:2px;stroke-linecap:butt;stroke-linejoin:miter;stroke-opacity:1\"/>\n",
       "<text style=\"font-size:5px;font-style:normal;font-weight:normal;fill-opacity:1;stroke:none;font-family:sans-serif;text-anchor:start;fill:#FF0000\" x=\"254.562\" y=\"126.636\"><tspan>O</tspan></text>\n",
       "<text style=\"font-size:5px;font-style:normal;font-weight:normal;fill-opacity:1;stroke:none;font-family:sans-serif;text-anchor:start;fill:#FF0000\" x=\"196.163\" y=\"133.312\"><tspan>HO</tspan></text>\n",
       "<text style=\"font-size:5px;font-style:normal;font-weight:normal;fill-opacity:1;stroke:none;font-family:sans-serif;text-anchor:start;fill:#FF0000\" x=\"224.612\" y=\"113.795\"><tspan>O</tspan></text>\n",
       "</svg>"
      ],
      "text/plain": [
       "<IPython.core.display.SVG object>"
      ]
     },
     "metadata": {},
     "output_type": "display_data"
    }
   ],
   "source": [
    "unsaturated_archaeol = Estimate(\"2,3-Bis[[(2E,6E,10E)-3,7,11,15-tetramethylhexadeca-2,6,10,14-tetraenyl]oxy]-1-propanol\", Cph=2593)"
   ]
  },
  {
   "cell_type": "markdown",
   "metadata": {},
   "source": [
    "Estimated properties can be imported into pyCHNOSZ with `mod_OBIGT()`:"
   ]
  },
  {
   "cell_type": "code",
   "execution_count": 30,
   "metadata": {},
   "outputs": [
    {
     "name": "stdout",
     "output_type": "stream",
     "text": [
      "mod.OBIGT: added archaeol(aq) with energy units of J\n",
      "\n",
      "mod.OBIGT: added 2,3-Bis[[(2E,6E,10E)-3,7,11,15-tetramethylhexadeca-2,6,10,14-tetraenyl]oxy]-1-propanol(aq) with energy units of J\n",
      "\n"
     ]
    },
    {
     "data": {
      "text/plain": [
       "[3497]"
      ]
     },
     "execution_count": 30,
     "metadata": {},
     "output_type": "execute_result"
    }
   ],
   "source": [
    "# make archaeol and unsaturated archaeol available to pyCHNOSZ\n",
    "mod_OBIGT(archaeol.OBIGT)\n",
    "mod_OBIGT(unsaturated_archaeol.OBIGT)"
   ]
  },
  {
   "cell_type": "markdown",
   "metadata": {},
   "source": [
    "Now that these lipids are loaded into pyCHNOSZ, we can create an activity diagram:"
   ]
  },
  {
   "cell_type": "code",
   "execution_count": 31,
   "metadata": {},
   "outputs": [
    {
     "name": "stdout",
     "output_type": "stream",
     "text": [
      "affinity: pressure is Psat\n",
      "\n",
      "affinity: variable 1 is log10(a_H2) at 600 values from -30 to 0\n",
      "\n",
      "affinity: variable 2 is T at 600 values from 273.15 to 623.15 K\n",
      "\n",
      "subcrt: 5 species at 600 values of T (ºC) and P (bar) (wet) [energy units: cal]\n",
      "\n"
     ]
    },
    {
     "data": {
      "image/png": "[encoded data removed]",
      "text/plain": [
       "<IPython.core.display.Image object>"
      ]
     },
     "metadata": {},
     "output_type": "display_data"
    },
    {
     "name": "stdout",
     "output_type": "stream",
     "text": [
      "balance: on moles of CO2 in formation reactions\n",
      "\n",
      "diagram: using maximum affinity method for 2-D diagram\n",
      "\n"
     ]
    }
   ],
   "source": [
    "# define basis and species in a mini-speciation calculation\n",
    "basis([\"CO2\", \"H2\", \"H2O\"])\n",
    "species([\"archaeol\", \"2,3-Bis[[(2E,6E,10E)-3,7,11,15-tetramethylhexadeca-2,6,10,14-tetraenyl]oxy]-1-propanol\"])\n",
    "\n",
    "# what basis species should go on the x and y axes? Ranges? Number of calculations?\n",
    "a = affinity(H2=[-30, 0, 600], T=[0, 350, 600])\n",
    "\n",
    "# create the diagram\n",
    "_ = diagram(a, names=[\"archaeol\", \"unsaturated archaeol\"], fill=\"terrain\")"
   ]
  },
  {
   "cell_type": "markdown",
   "metadata": {},
   "source": [
    "---"
   ]
  },
  {
   "cell_type": "markdown",
   "metadata": {},
   "source": [
    "<img src=\"https://gitlab.com/worm1/worm-figures/-/raw/master/WORM-tour/outline.png\" title=\"outline\" width=800/>"
   ]
  },
  {
   "cell_type": "markdown",
   "metadata": {},
   "source": [
    "<img src=\"https://gitlab.com/worm1/worm-figures/-/raw/master/WORM-tour/wrapup.png\" title=\"wrap up\" width=800/>"
   ]
  },
  {
   "cell_type": "markdown",
   "metadata": {},
   "source": [
    "<img src=\"https://gitlab.com/worm1/worm-figures/-/raw/master/WORM-tour/thanks.png\" title=\"acknowledgements\" width=800/>"
   ]
  },
  {
   "cell_type": "code",
   "execution_count": null,
   "metadata": {},
   "outputs": [],
   "source": []
  }
 ],
 "metadata": {
  "kernelspec": {
   "display_name": "Python 3",
   "language": "python",
   "name": "python3"
  },
  "language_info": {
   "codemirror_mode": {
    "name": "ipython",
    "version": 3
   },
   "file_extension": ".py",
   "mimetype": "text/x-python",
   "name": "python",
   "nbconvert_exporter": "python",
   "pygments_lexer": "ipython3",
   "version": "3.7.0"
  }
 },
 "nbformat": 4,
 "nbformat_minor": 4
}
