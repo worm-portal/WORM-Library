{
 "cells": [
  {
   "cell_type": "markdown",
   "metadata": {},
   "source": [
    "<left>\n",
    "<table style=\"margin-top:0px; margin-left:0px;\">\n",
    "<tr>\n",
    "  <td><img src=\"https://raw.githubusercontent.com/worm-portal/WORM-Figures/master/style/worm.png\" alt=\"WORM\" title=\"WORM\" width=50/></td>\n",
    "  <td><h1 style=font-size:30px>Intro to Mass Transfer and Reaction Path Calculations</h1><h2>Reacting diopside (CaMgSi2O6) with fluid</h2></td>\n",
    "</tr>\n",
    "</table>\n",
    "</left>"
   ]
  },
  {
   "cell_type": "markdown",
   "metadata": {},
   "source": [
    "In the example below, a geochemical process called serpentinization will be simulated. A pH 6 fluid defined in `diopsidepH6_input.csv` will be speciated and then reacted with 1 mole of [diopside](https://www.mindat.org/min-1294.html) (clinopyroxene) bit-by-bit until the reaction is complete. This may produce the serpentine mineral [chrysotile](https://www.mindat.org/min-975.html) as well as [talc](https://www.mindat.org/min-3875.html) and [tremolite](https://www.mindat.org/min-4011.html), cause the pH of the fluid to dramatically increase until it becomes hyperalkaline (pH >10 at low temperature), and may ultimately reach equilibrium with diopside.\n",
    "\n",
    "[Diopside](https://en.wikipedia.org/wiki/Diopside) is a monoclinic pyroxene mineral with composition CaMgSi2O6 that occurs in ultramafic rocks like peridotites as well as basalts and other igneous and metamophic rocks. When these rocks are altered serpentine and other minerals form.\n",
    "\n",
    "Many different kinds of data are produced from the calculation that can be visualized with interactive plots. Most of these plots show how mineral masses or fluid compositions change as a function of reaction progress (Xi), which is quantified via the number of moles of the reactant mineral that have reacted. If equilibrium is reached with the reactant mineral the calculation ends. If not, the calculation ends when the reactant mineral is exhausted and has been completely altered into new minerals and a changed fluid composition."
   ]
  },
  {
   "cell_type": "markdown",
   "metadata": {},
   "source": [
    "Load the Python package."
   ]
  },
  {
   "cell_type": "code",
   "execution_count": null,
   "metadata": {},
   "outputs": [],
   "source": [
    "import AqEquil"
   ]
  },
  {
   "cell_type": "markdown",
   "metadata": {},
   "source": [
    "Load the thermodynamic database and exclude organics to cut down on calculation time."
   ]
  },
  {
   "cell_type": "code",
   "execution_count": null,
   "metadata": {},
   "outputs": [],
   "source": [
    "ae = AqEquil.AqEquil(exclude_category={\"category_1\":[\"organic_aq\", \"organic_cr\"]})"
   ]
  },
  {
   "cell_type": "markdown",
   "metadata": {},
   "source": [
    "Speciate the pH 6 fluid defined in `diopsidepH6_input.csv`. \n",
    "\n",
    "[Antigorite](https://www.mindat.org/min-260.html) is not a stable serpentine mineral at the conditions of this calculation, so we will ensure its formation is suppressed using the `alter_options` parameter. You may want to allow antigorite to form at other reaction conditions."
   ]
  },
  {
   "cell_type": "code",
   "execution_count": null,
   "metadata": {},
   "outputs": [],
   "source": [
    "speciation = ae.speciate(input_filename=\"diopsidepH6_input.csv\",\n",
    "                         alter_options=[[\"antigorite\", \"Suppress\"]],\n",
    "                        )"
   ]
  },
  {
   "cell_type": "markdown",
   "metadata": {},
   "source": [
    "Prepare the reaction by selecting reactant minerals. In this case, we will prepare diopside to react with the pH 6 fluid, which is a crude approximation of rain."
   ]
  },
  {
   "cell_type": "code",
   "execution_count": null,
   "metadata": {},
   "outputs": [],
   "source": [
    "Diop = AqEquil.Reactant(reactant_name=\"diopside\")\n",
    "\n",
    "r = AqEquil.Prepare_Reaction(reactants=[Diop])"
   ]
  },
  {
   "cell_type": "markdown",
   "metadata": {},
   "source": [
    "Run the reaction."
   ]
  },
  {
   "cell_type": "code",
   "execution_count": null,
   "metadata": {},
   "outputs": [],
   "source": [
    "speciation = AqEquil.react(speciation, r)"
   ]
  },
  {
   "cell_type": "markdown",
   "metadata": {},
   "source": [
    "Select the sample by its name, `pH6HCl`, for analysis and plotting."
   ]
  },
  {
   "cell_type": "code",
   "execution_count": null,
   "metadata": {},
   "outputs": [],
   "source": [
    "m = speciation.mt(\"pH6HCl\")"
   ]
  },
  {
   "cell_type": "markdown",
   "metadata": {},
   "source": [
    "## Available plot types"
   ]
  },
  {
   "cell_type": "markdown",
   "metadata": {},
   "source": [
    "Plot pH as a function of reaction progress (Xi). Remember that diopside reacts incrementally as reaction progress increases. If log Xi does not reach 0 then your calculation reached equilibrium with diopside."
   ]
  },
  {
   "cell_type": "code",
   "execution_count": null,
   "metadata": {},
   "outputs": [],
   "source": [
    "m.plot_pH()"
   ]
  },
  {
   "cell_type": "markdown",
   "metadata": {},
   "source": [
    "Plot concentrations of dissolved elements as a function of reaction progress (Xi). You can think of this as a plot of the total concentrations of each element (represented as an ion like Ca+2 or Cl-, or as a solute molecule like SiO2) dissolved in the water that may correspond to analytical data on water samples."
   ]
  },
  {
   "cell_type": "code",
   "execution_count": null,
   "metadata": {},
   "outputs": [],
   "source": [
    "m.plot_elements(log=False)"
   ]
  },
  {
   "cell_type": "markdown",
   "metadata": {},
   "source": [
    "Plot activity of aqueous basis species as a function of reaction progress (Xi). This figure depicts changes in terms of the chemical species you used to specify the initial composition of the fluid. "
   ]
  },
  {
   "cell_type": "code",
   "execution_count": null,
   "metadata": {},
   "outputs": [],
   "source": [
    "m.plot_aqueous_species(plot_basis=True)"
   ]
  },
  {
   "cell_type": "markdown",
   "metadata": {},
   "source": [
    "Plot activity of all aqueous species as functions of reaction progress (Xi). Now we're looking at the changes in abundance of each form of each element dissolved in the water."
   ]
  },
  {
   "cell_type": "code",
   "execution_count": null,
   "metadata": {},
   "outputs": [],
   "source": [
    "m.plot_aqueous_species(plot_basis=False)"
   ]
  },
  {
   "cell_type": "markdown",
   "metadata": {},
   "source": [
    "Plot moles of product minerals as a function of reaction progress (Xi).\n",
    "\n",
    "In this type of plot most curves are initially very steep indicating the small change in reaction progress associated with reaching partial equilibrium with that mineral. In the model simulation that mineral is allowed to form, which then drives changes in solute trajectories with increasing reaction progress. The abrupt ends of mineral curves indicate conditions where minerals are replaced by other minerals over the course of reaction progress. Changes in the alteration assemblage of minerals are also often associated with changes in solute trajectories. If equilibrium with the reactant mineral (dioside in this case) is reached the calculations stops; that mineral will be listed but no curve will be evident since the total mass of diopside no longer changes."
   ]
  },
  {
   "cell_type": "code",
   "execution_count": null,
   "metadata": {},
   "outputs": [],
   "source": [
    "m.plot_product_minerals(show_reactant_minerals=False)"
   ]
  },
  {
   "cell_type": "markdown",
   "metadata": {},
   "source": [
    "Create an interactive reaction path diagram. In this case, log activities of basis species SiO2, Mg+2, and Ca+2 are automatically chosen as axis variables allowing the generation of three activity diagrams.\n",
    "\n",
    "Once the plots are ready, hover your mouse over each plot to see more.\n",
    "\n",
    "Reaction paths are drawn as red curves on these plots with symbols corresponding to steps of reaction progress. Open symbols are projections onto the surface of the figure and filled symbols fall on the figure as shown. Keep in mind that mineral fields and lines underlying open symbols and the path segments between them do not correspond to minerals that appear in the calculation at those stages of reaction progress!"
   ]
  },
  {
   "cell_type": "code",
   "execution_count": null,
   "metadata": {},
   "outputs": [],
   "source": [
    "fig_list = m.plot_reaction_paths(flip_xy=False, # flip variables on x and y axes?\n",
    "                                 colormap=\"bw\", # black and white colormap for the background\n",
    "                                 minerals_to_show=[\"quartz\",\"brucite\"], # show the quartz saturation line for reference\n",
    "                                 )\n",
    "\n",
    "_ = [fig.show() for fig in fig_list]"
   ]
  },
  {
   "cell_type": "markdown",
   "metadata": {},
   "source": [
    "Plot mass contribution of a basis species across reaction progress (Xi).\n",
    "\n",
    "In this case, how does the speciation of SiO2 change with Xi?"
   ]
  },
  {
   "cell_type": "code",
   "execution_count": null,
   "metadata": {},
   "outputs": [],
   "source": [
    "m.plot_mass_contribution(\"SiO2\")"
   ]
  },
  {
   "cell_type": "markdown",
   "metadata": {},
   "source": [
    "## Tables"
   ]
  },
  {
   "cell_type": "markdown",
   "metadata": {},
   "source": [
    "Print a list of available tables."
   ]
  },
  {
   "cell_type": "code",
   "execution_count": null,
   "metadata": {},
   "outputs": [],
   "source": [
    "m.print_tabs()"
   ]
  },
  {
   "cell_type": "markdown",
   "metadata": {},
   "source": [
    "Display Table P by copy-pasting its full name from the list above"
   ]
  },
  {
   "cell_type": "code",
   "execution_count": null,
   "metadata": {},
   "outputs": [],
   "source": [
    "m.tab[\"Table P Moles of product minerals\"]"
   ]
  },
  {
   "cell_type": "markdown",
   "metadata": {},
   "source": [
    "Display Table D1 in the same way"
   ]
  },
  {
   "cell_type": "code",
   "execution_count": null,
   "metadata": {},
   "outputs": [],
   "source": [
    "m.tab[\"Table D1 Solute basis species(total molality)\"]"
   ]
  },
  {
   "cell_type": "markdown",
   "metadata": {},
   "source": [
    "Display a table of the log activity of aqueous species at different values of Xi. The `.head()` means only the first five rows are displayed in the notebook."
   ]
  },
  {
   "cell_type": "code",
   "execution_count": null,
   "metadata": {},
   "outputs": [],
   "source": [
    "m.aq_distribution.head()"
   ]
  },
  {
   "cell_type": "markdown",
   "metadata": {},
   "source": [
    "Documentation is available for any function by including `?` at the end of the function name. For instance, here is the documentation for the `AqEquil.Reactant` function used earlier in the notebook to define forsterite and fayalite as minerals to react with speciated fluids:"
   ]
  },
  {
   "cell_type": "code",
   "execution_count": null,
   "metadata": {},
   "outputs": [],
   "source": [
    "AqEquil.Reactant?"
   ]
  }
 ],
 "metadata": {
  "kernelspec": {
   "display_name": "Python 3",
   "language": "python",
   "name": "python3"
  },
  "language_info": {
   "codemirror_mode": {
    "name": "ipython",
    "version": 3
   },
   "file_extension": ".py",
   "mimetype": "text/x-python",
   "name": "python",
   "nbconvert_exporter": "python",
   "pygments_lexer": "ipython3",
   "version": "3.11.0"
  }
 },
 "nbformat": 4,
 "nbformat_minor": 4
}
