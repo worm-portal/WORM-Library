{
 "cells": [
  {
   "cell_type": "markdown",
   "metadata": {},
   "source": [
    "<left>\n",
    "<table style=\"margin-top:0px; margin-left:0px;\">\n",
    "<tr>\n",
    "  <td><img src=\"https://raw.githubusercontent.com/worm-portal/WORM-Figures/master/style/worm.png\" alt=\"WORM\" title=\"WORM\" width=50/></td>\n",
    "  <td><h1 style=font-size:30px>Heterogeneous Equilibrium:<br>Rocks Under Pressure!</h1><h2>WORM Workshop May 6, 2022</h2><br />\n",
    "</tr>\n",
    "</table>\n",
    "</left>"
   ]
  },
  {
   "cell_type": "markdown",
   "metadata": {},
   "source": [
    "<img src=\"https://upload.wikimedia.org/wikipedia/commons/0/00/HuangShan.JPG\" alt=\"Granite\" title=\"'A granite peak at Huangshan, China'\" width=500/>\n",
    "\n",
    "A granite peak at Huangshan, China (Arne Hückelheim)"
   ]
  },
  {
   "cell_type": "markdown",
   "metadata": {},
   "source": [
    "It's typical to have a rock sample, but unusual to have a sample of water that was in the ground when the mineral assemblage was formed.\n",
    "\n",
    "What kind of temperature and pressure did the rock form at? What was dissolved in the fluid?"
   ]
  },
  {
   "cell_type": "markdown",
   "metadata": {},
   "source": [
    "<img src=\"https://static.nautil.us/6392_3001ef257407d5a371a96dcd947c7d93.jpg\" alt=\"Granite\" title=\"'Granite meets water in the Sierra Mountains'\" width=500/>\n",
    "\n",
    "Granite meets water in the Sierra Mountains (Julia Rosen)"
   ]
  },
  {
   "cell_type": "markdown",
   "metadata": {},
   "source": [
    "The fluid is long gone, but we can use thermodynamic calculations to estimate it. It's also possible to explore the effects of temperature and pressure on the chemical activities of dissolved species."
   ]
  },
  {
   "cell_type": "markdown",
   "metadata": {},
   "source": [
    "### Buffer solutes with minerals"
   ]
  },
  {
   "cell_type": "markdown",
   "metadata": {},
   "source": [
    "How can we estimate the geochemistry of a ~0.5 molal NaCl fluid in equilibrium with granite?\n",
    "\n",
    "First of all, [what's in granite?](https://nature.berkeley.edu/classes/eps2/wisc/granite.html)\n",
    "- 80% of the rock:\n",
    "    - [quartz](https://en.wikipedia.org/wiki/Quartz) (10-50%)\n",
    "    - potassium and plagioclase [feldspar](https://en.wikipedia.org/wiki/Feldspar) (like albite)\n",
    "- other common minerals:\n",
    "    - [mica](https://en.wikipedia.org/wiki/Mica) ([muscovite](https://en.wikipedia.org/wiki/Muscovite) and [biotite](https://en.wikipedia.org/wiki/Biotite))\n",
    "    - [hornblende](https://en.wikipedia.org/wiki/Hornblende) ([amphibole](https://en.wikipedia.org/wiki/Amphibole))\n",
    "    \n",
    "Based on the elements in these minerals, the solution in our aqueous speciation calculation should include basis species to constrain Si, K, Na, Al, Fe, Mg (and others, if the granite has been hydrothermally altered with other minerals).\n",
    "\n",
    "Open the `granite0.csv` input file. It includes some initial constraints that represent a starting guess, but none of the basis species are in equilibrium with minerals yet.\n",
    "\n",
    "The basis species constraining Si is aqueous SiO$_2$. The initial guess for the concentration of dissolved silica is $3\\times10^{-3}$ molal.\n",
    "\n",
    "We can run the sample as-is with:"
   ]
  },
  {
   "cell_type": "code",
   "execution_count": 1,
   "metadata": {},
   "outputs": [],
   "source": [
    "# get the notebook ready\n",
    "import AqEquil\n",
    "ae = AqEquil.AqEquil()"
   ]
  },
  {
   "cell_type": "code",
   "execution_count": 2,
   "metadata": {},
   "outputs": [
    {
     "name": "stdout",
     "output_type": "stream",
     "text": [
      "Getting 'wrm_data.csv' ready. This will take a moment...\n",
      "Using wrm_data.csv to speciate granite0\n",
      "Finished!\n"
     ]
    }
   ],
   "source": [
    "# speciate the sample\n",
    "speciation_0 = ae.speciate(\n",
    "    input_filename = \"granite0.csv\", # name of csv with fluid sample data\n",
    "    db = \"https://raw.githubusercontent.com/worm-portal/WORM-db/master/wrm_data.csv\", # thermodynamic database\n",
    "    redox_flag = \"logfO2\", # desired option for setting redox state, logfO2 by default\n",
    "    report_filename = \"granite0report.csv\", # filename for results\n",
    "    )"
   ]
  },
  {
   "cell_type": "markdown",
   "metadata": {},
   "source": [
    "Once the speciation is finished, results can be viewed in the `granite0report.csv` file, or with the lookup function:"
   ]
  },
  {
   "cell_type": "code",
   "execution_count": 3,
   "metadata": {},
   "outputs": [
    {
     "data": {
      "text/html": [
       "<div>\n",
       "<style scoped>\n",
       "    .dataframe tbody tr th:only-of-type {\n",
       "        vertical-align: middle;\n",
       "    }\n",
       "\n",
       "    .dataframe tbody tr th {\n",
       "        vertical-align: top;\n",
       "    }\n",
       "\n",
       "    .dataframe thead tr th {\n",
       "        text-align: left;\n",
       "    }\n",
       "</style>\n",
       "<table border=\"1\" class=\"dataframe\">\n",
       "  <thead>\n",
       "    <tr>\n",
       "      <th>Sample</th>\n",
       "      <th>Temperature</th>\n",
       "      <th>Pressure</th>\n",
       "      <th>logfO2</th>\n",
       "      <th>pH</th>\n",
       "    </tr>\n",
       "    <tr>\n",
       "      <th></th>\n",
       "      <th>degC</th>\n",
       "      <th>bar</th>\n",
       "      <th>logfO2</th>\n",
       "      <th>pH</th>\n",
       "    </tr>\n",
       "  </thead>\n",
       "  <tbody>\n",
       "    <tr>\n",
       "      <th>granite0</th>\n",
       "      <td>200.0</td>\n",
       "      <td>1000.0</td>\n",
       "      <td>-40.0</td>\n",
       "      <td>6.0</td>\n",
       "    </tr>\n",
       "  </tbody>\n",
       "</table>\n",
       "</div>"
      ],
      "text/plain": [
       "Sample   Temperature Pressure logfO2   pH\n",
       "                degC      bar logfO2   pH\n",
       "granite0       200.0   1000.0  -40.0  6.0"
      ]
     },
     "execution_count": 3,
     "metadata": {},
     "output_type": "execute_result"
    }
   ],
   "source": [
    "speciation_0.lookup([\"Temperature\", \"logfO2\", \"Pressure\", \"pH\"])"
   ]
  },
  {
   "cell_type": "code",
   "execution_count": 4,
   "metadata": {},
   "outputs": [
    {
     "data": {
      "text/html": [
       "<div>\n",
       "<style scoped>\n",
       "    .dataframe tbody tr th:only-of-type {\n",
       "        vertical-align: middle;\n",
       "    }\n",
       "\n",
       "    .dataframe tbody tr th {\n",
       "        vertical-align: top;\n",
       "    }\n",
       "\n",
       "    .dataframe thead tr th {\n",
       "        text-align: left;\n",
       "    }\n",
       "</style>\n",
       "<table border=\"1\" class=\"dataframe\">\n",
       "  <thead>\n",
       "    <tr>\n",
       "      <th>Sample</th>\n",
       "      <th>SiO2_(input)</th>\n",
       "      <th>HSiO3-</th>\n",
       "      <th>NaHSiO3</th>\n",
       "      <th>SiO2</th>\n",
       "    </tr>\n",
       "    <tr>\n",
       "      <th></th>\n",
       "      <th>Molality</th>\n",
       "      <th>log_activity</th>\n",
       "      <th>log_activity</th>\n",
       "      <th>log_activity</th>\n",
       "    </tr>\n",
       "  </thead>\n",
       "  <tbody>\n",
       "    <tr>\n",
       "      <th>granite0</th>\n",
       "      <td>0.003</td>\n",
       "      <td>-4.9775</td>\n",
       "      <td>-4.7666</td>\n",
       "      <td>-2.5278</td>\n",
       "    </tr>\n",
       "  </tbody>\n",
       "</table>\n",
       "</div>"
      ],
      "text/plain": [
       "Sample   SiO2_(input)       HSiO3-      NaHSiO3         SiO2\n",
       "             Molality log_activity log_activity log_activity\n",
       "granite0        0.003      -4.9775      -4.7666      -2.5278"
      ]
     },
     "execution_count": 4,
     "metadata": {},
     "output_type": "execute_result"
    }
   ],
   "source": [
    "speciation_0.lookup([\"SiO2_(input)\", \"HSiO3-\", \"NaHSiO3\", \"SiO2\"])"
   ]
  },
  {
   "cell_type": "markdown",
   "metadata": {},
   "source": [
    "To allow quartz to buffer the concentration of SiO2, change the column subheader to `Hetero. equil.` (short for heterogeneous equilibrium). Then replace the $3\\times10^{-3}$ value with the word `quartz`.\n",
    "\n",
    "This has been done in `granite1.csv`. Let's see what happens when we allow quartz to buffer SiO2:"
   ]
  },
  {
   "cell_type": "code",
   "execution_count": 5,
   "metadata": {},
   "outputs": [
    {
     "name": "stdout",
     "output_type": "stream",
     "text": [
      "Getting 'wrm_data.csv' ready. This will take a moment...\n",
      "Using wrm_data.csv to speciate granite1\n",
      "Finished!\n"
     ]
    }
   ],
   "source": [
    "# speciate the sample\n",
    "speciation_1 = ae.speciate(\n",
    "    input_filename = \"granite1.csv\", # name of csv with fluid sample data\n",
    "    db = \"https://raw.githubusercontent.com/worm-portal/WORM-db/master/wrm_data.csv\", # thermodynamic database\n",
    "    redox_flag = \"logfO2\", # desired option for setting redox state, logfO2 by default\n",
    "    report_filename = \"granite1report.csv\", # filename for results\n",
    "    )"
   ]
  },
  {
   "cell_type": "code",
   "execution_count": 6,
   "metadata": {},
   "outputs": [
    {
     "data": {
      "text/html": [
       "<div>\n",
       "<style scoped>\n",
       "    .dataframe tbody tr th:only-of-type {\n",
       "        vertical-align: middle;\n",
       "    }\n",
       "\n",
       "    .dataframe tbody tr th {\n",
       "        vertical-align: top;\n",
       "    }\n",
       "\n",
       "    .dataframe thead tr th {\n",
       "        text-align: left;\n",
       "    }\n",
       "</style>\n",
       "<table border=\"1\" class=\"dataframe\">\n",
       "  <thead>\n",
       "    <tr>\n",
       "      <th>Sample</th>\n",
       "      <th>SiO2_(input)</th>\n",
       "      <th>HSiO3-</th>\n",
       "      <th>NaHSiO3</th>\n",
       "      <th>SiO2</th>\n",
       "    </tr>\n",
       "    <tr>\n",
       "      <th></th>\n",
       "      <th>Hetero. equil.</th>\n",
       "      <th>log_activity</th>\n",
       "      <th>log_activity</th>\n",
       "      <th>log_activity</th>\n",
       "    </tr>\n",
       "  </thead>\n",
       "  <tbody>\n",
       "    <tr>\n",
       "      <th>granite1</th>\n",
       "      <td>quartz</td>\n",
       "      <td>-4.7561</td>\n",
       "      <td>-4.5452</td>\n",
       "      <td>-2.3064</td>\n",
       "    </tr>\n",
       "  </tbody>\n",
       "</table>\n",
       "</div>"
      ],
      "text/plain": [
       "Sample     SiO2_(input)       HSiO3-      NaHSiO3         SiO2\n",
       "         Hetero. equil. log_activity log_activity log_activity\n",
       "granite1         quartz      -4.7561      -4.5452      -2.3064"
      ]
     },
     "execution_count": 6,
     "metadata": {},
     "output_type": "execute_result"
    }
   ],
   "source": [
    "speciation_1.lookup([\"SiO2_(input)\", \"HSiO3-\", \"NaHSiO3\", \"SiO2\"])"
   ]
  },
  {
   "cell_type": "markdown",
   "metadata": {},
   "source": [
    "The activities of dissolved silica species have shifted since our initial guess of $3\\times10^{-3}$ molal SiO2!\n",
    "\n",
    "In the breakout session, look for ways to constrain more elements with minerals in granite. You might need to constrain multiple elements at once for an aqueous speciation calculation to complete."
   ]
  },
  {
   "cell_type": "markdown",
   "metadata": {},
   "source": [
    "### Exercise: Geochemical Sudoku!\n",
    "Open Breakout.ipynb to begin."
   ]
  }
 ],
 "metadata": {
  "kernelspec": {
   "display_name": "Python 3",
   "language": "python",
   "name": "python3"
  },
  "language_info": {
   "codemirror_mode": {
    "name": "ipython",
    "version": 3
   },
   "file_extension": ".py",
   "mimetype": "text/x-python",
   "name": "python",
   "nbconvert_exporter": "python",
   "pygments_lexer": "ipython3",
   "version": "3.8.0"
  }
 },
 "nbformat": 4,
 "nbformat_minor": 4
}
