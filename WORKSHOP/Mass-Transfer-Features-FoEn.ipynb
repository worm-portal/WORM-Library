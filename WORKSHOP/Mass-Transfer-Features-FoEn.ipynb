{
 "cells": [
  {
   "cell_type": "markdown",
   "metadata": {},
   "source": [
    "<left>\n",
    "<table style=\"margin-top:0px; margin-left:0px;\">\n",
    "<tr>\n",
    "  <td><img src=\"https://raw.githubusercontent.com/worm-portal/WORM-Figures/master/style/worm.png\" alt=\"WORM\" title=\"WORM\" width=50/></td>\n",
    "  <td><h1 style=font-size:30px>Mass Transfer and Reaction Paths</h1><h2>Feature demo: reacting fluids with minerals</h2></td>\n",
    "</tr>\n",
    "</table>\n",
    "</left>"
   ]
  },
  {
   "cell_type": "markdown",
   "metadata": {},
   "source": [
    "This notebook demonstrates various features related to mass transfer calculations.\n",
    "\n",
    "In the example below, the fluids in `FoEn_fluids.csv` are speciated and then reacted with the minerals forsterite and enstatite.\n",
    "\n",
    "Many different kinds of data are produced from the calculation that can be visualized with interactive plots. Most of these plots show how mineral masses or fluid compositions change as a function of reaction progress (Xi)."
   ]
  },
  {
   "cell_type": "markdown",
   "metadata": {},
   "source": [
    "Load the Python package."
   ]
  },
  {
   "cell_type": "code",
   "execution_count": null,
   "metadata": {},
   "outputs": [],
   "source": [
    "import AqEquil"
   ]
  },
  {
   "cell_type": "markdown",
   "metadata": {},
   "source": [
    "Load the thermodynamic database.\n",
    "\n",
    "Organics are excluded here to cut down on calculation time."
   ]
  },
  {
   "cell_type": "code",
   "execution_count": null,
   "metadata": {},
   "outputs": [],
   "source": [
    "ae = AqEquil.AqEquil(exclude_category={\"category_1\":[\"organic_aq\", \"organic_cr\"]})"
   ]
  },
  {
   "cell_type": "markdown",
   "metadata": {},
   "source": [
    "In the next step, three different water samples are speciated from `fluids.csv`. The formation of certain minerals can be suppressed here, if desired. "
   ]
  },
  {
   "cell_type": "code",
   "execution_count": null,
   "metadata": {},
   "outputs": [],
   "source": [
    "speciation = ae.speciate(input_filename=\"FoEn_fluids.csv\",\n",
    "                          alter_options=[[\"antigorite\", \"Suppress\"]]\n",
    "                         )"
   ]
  },
  {
   "cell_type": "markdown",
   "metadata": {},
   "source": [
    "Select which minerals to react. A number of other parameters, like the amount (moles) remaining, can be defined here too.\n",
    "\n",
    "Tip: run `AqEquil.Reactant?` in an empty cell to get information about the various parameters that can be modified."
   ]
  },
  {
   "cell_type": "code",
   "execution_count": null,
   "metadata": {},
   "outputs": [],
   "source": [
    "forsterite = AqEquil.Reactant(reactant_name=\"forsterite\",\n",
    "                              amount_remaining=1, # moles of mineral to react\n",
    "                              f_rate_law='Relative rate equation', # forward rate law\n",
    "                              f_eq1=0.50, # dXi(n)/dXi (mol/mol)\n",
    "                              b_rate_law=\"Partial equilibrium\", # backward rate law\n",
    "                             )\n",
    "\n",
    "enstatite = AqEquil.Reactant(reactant_name=\"enstatite\",\n",
    "                            amount_remaining=1,\n",
    "                            f_rate_law='Relative rate equation',\n",
    "                            f_eq1=0.50,\n",
    "                            b_rate_law=\"Partial equilibrium\",\n",
    "                            )\n",
    "\n",
    "# combine the mineral reactants in a list to repare the reaction\n",
    "r = AqEquil.Prepare_Reaction(reactants=[forsterite, enstatite])"
   ]
  },
  {
   "cell_type": "markdown",
   "metadata": {},
   "source": [
    "React the minerals with the speciated fluids."
   ]
  },
  {
   "cell_type": "code",
   "execution_count": null,
   "metadata": {},
   "outputs": [],
   "source": [
    "speciation = AqEquil.react(speciation, r)"
   ]
  },
  {
   "cell_type": "markdown",
   "metadata": {},
   "source": [
    "Select one of the three samples, `FoEn_1`, for analysis and plotting."
   ]
  },
  {
   "cell_type": "code",
   "execution_count": null,
   "metadata": {},
   "outputs": [],
   "source": [
    "# get mass transfer data for a sample\n",
    "m = speciation.mt(\"FoEn_1\")"
   ]
  },
  {
   "cell_type": "markdown",
   "metadata": {},
   "source": [
    "## Available plot types"
   ]
  },
  {
   "cell_type": "markdown",
   "metadata": {},
   "source": [
    "Plot pH as a function of reaction progress (Xi)"
   ]
  },
  {
   "cell_type": "code",
   "execution_count": null,
   "metadata": {},
   "outputs": [],
   "source": [
    "m.plot_pH()"
   ]
  },
  {
   "cell_type": "markdown",
   "metadata": {},
   "source": [
    "Plot concentrations of dissolved elements as a function of reaction progress (Xi)"
   ]
  },
  {
   "cell_type": "code",
   "execution_count": null,
   "metadata": {},
   "outputs": [],
   "source": [
    "m.plot_elements(log=False)"
   ]
  },
  {
   "cell_type": "markdown",
   "metadata": {},
   "source": [
    "Plot activity of aqueous basis species as a function of reaction progress (Xi)"
   ]
  },
  {
   "cell_type": "code",
   "execution_count": null,
   "metadata": {},
   "outputs": [],
   "source": [
    "m.plot_aqueous_species(plot_basis=True)"
   ]
  },
  {
   "cell_type": "markdown",
   "metadata": {},
   "source": [
    "Plot activity of non-basis aqueous species as a function of reaction progress (Xi)"
   ]
  },
  {
   "cell_type": "code",
   "execution_count": null,
   "metadata": {},
   "outputs": [],
   "source": [
    "m.plot_aqueous_species(plot_basis=False)"
   ]
  },
  {
   "cell_type": "markdown",
   "metadata": {},
   "source": [
    "Plot moles of product minerals as a function of reaction progress (Xi)"
   ]
  },
  {
   "cell_type": "code",
   "execution_count": null,
   "metadata": {},
   "outputs": [],
   "source": [
    "m.plot_product_minerals(show_reactant_minerals=False)"
   ]
  },
  {
   "cell_type": "markdown",
   "metadata": {},
   "source": [
    "Create an interactive reaction path diagram with desired species as x, y, and balance variables. (It might take a minute to load the plot.)\n",
    "\n",
    "Once it is ready, hover your mouse over the plot to see more.\n",
    "\n",
    "The red line and dots indicate the reaction path of the fluid. Open circles represent 'projections', where the point is above or below the plane in multidimensional space. An example of this is at Xi=0 in the plot below (you can hover over points to see values of Xi). At this value of Xi, the fluid appears in the Fe-brucite field but this mineral is not actually forming according to the moles of product mineral plot (above).\n",
    "\n",
    "Closed circles indicate points along the reaction path that are interacting with activity fields and/or saturation lines present in the diagram. For instance, the second point along the reaction path (Xi=6.01741e-13, or log Xi=-12.22059) is in magnetite field and is touching the goethite saturation line. Magnetite does not form at this value of Xi, but goethite does (see the plot of moles of product mineral, above)."
   ]
  },
  {
   "cell_type": "code",
   "execution_count": null,
   "metadata": {},
   "outputs": [],
   "source": [
    "#e = m.plot_reaction_paths([\"SiO2\", \"Mg+2\"], # x, y, and balance variables\n",
    "                        #  res=100, # 100 calculations per axis. Higher is slower but makes smoother region lines.\n",
    "                       #  colormap=\"bw\", # black and white colormap\n",
    "                       #   minerals_to_show=[\"quartz\",\"brucite\"],\n",
    "                      #   )[0].show()"
   ]
  },
  {
   "cell_type": "markdown",
   "metadata": {},
   "source": [
    "Plot reaction paths with all permutations of x, y, and balance variables. (Takes a long time.)"
   ]
  },
  {
   "cell_type": "code",
   "execution_count": null,
   "metadata": {},
   "outputs": [],
   "source": [
    "fig_list = m.plot_reaction_paths(flip_xy=False, # flip variables on x and y axes?\n",
    "                                 colormap=\"bw\", # black and white colormap for the background\n",
    "                                 minerals_to_show=[\"quartz\"], # show the quartz saturation line for reference\n",
    "                                 )\n",
    "\n",
    "_ = [fig.show() for fig in fig_list]"
   ]
  },
  {
   "cell_type": "code",
   "execution_count": null,
   "metadata": {},
   "outputs": [],
   "source": [
    "fig_list = m.plot_reaction_paths(path_margin=0.25, # amount of space around the reaction path\n",
    "                                 res=25, # resolution of background mineral stability field\n",
    "                                 flip_xy=True, # flip variables on x and y axes?\n",
    "                                 colormap=\"bw\", # colormap name\n",
    "                                 plot_width=4, # in inches\n",
    "                                 plot_height=3, # in inches\n",
    "                                 path_line_color = \"red\", # reaction path styling\n",
    "                                 path_point_fill_color = \"red\", # reaction path styling\n",
    "                                 path_point_line_color = \"red\", # reaction path styling\n",
    "                                 projected_point_fill_color = \"white\", # reaction path styling\n",
    "                                 projected_point_line_color = \"red\", # reaction path styling\n",
    "                                 show_nonparticipating_mineral_lines=False, # show mineral lines even if they aren't formed?\n",
    "                                 minerals_to_show=[\"quartz\",\"brucite\"],\n",
    "                                )\n",
    "\n",
    "_ = [fig.show() for fig in fig_list]"
   ]
  },
  {
   "cell_type": "markdown",
   "metadata": {},
   "source": [
    "Plot mass contribution of a basis species across reaction progress (Xi).\n",
    "\n",
    "In this case, how does the speciation of ferrous iron change with Xi?"
   ]
  },
  {
   "cell_type": "code",
   "execution_count": null,
   "metadata": {},
   "outputs": [],
   "source": [
    "m.plot_mass_contribution(\"SiO2\")"
   ]
  },
  {
   "cell_type": "markdown",
   "metadata": {},
   "source": [
    "## Tables"
   ]
  },
  {
   "cell_type": "markdown",
   "metadata": {},
   "source": [
    "Print a list of available tables."
   ]
  },
  {
   "cell_type": "code",
   "execution_count": null,
   "metadata": {},
   "outputs": [],
   "source": [
    "m.print_tabs()"
   ]
  },
  {
   "cell_type": "markdown",
   "metadata": {},
   "source": [
    "Display Table P by copy-pasting its full name from the list above"
   ]
  },
  {
   "cell_type": "code",
   "execution_count": null,
   "metadata": {},
   "outputs": [],
   "source": [
    "m.tab[\"Table P Moles of product minerals\"]"
   ]
  },
  {
   "cell_type": "markdown",
   "metadata": {},
   "source": [
    "Display Table D1 in the same way"
   ]
  },
  {
   "cell_type": "code",
   "execution_count": null,
   "metadata": {},
   "outputs": [],
   "source": [
    "m.tab[\"Table D1 Solute basis species(total molality)\"]"
   ]
  },
  {
   "cell_type": "markdown",
   "metadata": {},
   "source": [
    "Display a table of the log activity of aqueous species at different values of Xi. The `.head()` means only the first five rows are displayed in the notebook."
   ]
  },
  {
   "cell_type": "code",
   "execution_count": null,
   "metadata": {},
   "outputs": [],
   "source": [
    "m.aq_distribution.head()"
   ]
  },
  {
   "cell_type": "markdown",
   "metadata": {},
   "source": [
    "Documentation is available for any function by including `?` at the end of the function name. For instance, here is the documentation for the `AqEquil.Reactant` function used earlier in the notebook to define forsterite and fayalite as minerals to react with speciated fluids:"
   ]
  },
  {
   "cell_type": "code",
   "execution_count": null,
   "metadata": {},
   "outputs": [],
   "source": [
    "AqEquil.Reactant?"
   ]
  },
  {
   "cell_type": "code",
   "execution_count": null,
   "metadata": {},
   "outputs": [],
   "source": []
  }
 ],
 "metadata": {
  "kernelspec": {
   "display_name": "Python 3",
   "language": "python",
   "name": "python3"
  },
  "language_info": {
   "codemirror_mode": {
    "name": "ipython",
    "version": 3
   },
   "file_extension": ".py",
   "mimetype": "text/x-python",
   "name": "python",
   "nbconvert_exporter": "python",
   "pygments_lexer": "ipython3",
   "version": "3.11.0"
  }
 },
 "nbformat": 4,
 "nbformat_minor": 4
}
