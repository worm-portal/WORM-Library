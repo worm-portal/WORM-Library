{
 "cells": [
  {
   "cell_type": "markdown",
   "metadata": {},
   "source": [
    "## Breakout session\n",
    "\n",
    "In this breakout session demo, try building up `granite0.csv` so that more and more solutes in a ~0.5 molal NaCl solution are buffered by minerals found in granite.\n",
    "\n",
    "[What's in granite?](https://nature.berkeley.edu/classes/eps2/wisc/granite.html)\n",
    "- 80% of the rock:\n",
    "    - [quartz](https://en.wikipedia.org/wiki/Quartz) (10-50%)\n",
    "    - potassium and plagioclase [feldspar](https://en.wikipedia.org/wiki/Feldspar) (like [albite](https://en.wikipedia.org/wiki/Albite))\n",
    "- other common minerals:\n",
    "    - [mica](https://en.wikipedia.org/wiki/Mica) ([muscovite](https://en.wikipedia.org/wiki/Muscovite) and [biotite](https://en.wikipedia.org/wiki/Biotite))\n",
    "    - [hornblende](https://en.wikipedia.org/wiki/Hornblende) ([amphibole](https://en.wikipedia.org/wiki/Amphibole))\n",
    "    \n",
    "`wrm_data.csv` can be used to check which minerals have thermodynamic data for a speciation calculation.\n",
    "\n",
    "### Things to try:\n",
    "1) buffer SiO2 with quartz (remember to use the 'Hetero. equil.' subheader).\n",
    "2) buffer pH with muscovite, KAl2(AlSi3)O10(OH)2.\n",
    "    - This is trickier than it seems! For muscovite to be in the speciation calculation, concentrations of K, Al, and Si must also be constrained.\n",
    "    - If you buffered SiO2 with quartz, Si is already constrained. How might you constrain K and Al?\n",
    "3) buffer the oxidation-reduction (redox) potential.\n",
    "    - *Hint*: in the CSV change logfO2 to O2(g) (subheader: Hetero. equil.) and set `redox_flag=\"O2(g)\",` in the notebook speciation function.\n",
    "    - *Hint*: hematite and magnetite are found in granite and contain different oxidation states of iron. If one of these minerals buffers O2(g), what could the other mineral constrain?\n",
    "4) change the temperature of the sample to 500 °C and run it.\n",
    "    - *Hint*: 500 °C is above the range supported by the default 'wrm' database on the server, so you'll need to create your own custom database.\n",
    "    - what pressure is needed to keep water as a liquid at 500 °C?\n",
    "5) create a 1 or 2 kb pressure database. How does this affect the speciation of the fluid?\n",
    "6) **CHALLENGE:** If the granite is hydothermally altered, you could introduce other minerals! Try fitting as many of the following minerals into the speciation as you can. Can you get them all (and more)?\n",
    "    - *Hint*: you may have to constrain some elements with aqueous species.\n",
    "\n",
    "- quartz : SiO2\n",
    "- K-feldspar : K(AlSi3)O8\n",
    "- muscovite : KAl2(AlSi3)O10(OH)2\n",
    "- dolomite : CaMg(CO3)2\n",
    "- hematite : Fe2O3\n",
    "- magnetite : Fe3O4\n",
    "- albite : Na(AlSi3)O8\n",
    "- fluorite : CaF2\n",
    "- clinochlore,7a : Mg5Al(AlSi3)O10(OH)8\n",
    "- galena : PbS\n",
    "- sphalerite : ZnS"
   ]
  },
  {
   "cell_type": "code",
   "execution_count": null,
   "metadata": {},
   "outputs": [],
   "source": [
    "# get the notebook ready\n",
    "import AqEquil\n",
    "ae = AqEquil.AqEquil()"
   ]
  },
  {
   "cell_type": "code",
   "execution_count": null,
   "metadata": {},
   "outputs": [],
   "source": [
    "# speciate the sample with the default PSAT 'wrm' database\n",
    "speciation_PSAT = ae.speciate( # speciation function\n",
    "    input_filename = \"granite0.csv\", # name of csv with fluid sample data\n",
    "    exclude = [\"Year\", \"Area\"], # metadata columns excluded from calculation\n",
    "    db = \"wrm\", # thermodynamic database\n",
    "    report_filename = 'granite0report.csv', # write a csv of results\n",
    "    #redox_flag = \"O2(g)\", # \"logfO2\" by default. \"O2(g)\" can also be used here\n",
    "    )"
   ]
  },
  {
   "cell_type": "code",
   "execution_count": null,
   "metadata": {},
   "outputs": [],
   "source": [
    "# look up multiple variables at once\n",
    "speciation_PSAT.lookup([\"Temperature\", \"Pressure\", \"pH\", \"O2(g)\"])"
   ]
  },
  {
   "cell_type": "code",
   "execution_count": null,
   "metadata": {},
   "outputs": [],
   "source": [
    "speciation_PSAT.lookup([\"Temperature\", \"Pressure\",\n",
    "                        \"SiO2\", \"HSiO3-\", \"NaHSiO3\"])"
   ]
  },
  {
   "cell_type": "code",
   "execution_count": null,
   "metadata": {},
   "outputs": [],
   "source": [
    "speciation_PSAT.lookup([\"Temperature\", \"Pressure\",\n",
    "                        \"Na+\", \"K+\", \"Cl-\", \"KCl\", \"NaCl\", \"HCl\"])"
   ]
  },
  {
   "cell_type": "code",
   "execution_count": null,
   "metadata": {},
   "outputs": [],
   "source": [
    "speciation_PSAT.lookup([\"Temperature\", \"Pressure\",\n",
    "                        \"Al+3\", \"AlOH+2\", \"AlO+\", \"HAlO2\", \"AlO2-\"])"
   ]
  },
  {
   "cell_type": "code",
   "execution_count": null,
   "metadata": {},
   "outputs": [],
   "source": [
    "speciation_PSAT.lookup([\"Temperature\", \"Pressure\", \"pH\", \"O2(g)\",\n",
    "                        \"Fe+2\", \"FeCl+\", \"FeOH+\", \"FeO\"])"
   ]
  },
  {
   "cell_type": "code",
   "execution_count": null,
   "metadata": {},
   "outputs": [],
   "source": [
    "speciation_PSAT.lookup([\"Temperature\", \"Pressure\",\n",
    "                        \"Pb+2\", \"PbCl+\", \"PbOH+\", \"PbO\", \"HS-\"])"
   ]
  },
  {
   "cell_type": "code",
   "execution_count": null,
   "metadata": {},
   "outputs": [],
   "source": [
    "speciation_PSAT.lookup([\"Temperature\", \"Pressure\",\n",
    "                        \"Ca+2\", \"Mg+2\", \"F-\", \"HCO3-\", \"Zn+2\"])"
   ]
  },
  {
   "cell_type": "code",
   "execution_count": null,
   "metadata": {},
   "outputs": [],
   "source": [
    "# check mineral saturation indices in the fluid\n",
    "speciation_PSAT.plot_mineral_saturation(\"granite0\")"
   ]
  },
  {
   "cell_type": "code",
   "execution_count": null,
   "metadata": {},
   "outputs": [],
   "source": [
    "speciation_PSAT.plot_mass_contribution(\"SiO2\", sort_y_by=\"alphabetical\")"
   ]
  },
  {
   "cell_type": "code",
   "execution_count": null,
   "metadata": {},
   "outputs": [],
   "source": [
    "# Create a custom database at 1 kb called \"cst\"\n",
    "ae.create_data0( # database creation function\n",
    "    filename = \"wrm_data.csv\", # \n",
    "    #filename_ss = \"solid_solutions.csv\",\n",
    "    grid_temps=[0.01, 50, 100, 150, 200, 250, 300, 350], # degrees C\n",
    "    grid_press=[1000, 1000, 1000, 1000, 1000, 1000, 1000, 1000], # bars\n",
    "    db = \"cst\", # three letter name of your custom database\n",
    "    template_name=\"sample_template_cst.csv\", # creates a blank template for sample data\n",
    "    )"
   ]
  },
  {
   "cell_type": "code",
   "execution_count": null,
   "metadata": {},
   "outputs": [],
   "source": [
    "# speciate the sample at 1000 bar\n",
    "speciation_1000bar = ae.speciate( # speciation function\n",
    "    input_filename = \"granite0.csv\", # name of csv with fluid sample data\n",
    "    exclude = [\"Year\", \"Area\"], # metadata columns excluded from calculation\n",
    "    db = \"cst\", # thermodynamic database\n",
    "    custom_db = True, # use a custom database?\n",
    "    report_filename = 'granite0report_1000bar.csv', # write a csv of results\n",
    "    #redox_flag = \"O2(g)\", # \"logfO2\" by default. \"O2(g)\" can also be used here\n",
    "    )"
   ]
  },
  {
   "cell_type": "code",
   "execution_count": null,
   "metadata": {},
   "outputs": [],
   "source": [
    "speciation_1000bar.lookup([\"Temperature\", \"Pressure\",\n",
    "                           \"Na+\", \"K+\", \"Cl-\", \"KCl\", \"NaCl\", \"HCl\"])"
   ]
  },
  {
   "cell_type": "markdown",
   "metadata": {},
   "source": [
    "Compare to PSAT:"
   ]
  },
  {
   "cell_type": "code",
   "execution_count": null,
   "metadata": {},
   "outputs": [],
   "source": [
    "speciation_PSAT.lookup([\"Temperature\", \"Pressure\",\n",
    "                        \"Na+\", \"K+\", \"Cl-\", \"KCl\", \"NaCl\", \"HCl\"])"
   ]
  }
 ],
 "metadata": {
  "kernelspec": {
   "display_name": "Python 3",
   "language": "python",
   "name": "python3"
  },
  "language_info": {
   "codemirror_mode": {
    "name": "ipython",
    "version": 3
   },
   "file_extension": ".py",
   "mimetype": "text/x-python",
   "name": "python",
   "nbconvert_exporter": "python",
   "pygments_lexer": "ipython3",
   "version": "3.7.0"
  }
 },
 "nbformat": 4,
 "nbformat_minor": 4
}
