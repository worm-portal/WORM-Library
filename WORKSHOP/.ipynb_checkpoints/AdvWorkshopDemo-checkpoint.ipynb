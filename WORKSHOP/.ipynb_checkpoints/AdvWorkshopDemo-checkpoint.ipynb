{
 "cells": [
  {
   "cell_type": "markdown",
   "metadata": {},
   "source": [
    "<left>\n",
    "<table style=\"margin-top:0px; margin-left:0px;\">\n",
    "<tr>\n",
    "  <td><img src=\"https://raw.githubusercontent.com/worm-portal/WORM-Figures/master/style/worm.png\" alt=\"WORM\" title=\"WORM\" width=50/></td>\n",
    "  <td><h1 style=font-size:30px>Heterogeneous Equilibrium:<br>Rocks Under Pressure!</h1><h2>WORM Workshop May 6, 2022</h2><br />\n",
    "</tr>\n",
    "</table>\n",
    "</left>"
   ]
  },
  {
   "cell_type": "markdown",
   "metadata": {},
   "source": [
    "### Let's think about granite\n",
    "\n",
    "A geologist goes to an outcrop, breaks off a hunk of granite, looks at it, and tries to understand it."
   ]
  },
  {
   "cell_type": "markdown",
   "metadata": {},
   "source": [
    "<img src=\"https://upload.wikimedia.org/wikipedia/commons/d/d6/Half_Dome_from_Glacier_Point%2C_Yosemite_NP_-_Diliff.jpg\" alt=\"Half Dome\" title=\"'Half Dome'\" width=500/>\n",
    "\n",
    "*Half Dome, Yosemite National Park, USA (David Iliff)*"
   ]
  },
  {
   "cell_type": "markdown",
   "metadata": {},
   "source": [
    "<img src=\"https://upload.wikimedia.org/wikipedia/commons/0/00/HuangShan.JPG\" alt=\"Granite\" title=\"'A granite peak at Huangshan, China'\" width=450/>\n",
    "\n",
    "*A granite peak at Huangshan, China (Arne Hückelheim)*"
   ]
  },
  {
   "cell_type": "markdown",
   "metadata": {},
   "source": [
    "Understanding the rock involves understanding what's in it.\n",
    "\n",
    "[What's in granite?](https://nature.berkeley.edu/classes/eps2/wisc/granite.html) Granite is mostly [quartz](https://en.wikipedia.org/wiki/Quartz) and [feldspar](https://en.wikipedia.org/wiki/Feldspar). In the granite countertop shown below, these minerals make up the pinkish, whitish, and grayish areas. Some of the darker areas are made up of [micas](https://en.wikipedia.org/wiki/Mica), [amphibole](https://en.wikipedia.org/wiki/Amphibole), and various oxides.\n",
    "\n",
    "<img src=\"https://www.sandatlas.org/wp-content/uploads/00015-1912-21-cm-granite-albite-orthoclase-biotite-quartz.jpg\" alt=\"Granite\" title=\"Granite\" width=450/>\n",
    "\n",
    "*Granite (Siim Sepp, from [Sandatlas](https://www.sandatlas.org/feldspar/))*"
   ]
  },
  {
   "cell_type": "markdown",
   "metadata": {},
   "source": [
    "It's typical to have a rock sample taken from the Earth's surface, but that's not where it formed. It formed considerably deeper in the crust and finally gets exposed at the surface.\n",
    "\n",
    "So what about the conditions where the rock formed? Not just temperature and pressure, but fluid composition?\n",
    "\n",
    "Typically, there are fluids involved in rock formation. These fluids have volatiles dissolved in them.\n",
    "\n",
    "This is more obvious when looking at an example of a hydrothermally altered granite:"
   ]
  },
  {
   "cell_type": "markdown",
   "metadata": {},
   "source": [
    "<img src=\"http://lh3.googleusercontent.com/-j3IZTLrlCXs/UE-ICPd7lDI/AAAAAAAAIEA/5GhRZHqvHNo/s720/00020%2525204521%25252011%252520cm%252520epidote%252520granite.jpg\" alt=\"Hydrothermally altered granite\" title=\"Hydrothermally altered granite\" width=300/>\n",
    "\n",
    "*Hydrothermally altered granite (Siim Sepp, from [Sandatlas](https://www.sandatlas.org/epidote/))*"
   ]
  },
  {
   "cell_type": "markdown",
   "metadata": {},
   "source": [
    "The granite shown above looks quite a bit different than typical granite. In this example, hydrothermal fluids flowed through the crack in the granite, metamorphosing part of the rock into green [epidote](https://en.wikipedia.org/wiki/Epidote). Pink feldspar, quartz, and epidote together is called [Unakite](https://en.wikipedia.org/wiki/Unakite)."
   ]
  },
  {
   "cell_type": "markdown",
   "metadata": {},
   "source": [
    "<img src=\"https://upload.wikimedia.org/wikipedia/commons/a/a8/Colored_minerals_closeup.jpg\" alt=\"Unakite pebbles\" title=\"Unakite pebbles\" width=400/>\n",
    "\n",
    "*Polished unakite pebbles (Tom Harpel)*"
   ]
  },
  {
   "cell_type": "markdown",
   "metadata": {},
   "source": [
    "Shown below is another hunk of hydrothermally altered granite:"
   ]
  },
  {
   "cell_type": "markdown",
   "metadata": {},
   "source": [
    "<img src=\"https://upload.wikimedia.org/wikipedia/commons/c/c3/Greisen-Geyer.jpg\" alt=\"Greisen vein in granite\" title=\"Greisen vein in granite\" width=350/>\n",
    "\n",
    "*Greisen vein in granite (Geomartin)*\n",
    "\n"
   ]
  },
  {
   "cell_type": "markdown",
   "metadata": {},
   "source": [
    "Hydrothermal fluids flowing through this granite have formed [greisen veins](https://en.wikipedia.org/wiki/Greisen). This greison contains [cassiterite](https://en.wikipedia.org/wiki/Cassiterite) and [arsenopyrite](https://en.wikipedia.org/wiki/Arsenopyrite), so we might infer that these fluids contained dissolved tin and arsenic compounds."
   ]
  },
  {
   "cell_type": "markdown",
   "metadata": {},
   "source": [
    "Granite can also undergo many other types of hydrothermal alteration.\n",
    "\n",
    "In any case, the rock that is sampled at the surface is missing information about the fluids that formed it!\n",
    "\n",
    "So what's missing? All the volatiles that were present - gases and dissolved aqueous species - have been lost."
   ]
  },
  {
   "cell_type": "markdown",
   "metadata": {},
   "source": [
    "The fluid may be long gone, but we can use thermodynamic calculations to estimate what it was like."
   ]
  },
  {
   "cell_type": "markdown",
   "metadata": {},
   "source": [
    "How does that work?\n",
    "\n",
    "### Constraining the missing fluid composition"
   ]
  },
  {
   "cell_type": "markdown",
   "metadata": {},
   "source": [
    "Let's put some constraints on what the missing fluid may have been like for a granite.\n",
    "\n",
    "For quartz in equilibrium with aqueous silica we can write:\n",
    "\n",
    "$$\\color{orangered}{\\text{quartz}_{(cr)} \\rightleftharpoons \\text{SiO}_{2(aq)}}$$\n",
    "\n",
    "Our system is in a state of **heterogeneous equilibrium** because it involves reactants and products in different phases (crystalline and aqueous).\n",
    "\n",
    "To calculate the equilibrium constant for this reaction, all we need is temperature and pressure."
   ]
  },
  {
   "cell_type": "markdown",
   "metadata": {},
   "source": [
    "However, $\\text{SiO}_{2(aq)}$ in solution is a weak acid:\n",
    "\n",
    "$$\\color{orangered}{\\text{SiO}_{2(aq)} + \\text{H}_{2}\\text{O} \\rightleftharpoons \\text{HSiO}_{3}^{-} + \\text{H}^{+}}$$\n",
    "\n",
    "If we choose a pH, temperature, and pressure, we can evaluate *both* forms of aqueous silica."
   ]
  },
  {
   "cell_type": "markdown",
   "metadata": {},
   "source": [
    "Crustal fluids tend to contain salts like NaCl, so we should add some $\\text{Na}^+$ and $\\text{Cl}^-$."
   ]
  },
  {
   "cell_type": "markdown",
   "metadata": {},
   "source": [
    "We also need to keep in mind that cations and anions in solution form complexes. They might be less abundant at low temperatures and pressures but can become major features at high temperatures and pressures.\n",
    "\n",
    "$$\\color{orangered}{\\text{Na}^{+} + \\text{HSiO}_{3}^{-} \\rightleftharpoons \\text{NaHSiO}_{3(aq)}}$$"
   ]
  },
  {
   "cell_type": "markdown",
   "metadata": {},
   "source": [
    "So, with temperature, pressure, pH, and NaCl content, we can constrain *three* forms of aqueous silica."
   ]
  },
  {
   "cell_type": "markdown",
   "metadata": {},
   "source": [
    "Sodium is in plagioclase, so by adding **albite** we can constrain dissolved aluminum at equilibrium.\n",
    "\n",
    "$$\\color{orangered}{\\mathop{\\rm{NaAlSi_3O_{8(cr)}}}\\limits_{(albite)} + 4\\text{H}^{+} \\rightleftharpoons \\text{Na}^{+} + \\text{Al}^{+3} + 3\\text{SiO}_{2(aq)} +  2\\text{H}_{2}\\text{O}}\n",
    "$$\n",
    "\n",
    "This works because we picked a T, P, pH, added some NaCl, and set dissolved silica to equilibrium with quartz."
   ]
  },
  {
   "cell_type": "markdown",
   "metadata": {},
   "source": [
    "We can continue to layer the complexity by constraining more and more solutes by setting them in equilibrium with minerals.\n",
    "\n",
    "Mineral assemblages can set pH, *f*O$_2$ (redox), abundances of trace elements, and so on."
   ]
  },
  {
   "cell_type": "markdown",
   "metadata": {},
   "source": [
    "How do we set this up on the WORM Portal so we don't have to do this by hand?\n",
    "\n",
    "### Buffer solutes with minerals on the WORM Portal"
   ]
  },
  {
   "cell_type": "markdown",
   "metadata": {},
   "source": [
    "Let's open the `granite0.csv` input file. It includes some initial constraints that represent a starting guess, but none of the basis species are in equilibrium with minerals yet.\n",
    "\n",
    "The basis species constraining Si is aqueous SiO$_2$. The initial guess for the concentration of dissolved silica is $3\\times10^{-3}$ molal.\n",
    "\n",
    "We also have an initial guess of NaCl content (~0.5 molal)."
   ]
  },
  {
   "cell_type": "markdown",
   "metadata": {},
   "source": [
    "We can run the sample as-is with:"
   ]
  },
  {
   "cell_type": "code",
   "execution_count": 1,
   "metadata": {},
   "outputs": [],
   "source": [
    "# get the notebook ready\n",
    "import AqEquil\n",
    "ae = AqEquil.AqEquil()"
   ]
  },
  {
   "cell_type": "code",
   "execution_count": 2,
   "metadata": {},
   "outputs": [
    {
     "name": "stdout",
     "output_type": "stream",
     "text": [
      "Getting 'wrm_data.csv' ready. This will take a moment...\n",
      "Using wrm_data.csv to speciate granite0\n",
      "Finished!\n"
     ]
    }
   ],
   "source": [
    "# speciate the sample\n",
    "speciation_0 = ae.speciate(\n",
    "    input_filename = \"granite0.csv\", # name of csv with fluid sample data\n",
    "    db = \"https://raw.githubusercontent.com/worm-portal/WORM-db/master/wrm_data.csv\", # thermodynamic database\n",
    "    redox_flag = \"logfO2\", # desired option for setting redox state, logfO2 by default\n",
    "    report_filename = \"granite0report.csv\", # filename for results\n",
    "    )"
   ]
  },
  {
   "cell_type": "markdown",
   "metadata": {},
   "source": [
    "Once the speciation is finished, results can be viewed in the `granite0report.csv` file, or with the lookup function:"
   ]
  },
  {
   "cell_type": "code",
   "execution_count": 3,
   "metadata": {},
   "outputs": [
    {
     "data": {
      "text/html": [
       "<div>\n",
       "<style scoped>\n",
       "    .dataframe tbody tr th:only-of-type {\n",
       "        vertical-align: middle;\n",
       "    }\n",
       "\n",
       "    .dataframe tbody tr th {\n",
       "        vertical-align: top;\n",
       "    }\n",
       "\n",
       "    .dataframe thead tr th {\n",
       "        text-align: left;\n",
       "    }\n",
       "</style>\n",
       "<table border=\"1\" class=\"dataframe\">\n",
       "  <thead>\n",
       "    <tr>\n",
       "      <th>Sample</th>\n",
       "      <th>Temperature</th>\n",
       "      <th>Pressure</th>\n",
       "      <th>logfO2</th>\n",
       "      <th>pH</th>\n",
       "    </tr>\n",
       "    <tr>\n",
       "      <th></th>\n",
       "      <th>degC</th>\n",
       "      <th>bar</th>\n",
       "      <th>logfO2</th>\n",
       "      <th>pH</th>\n",
       "    </tr>\n",
       "  </thead>\n",
       "  <tbody>\n",
       "    <tr>\n",
       "      <th>granite0</th>\n",
       "      <td>200.0</td>\n",
       "      <td>1000.0</td>\n",
       "      <td>-40.0</td>\n",
       "      <td>6.0</td>\n",
       "    </tr>\n",
       "  </tbody>\n",
       "</table>\n",
       "</div>"
      ],
      "text/plain": [
       "Sample   Temperature Pressure logfO2   pH\n",
       "                degC      bar logfO2   pH\n",
       "granite0       200.0   1000.0  -40.0  6.0"
      ]
     },
     "execution_count": 3,
     "metadata": {},
     "output_type": "execute_result"
    }
   ],
   "source": [
    "speciation_0.lookup([\"Temperature\", \"logfO2\", \"Pressure\", \"pH\"])"
   ]
  },
  {
   "cell_type": "code",
   "execution_count": 4,
   "metadata": {},
   "outputs": [
    {
     "data": {
      "text/html": [
       "<div>\n",
       "<style scoped>\n",
       "    .dataframe tbody tr th:only-of-type {\n",
       "        vertical-align: middle;\n",
       "    }\n",
       "\n",
       "    .dataframe tbody tr th {\n",
       "        vertical-align: top;\n",
       "    }\n",
       "\n",
       "    .dataframe thead tr th {\n",
       "        text-align: left;\n",
       "    }\n",
       "</style>\n",
       "<table border=\"1\" class=\"dataframe\">\n",
       "  <thead>\n",
       "    <tr>\n",
       "      <th>Sample</th>\n",
       "      <th>SiO2_(input)</th>\n",
       "      <th>HSiO3-</th>\n",
       "      <th>NaHSiO3</th>\n",
       "      <th>SiO2</th>\n",
       "    </tr>\n",
       "    <tr>\n",
       "      <th></th>\n",
       "      <th>Molality</th>\n",
       "      <th>log_activity</th>\n",
       "      <th>log_activity</th>\n",
       "      <th>log_activity</th>\n",
       "    </tr>\n",
       "  </thead>\n",
       "  <tbody>\n",
       "    <tr>\n",
       "      <th>granite0</th>\n",
       "      <td>0.003</td>\n",
       "      <td>-4.9775</td>\n",
       "      <td>-4.7666</td>\n",
       "      <td>-2.5278</td>\n",
       "    </tr>\n",
       "  </tbody>\n",
       "</table>\n",
       "</div>"
      ],
      "text/plain": [
       "Sample   SiO2_(input)       HSiO3-      NaHSiO3         SiO2\n",
       "             Molality log_activity log_activity log_activity\n",
       "granite0        0.003      -4.9775      -4.7666      -2.5278"
      ]
     },
     "execution_count": 4,
     "metadata": {},
     "output_type": "execute_result"
    }
   ],
   "source": [
    "speciation_0.lookup([\"SiO2_(input)\", \"HSiO3-\", \"NaHSiO3\", \"SiO2\"])"
   ]
  },
  {
   "cell_type": "markdown",
   "metadata": {},
   "source": [
    "To allow quartz to buffer the concentration of aqueous SiO2, change the column subheader to `Hetero. equil.` (short for heterogeneous equilibrium). Then replace the $3\\times10^{-3}$ value with the word `quartz`."
   ]
  },
  {
   "cell_type": "markdown",
   "metadata": {},
   "source": [
    "This has been done in `granite1.csv`. Let's see what happens when we allow quartz to buffer SiO2:"
   ]
  },
  {
   "cell_type": "code",
   "execution_count": 5,
   "metadata": {},
   "outputs": [
    {
     "name": "stdout",
     "output_type": "stream",
     "text": [
      "Getting 'wrm_data.csv' ready. This will take a moment...\n",
      "Using wrm_data.csv to speciate granite1\n",
      "Finished!\n"
     ]
    }
   ],
   "source": [
    "# speciate the sample\n",
    "speciation_1 = ae.speciate(\n",
    "    input_filename = \"granite1.csv\", # name of csv with fluid sample data\n",
    "    db = \"https://raw.githubusercontent.com/worm-portal/WORM-db/master/wrm_data.csv\", # thermodynamic database\n",
    "    redox_flag = \"logfO2\", # desired option for setting redox state, logfO2 by default\n",
    "    report_filename = \"granite1report.csv\", # filename for results\n",
    "    )"
   ]
  },
  {
   "cell_type": "code",
   "execution_count": 6,
   "metadata": {},
   "outputs": [
    {
     "data": {
      "text/html": [
       "<div>\n",
       "<style scoped>\n",
       "    .dataframe tbody tr th:only-of-type {\n",
       "        vertical-align: middle;\n",
       "    }\n",
       "\n",
       "    .dataframe tbody tr th {\n",
       "        vertical-align: top;\n",
       "    }\n",
       "\n",
       "    .dataframe thead tr th {\n",
       "        text-align: left;\n",
       "    }\n",
       "</style>\n",
       "<table border=\"1\" class=\"dataframe\">\n",
       "  <thead>\n",
       "    <tr>\n",
       "      <th>Sample</th>\n",
       "      <th>SiO2_(input)</th>\n",
       "      <th>HSiO3-</th>\n",
       "      <th>NaHSiO3</th>\n",
       "      <th>SiO2</th>\n",
       "    </tr>\n",
       "    <tr>\n",
       "      <th></th>\n",
       "      <th>Hetero. equil.</th>\n",
       "      <th>log_activity</th>\n",
       "      <th>log_activity</th>\n",
       "      <th>log_activity</th>\n",
       "    </tr>\n",
       "  </thead>\n",
       "  <tbody>\n",
       "    <tr>\n",
       "      <th>granite1</th>\n",
       "      <td>quartz</td>\n",
       "      <td>-4.7561</td>\n",
       "      <td>-4.5452</td>\n",
       "      <td>-2.3064</td>\n",
       "    </tr>\n",
       "  </tbody>\n",
       "</table>\n",
       "</div>"
      ],
      "text/plain": [
       "Sample     SiO2_(input)       HSiO3-      NaHSiO3         SiO2\n",
       "         Hetero. equil. log_activity log_activity log_activity\n",
       "granite1         quartz      -4.7561      -4.5452      -2.3064"
      ]
     },
     "execution_count": 6,
     "metadata": {},
     "output_type": "execute_result"
    }
   ],
   "source": [
    "speciation_1.lookup([\"SiO2_(input)\", \"HSiO3-\", \"NaHSiO3\", \"SiO2\"])"
   ]
  },
  {
   "cell_type": "markdown",
   "metadata": {},
   "source": [
    "The activities of dissolved silica species have shifted since our initial guess of $3\\times10^{-3}$ molal SiO2!\n",
    "\n",
    "In the breakout session, look for ways to constrain more elements with minerals in granite. You might need to constrain multiple elements at once for an aqueous speciation calculation to complete."
   ]
  },
  {
   "cell_type": "markdown",
   "metadata": {},
   "source": [
    "### Breakout Exercise: Geochemical Sudoku!\n",
    "Open Breakout.ipynb to begin."
   ]
  }
 ],
 "metadata": {
  "kernelspec": {
   "display_name": "Python 3",
   "language": "python",
   "name": "python3"
  },
  "language_info": {
   "codemirror_mode": {
    "name": "ipython",
    "version": 3
   },
   "file_extension": ".py",
   "mimetype": "text/x-python",
   "name": "python",
   "nbconvert_exporter": "python",
   "pygments_lexer": "ipython3",
   "version": "3.8.0"
  }
 },
 "nbformat": 4,
 "nbformat_minor": 4
}
