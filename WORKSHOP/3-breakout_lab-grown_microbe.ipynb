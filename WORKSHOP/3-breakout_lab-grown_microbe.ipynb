{
 "cells": [
  {
   "cell_type": "markdown",
   "id": "a7f1d7c7-4f79-4303-b17b-be1d6d1dca94",
   "metadata": {},
   "source": [
    "<left>\n",
    "<table style=\"margin-top:0px; margin-left:0px;\">\n",
    "<tr>\n",
    "  <td><img src=\"https://raw.githubusercontent.com/worm-portal/WORM-Figures/master/style/worm.png\" alt=\"WORM\" title=\"WORM\" width=50/></td>\n",
    "  <td><h1 style=font-size:30px>Power consumed from microbial growth</h1><h2>Breakout Session Activity</h2></td>\n",
    "</tr>\n",
    "</table>\n",
    "</left>\n",
    "\n",
    "The goal of this activity is to calculate power consumption by microbes grown in lab experiments. Power is energy over time and can be expressed in watts (J/sec).\n",
    "\n",
    "1) The thermophilic marine bacterium *Carboxydobrachium pacificum* can obtain energy by catalyzing the reaction:\n",
    "\n",
    "    $CO + H_2O = CO_2 + H_2$\n",
    "\n",
    "    A growth experiment by [Sokolova et al. (2001)](https://doi.org/10.1099/00207713-51-1-141) tracked the concentrations of reactants and products throughout the growth of *C. pacificum* in a lab culture. These concentrations are given in the CSV `c_pacificum.csv` before and after the growth (samples \"initial\" and \"final\", respectively).\n",
    "   \n",
    "   a) How much energy (in affinity per mole of electrons transferred, J/mol e-) was available from the oxidation of CO to CO2 at the beginning of the experiment? At the end?\n",
    "\n",
    "   b) The microbial growth phase lasted approximately 74 hours. What was the average power consumption of *C. pacificum* in watts/mole of electrons transferred?\n",
    "\n",
    "   c) What was the average power consumption in watts/kg fluid?\n",
    "\n",
    "3) The bacterium *Desulfocapsa thiozymogenes* turns sulfite (SO3-2) into sulfide and sulfate with the reaction:\n",
    "\n",
    "    $4SO_3^{2-} + H^+ = HS^- + 3SO_4^{2-}$\n",
    "\n",
    "    Initial and final concentrations of reactants and products are given in the CSV `d_thiozymogenes` for a growth experiment performed [Janssen et al. (1996)](https://doi.org/10.1007/s002030050374). The microbial growth phase took about 140 hours. What was the average power consumption of *Desulfocapsa thiozymogenes* in watts/mole e-? In watts/kg fluid?"
   ]
  },
  {
   "cell_type": "code",
   "execution_count": null,
   "id": "f0c9c511-5365-4826-9bae-d7cd1ed6f0d6",
   "metadata": {},
   "outputs": [],
   "source": [
    "import AqEquil\n",
    "import pandas as pd\n",
    "\n",
    "ae = AqEquil.AqEquil(exclude_organics=True)"
   ]
  },
  {
   "cell_type": "code",
   "execution_count": null,
   "id": "da6f18c0-ccfc-4854-a8d9-06f66df74650",
   "metadata": {},
   "outputs": [],
   "source": [
    "speciation = ae.speciate(\n",
    "        input_filename = \"c_pacificum.csv\",\n",
    "        )\n"
   ]
  },
  {
   "cell_type": "code",
   "execution_count": null,
   "id": "86d8ca10-a98d-46e4-968a-7680e4065f41",
   "metadata": {},
   "outputs": [],
   "source": [
    "speciation.save(\"c_pacificum.speciation\")"
   ]
  },
  {
   "cell_type": "markdown",
   "id": "f8250a0b-1cc1-41b9-ba15-9a876eb625d4",
   "metadata": {},
   "source": [
    "### The notebook can be restarted here if necessary"
   ]
  },
  {
   "cell_type": "code",
   "execution_count": null,
   "id": "c82faa85-d0ca-4a45-882e-235786080e18",
   "metadata": {},
   "outputs": [],
   "source": [
    "import AqEquil\n",
    "import pandas as pd\n",
    "\n",
    "speciation = AqEquil.load(\"c_pacificum.speciation\")"
   ]
  },
  {
   "cell_type": "code",
   "execution_count": null,
   "id": "d19d28dc-3d90-4997-a16c-83d8da0bdd47",
   "metadata": {},
   "outputs": [],
   "source": [
    "speciation.half_cell_reactions"
   ]
  },
  {
   "cell_type": "code",
   "execution_count": null,
   "id": "3281bee4-2b53-45ed-a220-e55d24cdc94e",
   "metadata": {},
   "outputs": [],
   "source": [
    "speciation.make_redox_reactions([])"
   ]
  },
  {
   "cell_type": "code",
   "execution_count": null,
   "id": "c30085b7-f280-46ac-8f3e-228f71dea2cc",
   "metadata": {},
   "outputs": [],
   "source": [
    "speciation.apply_redox_reactions(y_type=\"A\",\n",
    "                                 y_units=\"J\")"
   ]
  },
  {
   "cell_type": "code",
   "execution_count": null,
   "id": "c271b4eb-d1d1-478b-a095-7e28d8603cea",
   "metadata": {},
   "outputs": [],
   "source": [
    "# add a custom half reaction\n",
    "speciation.add_new_half_reaction('SO3-2', 'H2S')\n",
    "speciation.half_cell_reactions"
   ]
  },
  {
   "cell_type": "code",
   "execution_count": null,
   "id": "b88f8409-6165-4df2-ab92-e5c44baadd43",
   "metadata": {},
   "outputs": [],
   "source": []
  }
 ],
 "metadata": {
  "kernelspec": {
   "display_name": "Python 3",
   "language": "python",
   "name": "python3"
  },
  "language_info": {
   "codemirror_mode": {
    "name": "ipython",
    "version": 3
   },
   "file_extension": ".py",
   "mimetype": "text/x-python",
   "name": "python",
   "nbconvert_exporter": "python",
   "pygments_lexer": "ipython3",
   "version": "3.10.12"
  }
 },
 "nbformat": 4,
 "nbformat_minor": 5
}
