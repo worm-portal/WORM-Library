{
 "cells": [
  {
   "cell_type": "markdown",
   "metadata": {},
   "source": [
    "<left>\n",
    "<table style=\"margin-top:0px; margin-left:0px;\">\n",
    "<tr>\n",
    "  <td><img src=\"https://raw.githubusercontent.com/worm-portal/WORM-Figures/master/style/worm.png\" alt=\"WORM\" title=\"WORM\" width=50/></td>\n",
    "  <td><h1 style=font-size:30px>Intro to Mass Transfer and Reaction Path Calculations</h1><h2>Reacting forsterite  with model rain</h2></td>\n",
    "</tr>\n",
    "</table>\n",
    "</left>"
   ]
  },
  {
   "cell_type": "markdown",
   "metadata": {},
   "source": [
    "In the example below, an idealized version of the geochemical process called serpentinization is simulated. \n",
    "Serpentinization refers to an alteration process where minerals in the serpentine group of phyllosilicates replace minerals like olivine and pyroxene that form at high temperatures and pressures.\n",
    "\n",
    "In this example, a low-temperature, pH 6 aqueous fluid defined in `forsteritepH6_input.csv` will be speciated and then reacted at ambient conditions with 1 mole of [forsterite](https://www.mindat.org/min-1584.html) (olivine) bit-by-bit until the reaction is complete. This should produce [brucite](https://www.mindat.org/min-820.html) and the serpentine mineral [chrysotile](https://www.mindat.org/min-975.html) and cause the pH of the fluid to dramatically increase until it is hyperalkaline (~pH 10).\n",
    "\n",
    "Many different kinds of data are produced from the calculation that can be visualized with interactive plots. Most of these plots show how mineral masses or fluid compositions change as a function of reaction progress (Xi).\n",
    "\n",
    "First, let's make a phase diagram in pressure-temperature space that shows what happens when forsterite (Mg2SiO4) is altered to brucite (Mg(OH)2) and chrysotile (Mg3Si2O5(OH)4) by water.\n",
    "Using the clues above, we can write this balanced reaction:\n",
    "\n",
    "2 Mg2SiO4 + 3 H2O => Mg(OH)2 + Mg3Si2O5(OH)4\n",
    "\n",
    "This reaction tells us a great deal about the minerals, but nearly nothing about changes in the aqueous solution involved in the alteration process. We actually want to know about all these things.\n",
    "\n",
    "So, first we'll make a phase diagram..."
   ]
  },
  {
   "cell_type": "markdown",
   "metadata": {},
   "source": [
    "Load the Python package."
   ]
  },
  {
   "cell_type": "code",
   "execution_count": null,
   "metadata": {},
   "outputs": [],
   "source": [
    "from pyCHNOSZ import *\n",
    "_ = thermo(\"WORM\")"
   ]
  },
  {
   "cell_type": "markdown",
   "metadata": {},
   "source": [
    "now we will use the univariant curve option in pyCHNOSZ to generate a P-T phase diagram for the mineral equilibrium reaction..."
   ]
  },
  {
   "cell_type": "code",
   "execution_count": null,
   "metadata": {},
   "outputs": [],
   "source": [
    "out = univariant_TP(logK=0, # desired logK or list of logK values\n",
    "                    species=[\"forsterite\",\"H2O\", \"brucite\",\"chrysotile\"], # chemical species\n",
    "                    state=[\"cr\", \"liq\", \"cr\", \"cr\"], # aq, gas, liq, cr\n",
    "                    coeff=[-2, -3, 1, 1], # reaction stoichiometry (negative for reactants, positive for products)\n",
    "                    Trange=[0, 700], # temperature range to check, degrees C\n",
    "                    Prange=[10, 500], # pressure range to check, bars\n",
    "      )"
   ]
  },
  {
   "cell_type": "markdown",
   "metadata": {},
   "source": [
    "you can practice changing the axes with the plotting tools to make a really nice P-T figure...\n",
    "\n",
    "Meanwhile, the point is that forsterite + H2O are stable to the high-temperature side of this curve, and brucite + chrysotile are on the low-temperature side. It follows that forsterite being rained on at or near the Earth's surface is not stable relative to brucite and chrysotile!\n",
    "\n",
    "Now let's do the mass transfer calculation for that alteration process."
   ]
  },
  {
   "cell_type": "markdown",
   "metadata": {},
   "source": [
    "Load the Python package."
   ]
  },
  {
   "cell_type": "code",
   "execution_count": null,
   "metadata": {},
   "outputs": [],
   "source": [
    "import AqEquil"
   ]
  },
  {
   "cell_type": "markdown",
   "metadata": {},
   "source": [
    "Load the thermodynamic database and exclude organics to cut down on calculation time."
   ]
  },
  {
   "cell_type": "code",
   "execution_count": null,
   "metadata": {},
   "outputs": [],
   "source": [
    "ae = AqEquil.AqEquil(exclude_category={\"category_1\":[\"organic_aq\", \"organic_cr\"]})"
   ]
  },
  {
   "cell_type": "markdown",
   "metadata": {},
   "source": [
    "Speciate the pH 6 fluid defined in `forsteritepH6_input.csv`.\n",
    "\n",
    "Antigorite is not a stable serpentine mineral at the conditions of this calculation, so we will ensure its formation is suppressed using the `alter_options` parameter."
   ]
  },
  {
   "cell_type": "code",
   "execution_count": null,
   "metadata": {},
   "outputs": [],
   "source": [
    "speciation = ae.speciate(input_filename=\"forsteritepH6_input.csv\",\n",
    "                         alter_options=[[\"antigorite\", \"Suppress\"]],\n",
    "                        )"
   ]
  },
  {
   "cell_type": "markdown",
   "metadata": {},
   "source": [
    "Prepare the reaction by selecting reactant minerals. In this case, we will prepare forsterite to react with the pH 6 fluid.\n",
    "\n",
    "During early stages of reaction progress forsterite is dissolving into the water.\n",
    "This means that the dominant reaction is what's called the hydrolysis reaction for forsterite:\n",
    "Mg2SiO4 + 4 H+ ==> 2 Mg+2 + SiO2(aq) + 2 H2O\n",
    "\n",
    "Therefore our expectation at the early stages is for pH to rise, and the concentrations of total dissolved Mg and Si to increase. But the situation will change is the fluid becomes saturated with a new mineral and we allow it to form!"
   ]
  },
  {
   "cell_type": "code",
   "execution_count": null,
   "metadata": {},
   "outputs": [],
   "source": [
    "Forst = AqEquil.Reactant(reactant_name=\"forsterite\")\n",
    "\n",
    "r = AqEquil.Prepare_Reaction(reactants=[Forst])"
   ]
  },
  {
   "cell_type": "markdown",
   "metadata": {},
   "source": [
    "Run the reaction."
   ]
  },
  {
   "cell_type": "code",
   "execution_count": null,
   "metadata": {},
   "outputs": [],
   "source": [
    "speciation = AqEquil.react(speciation, r)"
   ]
  },
  {
   "cell_type": "markdown",
   "metadata": {},
   "source": [
    "Select the sample by its name, `pH6HCl`, for analysis and plotting."
   ]
  },
  {
   "cell_type": "code",
   "execution_count": null,
   "metadata": {},
   "outputs": [],
   "source": [
    "m = speciation.mt(\"pH6HCl\")"
   ]
  },
  {
   "cell_type": "markdown",
   "metadata": {},
   "source": [
    "## Available plot types"
   ]
  },
  {
   "cell_type": "markdown",
   "metadata": {},
   "source": [
    "Plot pH as a function of reaction progress (Xi)"
   ]
  },
  {
   "cell_type": "code",
   "execution_count": null,
   "metadata": {},
   "outputs": [],
   "source": [
    "m.plot_pH()"
   ]
  },
  {
   "cell_type": "markdown",
   "metadata": {},
   "source": [
    "Hey! pH increases as we expected, but it has an elaborate path...\n",
    "\n",
    "Let's plot concentrations of dissolved elements as functions of reaction progress (Xi)"
   ]
  },
  {
   "cell_type": "code",
   "execution_count": null,
   "metadata": {},
   "outputs": [],
   "source": [
    "m.plot_elements(log=False)"
   ]
  },
  {
   "cell_type": "markdown",
   "metadata": {},
   "source": [
    "ok. the concentration of total dissolved Mg increases. The concentration of total dissolved silica starts to increase as well, but then falls to low concentrations.\n",
    "You can use the zoom tool to check out the early stages of reaction (up to log Xi = -5 or so). \n",
    "Mouse over the points at 10^-7 and 10-6 log Xi and see if the ratio of total Mg to total Si is 2 like the forsterite dissolution (hydrolysis) reaction would have us believe. Ha! it's true.\n",
    "and it is also true at the maximum point on the Si curve -- check it out!\n",
    "But right there, at log Xi = -5.134 something happens that causes the total Si curve to change course.\n",
    "A good guess would be the precipitation from solution of a silicate mineral. Let's see!\n",
    "\n",
    "Plot the moles of minerals produced as functions of reaction progress (Xi)"
   ]
  },
  {
   "cell_type": "code",
   "execution_count": null,
   "metadata": {},
   "outputs": [],
   "source": [
    "m.plot_product_minerals(show_reactant_minerals=False)"
   ]
  },
  {
   "cell_type": "markdown",
   "metadata": {},
   "source": [
    "A-ha! right there at log Xi = -5.134 chrysotile appears as a product. It's the first mineral to appear, but may not be the last in the alteration assemblage.\n",
    "Comparing the last two plots, we can see that as chrysotile appears the total dissolved Si falls dramatically and the total dissolved Mg skyrockets! what is going on?\n",
    "\n",
    "First, it may help to remind ourselves about the overall process we're modleing. \n",
    "Forsterite is dissolving continuously. In fact, the way we keep track of reaction progress (Xi) is by quantifying the amount of forsterite that has dissolved. Mg and Si increase in the 2:1 ratio we expect from the forsterite hydrolysis reaction until the solution reaches saturation with chrysotile at log Xi = -5.134.\n",
    "now there is a second reaction involved, chrysotile formation!\n",
    "3Mg+2 + 2 SiO2 + 5 H2O ==> Mg3Si2O5(OH)4 + 6 H+\n",
    "\n",
    "So that second reaction is removing Mg and Si from solution. But it does so in a 3:2 ratio.\n",
    "And all the while forsterite is dissolving, contributing Mg and Si to solution in a 2:1 ratio.\n",
    "Examining these ratios will reveal why chrysotile formation drives the total Si concentration down, as forsterite dissolves, and the total Mg concentration up: More Mg is being added than is being removed.\n",
    "\n",
    "ok, now we can explain why the total Mg concentration climbs.\n",
    "Then, at log Xi = -3.77 the Mg curve goes flat!\n",
    "Well, looking at the other plot reveals what changes. This is the point that brucite can form.\n",
    "Precipitation of brucite will remove Mg from solution and maintain the Mg concentration at the equilibrium value.\n",
    "Mg+2 + 2 H2O ==> Mg(OH)2 + 2 H+\n",
    "\n",
    "So, while reaction progress increases, and forsterite is dissolving and contributing Mg and Si in a 2:1 ratio, both chrysotile and brucite are forming... and the two curves showing total moles of minerals produced are on top of each other. Equal amounts of chrysotile and brucite are forming. Let's see why...\n",
    "Mg(OH)2 and Mg3Si2O5(OH)4 forming together means that Mg and Si are removed in a 4:2 ratio, which is the same as the 2:1 ratio that they are being added by forsterite dissolution!\n",
    "\n",
    "We could anticipate this by writing an overall reaction involving mineral reactants and products like we did above for making the phase diagram\n",
    "2Mg2SiO4 + 3H2O ==> Mg3Si2O5(OH)4 + Mg(OH)2\n",
    "but, that overall reaction doesn't reveal anything about what goes on in the coexisiting solution.\n",
    "It is not that it is wrong, it is just incomplete. Changes are happening to the minerals, and changes also happen to the solution!\n",
    "\n",
    "We can view these changes simultaneously by following our reaction path on an activity diagram.\n",
    "Let's start with some basics. \n",
    "If we return to the forsterite dissolution reaction:\n",
    "Mg2SiO4 + 4 H+ ==> 2 Mg+2 + SiO2(aq) + 2 H2O\n",
    "we realize that there are three aqueous solutes involved (Mg+2, SiO2(aq) and H+).\n",
    "\n",
    "Rather than making a three-dimensional diagram to depict the path, we can stay in two dimensions by placing two of our variables in a ratio.\n",
    "Often the choice is made to do this with the cations as (a Mg+2)/(a H+)2, where a stands for activity.\n",
    "then if we plot the log of that activity ratio vs the log activity of SiO2(aq) we can generate an activity diagram.\n",
    "Let's do that!"
   ]
  },
  {
   "cell_type": "code",
   "execution_count": null,
   "metadata": {},
   "outputs": [],
   "source": [
    "fig_list = m.plot_reaction_paths(flip_xy=True, # flip variables on x and y axes?\n",
    "                                 colormap=\"bw\", # black and white colormap for the background\n",
    "                                 minerals_to_show=[\"quartz\"], # show the quartz saturation line for reference\n",
    "                                 )\n",
    "\n",
    "_ = [fig.show() for fig in fig_list]"
   ]
  },
  {
   "cell_type": "markdown",
   "metadata": {},
   "source": [
    "Congratulations! a logarithmic activity diagram is born!\n",
    "(In this case, log activities of basis species SiO2 and Mg+2 are automatically chosen as axis variables because the system only has a limited number of elements. In more complex systems, multiple permutations of plots are shown.)\n",
    "\n",
    "Once the plot is ready, hover your mouse over the plot to see more.\n",
    "\n",
    "This plot shows the Mg+2 to H+ activity ratio vs the activity of aquoeus silica for our chose T & P.\n",
    "The diagram features three dashed lines that show conditions where minerals are stable.\n",
    "These are called mineral saturation lines. \n",
    "\n",
    "Take, for example, the horizontal dashed line labeled brucite in the legend. This line corresponds to equilibrium with respect to the reaction\n",
    "Mg(OH)2 + 2 H+ <=> Mg+2 + H2O\n",
    "\n",
    "The numerical value of (aMg+2)/(aH+)2 can be calculated directly form the equilibrium constant for this reaction. Above this line a solution would be supersaturated with brucite, and precipitation of brucite would help to lower the energy state of the system. Below this line the solution is undersaturated with brucite, and dissolution of brucite (if present) would help to lower the energy state of the system.\n",
    "\n",
    "The same reasoning produces the saturation lines for quartz and chrysotile, with the same consequences for supersaturation and undersaturation.\n",
    "\n",
    "The red reaction path shows the results of our mass transfer model. Mouse over the nodes on the path to reveal the corresponding values of Xi.\n",
    "\n",
    "Note that early on the reaction path starts at low values of log a SiO2(aq) and log (aMg+2)/(aH+)2.\n",
    "The path is far away from the saturation lines. This is because only a small amount of forsterite has dissolved. As forsterite continues to dissolve the reaction path moves upward and across the diagram. \n",
    "This initial trajectory of the path incorporates the changes in pH, Mg, and Si as forsterite dissolves.\n",
    "\n",
    "Then things change as the fluid reaches equilibrium with chrysotile (check out the value of Xi and see that it is matched in the other figures. Now as forsterite continues to dissolve and chrysotile precipitates the fluid composition moves up and to the left along the chrysotile saturation line. Again, this can be reconciled with the Mg:Si ratios in the dissolveing forsterite and precipitating chrysotile.\n",
    "The Si content of the fluid decreases as the Mg content of the fluid continues to increase, and the Mg+2/H+ activity ratio changes in concert. \n",
    "\n",
    "Finally the fluid composition reaches saturation with brucite as well as chrysotile. Brucite joins the fun!\n",
    "But notice that the fluid composition is stuck at the intersection of the chrysotile and brucite saturation lines. All the Mg and Si being contributed by forsterite dissolution reappear in solid form as brucite and chrysotile. This is, in a way, a disadvantage of the activity diagram if you want to know how much of a new mineral forms. That information is not shown by the activity diagram. Instead you can get that information from the plot showing moles of product minerals. It helps to have all of these various perspectives to fully grasp the transformations that happen to the minerals and to the coexisting aqueous solution.\n",
    "\n",
    "Now let's find out more about the solutes.\n",
    "Plot activities of basis aqueous species as functions of reaction progress (Xi)"
   ]
  },
  {
   "cell_type": "code",
   "execution_count": null,
   "metadata": {},
   "outputs": [],
   "source": [
    "m.plot_aqueous_species(plot_basis=True)"
   ]
  },
  {
   "cell_type": "markdown",
   "metadata": {},
   "source": [
    "Plot activity of basis and non-basis aqueous species as a function of reaction progress (Xi)"
   ]
  },
  {
   "cell_type": "code",
   "execution_count": null,
   "metadata": {},
   "outputs": [],
   "source": [
    "m.plot_aqueous_species(plot_basis=False)"
   ]
  },
  {
   "cell_type": "markdown",
   "metadata": {},
   "source": [
    "Given all those aqueous species, how does reactions progress affect changes in speciation?\n",
    "In this case, how does the speciation of aqueous SiO2 change with Xi?"
   ]
  },
  {
   "cell_type": "code",
   "execution_count": null,
   "metadata": {},
   "outputs": [],
   "source": [
    "m.plot_mass_contribution(\"SiO2\")"
   ]
  },
  {
   "cell_type": "markdown",
   "metadata": {},
   "source": [
    "## Tables"
   ]
  },
  {
   "cell_type": "markdown",
   "metadata": {},
   "source": [
    "Print a list of available tables."
   ]
  },
  {
   "cell_type": "code",
   "execution_count": null,
   "metadata": {},
   "outputs": [],
   "source": [
    "m.print_tabs()"
   ]
  },
  {
   "cell_type": "markdown",
   "metadata": {},
   "source": [
    "Display Table P by copy-pasting its full name from the list above"
   ]
  },
  {
   "cell_type": "code",
   "execution_count": null,
   "metadata": {},
   "outputs": [],
   "source": [
    "m.tab[\"Table P Moles of product minerals\"]"
   ]
  },
  {
   "cell_type": "markdown",
   "metadata": {},
   "source": [
    "Display Table D1 in the same way"
   ]
  },
  {
   "cell_type": "code",
   "execution_count": null,
   "metadata": {},
   "outputs": [],
   "source": [
    "m.tab[\"Table D1 Solute basis species(total molality)\"]"
   ]
  },
  {
   "cell_type": "markdown",
   "metadata": {},
   "source": [
    "Display a table of the log activity of aqueous species at different values of Xi. The `.head()` means only the first five rows are displayed in the notebook."
   ]
  },
  {
   "cell_type": "code",
   "execution_count": null,
   "metadata": {},
   "outputs": [],
   "source": [
    "m.aq_distribution.head()"
   ]
  },
  {
   "cell_type": "markdown",
   "metadata": {},
   "source": [
    "Documentation is available for any function by including `?` at the end of the function name. For instance, here is the documentation for the `AqEquil.Reactant` function used earlier in the notebook to define forsterite and fayalite as minerals to react with speciated fluids:"
   ]
  },
  {
   "cell_type": "code",
   "execution_count": null,
   "metadata": {},
   "outputs": [],
   "source": [
    "AqEquil.Reactant?"
   ]
  },
  {
   "cell_type": "code",
   "execution_count": null,
   "metadata": {},
   "outputs": [],
   "source": []
  }
 ],
 "metadata": {
  "kernelspec": {
   "display_name": "Python 3",
   "language": "python",
   "name": "python3"
  },
  "language_info": {
   "codemirror_mode": {
    "name": "ipython",
    "version": 3
   },
   "file_extension": ".py",
   "mimetype": "text/x-python",
   "name": "python",
   "nbconvert_exporter": "python",
   "pygments_lexer": "ipython3",
   "version": "3.11.0"
  }
 },
 "nbformat": 4,
 "nbformat_minor": 4
}
