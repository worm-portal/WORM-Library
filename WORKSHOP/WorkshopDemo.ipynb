{
 "cells": [
  {
   "cell_type": "markdown",
   "metadata": {},
   "source": [
    "## Aqueous Geochemical Speciation\n",
    "### WORM Workshop September 22, 2021\n",
    "\n",
    "\"How much silica is dissolved in this water?\" the geochemist asked.\n",
    "\n",
    "She collected a sample and measured the concentration of total silica with a field spectrophotometer:\n",
    "\n",
    "<img src=\"https://www.hach.com/asset-get.product.image.jsa?sku=DR1900-01H&type=A3&size=L\" alt=\"Field spectrophotometry\" title=\"'How much silica is in this water?'\" width=300/>\n",
    "\n",
    "The spectrophotometer read: **0.20 milimolal**.\n",
    "\n",
    "\"That answers that!\" the geochemist said, preparing to go home.\n",
    "\n",
    "But then she recalled that SiO$_{2(aq)}$ can change forms depending on pH:\n",
    "\n",
    "$$\\color{orangered}{\\text{SiO}_{2(aq)} + \\text{H}_{2}\\text{O} \\rightleftharpoons \\text{HSiO}_{3}^{-} + \\text{H}^{+}}$$\n",
    "\n",
    "The geochemist knew that the spectrophotometer only measured total dissolved silica and did not report how much was actually HSiO$_{3}^{-}$.\n",
    "\n",
    "\"How much of the dissolved silica is the hydrogen silicate ion?\" the geochemist asked.\n",
    "\n",
    "She unpacked a pH meter and measured the pH and temperature of the water.\n",
    "\n",
    "<img src=\"https://www.horiba.com/fileadmin/_processed_/csm_Inukami_river__03_8fcde5397f.jpg\" alt=\"Field spectrophotometry\" title=\"'What is the pH and temperature of this water?'\" width=200/>\n",
    "\n",
    "The meter read: **pH 7.7** and **21.0 °C**\n",
    "\n",
    "The geochemist logged into the WORM Portal using her field laptop and calculated the logK of the reaction to form the hydrogen silicate ion at 21.0 °C."
   ]
  },
  {
   "cell_type": "code",
   "execution_count": null,
   "metadata": {},
   "outputs": [],
   "source": [
    "# import the function we need (subcrt)\n",
    "from pyCHNOSZ import subcrt\n",
    "\n",
    "# calculate the logK of SiO2 + H2O = HSiO3- + H+ at 21.0 °C\n",
    "subcrt([\"SiO2\", \"H2O\", \"HSiO3-\", \"H+\"],\n",
    "       [-1, -1, 1, 1],\n",
    "       property=\"logK\", T=21.0,\n",
    "       show=False, messages=False)[\"out\"]"
   ]
  },
  {
   "cell_type": "markdown",
   "metadata": {},
   "source": [
    "$$\\color{orangered}{\\text{logK} = -9.63}$$\n",
    "\n",
    "The geochemist knew that she could use this $\\text{logK}$ and her field measurements to calculate the activity (\"effective concentration\") of HSiO$_{3}^{-}$.\n",
    "\n",
    "$$\\color{orangered}{\\text{logK} = \\log[\\text{HSiO}_{3}^{-}] + \\log[\\text{H}^{+}] - \\log[\\text{SiO}_{2(aq)}] - \\log[\\text{H}_{2}\\text{O}]}$$\n",
    "\n",
    "The log activity of protons is equal to $-\\text{pH}$. Further, the log activity of H$_2$O is very close to zero under surface conditions. This simplifies the equation:\n",
    "\n",
    "$$\\color{orangered}{\\text{logK} = \\log[\\text{HSiO}_{3}^{-}] - \\text{pH} - \\log[\\text{SiO}_{2(aq)}]}$$\n",
    "\n",
    "The geochemist plugged in the $\\text{logK}$ she calculated and the pH and concentration of SiO$_{2(aq)}$ she measured. She solved for HSiO$_{3}^{-}$:\n",
    "\n",
    "\\begin{align}\n",
    "\\color{orangered}{-9.63} &\\color{orangered}{= \\log[\\text{HSiO}_{3}^{-}] - 7.7 - \\log[0.20 \\times 10^{-3} \\text{molal}]} \\\\\n",
    "\\color{orangered}{\\log[\\text{HSiO}_{3}^{-}]} &\\color{orangered}{= -9.63 + 7.7 + \\log[0.20 \\times 10^{-3} \\text{molal}]} \\\\\n",
    "\\color{orangered}{\\text{HSiO}_{3}^{-}} &\\color{orangered}{= 2.3 \\times 10^{-6} \\text{molal}}\n",
    "\\end{align}"
   ]
  },
  {
   "cell_type": "code",
   "execution_count": null,
   "metadata": {},
   "outputs": [],
   "source": [
    "# solve it here, just to be sure!\n",
    "import math\n",
    "10**(-9.63 + 7.7 + math.log10(0.0002))"
   ]
  },
  {
   "cell_type": "markdown",
   "metadata": {},
   "source": [
    "\"The concentration of the hydrogen silicate ion is about two orders of magnitude less than that of dissolved silica,\" the geochemist said. \"That answers that!\"\n",
    "\n",
    "Satisfied, she packed her field equipment and began the hike back to her car.\n",
    "\n",
    "Driving back to the lab, the geochemist had a sudden realization.\n",
    "\n",
    "\"What if the hydrogen silicate ion is complexing with other ions, like Mg$^{2+}$, Ca$^{2+}$, and Na$^{+}$? What are the concentrations of *those* complexes?\"\n",
    "\n",
    "She unpacked her water sample at the lab and analyzed the total concentrations of major dissolved cations and anions with an ion chromatograph.\n",
    "\n",
    "<img src=\"https://upload.wikimedia.org/wikipedia/commons/thumb/7/73/Metrohm_850.jpg/1280px-Metrohm_850.jpg\" alt=\"Ion Chromatograph\" title=\"'What are the concentrations of total dissolved cations in this water?'\" width=300/>\n",
    "\n",
    "While analyzing the anions, the geochemist had another disturbing realization.\n",
    "\n",
    "\"I'm measuring **total** concentrations of major dissolved cations in the water. Mg$^{2+}$, Ca$^{2+}$, and Na$^{+}$ might also be complexed with anions besides HSiO$_{3}^{-}$, like HCO$_{3}^{-}$ and CO$_3^{2-}$!\"\n",
    "\n",
    "The geochemist sat down and wrote out the chemical reactions for the formation of these complexes.\n",
    "\n",
    "She realized she could designate aqueous species as *basis* or *non-basis* to make the setting up the problem easier. All reactions can be set up to form a single non-basis species from a small selection of simple basis species:"
   ]
  },
  {
   "cell_type": "markdown",
   "metadata": {},
   "source": [
    "$\\color{magenta}{\\text{Basis} : \\text{SiO}_{2}, \\text{H}_{2}\\text{O}, \\text{H}^{+}, \\text{Mg}^{2+}, \\text{Ca}^{2+}, \\text{Na}^{+}}$\n",
    "\n",
    "$\\color{cyan}{\\text{Non-Basis} : \\text{HSiO}_{3}^{-}, \\text{Mg(HSiO}_{3}\\text{)}^{+}, \\text{Ca(HSiO}_{3}\\text{)}^{+}, \\text{NaHSiO}_{3(aq)}, \\text{Mg(HCO}_{3}\\text{)}^{+}, \\text{Ca(HCO}_{3}\\text{)}^{+}, \\text{NaHCO}_{3}, \\text{CO}_{3}^{2-}, \\text{MgCO}_{3(aq)}, \\text{CaCO}_{3(aq)}, \\text{NaCO}_{3}^{-}}$\n",
    "\n",
    "\n",
    "\\begin{align}\n",
    "\\color{magenta}{\\text{SiO}_{2}} + \\color{magenta}{\\text{H}_{2}\\text{O}} &\\rightleftharpoons \\color{cyan}{\\text{HSiO}_{3}^{-}} + \\color{magenta}{\\text{H}^{+}} \\\\\n",
    "\\color{magenta}{\\text{SiO}_{2}} + \\color{magenta}{\\text{Mg}^{2+}} + \\color{magenta}{\\text{H}_{2}\\text{O}} &\\rightleftharpoons \\color{cyan}{\\text{Mg(HSiO}_{3}\\text{)}^{+}} + \\color{magenta}{\\text{H}^{+}} \\\\\n",
    "\\color{magenta}{\\text{SiO}_{2}} + \\color{magenta}{\\text{Ca}^{2+}} + \\color{magenta}{\\text{H}_{2}\\text{O}} &\\rightleftharpoons \\color{cyan}{\\text{Ca(HSiO}_{3}\\text{)}^{+}} + \\color{magenta}{\\text{H}^{+}} \\\\\n",
    "\\color{magenta}{\\text{SiO}_{2}} + \\color{magenta}{\\text{Na}^{+}} + \\color{magenta}{\\text{H}_{2}\\text{O}} &\\rightleftharpoons \\color{cyan}{\\text{NaHSiO}_{3(aq)}} \\\\\n",
    "\\end{align}\n",
    "\n",
    "\\begin{align}\n",
    "\\color{magenta}{\\text{HCO}_{3}^{-}} &\\rightleftharpoons \\color{cyan}{\\text{CO}_{3}^{2-}} + \\color{magenta}{\\text{H}^{+}} \\\\\n",
    "\\color{magenta}{\\text{HCO}_{3}^{-}} + \\color{magenta}{\\text{Mg}^{2+}} + &\\rightleftharpoons \\color{cyan}{\\text{Mg(HCO}_{3}\\text{)}^{+}} + \\color{magenta}{\\text{H}^{+}} \\\\\n",
    "\\text{...} & \\text{and so on...}\n",
    "\\end{align}"
   ]
  },
  {
   "cell_type": "markdown",
   "metadata": {},
   "source": [
    "To get the concentrations of the complexes, the geochemist figured she would calculate the logK of each reaction then solve the system of nonlinear equations."
   ]
  },
  {
   "cell_type": "markdown",
   "metadata": {},
   "source": [
    "As she assembled the analytical data into spreadsheets on her computer, the geochemist considered the process required to calculate the concentrations of all these solutes.\n",
    "\n",
    "She would have to find the root solution to an enormous set of nonlinear equations. It would take a *lot* of time and effort to do by hand, even for a single sample.\n",
    "\n",
    "\"I've got it!\" the geochemist exclaimed.\n",
    "\n",
    "She logged into her WORM Portal account and grabbed a copy of the Aqueous Speciation notebook from the WORM Library. Using her spreadsheets of analytical data as input for the calculations, the geochemist quickly performed a speciation calculation in the notebook:"
   ]
  },
  {
   "cell_type": "code",
   "execution_count": null,
   "metadata": {},
   "outputs": [],
   "source": [
    "import AqEquil\n",
    "ae = AqEquil.AqEquil()\n",
    "speciation = ae.speciate(input_filename=\"singlesample.csv\", verbose=0)\n",
    "print(\"Done!\")"
   ]
  },
  {
   "cell_type": "markdown",
   "metadata": {},
   "source": [
    "The geochemist examined the results of the speciation."
   ]
  },
  {
   "cell_type": "code",
   "execution_count": null,
   "metadata": {},
   "outputs": [],
   "source": [
    "# which sections are in the speciation results?\n",
    "speciation.lookup()"
   ]
  },
  {
   "cell_type": "code",
   "execution_count": null,
   "metadata": {},
   "outputs": [],
   "source": [
    "# which variables are in the section?\n",
    "speciation.lookup(\"aq_distribution\")"
   ]
  },
  {
   "cell_type": "markdown",
   "metadata": {},
   "source": [
    "The geochemist could look up calculated log activities of the aqueous species in her sample. Silica complexes, for instance:"
   ]
  },
  {
   "cell_type": "code",
   "execution_count": null,
   "metadata": {},
   "outputs": [],
   "source": [
    "speciation.lookup([\"SiO2\", \"Mg(HSiO3)+\", \"Ca(HSiO3)+\", \"NaHSiO3\"])"
   ]
  },
  {
   "cell_type": "markdown",
   "metadata": {},
   "source": [
    "The geochemist could even visualize basis species as a percent of the total aqueous species. She started with silica, \"SiO2\"."
   ]
  },
  {
   "cell_type": "code",
   "execution_count": null,
   "metadata": {},
   "outputs": [],
   "source": [
    "speciation.plot_mass_contribution(\"SiO2\")"
   ]
  },
  {
   "cell_type": "markdown",
   "metadata": {},
   "source": [
    "She could also visualize magnesium, calcium, and sodium ions and complexes:"
   ]
  },
  {
   "cell_type": "code",
   "execution_count": null,
   "metadata": {},
   "outputs": [],
   "source": [
    "speciation.plot_mass_contribution(\"Mg+2\")"
   ]
  },
  {
   "cell_type": "code",
   "execution_count": null,
   "metadata": {},
   "outputs": [],
   "source": [
    "speciation.plot_mass_contribution(\"Ca+2\")"
   ]
  },
  {
   "cell_type": "code",
   "execution_count": null,
   "metadata": {},
   "outputs": [],
   "source": [
    "speciation.plot_mass_contribution(\"Na+\")"
   ]
  },
  {
   "cell_type": "markdown",
   "metadata": {},
   "source": [
    "And bicarbonate:"
   ]
  },
  {
   "cell_type": "code",
   "execution_count": null,
   "metadata": {},
   "outputs": [],
   "source": [
    "speciation.plot_mass_contribution(\"HCO3-\")"
   ]
  },
  {
   "cell_type": "markdown",
   "metadata": {},
   "source": [
    "And mineral saturation index (distance from equilibrium, in kcal/mol). She could see which pure minerals were supersaturated (blue) and undersaturated (orange):"
   ]
  },
  {
   "cell_type": "code",
   "execution_count": null,
   "metadata": {},
   "outputs": [],
   "source": [
    "speciation.plot_mineral_saturation('Water Sample')"
   ]
  },
  {
   "cell_type": "markdown",
   "metadata": {},
   "source": [
    "\"That answers that!\" The geochemist stood up to go home and eat a nice meal to celebrate a job well done. But something stopped her. It was another burning question.\n",
    "\n",
    "\"What about the other dozen samples I collected today?\""
   ]
  },
  {
   "cell_type": "markdown",
   "metadata": {},
   "source": [
    "### Workshop Outline\n",
    "\n",
    "- <s>Story time! Aqueous geochemical speciation with WORM</s>\n",
    "- Introduction to Jupyter Notebooks\n",
    "- WORM Portal tour\n",
    "- How to grab notebooks from the WORM library\n",
    "- Hands-on exploration in a breakout session"
   ]
  }
 ],
 "metadata": {
  "kernelspec": {
   "display_name": "Python 3",
   "language": "python",
   "name": "python3"
  },
  "language_info": {
   "codemirror_mode": {
    "name": "ipython",
    "version": 3
   },
   "file_extension": ".py",
   "mimetype": "text/x-python",
   "name": "python",
   "nbconvert_exporter": "python",
   "pygments_lexer": "ipython3",
   "version": "3.7.0"
  }
 },
 "nbformat": 4,
 "nbformat_minor": 4
}
