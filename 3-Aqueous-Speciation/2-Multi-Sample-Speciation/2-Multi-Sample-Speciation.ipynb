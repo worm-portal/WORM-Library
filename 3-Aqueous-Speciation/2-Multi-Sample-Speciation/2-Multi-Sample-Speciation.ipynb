{
 "cells": [
  {
   "cell_type": "markdown",
   "metadata": {},
   "source": [
    "### Speciate multiple samples\n",
    "\n",
    "For this demo, water chemistry for multiple samples is provided in the input file 'input_example_wrm.csv'."
   ]
  },
  {
   "cell_type": "code",
   "execution_count": 1,
   "metadata": {},
   "outputs": [],
   "source": [
    "import AqEquil\n",
    "ae = AqEquil.AqEquil()"
   ]
  },
  {
   "cell_type": "code",
   "execution_count": 2,
   "metadata": {},
   "outputs": [
    {
     "name": "stdout",
     "output_type": "stream",
     "text": [
      "Warning: no 'logfO2' column found. Attempting to find a column for aqueous O2 to estimate logfO2 at sample temperature and pressure...\n",
      "\n",
      "Warning: non-numeric aqueous O2 value in sample Crater Hills Geyser. Resorting to using Log fO2 (log bars) with a value of -6\n",
      "\n",
      "Preprocessing done! Took 0.1 seconds.\n",
      "\n",
      "Calling EQ3 on Crater.Hills.Geyser.3i using wrm\n",
      "Calling EQ3 on Gas.Crack.3i using wrm\n",
      "Calling EQ3 on Spray.Geyser.Source.3i using wrm\n",
      "Calling EQ3 on Bison.Pool.3i using wrm\n",
      "Calling EQ3 on Snail.3i using wrm\n",
      "Calling EQ3 on Ambergris.3i using wrm\n",
      "Calling EQ3 on MLS.Source.3i using wrm\n",
      "Now processing EQ3 output files...\n",
      "\n",
      "Processing EQ3 output for Ambergris\n",
      "\n",
      "Processing EQ3 output for Bison Pool\n",
      "\n",
      "Processing EQ3 output for Crater Hills Geyser\n",
      "\n",
      "Processing EQ3 output for Gas Crack\n",
      "\n",
      "Processing EQ3 output for MLS Source\n",
      "\n",
      "Processing EQ3 output for Snail\n",
      "\n",
      "Processing EQ3 output for Spray Geyser Source\n",
      "\n",
      "Finished processing EQ3 output files...\n",
      "\n",
      "Now processing mass contribution data...\n",
      "\n",
      "Processing mass contribution of basis species in Ambergris...\n",
      "\n",
      "Processing mass contribution of basis species in Bison Pool...\n",
      "\n",
      "Processing mass contribution of basis species in Crater Hills Geyser...\n",
      "\n",
      "Processing mass contribution of basis species in Gas Crack...\n",
      "\n",
      "Processing mass contribution of basis species in MLS Source...\n",
      "\n",
      "Processing mass contribution of basis species in Snail...\n",
      "\n",
      "Processing mass contribution of basis species in Spray Geyser Source...\n",
      "\n",
      "Finished processing mass contribution data...\n",
      "\n",
      "Finished mining .3o files. Time elapsed: 1.18 seconds\n",
      "\n"
     ]
    }
   ],
   "source": [
    "# perform a speciation calculation with the default WORM database 'wrm'\n",
    "speciation = ae.speciate(input_filename=\"input_example_wrm.csv\",\n",
    "                         exclude=[\"Year\", \"Area\"],\n",
    "                         db='wrm',\n",
    "                         report_filename=\"report.csv\",\n",
    "                         delete_generated_folders=True)"
   ]
  },
  {
   "cell_type": "markdown",
   "metadata": {},
   "source": [
    "### Accessing and visualizing results of a speciation calculation"
   ]
  },
  {
   "cell_type": "code",
   "execution_count": 3,
   "metadata": {},
   "outputs": [
    {
     "data": {
      "text/html": [
       "<div>\n",
       "<style scoped>\n",
       "    .dataframe tbody tr th:only-of-type {\n",
       "        vertical-align: middle;\n",
       "    }\n",
       "\n",
       "    .dataframe tbody tr th {\n",
       "        vertical-align: top;\n",
       "    }\n",
       "\n",
       "    .dataframe thead tr th {\n",
       "        text-align: left;\n",
       "    }\n",
       "</style>\n",
       "<table border=\"1\" class=\"dataframe\">\n",
       "  <thead>\n",
       "    <tr>\n",
       "      <th>Sample</th>\n",
       "      <th>Year</th>\n",
       "      <th>Area</th>\n",
       "      <th>pH</th>\n",
       "      <th>Temperature</th>\n",
       "      <th>HCO3-_(input)</th>\n",
       "      <th>O2_(input)</th>\n",
       "      <th>HS-_(input)</th>\n",
       "      <th>SiO2_(input)</th>\n",
       "      <th>METHANE_(input)</th>\n",
       "      <th>H2_(input)</th>\n",
       "      <th>...</th>\n",
       "      <th>O2/H2O</th>\n",
       "      <th>%CI of mean</th>\n",
       "      <th>%CI of total</th>\n",
       "      <th>Charge imbalance</th>\n",
       "      <th>IS (molal)</th>\n",
       "      <th>Mean charge</th>\n",
       "      <th>Sigma(mz) anions</th>\n",
       "      <th>Sigma(mz) cations</th>\n",
       "      <th>Total charge</th>\n",
       "      <th>stoichiometric IS (molal)</th>\n",
       "    </tr>\n",
       "    <tr>\n",
       "      <th></th>\n",
       "      <th></th>\n",
       "      <th></th>\n",
       "      <th>pH</th>\n",
       "      <th>degC</th>\n",
       "      <th>Molality</th>\n",
       "      <th>Molality</th>\n",
       "      <th>Molality</th>\n",
       "      <th>Molality</th>\n",
       "      <th>Molality</th>\n",
       "      <th>Molality</th>\n",
       "      <th>...</th>\n",
       "      <th>Eh_volts</th>\n",
       "      <th>%</th>\n",
       "      <th>%</th>\n",
       "      <th>eq/kg.H2O</th>\n",
       "      <th>molality</th>\n",
       "      <th>eq/kg.H2O</th>\n",
       "      <th>eq/kg.H2O</th>\n",
       "      <th>eq/kg.H2O</th>\n",
       "      <th>eq/kg.H2O</th>\n",
       "      <th>molality</th>\n",
       "    </tr>\n",
       "  </thead>\n",
       "  <tbody>\n",
       "    <tr>\n",
       "      <th>Bison Pool</th>\n",
       "      <td>2014</td>\n",
       "      <td>YNP</td>\n",
       "      <td>7.640</td>\n",
       "      <td>92.2</td>\n",
       "      <td>0.005690</td>\n",
       "      <td>0.000009</td>\n",
       "      <td>0.000003</td>\n",
       "      <td>0.006270</td>\n",
       "      <td>0.000000e+00</td>\n",
       "      <td>0.000000e+00</td>\n",
       "      <td>...</td>\n",
       "      <td>0.586</td>\n",
       "      <td>0.0163</td>\n",
       "      <td>0.0081</td>\n",
       "      <td>0.000002</td>\n",
       "      <td>0.013980</td>\n",
       "      <td>0.013791</td>\n",
       "      <td>-0.013790</td>\n",
       "      <td>0.013792</td>\n",
       "      <td>0.027581</td>\n",
       "      <td>0.014060</td>\n",
       "    </tr>\n",
       "    <tr>\n",
       "      <th>Spray Geyser Source</th>\n",
       "      <td>2012</td>\n",
       "      <td>YNP</td>\n",
       "      <td>8.021</td>\n",
       "      <td>92.9</td>\n",
       "      <td>0.005410</td>\n",
       "      <td>0.000003</td>\n",
       "      <td>0.000004</td>\n",
       "      <td>0.005030</td>\n",
       "      <td>0.000000e+00</td>\n",
       "      <td>0.000000e+00</td>\n",
       "      <td>...</td>\n",
       "      <td>0.548</td>\n",
       "      <td>0.2970</td>\n",
       "      <td>0.1485</td>\n",
       "      <td>0.000038</td>\n",
       "      <td>0.012987</td>\n",
       "      <td>0.012738</td>\n",
       "      <td>-0.012719</td>\n",
       "      <td>0.012757</td>\n",
       "      <td>0.025476</td>\n",
       "      <td>0.013064</td>\n",
       "    </tr>\n",
       "    <tr>\n",
       "      <th>Crater Hills Geyser</th>\n",
       "      <td>2012</td>\n",
       "      <td>YNP</td>\n",
       "      <td>3.327</td>\n",
       "      <td>89.0</td>\n",
       "      <td>0.000117</td>\n",
       "      <td>0.000000</td>\n",
       "      <td>0.000017</td>\n",
       "      <td>0.014400</td>\n",
       "      <td>0.000000e+00</td>\n",
       "      <td>0.000000e+00</td>\n",
       "      <td>...</td>\n",
       "      <td>NaN</td>\n",
       "      <td>2.2713</td>\n",
       "      <td>1.1357</td>\n",
       "      <td>0.000756</td>\n",
       "      <td>0.037525</td>\n",
       "      <td>0.033301</td>\n",
       "      <td>-0.032923</td>\n",
       "      <td>0.033680</td>\n",
       "      <td>0.066603</td>\n",
       "      <td>0.042061</td>\n",
       "    </tr>\n",
       "    <tr>\n",
       "      <th>Ambergris</th>\n",
       "      <td>2011</td>\n",
       "      <td>Iceland</td>\n",
       "      <td>8.452</td>\n",
       "      <td>81.5</td>\n",
       "      <td>0.000983</td>\n",
       "      <td>0.000053</td>\n",
       "      <td>0.000030</td>\n",
       "      <td>0.002480</td>\n",
       "      <td>8.900000e-09</td>\n",
       "      <td>3.970000e-08</td>\n",
       "      <td>...</td>\n",
       "      <td>0.567</td>\n",
       "      <td>20.3272</td>\n",
       "      <td>10.1636</td>\n",
       "      <td>0.000815</td>\n",
       "      <td>0.004743</td>\n",
       "      <td>0.004010</td>\n",
       "      <td>-0.003603</td>\n",
       "      <td>0.004418</td>\n",
       "      <td>0.008021</td>\n",
       "      <td>0.004874</td>\n",
       "    </tr>\n",
       "    <tr>\n",
       "      <th>MLS Source</th>\n",
       "      <td>2007</td>\n",
       "      <td>YNP</td>\n",
       "      <td>7.850</td>\n",
       "      <td>94.0</td>\n",
       "      <td>0.006785</td>\n",
       "      <td>0.000007</td>\n",
       "      <td>0.000002</td>\n",
       "      <td>0.004200</td>\n",
       "      <td>0.000000e+00</td>\n",
       "      <td>0.000000e+00</td>\n",
       "      <td>...</td>\n",
       "      <td>0.564</td>\n",
       "      <td>1.2445</td>\n",
       "      <td>0.6222</td>\n",
       "      <td>0.000224</td>\n",
       "      <td>0.018408</td>\n",
       "      <td>0.018009</td>\n",
       "      <td>-0.017897</td>\n",
       "      <td>0.018121</td>\n",
       "      <td>0.036018</td>\n",
       "      <td>0.018527</td>\n",
       "    </tr>\n",
       "    <tr>\n",
       "      <th>Gas Crack</th>\n",
       "      <td>2014</td>\n",
       "      <td>Oman</td>\n",
       "      <td>11.670</td>\n",
       "      <td>32.2</td>\n",
       "      <td>0.000033</td>\n",
       "      <td>0.000034</td>\n",
       "      <td>0.000006</td>\n",
       "      <td>0.000001</td>\n",
       "      <td>1.750000e-05</td>\n",
       "      <td>2.261290e-04</td>\n",
       "      <td>...</td>\n",
       "      <td>0.493</td>\n",
       "      <td>0.9553</td>\n",
       "      <td>0.4777</td>\n",
       "      <td>0.000209</td>\n",
       "      <td>0.023987</td>\n",
       "      <td>0.021833</td>\n",
       "      <td>-0.021729</td>\n",
       "      <td>0.021937</td>\n",
       "      <td>0.043666</td>\n",
       "      <td>0.024555</td>\n",
       "    </tr>\n",
       "    <tr>\n",
       "      <th>Snail</th>\n",
       "      <td>2014</td>\n",
       "      <td>Oman</td>\n",
       "      <td>11.650</td>\n",
       "      <td>23.8</td>\n",
       "      <td>0.000042</td>\n",
       "      <td>0.000009</td>\n",
       "      <td>0.000007</td>\n",
       "      <td>0.000010</td>\n",
       "      <td>1.371360e-04</td>\n",
       "      <td>2.471160e-04</td>\n",
       "      <td>...</td>\n",
       "      <td>0.512</td>\n",
       "      <td>0.8700</td>\n",
       "      <td>0.4350</td>\n",
       "      <td>0.000080</td>\n",
       "      <td>0.010838</td>\n",
       "      <td>0.009217</td>\n",
       "      <td>-0.009176</td>\n",
       "      <td>0.009257</td>\n",
       "      <td>0.018433</td>\n",
       "      <td>0.011061</td>\n",
       "    </tr>\n",
       "  </tbody>\n",
       "</table>\n",
       "<p>7 rows × 187 columns</p>\n",
       "</div>"
      ],
      "text/plain": [
       "Sample               Year     Area      pH Temperature HCO3-_(input)  \\\n",
       "                                        pH        degC      Molality   \n",
       "Bison Pool           2014      YNP   7.640        92.2      0.005690   \n",
       "Spray Geyser Source  2012      YNP   8.021        92.9      0.005410   \n",
       "Crater Hills Geyser  2012      YNP   3.327        89.0      0.000117   \n",
       "Ambergris            2011  Iceland   8.452        81.5      0.000983   \n",
       "MLS Source           2007      YNP   7.850        94.0      0.006785   \n",
       "Gas Crack            2014     Oman  11.670        32.2      0.000033   \n",
       "Snail                2014     Oman  11.650        23.8      0.000042   \n",
       "\n",
       "Sample              O2_(input) HS-_(input) SiO2_(input) METHANE_(input)  \\\n",
       "                      Molality    Molality     Molality        Molality   \n",
       "Bison Pool            0.000009    0.000003     0.006270    0.000000e+00   \n",
       "Spray Geyser Source   0.000003    0.000004     0.005030    0.000000e+00   \n",
       "Crater Hills Geyser   0.000000    0.000017     0.014400    0.000000e+00   \n",
       "Ambergris             0.000053    0.000030     0.002480    8.900000e-09   \n",
       "MLS Source            0.000007    0.000002     0.004200    0.000000e+00   \n",
       "Gas Crack             0.000034    0.000006     0.000001    1.750000e-05   \n",
       "Snail                 0.000009    0.000007     0.000010    1.371360e-04   \n",
       "\n",
       "Sample                 H2_(input)  ...   O2/H2O %CI of mean %CI of total  \\\n",
       "                         Molality  ... Eh_volts           %            %   \n",
       "Bison Pool           0.000000e+00  ...    0.586      0.0163       0.0081   \n",
       "Spray Geyser Source  0.000000e+00  ...    0.548      0.2970       0.1485   \n",
       "Crater Hills Geyser  0.000000e+00  ...      NaN      2.2713       1.1357   \n",
       "Ambergris            3.970000e-08  ...    0.567     20.3272      10.1636   \n",
       "MLS Source           0.000000e+00  ...    0.564      1.2445       0.6222   \n",
       "Gas Crack            2.261290e-04  ...    0.493      0.9553       0.4777   \n",
       "Snail                2.471160e-04  ...    0.512      0.8700       0.4350   \n",
       "\n",
       "Sample              Charge imbalance IS (molal) Mean charge Sigma(mz) anions  \\\n",
       "                           eq/kg.H2O   molality   eq/kg.H2O        eq/kg.H2O   \n",
       "Bison Pool                  0.000002   0.013980    0.013791        -0.013790   \n",
       "Spray Geyser Source         0.000038   0.012987    0.012738        -0.012719   \n",
       "Crater Hills Geyser         0.000756   0.037525    0.033301        -0.032923   \n",
       "Ambergris                   0.000815   0.004743    0.004010        -0.003603   \n",
       "MLS Source                  0.000224   0.018408    0.018009        -0.017897   \n",
       "Gas Crack                   0.000209   0.023987    0.021833        -0.021729   \n",
       "Snail                       0.000080   0.010838    0.009217        -0.009176   \n",
       "\n",
       "Sample              Sigma(mz) cations Total charge stoichiometric IS (molal)  \n",
       "                            eq/kg.H2O    eq/kg.H2O                  molality  \n",
       "Bison Pool                   0.013792     0.027581                  0.014060  \n",
       "Spray Geyser Source          0.012757     0.025476                  0.013064  \n",
       "Crater Hills Geyser          0.033680     0.066603                  0.042061  \n",
       "Ambergris                    0.004418     0.008021                  0.004874  \n",
       "MLS Source                   0.018121     0.036018                  0.018527  \n",
       "Gas Crack                    0.021937     0.043666                  0.024555  \n",
       "Snail                        0.009257     0.018433                  0.011061  \n",
       "\n",
       "[7 rows x 187 columns]"
      ]
     },
     "execution_count": 3,
     "metadata": {},
     "output_type": "execute_result"
    }
   ],
   "source": [
    "# summarize speciation results in a single report\n",
    "speciation.report"
   ]
  },
  {
   "cell_type": "code",
   "execution_count": 4,
   "metadata": {},
   "outputs": [
    {
     "data": {
      "image/png": "[encoded data removed]",
      "text/plain": [
       "<Figure size 640x480 with 1 Axes>"
      ]
     },
     "metadata": {},
     "output_type": "display_data"
    },
    {
     "data": {
      "text/plain": [
       "<ggplot: (8761837886507)>"
      ]
     },
     "execution_count": 4,
     "metadata": {},
     "output_type": "execute_result"
    }
   ],
   "source": [
    "# visualize basis species contributions to aqueous species by mass\n",
    "speciation.plot_mass_contribution(\"HCO3-\")"
   ]
  },
  {
   "cell_type": "code",
   "execution_count": 5,
   "metadata": {},
   "outputs": [
    {
     "data": {
      "image/png": "[encoded data removed]",
      "text/plain": [
       "<Figure size 432x288 with 1 Axes>"
      ]
     },
     "metadata": {
      "needs_background": "light"
     },
     "output_type": "display_data"
    }
   ],
   "source": [
    "# visualize mineral saturation states in a sample with plot_mineral_saturation()\n",
    "speciation.plot_mineral_saturation(\"Bison Pool\")"
   ]
  },
  {
   "cell_type": "code",
   "execution_count": 6,
   "metadata": {},
   "outputs": [
    {
     "name": "stderr",
     "output_type": "stream",
     "text": [
      "/opt/conda/envs/python3/lib/python3.7/site-packages/AqEquil/AqSpeciation.py:423: RuntimeWarning: All-NaN axis encountered\n"
     ]
    },
    {
     "data": {
      "image/png": "[encoded data removed]",
      "text/plain": [
       "<Figure size 432x288 with 1 Axes>"
      ]
     },
     "metadata": {
      "needs_background": "light"
     },
     "output_type": "display_data"
    }
   ],
   "source": [
    "# create a barplot for a single variable in the report with barplot()\n",
    "speciation.barplot(\"O2\")"
   ]
  },
  {
   "cell_type": "code",
   "execution_count": 7,
   "metadata": {},
   "outputs": [
    {
     "data": {
      "image/png": "[encoded data removed]",
      "text/plain": [
       "<Figure size 432x288 with 1 Axes>"
      ]
     },
     "metadata": {
      "needs_background": "light"
     },
     "output_type": "display_data"
    }
   ],
   "source": [
    "# list multiple variables in the report to create a grouped barplot\n",
    "speciation.barplot([\"Na+\", \"Cl-\", \"HCO3-\", \"Fe+2\"])"
   ]
  },
  {
   "cell_type": "code",
   "execution_count": 8,
   "metadata": {},
   "outputs": [
    {
     "data": {
      "text/html": [
       "<div>\n",
       "<style scoped>\n",
       "    .dataframe tbody tr th:only-of-type {\n",
       "        vertical-align: middle;\n",
       "    }\n",
       "\n",
       "    .dataframe tbody tr th {\n",
       "        vertical-align: top;\n",
       "    }\n",
       "\n",
       "    .dataframe thead tr th {\n",
       "        text-align: left;\n",
       "    }\n",
       "</style>\n",
       "<table border=\"1\" class=\"dataframe\">\n",
       "  <thead>\n",
       "    <tr>\n",
       "      <th>Sample</th>\n",
       "      <th>Cl-</th>\n",
       "      <th>Fe+2</th>\n",
       "      <th>HCO3-</th>\n",
       "      <th>Na+</th>\n",
       "    </tr>\n",
       "    <tr>\n",
       "      <th></th>\n",
       "      <th>log_activity</th>\n",
       "      <th>log_activity</th>\n",
       "      <th>log_activity</th>\n",
       "      <th>log_activity</th>\n",
       "    </tr>\n",
       "  </thead>\n",
       "  <tbody>\n",
       "    <tr>\n",
       "      <th>Bison Pool</th>\n",
       "      <td>-2.2645</td>\n",
       "      <td>-6.4395</td>\n",
       "      <td>-2.3221</td>\n",
       "      <td>-1.9437</td>\n",
       "    </tr>\n",
       "    <tr>\n",
       "      <th>Spray Geyser Source</th>\n",
       "      <td>-2.3502</td>\n",
       "      <td>NaN</td>\n",
       "      <td>-2.3355</td>\n",
       "      <td>-1.9774</td>\n",
       "    </tr>\n",
       "    <tr>\n",
       "      <th>Crater Hills Geyser</th>\n",
       "      <td>-1.7302</td>\n",
       "      <td>-5.3450</td>\n",
       "      <td>-6.9104</td>\n",
       "      <td>-1.6612</td>\n",
       "    </tr>\n",
       "    <tr>\n",
       "      <th>Ambergris</th>\n",
       "      <td>-3.1549</td>\n",
       "      <td>-8.2863</td>\n",
       "      <td>-3.0654</td>\n",
       "      <td>-2.4305</td>\n",
       "    </tr>\n",
       "    <tr>\n",
       "      <th>MLS Source</th>\n",
       "      <td>-2.1433</td>\n",
       "      <td>-7.4704</td>\n",
       "      <td>-2.2472</td>\n",
       "      <td>-1.8286</td>\n",
       "    </tr>\n",
       "    <tr>\n",
       "      <th>Gas Crack</th>\n",
       "      <td>-1.9645</td>\n",
       "      <td>-14.2881</td>\n",
       "      <td>-6.5521</td>\n",
       "      <td>-1.8378</td>\n",
       "    </tr>\n",
       "    <tr>\n",
       "      <th>Snail</th>\n",
       "      <td>-2.3783</td>\n",
       "      <td>-13.7220</td>\n",
       "      <td>-6.2581</td>\n",
       "      <td>-2.2818</td>\n",
       "    </tr>\n",
       "  </tbody>\n",
       "</table>\n",
       "</div>"
      ],
      "text/plain": [
       "Sample                       Cl-         Fe+2        HCO3-          Na+\n",
       "                    log_activity log_activity log_activity log_activity\n",
       "Bison Pool               -2.2645      -6.4395      -2.3221      -1.9437\n",
       "Spray Geyser Source      -2.3502          NaN      -2.3355      -1.9774\n",
       "Crater Hills Geyser      -1.7302      -5.3450      -6.9104      -1.6612\n",
       "Ambergris                -3.1549      -8.2863      -3.0654      -2.4305\n",
       "MLS Source               -2.1433      -7.4704      -2.2472      -1.8286\n",
       "Gas Crack                -1.9645     -14.2881      -6.5521      -1.8378\n",
       "Snail                    -2.3783     -13.7220      -6.2581      -2.2818"
      ]
     },
     "execution_count": 8,
     "metadata": {},
     "output_type": "execute_result"
    }
   ],
   "source": [
    "# look up specific columns in the report with lookup()\n",
    "speciation.lookup([\"Na+\", \"Cl-\", \"HCO3-\", \"Fe+2\"])"
   ]
  },
  {
   "cell_type": "code",
   "execution_count": 9,
   "metadata": {},
   "outputs": [
    {
     "data": {
      "image/png": "[encoded data removed]",
      "text/plain": [
       "<Figure size 432x288 with 1 Axes>"
      ]
     },
     "metadata": {
      "needs_background": "light"
     },
     "output_type": "display_data"
    }
   ],
   "source": [
    "# plot two variables in the report against each other with scatterplot()\n",
    "speciation.scatterplot(\"pH\", \"Temperature\")"
   ]
  },
  {
   "cell_type": "code",
   "execution_count": 10,
   "metadata": {},
   "outputs": [
    {
     "data": {
      "image/png": "[encoded data removed]",
      "text/plain": [
       "<Figure size 432x288 with 1 Axes>"
      ]
     },
     "metadata": {
      "needs_background": "light"
     },
     "output_type": "display_data"
    }
   ],
   "source": [
    "# Plot multiple dependent variables by providing scatterplot() with a list.\n",
    "# Change the legend coordinates with legend_loc.\n",
    "speciation.scatterplot(\"pH\", [\"CO2\", \"HCO3-\", \"CO3-2\", \"Ca(CO3)\"], legend_loc=(1.02, 0.5))"
   ]
  },
  {
   "cell_type": "code",
   "execution_count": 11,
   "metadata": {},
   "outputs": [
    {
     "data": {
      "text/html": [
       "<div>\n",
       "<style scoped>\n",
       "    .dataframe tbody tr th:only-of-type {\n",
       "        vertical-align: middle;\n",
       "    }\n",
       "\n",
       "    .dataframe tbody tr th {\n",
       "        vertical-align: top;\n",
       "    }\n",
       "\n",
       "    .dataframe thead th {\n",
       "        text-align: right;\n",
       "    }\n",
       "</style>\n",
       "<table border=\"1\" class=\"dataframe\">\n",
       "  <thead>\n",
       "    <tr style=\"text-align: right;\">\n",
       "      <th></th>\n",
       "      <th>molality</th>\n",
       "      <th>log_molality</th>\n",
       "      <th>log_gamma</th>\n",
       "      <th>log_activity</th>\n",
       "    </tr>\n",
       "  </thead>\n",
       "  <tbody>\n",
       "    <tr>\n",
       "      <th>Na+</th>\n",
       "      <td>4.038900e-03</td>\n",
       "      <td>-2.393700</td>\n",
       "      <td>-0.0368</td>\n",
       "      <td>-2.430500</td>\n",
       "    </tr>\n",
       "    <tr>\n",
       "      <th>SiO2</th>\n",
       "      <td>1.945300e-03</td>\n",
       "      <td>-2.711000</td>\n",
       "      <td>0.0000</td>\n",
       "      <td>-2.711000</td>\n",
       "    </tr>\n",
       "    <tr>\n",
       "      <th>HCO3-</th>\n",
       "      <td>9.323700e-04</td>\n",
       "      <td>-3.030400</td>\n",
       "      <td>-0.0350</td>\n",
       "      <td>-3.065400</td>\n",
       "    </tr>\n",
       "    <tr>\n",
       "      <th>Cl-</th>\n",
       "      <td>7.602000e-04</td>\n",
       "      <td>-3.119100</td>\n",
       "      <td>-0.0358</td>\n",
       "      <td>-3.154900</td>\n",
       "    </tr>\n",
       "    <tr>\n",
       "      <th>SO4-2</th>\n",
       "      <td>5.709100e-04</td>\n",
       "      <td>-3.243400</td>\n",
       "      <td>-0.1424</td>\n",
       "      <td>-3.385900</td>\n",
       "    </tr>\n",
       "    <tr>\n",
       "      <th>...</th>\n",
       "      <td>...</td>\n",
       "      <td>...</td>\n",
       "      <td>...</td>\n",
       "      <td>...</td>\n",
       "    </tr>\n",
       "    <tr>\n",
       "      <th>H2N2O2</th>\n",
       "      <td>1.377700e-62</td>\n",
       "      <td>-61.860800</td>\n",
       "      <td>0.0000</td>\n",
       "      <td>-61.860800</td>\n",
       "    </tr>\n",
       "    <tr>\n",
       "      <th>S2O6-2</th>\n",
       "      <td>3.142300e-63</td>\n",
       "      <td>-62.502800</td>\n",
       "      <td>-0.1424</td>\n",
       "      <td>-62.645200</td>\n",
       "    </tr>\n",
       "    <tr>\n",
       "      <th>OCN-</th>\n",
       "      <td>1.447900e-66</td>\n",
       "      <td>-65.839300</td>\n",
       "      <td>-0.0358</td>\n",
       "      <td>-65.875000</td>\n",
       "    </tr>\n",
       "    <tr>\n",
       "      <th>S2O5-2</th>\n",
       "      <td>7.787700e-88</td>\n",
       "      <td>-87.108600</td>\n",
       "      <td>-0.1424</td>\n",
       "      <td>-87.251000</td>\n",
       "    </tr>\n",
       "    <tr>\n",
       "      <th>H2O</th>\n",
       "      <td>5.700808e+01</td>\n",
       "      <td>1.755936</td>\n",
       "      <td>1.0000</td>\n",
       "      <td>-0.000071</td>\n",
       "    </tr>\n",
       "  </tbody>\n",
       "</table>\n",
       "<p>91 rows × 4 columns</p>\n",
       "</div>"
      ],
      "text/plain": [
       "            molality  log_molality  log_gamma  log_activity\n",
       "Na+     4.038900e-03     -2.393700    -0.0368     -2.430500\n",
       "SiO2    1.945300e-03     -2.711000     0.0000     -2.711000\n",
       "HCO3-   9.323700e-04     -3.030400    -0.0350     -3.065400\n",
       "Cl-     7.602000e-04     -3.119100    -0.0358     -3.154900\n",
       "SO4-2   5.709100e-04     -3.243400    -0.1424     -3.385900\n",
       "...              ...           ...        ...           ...\n",
       "H2N2O2  1.377700e-62    -61.860800     0.0000    -61.860800\n",
       "S2O6-2  3.142300e-63    -62.502800    -0.1424    -62.645200\n",
       "OCN-    1.447900e-66    -65.839300    -0.0358    -65.875000\n",
       "S2O5-2  7.787700e-88    -87.108600    -0.1424    -87.251000\n",
       "H2O     5.700808e+01      1.755936     1.0000     -0.000071\n",
       "\n",
       "[91 rows x 4 columns]"
      ]
     },
     "execution_count": 11,
     "metadata": {},
     "output_type": "execute_result"
    }
   ],
   "source": [
    "# look up speciation results for a single sample\n",
    "sample = \"Ambergris\"\n",
    "data_type = \"aq_distribution\"\n",
    "speciation.sample_data[sample][data_type]"
   ]
  },
  {
   "cell_type": "markdown",
   "metadata": {},
   "source": [
    "In the cell above, substitute any of the following keys for `aq_distribution` above to examine calculated results.\n",
    "\n",
    "- `filename` : name of the raw EQ3 output file.\n",
    "- `name` : name of the sample.\n",
    "- `temperature` : temperature.\n",
    "- `pressure` : pressure.\n",
    "- `logact_H2O` : log activity of water (log mol/kg).\n",
    "- `H2O_density` : density of water (g/ml).\n",
    "- `H2O_molality` : molality of water.\n",
    "- `H2O_log_molality` : log molality of water.\n",
    "- `aq_distribution` : distribution of aqueous species after speciation.\n",
    "- `mass_contribution` : major species by contribution to aqueous mass balances.\n",
    "- `mineral_sat` : saturation states of pure solids.\n",
    "- `redox` : aqueous redox reaction potentials.\n",
    "- `charge_balance` : charge balance and ionic strength information."
   ]
  },
  {
   "cell_type": "markdown",
   "metadata": {},
   "source": [
    "### Tips and Tricks"
   ]
  },
  {
   "cell_type": "markdown",
   "metadata": {},
   "source": [
    "**View entire tables** (instead of the first and last few entries) in a notebook by pasting the code below into a cell and running it. This will tell the notebook to show entire tables.\n",
    "\n",
    "```python\n",
    "import pandas as pd\n",
    "pd.set_option(\"display.max_rows\", None, \"display.max_columns\", None)\n",
    "```\n",
    "\n",
    "You can undo this with:\n",
    "```python\n",
    "pd.reset_option(\"display\")\n",
    "```"
   ]
  },
  {
   "cell_type": "markdown",
   "metadata": {},
   "source": [
    "**View the documentation** of a function with a question mark. For instance, get help with the scatterplot function and see a description of all the parameters it takes:\n",
    "\n",
    "```python\n",
    "speciation.scatterplot?\n",
    "```"
   ]
  },
  {
   "cell_type": "code",
   "execution_count": null,
   "metadata": {},
   "outputs": [],
   "source": []
  }
 ],
 "metadata": {
  "kernelspec": {
   "display_name": "Python 3",
   "language": "python",
   "name": "python3"
  },
  "language_info": {
   "codemirror_mode": {
    "name": "ipython",
    "version": 3
   },
   "file_extension": ".py",
   "mimetype": "text/x-python",
   "name": "python",
   "nbconvert_exporter": "python",
   "pygments_lexer": "ipython3",
   "version": "3.7.0"
  }
 },
 "nbformat": 4,
 "nbformat_minor": 4
}
