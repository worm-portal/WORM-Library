{
 "cells": [
  {
   "cell_type": "markdown",
   "metadata": {},
   "source": [
    "<left>\n",
    "<table style=\"margin-top:0px; margin-left:0px;\">\n",
    "<tr>\n",
    "  <td><img src=\"https://gitlab.com/worm1/worm-figures/-/raw/master/style/worm.png\" alt=\"WORM\" title=\"WORM\" width=50/></td>\n",
    "  <td><h1 style=font-size:30px>Multi Sample Speciation Demo</h1><br />\n",
    "</tr>\n",
    "</table>\n",
    "<\\left>\n",
    "\n",
    "For this small demo, water chemistry for multiple samples is provided in the input file 'input_example_wrm.csv'."
   ]
  },
  {
   "cell_type": "code",
   "execution_count": 1,
   "metadata": {},
   "outputs": [],
   "source": [
    "import AqEquil\n",
    "ae = AqEquil.AqEquil()"
   ]
  },
  {
   "cell_type": "code",
   "execution_count": 2,
   "metadata": {},
   "outputs": [
    {
     "name": "stdout",
     "output_type": "stream",
     "text": [
      "Warning: no 'logfO2' column found. Attempting to find a column for aqueous O2 to estimate logfO2 at sample temperature and pressure...\n",
      "\n",
      "Warning: non-numeric aqueous O2 value in sample Crater Hills Geyser. Resorting to using Log fO2 (log bars) with a value of -6\n",
      "\n",
      "Using wrm to speciate Crater Hills Geyser\n",
      "Using wrm to speciate Gas Crack\n",
      "Using wrm to speciate Spray Geyser Source\n",
      "Using wrm to speciate Bison Pool\n",
      "Using wrm to speciate Snail\n",
      "Using wrm to speciate Ambergris\n",
      "Using wrm to speciate MLS Source\n",
      "Finished!\n"
     ]
    }
   ],
   "source": [
    "# perform a speciation calculation with the default WORM database 'wrm'\n",
    "speciation = ae.speciate(input_filename=\"input_example_wrm.csv\",\n",
    "                         exclude=[\"Year\", \"Area\"],\n",
    "                         delete_generated_folders=True)"
   ]
  },
  {
   "cell_type": "markdown",
   "metadata": {},
   "source": [
    "### Accessing and visualizing results of a speciation calculation"
   ]
  },
  {
   "cell_type": "code",
   "execution_count": 3,
   "metadata": {},
   "outputs": [
    {
     "data": {
      "text/html": [
       "<div>\n",
       "<style scoped>\n",
       "    .dataframe tbody tr th:only-of-type {\n",
       "        vertical-align: middle;\n",
       "    }\n",
       "\n",
       "    .dataframe tbody tr th {\n",
       "        vertical-align: top;\n",
       "    }\n",
       "\n",
       "    .dataframe thead tr th {\n",
       "        text-align: left;\n",
       "    }\n",
       "</style>\n",
       "<table border=\"1\" class=\"dataframe\">\n",
       "  <thead>\n",
       "    <tr>\n",
       "      <th>Sample</th>\n",
       "      <th>Year</th>\n",
       "      <th>Area</th>\n",
       "      <th>pH</th>\n",
       "      <th>Temperature</th>\n",
       "      <th>HCO3-_(input)</th>\n",
       "      <th>O2_(input)</th>\n",
       "      <th>HS-_(input)</th>\n",
       "      <th>SiO2_(input)</th>\n",
       "      <th>METHANE_(input)</th>\n",
       "      <th>H2_(input)</th>\n",
       "      <th>...</th>\n",
       "      <th>O2/H2O</th>\n",
       "      <th>%CI of mean</th>\n",
       "      <th>%CI of total</th>\n",
       "      <th>Charge imbalance</th>\n",
       "      <th>IS (molal)</th>\n",
       "      <th>Mean charge</th>\n",
       "      <th>Sigma(mz) anions</th>\n",
       "      <th>Sigma(mz) cations</th>\n",
       "      <th>Total charge</th>\n",
       "      <th>stoichiometric IS (molal)</th>\n",
       "    </tr>\n",
       "    <tr>\n",
       "      <th></th>\n",
       "      <th></th>\n",
       "      <th></th>\n",
       "      <th>pH</th>\n",
       "      <th>degC</th>\n",
       "      <th>Molality</th>\n",
       "      <th>Molality</th>\n",
       "      <th>Molality</th>\n",
       "      <th>Molality</th>\n",
       "      <th>Molality</th>\n",
       "      <th>Molality</th>\n",
       "      <th>...</th>\n",
       "      <th>Eh_volts</th>\n",
       "      <th>%</th>\n",
       "      <th>%</th>\n",
       "      <th>eq/kg.H2O</th>\n",
       "      <th>molality</th>\n",
       "      <th>eq/kg.H2O</th>\n",
       "      <th>eq/kg.H2O</th>\n",
       "      <th>eq/kg.H2O</th>\n",
       "      <th>eq/kg.H2O</th>\n",
       "      <th>molality</th>\n",
       "    </tr>\n",
       "  </thead>\n",
       "  <tbody>\n",
       "    <tr>\n",
       "      <th>Bison Pool</th>\n",
       "      <td>2014</td>\n",
       "      <td>YNP</td>\n",
       "      <td>7.640</td>\n",
       "      <td>92.2</td>\n",
       "      <td>0.005690</td>\n",
       "      <td>0.000009</td>\n",
       "      <td>0.000003</td>\n",
       "      <td>0.006270</td>\n",
       "      <td>0.000000e+00</td>\n",
       "      <td>0.000000e+00</td>\n",
       "      <td>...</td>\n",
       "      <td>0.586</td>\n",
       "      <td>-0.0126</td>\n",
       "      <td>-0.0063</td>\n",
       "      <td>-0.000002</td>\n",
       "      <td>0.013978</td>\n",
       "      <td>0.013789</td>\n",
       "      <td>-0.013790</td>\n",
       "      <td>0.013788</td>\n",
       "      <td>0.027577</td>\n",
       "      <td>0.014062</td>\n",
       "    </tr>\n",
       "    <tr>\n",
       "      <th>Spray Geyser Source</th>\n",
       "      <td>2012</td>\n",
       "      <td>YNP</td>\n",
       "      <td>8.021</td>\n",
       "      <td>92.9</td>\n",
       "      <td>0.005410</td>\n",
       "      <td>0.000003</td>\n",
       "      <td>0.000004</td>\n",
       "      <td>0.005030</td>\n",
       "      <td>0.000000e+00</td>\n",
       "      <td>0.000000e+00</td>\n",
       "      <td>...</td>\n",
       "      <td>0.548</td>\n",
       "      <td>0.0775</td>\n",
       "      <td>0.0387</td>\n",
       "      <td>0.000010</td>\n",
       "      <td>0.012973</td>\n",
       "      <td>0.012724</td>\n",
       "      <td>-0.012719</td>\n",
       "      <td>0.012729</td>\n",
       "      <td>0.025448</td>\n",
       "      <td>0.013078</td>\n",
       "    </tr>\n",
       "    <tr>\n",
       "      <th>Crater Hills Geyser</th>\n",
       "      <td>2012</td>\n",
       "      <td>YNP</td>\n",
       "      <td>3.327</td>\n",
       "      <td>89.0</td>\n",
       "      <td>0.000117</td>\n",
       "      <td>0.000000</td>\n",
       "      <td>0.000017</td>\n",
       "      <td>0.014400</td>\n",
       "      <td>0.000000e+00</td>\n",
       "      <td>0.000000e+00</td>\n",
       "      <td>...</td>\n",
       "      <td>NaN</td>\n",
       "      <td>2.3250</td>\n",
       "      <td>1.1625</td>\n",
       "      <td>0.000774</td>\n",
       "      <td>0.037512</td>\n",
       "      <td>0.033291</td>\n",
       "      <td>-0.032904</td>\n",
       "      <td>0.033678</td>\n",
       "      <td>0.066581</td>\n",
       "      <td>0.042070</td>\n",
       "    </tr>\n",
       "    <tr>\n",
       "      <th>Ambergris</th>\n",
       "      <td>2011</td>\n",
       "      <td>Iceland</td>\n",
       "      <td>8.452</td>\n",
       "      <td>81.5</td>\n",
       "      <td>0.000983</td>\n",
       "      <td>0.000053</td>\n",
       "      <td>0.000030</td>\n",
       "      <td>0.002480</td>\n",
       "      <td>8.900000e-09</td>\n",
       "      <td>3.970000e-08</td>\n",
       "      <td>...</td>\n",
       "      <td>0.567</td>\n",
       "      <td>20.0741</td>\n",
       "      <td>10.0370</td>\n",
       "      <td>0.000804</td>\n",
       "      <td>0.004737</td>\n",
       "      <td>0.004004</td>\n",
       "      <td>-0.003602</td>\n",
       "      <td>0.004406</td>\n",
       "      <td>0.008009</td>\n",
       "      <td>0.004880</td>\n",
       "    </tr>\n",
       "    <tr>\n",
       "      <th>MLS Source</th>\n",
       "      <td>2007</td>\n",
       "      <td>YNP</td>\n",
       "      <td>7.850</td>\n",
       "      <td>94.0</td>\n",
       "      <td>0.006785</td>\n",
       "      <td>0.000007</td>\n",
       "      <td>0.000002</td>\n",
       "      <td>0.004200</td>\n",
       "      <td>0.000000e+00</td>\n",
       "      <td>0.000000e+00</td>\n",
       "      <td>...</td>\n",
       "      <td>0.564</td>\n",
       "      <td>1.2435</td>\n",
       "      <td>0.6218</td>\n",
       "      <td>0.000224</td>\n",
       "      <td>0.018407</td>\n",
       "      <td>0.018009</td>\n",
       "      <td>-0.017897</td>\n",
       "      <td>0.018121</td>\n",
       "      <td>0.036018</td>\n",
       "      <td>0.018527</td>\n",
       "    </tr>\n",
       "    <tr>\n",
       "      <th>Gas Crack</th>\n",
       "      <td>2014</td>\n",
       "      <td>Oman</td>\n",
       "      <td>11.670</td>\n",
       "      <td>32.2</td>\n",
       "      <td>0.000033</td>\n",
       "      <td>0.000034</td>\n",
       "      <td>0.000006</td>\n",
       "      <td>0.000001</td>\n",
       "      <td>1.750000e-05</td>\n",
       "      <td>2.261290e-04</td>\n",
       "      <td>...</td>\n",
       "      <td>0.493</td>\n",
       "      <td>0.5602</td>\n",
       "      <td>0.2801</td>\n",
       "      <td>0.000122</td>\n",
       "      <td>0.023942</td>\n",
       "      <td>0.021789</td>\n",
       "      <td>-0.021728</td>\n",
       "      <td>0.021850</td>\n",
       "      <td>0.043577</td>\n",
       "      <td>0.024598</td>\n",
       "    </tr>\n",
       "    <tr>\n",
       "      <th>Snail</th>\n",
       "      <td>2014</td>\n",
       "      <td>Oman</td>\n",
       "      <td>11.650</td>\n",
       "      <td>23.8</td>\n",
       "      <td>0.000042</td>\n",
       "      <td>0.000009</td>\n",
       "      <td>0.000007</td>\n",
       "      <td>0.000010</td>\n",
       "      <td>1.371360e-04</td>\n",
       "      <td>2.471160e-04</td>\n",
       "      <td>...</td>\n",
       "      <td>0.512</td>\n",
       "      <td>0.7047</td>\n",
       "      <td>0.3524</td>\n",
       "      <td>0.000065</td>\n",
       "      <td>0.010831</td>\n",
       "      <td>0.009209</td>\n",
       "      <td>-0.009176</td>\n",
       "      <td>0.009241</td>\n",
       "      <td>0.018417</td>\n",
       "      <td>0.011069</td>\n",
       "    </tr>\n",
       "  </tbody>\n",
       "</table>\n",
       "<p>7 rows × 191 columns</p>\n",
       "</div>"
      ],
      "text/plain": [
       "Sample               Year     Area      pH Temperature HCO3-_(input)  \\\n",
       "                                        pH        degC      Molality   \n",
       "Bison Pool           2014      YNP   7.640        92.2      0.005690   \n",
       "Spray Geyser Source  2012      YNP   8.021        92.9      0.005410   \n",
       "Crater Hills Geyser  2012      YNP   3.327        89.0      0.000117   \n",
       "Ambergris            2011  Iceland   8.452        81.5      0.000983   \n",
       "MLS Source           2007      YNP   7.850        94.0      0.006785   \n",
       "Gas Crack            2014     Oman  11.670        32.2      0.000033   \n",
       "Snail                2014     Oman  11.650        23.8      0.000042   \n",
       "\n",
       "Sample              O2_(input) HS-_(input) SiO2_(input) METHANE_(input)  \\\n",
       "                      Molality    Molality     Molality        Molality   \n",
       "Bison Pool            0.000009    0.000003     0.006270    0.000000e+00   \n",
       "Spray Geyser Source   0.000003    0.000004     0.005030    0.000000e+00   \n",
       "Crater Hills Geyser   0.000000    0.000017     0.014400    0.000000e+00   \n",
       "Ambergris             0.000053    0.000030     0.002480    8.900000e-09   \n",
       "MLS Source            0.000007    0.000002     0.004200    0.000000e+00   \n",
       "Gas Crack             0.000034    0.000006     0.000001    1.750000e-05   \n",
       "Snail                 0.000009    0.000007     0.000010    1.371360e-04   \n",
       "\n",
       "Sample                 H2_(input)  ...   O2/H2O %CI of mean %CI of total  \\\n",
       "                         Molality  ... Eh_volts           %            %   \n",
       "Bison Pool           0.000000e+00  ...    0.586     -0.0126      -0.0063   \n",
       "Spray Geyser Source  0.000000e+00  ...    0.548      0.0775       0.0387   \n",
       "Crater Hills Geyser  0.000000e+00  ...      NaN      2.3250       1.1625   \n",
       "Ambergris            3.970000e-08  ...    0.567     20.0741      10.0370   \n",
       "MLS Source           0.000000e+00  ...    0.564      1.2435       0.6218   \n",
       "Gas Crack            2.261290e-04  ...    0.493      0.5602       0.2801   \n",
       "Snail                2.471160e-04  ...    0.512      0.7047       0.3524   \n",
       "\n",
       "Sample              Charge imbalance IS (molal) Mean charge Sigma(mz) anions  \\\n",
       "                           eq/kg.H2O   molality   eq/kg.H2O        eq/kg.H2O   \n",
       "Bison Pool                 -0.000002   0.013978    0.013789        -0.013790   \n",
       "Spray Geyser Source         0.000010   0.012973    0.012724        -0.012719   \n",
       "Crater Hills Geyser         0.000774   0.037512    0.033291        -0.032904   \n",
       "Ambergris                   0.000804   0.004737    0.004004        -0.003602   \n",
       "MLS Source                  0.000224   0.018407    0.018009        -0.017897   \n",
       "Gas Crack                   0.000122   0.023942    0.021789        -0.021728   \n",
       "Snail                       0.000065   0.010831    0.009209        -0.009176   \n",
       "\n",
       "Sample              Sigma(mz) cations Total charge stoichiometric IS (molal)  \n",
       "                            eq/kg.H2O    eq/kg.H2O                  molality  \n",
       "Bison Pool                   0.013788     0.027577                  0.014062  \n",
       "Spray Geyser Source          0.012729     0.025448                  0.013078  \n",
       "Crater Hills Geyser          0.033678     0.066581                  0.042070  \n",
       "Ambergris                    0.004406     0.008009                  0.004880  \n",
       "MLS Source                   0.018121     0.036018                  0.018527  \n",
       "Gas Crack                    0.021850     0.043577                  0.024598  \n",
       "Snail                        0.009241     0.018417                  0.011069  \n",
       "\n",
       "[7 rows x 191 columns]"
      ]
     },
     "execution_count": 3,
     "metadata": {},
     "output_type": "execute_result"
    }
   ],
   "source": [
    "# summarize speciation results in a single report\n",
    "speciation.report"
   ]
  },
  {
   "cell_type": "code",
   "execution_count": 4,
   "metadata": {},
   "outputs": [
    {
     "data": {
      "image/png": "[encoded data removed]",
      "text/plain": [
       "<Figure size 432x288 with 1 Axes>"
      ]
     },
     "metadata": {
      "needs_background": "light"
     },
     "output_type": "display_data"
    }
   ],
   "source": [
    "# visualize basis species contributions to aqueous species by mass\n",
    "speciation.plot_mass_contribution(\"HCO3-\")"
   ]
  },
  {
   "cell_type": "code",
   "execution_count": 5,
   "metadata": {},
   "outputs": [
    {
     "data": {
      "image/png": "[encoded data removed]",
      "text/plain": [
       "<Figure size 432x288 with 1 Axes>"
      ]
     },
     "metadata": {
      "needs_background": "light"
     },
     "output_type": "display_data"
    }
   ],
   "source": [
    "# visualize basis species contributions to aqueous species by mass\n",
    "# and sort samples by a variable in the speciation report, e.g., pH\n",
    "speciation.plot_mass_contribution(\"HCO3-\", sort_by=\"pH\", ascending=False)"
   ]
  },
  {
   "cell_type": "code",
   "execution_count": 6,
   "metadata": {},
   "outputs": [
    {
     "data": {
      "image/png": "[encoded data removed]",
      "text/plain": [
       "<Figure size 432x288 with 1 Axes>"
      ]
     },
     "metadata": {
      "needs_background": "light"
     },
     "output_type": "display_data"
    }
   ],
   "source": [
    "# visualize mineral saturation states in a sample with plot_mineral_saturation()\n",
    "speciation.plot_mineral_saturation(\"Bison Pool\")"
   ]
  },
  {
   "cell_type": "code",
   "execution_count": 7,
   "metadata": {},
   "outputs": [
    {
     "data": {
      "image/png": "[encoded data removed]",
      "text/plain": [
       "<Figure size 432x288 with 1 Axes>"
      ]
     },
     "metadata": {
      "needs_background": "light"
     },
     "output_type": "display_data"
    }
   ],
   "source": [
    "# create a barplot for a single variable in the report with barplot()\n",
    "speciation.barplot(\"Temperature\")"
   ]
  },
  {
   "cell_type": "code",
   "execution_count": 8,
   "metadata": {},
   "outputs": [
    {
     "data": {
      "image/png": "[encoded data removed]",
      "text/plain": [
       "<Figure size 432x288 with 1 Axes>"
      ]
     },
     "metadata": {
      "needs_background": "light"
     },
     "output_type": "display_data"
    }
   ],
   "source": [
    "# list multiple variables in the report to create a grouped barplot\n",
    "speciation.barplot([\"Na+\", \"Cl-\", \"HCO3-\", \"Fe+2\"])"
   ]
  },
  {
   "cell_type": "code",
   "execution_count": 9,
   "metadata": {},
   "outputs": [
    {
     "data": {
      "text/html": [
       "<div>\n",
       "<style scoped>\n",
       "    .dataframe tbody tr th:only-of-type {\n",
       "        vertical-align: middle;\n",
       "    }\n",
       "\n",
       "    .dataframe tbody tr th {\n",
       "        vertical-align: top;\n",
       "    }\n",
       "\n",
       "    .dataframe thead tr th {\n",
       "        text-align: left;\n",
       "    }\n",
       "</style>\n",
       "<table border=\"1\" class=\"dataframe\">\n",
       "  <thead>\n",
       "    <tr>\n",
       "      <th>Sample</th>\n",
       "      <th>Temperature</th>\n",
       "      <th>O2_(input)</th>\n",
       "      <th>Cl-</th>\n",
       "      <th>Fe+2</th>\n",
       "      <th>HCO3-</th>\n",
       "      <th>Na+</th>\n",
       "    </tr>\n",
       "    <tr>\n",
       "      <th></th>\n",
       "      <th>degC</th>\n",
       "      <th>Molality</th>\n",
       "      <th>log_activity</th>\n",
       "      <th>log_activity</th>\n",
       "      <th>log_activity</th>\n",
       "      <th>log_activity</th>\n",
       "    </tr>\n",
       "  </thead>\n",
       "  <tbody>\n",
       "    <tr>\n",
       "      <th>Bison Pool</th>\n",
       "      <td>92.2</td>\n",
       "      <td>0.000009</td>\n",
       "      <td>-2.2645</td>\n",
       "      <td>-17.4659</td>\n",
       "      <td>-2.3221</td>\n",
       "      <td>-1.9437</td>\n",
       "    </tr>\n",
       "    <tr>\n",
       "      <th>Spray Geyser Source</th>\n",
       "      <td>92.9</td>\n",
       "      <td>0.000003</td>\n",
       "      <td>-2.3501</td>\n",
       "      <td>NaN</td>\n",
       "      <td>-2.3354</td>\n",
       "      <td>-1.9774</td>\n",
       "    </tr>\n",
       "    <tr>\n",
       "      <th>Crater Hills Geyser</th>\n",
       "      <td>89.0</td>\n",
       "      <td>0.000000</td>\n",
       "      <td>-1.7301</td>\n",
       "      <td>-8.9201</td>\n",
       "      <td>-6.9104</td>\n",
       "      <td>-1.6612</td>\n",
       "    </tr>\n",
       "    <tr>\n",
       "      <th>Ambergris</th>\n",
       "      <td>81.5</td>\n",
       "      <td>0.000053</td>\n",
       "      <td>-3.1548</td>\n",
       "      <td>-20.9020</td>\n",
       "      <td>-3.0654</td>\n",
       "      <td>-2.4305</td>\n",
       "    </tr>\n",
       "    <tr>\n",
       "      <th>MLS Source</th>\n",
       "      <td>94.0</td>\n",
       "      <td>0.000007</td>\n",
       "      <td>-2.1433</td>\n",
       "      <td>-18.8209</td>\n",
       "      <td>-2.2472</td>\n",
       "      <td>-1.8286</td>\n",
       "    </tr>\n",
       "    <tr>\n",
       "      <th>Gas Crack</th>\n",
       "      <td>32.2</td>\n",
       "      <td>0.000034</td>\n",
       "      <td>-1.9644</td>\n",
       "      <td>-29.0027</td>\n",
       "      <td>-6.5521</td>\n",
       "      <td>-1.8377</td>\n",
       "    </tr>\n",
       "    <tr>\n",
       "      <th>Snail</th>\n",
       "      <td>23.8</td>\n",
       "      <td>0.000009</td>\n",
       "      <td>-2.3782</td>\n",
       "      <td>-28.5679</td>\n",
       "      <td>-6.2581</td>\n",
       "      <td>-2.2818</td>\n",
       "    </tr>\n",
       "  </tbody>\n",
       "</table>\n",
       "</div>"
      ],
      "text/plain": [
       "Sample              Temperature O2_(input)          Cl-         Fe+2  \\\n",
       "                           degC   Molality log_activity log_activity   \n",
       "Bison Pool                 92.2   0.000009      -2.2645     -17.4659   \n",
       "Spray Geyser Source        92.9   0.000003      -2.3501          NaN   \n",
       "Crater Hills Geyser        89.0   0.000000      -1.7301      -8.9201   \n",
       "Ambergris                  81.5   0.000053      -3.1548     -20.9020   \n",
       "MLS Source                 94.0   0.000007      -2.1433     -18.8209   \n",
       "Gas Crack                  32.2   0.000034      -1.9644     -29.0027   \n",
       "Snail                      23.8   0.000009      -2.3782     -28.5679   \n",
       "\n",
       "Sample                     HCO3-          Na+  \n",
       "                    log_activity log_activity  \n",
       "Bison Pool               -2.3221      -1.9437  \n",
       "Spray Geyser Source      -2.3354      -1.9774  \n",
       "Crater Hills Geyser      -6.9104      -1.6612  \n",
       "Ambergris                -3.0654      -2.4305  \n",
       "MLS Source               -2.2472      -1.8286  \n",
       "Gas Crack                -6.5521      -1.8377  \n",
       "Snail                    -6.2581      -2.2818  "
      ]
     },
     "execution_count": 9,
     "metadata": {},
     "output_type": "execute_result"
    }
   ],
   "source": [
    "# look up specific columns in the report with lookup()\n",
    "speciation.lookup([\"Temperature\", \"O2_(input)\", \"Na+\", \"Cl-\", \"HCO3-\", \"Fe+2\"])"
   ]
  },
  {
   "cell_type": "code",
   "execution_count": 10,
   "metadata": {},
   "outputs": [
    {
     "data": {
      "image/png": "[encoded data removed]",
      "text/plain": [
       "<Figure size 432x288 with 1 Axes>"
      ]
     },
     "metadata": {
      "needs_background": "light"
     },
     "output_type": "display_data"
    }
   ],
   "source": [
    "# plot two variables in the report against each other with scatterplot()\n",
    "speciation.scatterplot(\"pH\", \"Temperature\")"
   ]
  },
  {
   "cell_type": "code",
   "execution_count": 11,
   "metadata": {},
   "outputs": [
    {
     "data": {
      "image/png": "[encoded data removed]",
      "text/plain": [
       "<Figure size 432x288 with 1 Axes>"
      ]
     },
     "metadata": {
      "needs_background": "light"
     },
     "output_type": "display_data"
    }
   ],
   "source": [
    "# Plot multiple dependent variables by providing scatterplot() with a list.\n",
    "# Change the legend coordinates with legend_loc.\n",
    "speciation.scatterplot(\"pH\", [\"CO2\", \"HCO3-\", \"CO3-2\", \"Ca(CO3)\"], legend_loc=(1.02, 0.5))"
   ]
  },
  {
   "cell_type": "code",
   "execution_count": 12,
   "metadata": {},
   "outputs": [
    {
     "data": {
      "text/html": [
       "<div>\n",
       "<style scoped>\n",
       "    .dataframe tbody tr th:only-of-type {\n",
       "        vertical-align: middle;\n",
       "    }\n",
       "\n",
       "    .dataframe tbody tr th {\n",
       "        vertical-align: top;\n",
       "    }\n",
       "\n",
       "    .dataframe thead th {\n",
       "        text-align: right;\n",
       "    }\n",
       "</style>\n",
       "<table border=\"1\" class=\"dataframe\">\n",
       "  <thead>\n",
       "    <tr style=\"text-align: right;\">\n",
       "      <th></th>\n",
       "      <th>Eh</th>\n",
       "      <th>pe</th>\n",
       "      <th>logfO2</th>\n",
       "      <th>Ah</th>\n",
       "    </tr>\n",
       "  </thead>\n",
       "  <tbody>\n",
       "    <tr>\n",
       "      <th>DEFAULT</th>\n",
       "      <td>0.567</td>\n",
       "      <td>8.0589</td>\n",
       "      <td>-1.173</td>\n",
       "      <td>13.078</td>\n",
       "    </tr>\n",
       "    <tr>\n",
       "      <th>O2/H2O</th>\n",
       "      <td>0.567</td>\n",
       "      <td>8.0598</td>\n",
       "      <td>-1.169</td>\n",
       "      <td>13.080</td>\n",
       "    </tr>\n",
       "    <tr>\n",
       "      <th>NH4+/NO3-</th>\n",
       "      <td>0.109</td>\n",
       "      <td>1.5492</td>\n",
       "      <td>-27.212</td>\n",
       "      <td>2.514</td>\n",
       "    </tr>\n",
       "    <tr>\n",
       "      <th>HS-/SO4-2</th>\n",
       "      <td>-0.421</td>\n",
       "      <td>-5.9828</td>\n",
       "      <td>-57.340</td>\n",
       "      <td>-9.709</td>\n",
       "    </tr>\n",
       "    <tr>\n",
       "      <th>H2/H2O</th>\n",
       "      <td>-0.444</td>\n",
       "      <td>-6.3044</td>\n",
       "      <td>-58.626</td>\n",
       "      <td>-10.231</td>\n",
       "    </tr>\n",
       "    <tr>\n",
       "      <th>METHANE/HCO3-</th>\n",
       "      <td>-0.440</td>\n",
       "      <td>-6.2584</td>\n",
       "      <td>-58.442</td>\n",
       "      <td>-10.156</td>\n",
       "    </tr>\n",
       "    <tr>\n",
       "      <th>CO/HCO3-</th>\n",
       "      <td>-0.703</td>\n",
       "      <td>-9.9955</td>\n",
       "      <td>-73.391</td>\n",
       "      <td>-16.221</td>\n",
       "    </tr>\n",
       "  </tbody>\n",
       "</table>\n",
       "</div>"
      ],
      "text/plain": [
       "                  Eh      pe  logfO2      Ah\n",
       "DEFAULT        0.567  8.0589  -1.173  13.078\n",
       "O2/H2O         0.567  8.0598  -1.169  13.080\n",
       "NH4+/NO3-      0.109  1.5492 -27.212   2.514\n",
       "HS-/SO4-2     -0.421 -5.9828 -57.340  -9.709\n",
       "H2/H2O        -0.444 -6.3044 -58.626 -10.231\n",
       "METHANE/HCO3- -0.440 -6.2584 -58.442 -10.156\n",
       "CO/HCO3-      -0.703 -9.9955 -73.391 -16.221"
      ]
     },
     "execution_count": 12,
     "metadata": {},
     "output_type": "execute_result"
    }
   ],
   "source": [
    "# look up speciation results for a single sample\n",
    "sample = \"Ambergris\"\n",
    "data_type = \"redox\"\n",
    "speciation.sample_data[sample][data_type]"
   ]
  },
  {
   "cell_type": "markdown",
   "metadata": {},
   "source": [
    "In the cell above, substitute any of the following keys for `aq_distribution` above to examine calculated results.\n",
    "\n",
    "- `filename` : name of the raw EQ3 output file.\n",
    "- `name` : name of the sample.\n",
    "- `temperature` : temperature.\n",
    "- `pressure` : pressure.\n",
    "- `logact_H2O` : log activity of water (log mol/kg).\n",
    "- `H2O_density` : density of water (g/ml).\n",
    "- `H2O_molality` : molality of water.\n",
    "- `H2O_log_molality` : log molality of water.\n",
    "- `aq_distribution` : distribution of aqueous species after speciation.\n",
    "- `mass_contribution` : major species by contribution to aqueous mass balances.\n",
    "- `mineral_sat` : saturation states of pure solids.\n",
    "- `redox` : aqueous redox reaction potentials.\n",
    "- `charge_balance` : charge balance and ionic strength information."
   ]
  },
  {
   "cell_type": "markdown",
   "metadata": {},
   "source": [
    "### Tips and Tricks"
   ]
  },
  {
   "cell_type": "markdown",
   "metadata": {},
   "source": [
    "**View entire tables** (instead of the first and last few entries) in a notebook by pasting the code below into a cell and running it. This will tell the notebook to show entire tables.\n",
    "\n",
    "```python\n",
    "import pandas as pd\n",
    "pd.set_option(\"display.max_rows\", None, \"display.max_columns\", None)\n",
    "```\n",
    "\n",
    "You can undo this with:\n",
    "```python\n",
    "pd.reset_option(\"display\")\n",
    "```"
   ]
  },
  {
   "cell_type": "markdown",
   "metadata": {},
   "source": [
    "**View the documentation** of a function with a question mark. For instance, get help with the scatterplot function and see a description of all the parameters it takes:\n",
    "\n",
    "```python\n",
    "speciation.scatterplot?\n",
    "```"
   ]
  },
  {
   "cell_type": "code",
   "execution_count": null,
   "metadata": {},
   "outputs": [],
   "source": []
  }
 ],
 "metadata": {
  "kernelspec": {
   "display_name": "Python 3",
   "language": "python",
   "name": "python3"
  },
  "language_info": {
   "codemirror_mode": {
    "name": "ipython",
    "version": 3
   },
   "file_extension": ".py",
   "mimetype": "text/x-python",
   "name": "python",
   "nbconvert_exporter": "python",
   "pygments_lexer": "ipython3",
   "version": "3.7.0"
  }
 },
 "nbformat": 4,
 "nbformat_minor": 4
}
