{
 "cells": [
  {
   "cell_type": "markdown",
   "metadata": {},
   "source": [
    "## WORM Workshop - Aqueous Speciation II: Rocks Under Pressure\n",
    "### June 17, 2021"
   ]
  },
  {
   "cell_type": "markdown",
   "metadata": {},
   "source": [
    "<img src=\"https://upload.wikimedia.org/wikipedia/commons/0/00/HuangShan.JPG\" alt=\"Granite\" title=\"'A granite peak at Huangshan, China'\" width=500/>\n",
    "\n",
    "A granite peak at Huangshan, China (Arne Hückelheim)"
   ]
  },
  {
   "cell_type": "markdown",
   "metadata": {},
   "source": [
    "It's typical to have a rock sample, but unusual to have a sample of water that was in the ground when the mineral assemblage was formed.\n",
    "\n",
    "What kind of temperature and pressure did the rock form at? What was dissolved in the fluid?"
   ]
  },
  {
   "cell_type": "markdown",
   "metadata": {},
   "source": [
    "<img src=\"https://static.nautil.us/6392_3001ef257407d5a371a96dcd947c7d93.jpg\" alt=\"Granite\" title=\"'Granite meets water in the Sierra Mountains'\" width=500/>\n",
    "\n",
    "Granite meets water in the Sierra Mountains (Julia Rosen)"
   ]
  },
  {
   "cell_type": "markdown",
   "metadata": {},
   "source": [
    "The fluid is long gone, but we can use thermodynamic calculations to estimate it. It's also possible to explore the effects of temperature and pressure on the chemical activities of dissolved species."
   ]
  },
  {
   "cell_type": "markdown",
   "metadata": {},
   "source": [
    "### Buffer solutes with minerals"
   ]
  },
  {
   "cell_type": "markdown",
   "metadata": {},
   "source": [
    "How can we estimate the geochemistry of a ~0.5 molal NaCl fluid in equilibrium with granite?\n",
    "\n",
    "First of all, [what's in granite?](https://nature.berkeley.edu/classes/eps2/wisc/granite.html)\n",
    "- 80% of the rock:\n",
    "    - [quartz](https://en.wikipedia.org/wiki/Quartz) (10-50%)\n",
    "    - potassium and plagioclase [feldspar](https://en.wikipedia.org/wiki/Feldspar) (like albite)\n",
    "- other common minerals:\n",
    "    - [mica](https://en.wikipedia.org/wiki/Mica) ([muscovite](https://en.wikipedia.org/wiki/Muscovite) and [biotite](https://en.wikipedia.org/wiki/Biotite))\n",
    "    - [hornblende](https://en.wikipedia.org/wiki/Hornblende) ([amphibole](https://en.wikipedia.org/wiki/Amphibole))\n",
    "    \n",
    "Based on the elements in these minerals, the solution in our aqueous speciation calculation should include basis species to constrain Si, K, Na, Al, Fe, Mg (and others, if the granite has been hydrothermally altered with other minerals).\n",
    "\n",
    "Open the `granite0.csv` input file. It includes some initial constraints that represent a starting guess, but none of the basis species are in equilibrium with minerals yet.\n",
    "\n",
    "The basis species constraining Si is aqueous SiO2. The initial guess for the concentration of dissolved silica is $3\\times10^{-3}$ molal.\n",
    "\n",
    "We can run the sample as-is with:"
   ]
  },
  {
   "cell_type": "code",
   "execution_count": 1,
   "metadata": {},
   "outputs": [],
   "source": [
    "# get the notebook ready\n",
    "import AqEquil\n",
    "ae = AqEquil.AqEquil()"
   ]
  },
  {
   "cell_type": "code",
   "execution_count": 2,
   "metadata": {},
   "outputs": [
    {
     "name": "stdout",
     "output_type": "stream",
     "text": [
      "Using wrm to speciate granite0\n",
      "Finished!\n"
     ]
    }
   ],
   "source": [
    "# speciate the sample\n",
    "speciation_0_PSAT = ae.speciate(\n",
    "    input_filename = \"granite0.csv\", # name of csv with fluid sample data\n",
    "    exclude = [\"Year\", \"Area\"], # metadata columns excluded from calculation\n",
    "    db = \"wrm\", # thermodynamic database to use\n",
    "    report_filename = 'granite0report.csv', # write a csv of results with this name\n",
    "    redox_flag = \"logfO2\", # desired option for setting redox state, logfO2 by default\n",
    "    )"
   ]
  },
  {
   "cell_type": "markdown",
   "metadata": {},
   "source": [
    "Once the speciation is finished, results can be viewed in the `granite0report.csv` file, or with the lookup function:"
   ]
  },
  {
   "cell_type": "code",
   "execution_count": 3,
   "metadata": {},
   "outputs": [
    {
     "data": {
      "text/html": [
       "<div>\n",
       "<style scoped>\n",
       "    .dataframe tbody tr th:only-of-type {\n",
       "        vertical-align: middle;\n",
       "    }\n",
       "\n",
       "    .dataframe tbody tr th {\n",
       "        vertical-align: top;\n",
       "    }\n",
       "\n",
       "    .dataframe thead tr th {\n",
       "        text-align: left;\n",
       "    }\n",
       "</style>\n",
       "<table border=\"1\" class=\"dataframe\">\n",
       "  <thead>\n",
       "    <tr>\n",
       "      <th>Sample</th>\n",
       "      <th>Temperature</th>\n",
       "      <th>logfO2</th>\n",
       "      <th>Pressure</th>\n",
       "      <th>pH</th>\n",
       "    </tr>\n",
       "    <tr>\n",
       "      <th></th>\n",
       "      <th>degC</th>\n",
       "      <th>logfO2</th>\n",
       "      <th>bar</th>\n",
       "      <th>pH</th>\n",
       "    </tr>\n",
       "  </thead>\n",
       "  <tbody>\n",
       "    <tr>\n",
       "      <th>granite0</th>\n",
       "      <td>200.0</td>\n",
       "      <td>-40.0</td>\n",
       "      <td>15.536</td>\n",
       "      <td>6.0</td>\n",
       "    </tr>\n",
       "  </tbody>\n",
       "</table>\n",
       "</div>"
      ],
      "text/plain": [
       "Sample   Temperature logfO2 Pressure   pH\n",
       "                degC logfO2      bar   pH\n",
       "granite0       200.0  -40.0   15.536  6.0"
      ]
     },
     "execution_count": 3,
     "metadata": {},
     "output_type": "execute_result"
    }
   ],
   "source": [
    "speciation_0_PSAT.lookup([\"Temperature\", \"logfO2\", \"Pressure\", \"pH\"])"
   ]
  },
  {
   "cell_type": "code",
   "execution_count": 4,
   "metadata": {},
   "outputs": [
    {
     "data": {
      "text/html": [
       "<div>\n",
       "<style scoped>\n",
       "    .dataframe tbody tr th:only-of-type {\n",
       "        vertical-align: middle;\n",
       "    }\n",
       "\n",
       "    .dataframe tbody tr th {\n",
       "        vertical-align: top;\n",
       "    }\n",
       "\n",
       "    .dataframe thead tr th {\n",
       "        text-align: left;\n",
       "    }\n",
       "</style>\n",
       "<table border=\"1\" class=\"dataframe\">\n",
       "  <thead>\n",
       "    <tr>\n",
       "      <th>Sample</th>\n",
       "      <th>SiO2_(input)</th>\n",
       "      <th>HSiO3-</th>\n",
       "      <th>NaHSiO3</th>\n",
       "      <th>SiO2</th>\n",
       "    </tr>\n",
       "    <tr>\n",
       "      <th></th>\n",
       "      <th>Molality</th>\n",
       "      <th>log_activity</th>\n",
       "      <th>log_activity</th>\n",
       "      <th>log_activity</th>\n",
       "    </tr>\n",
       "  </thead>\n",
       "  <tbody>\n",
       "    <tr>\n",
       "      <th>granite0</th>\n",
       "      <td>0.003</td>\n",
       "      <td>-5.3649</td>\n",
       "      <td>-4.9776</td>\n",
       "      <td>-2.5255</td>\n",
       "    </tr>\n",
       "  </tbody>\n",
       "</table>\n",
       "</div>"
      ],
      "text/plain": [
       "Sample   SiO2_(input)       HSiO3-      NaHSiO3         SiO2\n",
       "             Molality log_activity log_activity log_activity\n",
       "granite0        0.003      -5.3649      -4.9776      -2.5255"
      ]
     },
     "execution_count": 4,
     "metadata": {},
     "output_type": "execute_result"
    }
   ],
   "source": [
    "speciation_0_PSAT.lookup([\"SiO2_(input)\", \"HSiO3-\", \"NaHSiO3\", \"SiO2\"])"
   ]
  },
  {
   "cell_type": "markdown",
   "metadata": {},
   "source": [
    "To allow quartz to buffer the concentration of SiO2, change the column subheader to `Hetero. equil.` (short for heterogeneous equilibrium). Then replace the $3\\times10^{-3}$ value with the word `quartz`.\n",
    "\n",
    "This has been done in `granite1.csv`. Let's see what happens when we allow quartz to buffer SiO2:"
   ]
  },
  {
   "cell_type": "code",
   "execution_count": 5,
   "metadata": {},
   "outputs": [
    {
     "name": "stdout",
     "output_type": "stream",
     "text": [
      "Using wrm to speciate granite1\n",
      "Finished!\n"
     ]
    }
   ],
   "source": [
    "# speciate the sample\n",
    "speciation_1_PSAT = ae.speciate(\n",
    "    input_filename = \"granite1.csv\", # name of csv with fluid sample data\n",
    "    exclude = [\"Year\", \"Area\"], # metadata columns excluded from calculation\n",
    "    db = \"wrm\", # thermodynamic database to use\n",
    "    report_filename = 'granite1report.csv', # write a csv of results with this name\n",
    "    redox_flag = \"logfO2\", # desired option for setting redox state, logfO2 by default\n",
    "    )"
   ]
  },
  {
   "cell_type": "code",
   "execution_count": 6,
   "metadata": {},
   "outputs": [
    {
     "data": {
      "text/html": [
       "<div>\n",
       "<style scoped>\n",
       "    .dataframe tbody tr th:only-of-type {\n",
       "        vertical-align: middle;\n",
       "    }\n",
       "\n",
       "    .dataframe tbody tr th {\n",
       "        vertical-align: top;\n",
       "    }\n",
       "\n",
       "    .dataframe thead tr th {\n",
       "        text-align: left;\n",
       "    }\n",
       "</style>\n",
       "<table border=\"1\" class=\"dataframe\">\n",
       "  <thead>\n",
       "    <tr>\n",
       "      <th>Sample</th>\n",
       "      <th>SiO2_(input)</th>\n",
       "      <th>HSiO3-</th>\n",
       "      <th>NaHSiO3</th>\n",
       "      <th>SiO2</th>\n",
       "    </tr>\n",
       "    <tr>\n",
       "      <th></th>\n",
       "      <th>Hetero. equil.</th>\n",
       "      <th>log_activity</th>\n",
       "      <th>log_activity</th>\n",
       "      <th>log_activity</th>\n",
       "    </tr>\n",
       "  </thead>\n",
       "  <tbody>\n",
       "    <tr>\n",
       "      <th>granite1</th>\n",
       "      <td>quartz</td>\n",
       "      <td>-5.2772</td>\n",
       "      <td>-4.8899</td>\n",
       "      <td>-2.4378</td>\n",
       "    </tr>\n",
       "  </tbody>\n",
       "</table>\n",
       "</div>"
      ],
      "text/plain": [
       "Sample     SiO2_(input)       HSiO3-      NaHSiO3         SiO2\n",
       "         Hetero. equil. log_activity log_activity log_activity\n",
       "granite1         quartz      -5.2772      -4.8899      -2.4378"
      ]
     },
     "execution_count": 6,
     "metadata": {},
     "output_type": "execute_result"
    }
   ],
   "source": [
    "speciation_1_PSAT.lookup([\"SiO2_(input)\", \"HSiO3-\", \"NaHSiO3\", \"SiO2\"])"
   ]
  },
  {
   "cell_type": "markdown",
   "metadata": {},
   "source": [
    "The activities of dissolved silica species have shifted since our initial guess of $3\\times10^{-3}$ molal SiO2!\n",
    "\n",
    "In the breakout session, look for ways to constrain more elements with minerals in granite. You might need to constrain multiple elements at once for an aqueous speciation calculation to complete."
   ]
  },
  {
   "cell_type": "markdown",
   "metadata": {},
   "source": [
    "### Speciate at higher pressure"
   ]
  },
  {
   "cell_type": "markdown",
   "metadata": {},
   "source": [
    "The `wrm` thermodynamic database we've been using is calibrated for a temperature range of 0-350 °C along the liquid-vapor saturation curve (PSAT). What if we want higher temperatures and pressures?\n",
    "\n",
    "To do this, we can recalibrate our thermodynamic data with the `create_data0` function.\n",
    "\n",
    "For now, let's keep the 0-350 °C range the same, but increase the pressure to 1 kilobar. Let's arbitrarily name our recalibrated database `cst`, short for \"custom\".\n",
    "\n",
    "(This will take a few moments.)"
   ]
  },
  {
   "cell_type": "code",
   "execution_count": 7,
   "metadata": {},
   "outputs": [
    {
     "name": "stdout",
     "output_type": "stream",
     "text": [
      "Creating data0.cst...\n",
      "Finished creating data0.cst.\n"
     ]
    }
   ],
   "source": [
    "# recalibrate the database to 1 kb\n",
    "ae.create_data0( # database creation function\n",
    "    filename = \"wrm_data.csv\", # thermodynamic datasheet CSV\n",
    "    #filename_ss = \"solid_solutions.csv\",\n",
    "    grid_temps=[0.01, 50, 100, 150, 200, 250, 300, 350], # degrees C\n",
    "    grid_press=[1000, 1000, 1000, 1000, 1000, 1000, 1000, 1000], # bars\n",
    "    db = \"cst\", # three letter name of your recalibrated database\n",
    "    template_name=\"sample_template_cst.csv\", # creates a blank template for sample data\n",
    "    )"
   ]
  },
  {
   "cell_type": "markdown",
   "metadata": {},
   "source": [
    "Now that the recalibrated `cst` database file has been created, it can be re-used as many times as needed and continues to exist if even if the notebook is restarted or closed.\n",
    "\n",
    "Let's try running the `granite1.csv` sample with the 1kb `cst` database.\n",
    "\n",
    "Use a custom database in the notebook directory by setting `custom_db = True` in the speciation function.\n",
    "\n",
    "Tell the calculation to use the recalibrated database by setting `db=\"cst\"`."
   ]
  },
  {
   "cell_type": "markdown",
   "metadata": {},
   "source": [
    "*Note: it's important to place these demo files in a directory that does not contain spaces when speciating with custom databases. If you encounter an issue running the cell below, shut down this notebook, rename folders to remove spaces and replace them with dashes or underscores, then re-run this notebook from the top.*"
   ]
  },
  {
   "cell_type": "code",
   "execution_count": 8,
   "metadata": {},
   "outputs": [
    {
     "name": "stdout",
     "output_type": "stream",
     "text": [
      "Successfully created a data1.cst from data0.cst\n",
      "Using cst to speciate granite1\n",
      "Finished!\n"
     ]
    }
   ],
   "source": [
    "# speciate the sample\n",
    "speciation_1_1000bar = ae.speciate(\n",
    "    input_filename = \"granite1.csv\", # name of csv with fluid sample data\n",
    "    exclude = [\"Year\", \"Area\"], # metadata columns excluded from calculation\n",
    "    custom_db = True, # use a custom database in the notebook's directory?\n",
    "    db = \"cst\", # thermodynamic database to use\n",
    "    report_filename = 'granite1report.csv', # write a csv of results with this name\n",
    "    redox_flag = \"logfO2\", # desired option for setting redox state, logfO2 by default\n",
    "    delete_generated_folders=True, # perform cleanup after speciating?\n",
    "    )"
   ]
  },
  {
   "cell_type": "markdown",
   "metadata": {},
   "source": [
    "Confirm that the pressure is now set to 1kb:"
   ]
  },
  {
   "cell_type": "code",
   "execution_count": 9,
   "metadata": {},
   "outputs": [
    {
     "data": {
      "text/html": [
       "<div>\n",
       "<style scoped>\n",
       "    .dataframe tbody tr th:only-of-type {\n",
       "        vertical-align: middle;\n",
       "    }\n",
       "\n",
       "    .dataframe tbody tr th {\n",
       "        vertical-align: top;\n",
       "    }\n",
       "\n",
       "    .dataframe thead tr th {\n",
       "        text-align: left;\n",
       "    }\n",
       "</style>\n",
       "<table border=\"1\" class=\"dataframe\">\n",
       "  <thead>\n",
       "    <tr>\n",
       "      <th>Sample</th>\n",
       "      <th>Temperature</th>\n",
       "      <th>logfO2</th>\n",
       "      <th>Pressure</th>\n",
       "      <th>pH</th>\n",
       "    </tr>\n",
       "    <tr>\n",
       "      <th></th>\n",
       "      <th>degC</th>\n",
       "      <th>logfO2</th>\n",
       "      <th>bar</th>\n",
       "      <th>pH</th>\n",
       "    </tr>\n",
       "  </thead>\n",
       "  <tbody>\n",
       "    <tr>\n",
       "      <th>granite1</th>\n",
       "      <td>200.0</td>\n",
       "      <td>-40.0</td>\n",
       "      <td>1000.0</td>\n",
       "      <td>6.0</td>\n",
       "    </tr>\n",
       "  </tbody>\n",
       "</table>\n",
       "</div>"
      ],
      "text/plain": [
       "Sample   Temperature logfO2 Pressure   pH\n",
       "                degC logfO2      bar   pH\n",
       "granite1       200.0  -40.0   1000.0  6.0"
      ]
     },
     "execution_count": 9,
     "metadata": {},
     "output_type": "execute_result"
    }
   ],
   "source": [
    "speciation_1_1000bar.lookup([\"Temperature\", \"logfO2\", \"Pressure\", \"pH\"])"
   ]
  },
  {
   "cell_type": "markdown",
   "metadata": {},
   "source": [
    "Silica speciation:"
   ]
  },
  {
   "cell_type": "code",
   "execution_count": 10,
   "metadata": {},
   "outputs": [
    {
     "data": {
      "text/html": [
       "<div>\n",
       "<style scoped>\n",
       "    .dataframe tbody tr th:only-of-type {\n",
       "        vertical-align: middle;\n",
       "    }\n",
       "\n",
       "    .dataframe tbody tr th {\n",
       "        vertical-align: top;\n",
       "    }\n",
       "\n",
       "    .dataframe thead tr th {\n",
       "        text-align: left;\n",
       "    }\n",
       "</style>\n",
       "<table border=\"1\" class=\"dataframe\">\n",
       "  <thead>\n",
       "    <tr>\n",
       "      <th>Sample</th>\n",
       "      <th>SiO2_(input)</th>\n",
       "      <th>HSiO3-</th>\n",
       "      <th>NaHSiO3</th>\n",
       "      <th>SiO2</th>\n",
       "    </tr>\n",
       "    <tr>\n",
       "      <th></th>\n",
       "      <th>Hetero. equil.</th>\n",
       "      <th>log_activity</th>\n",
       "      <th>log_activity</th>\n",
       "      <th>log_activity</th>\n",
       "    </tr>\n",
       "  </thead>\n",
       "  <tbody>\n",
       "    <tr>\n",
       "      <th>granite1</th>\n",
       "      <td>quartz</td>\n",
       "      <td>-4.7561</td>\n",
       "      <td>-4.5452</td>\n",
       "      <td>-2.3064</td>\n",
       "    </tr>\n",
       "  </tbody>\n",
       "</table>\n",
       "</div>"
      ],
      "text/plain": [
       "Sample     SiO2_(input)       HSiO3-      NaHSiO3         SiO2\n",
       "         Hetero. equil. log_activity log_activity log_activity\n",
       "granite1         quartz      -4.7561      -4.5452      -2.3064"
      ]
     },
     "execution_count": 10,
     "metadata": {},
     "output_type": "execute_result"
    }
   ],
   "source": [
    "speciation_1_1000bar.lookup([\"SiO2_(input)\", \"HSiO3-\", \"NaHSiO3\", \"SiO2\"])"
   ]
  },
  {
   "cell_type": "markdown",
   "metadata": {},
   "source": [
    "Higher pressures allow you to perform aqueous speciation calculations at higher pressures. Try performing calculations at higher temperatures and pressures to see what happens!"
   ]
  },
  {
   "cell_type": "markdown",
   "metadata": {},
   "source": [
    "## Breakout session!"
   ]
  }
 ],
 "metadata": {
  "kernelspec": {
   "display_name": "Python 3",
   "language": "python",
   "name": "python3"
  },
  "language_info": {
   "codemirror_mode": {
    "name": "ipython",
    "version": 3
   },
   "file_extension": ".py",
   "mimetype": "text/x-python",
   "name": "python",
   "nbconvert_exporter": "python",
   "pygments_lexer": "ipython3",
   "version": "3.7.0"
  }
 },
 "nbformat": 4,
 "nbformat_minor": 4
}
