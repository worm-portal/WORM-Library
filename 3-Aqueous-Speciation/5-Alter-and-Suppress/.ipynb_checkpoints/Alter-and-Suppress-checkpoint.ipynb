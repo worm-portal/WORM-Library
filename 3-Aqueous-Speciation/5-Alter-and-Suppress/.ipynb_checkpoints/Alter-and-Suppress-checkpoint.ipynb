{
 "cells": [
  {
   "cell_type": "markdown",
   "metadata": {},
   "source": [
    "<left>\n",
    "<table style=\"margin-top:0px; margin-left:0px;\">\n",
    "<tr>\n",
    "  <td><img src=\"https://raw.githubusercontent.com/worm-portal/WORM-Figures/master/style/worm.png\" alt=\"WORM\" title=\"WORM\" width=50/></td>\n",
    "  <td><h1 style=font-size:30px>Geochemical Speciation:<br>Alter and Suppress Options</h1><br />\n",
    "</tr>\n",
    "</table>\n",
    "</left>"
   ]
  },
  {
   "cell_type": "markdown",
   "metadata": {},
   "source": [
    "For this small demo, the `alter_options` option in the `speciate` function will be used to simultaneously:\n",
    "1) suppress the formation of SO$_2$\n",
    "2) suppress the formation of N$_2$\n",
    "3) replace the dissociation reaction logK of KOH with a value of 12.0\n",
    "4) adjust the dissociation reaction logK of NaHSiO$_3$ by -0.5\n",
    "\n",
    "Four options are shown here, but up to 100 can be provided to `alter_options`.\n",
    "\n",
    "---\n",
    "\n",
    "The `alter_options` option in the `speciate` function accepts a list of lists, *e.g.*,\n",
    "```\n",
    "alter_options = [\n",
    "                 [\"SO2\", \"Suppress\"],\n",
    "                 [\"N2\", \"Suppress\"],\n",
    "                 [\"KOH\", \"Replace\", 12.0],\n",
    "                 [\"NaHSiO3\", \"AugmentLogK\", -0.5],\n",
    "                ],\n",
    "```\n",
    "\n",
    "Each interior list represents a different option. The first element of each interior list is the name of a species. The second element is an option to alter the species and can be:\n",
    "\n",
    "- Suppress : suppress the formation of the species.\n",
    "- Replace : replace the species' log K value with a desired value.\n",
    "- AugmentLogK : augment the value of the species' log K.\n",
    "- AugmentG : augment the Gibbs free energy of the species by a desired value, in kcal/mol.\n",
    "\n",
    "The third element is a numeric value corresponding to the chosen option. A third element is not required for Suppress."
   ]
  },
  {
   "cell_type": "markdown",
   "metadata": {},
   "source": [
    "First, the AqEquil Python package is loaded:"
   ]
  },
  {
   "cell_type": "code",
   "execution_count": 1,
   "metadata": {},
   "outputs": [],
   "source": [
    "import AqEquil\n",
    "ae = AqEquil.AqEquil()"
   ]
  },
  {
   "cell_type": "markdown",
   "metadata": {},
   "source": [
    "Perform a speciation calculation with the default WORM database 'wrm' and specify a list of lists for alter_options:"
   ]
  },
  {
   "cell_type": "code",
   "execution_count": 2,
   "metadata": {},
   "outputs": [
    {
     "name": "stdout",
     "output_type": "stream",
     "text": [
      "Warning: no 'logfO2' column found. Attempting to find a column for aqueous O2 to estimate logfO2 at sample temperature and pressure...\n",
      "Using wrm to speciate Bison Pool\n",
      "Using wrm to speciate Spray Geyser Source\n",
      "Warning: non-numeric aqueous O2 value in sample Crater Hills Geyser. Resorting to using Log fO2 (log bars) with a value of -6\n",
      "Using wrm to speciate Crater Hills Geyser\n",
      "Using wrm to speciate Ambergris\n",
      "Using wrm to speciate MLS Source\n",
      "Using wrm to speciate Gas Crack\n",
      "Using wrm to speciate Snail\n",
      "Finished!\n"
     ]
    }
   ],
   "source": [
    "\n",
    "speciation = ae.speciate(input_filename=\"input_example_wrm.csv\",\n",
    "                         exclude=[\"Year\", \"Area\"],\n",
    "                         alter_options=[\n",
    "                                        [\"SO2\", \"Suppress\"],\n",
    "                                        [\"N2\", \"Suppress\"],\n",
    "                                        [\"KOH\", \"Replace\", 12.0],\n",
    "                                        [\"NaHSiO3\", \"AugmentLogK\", -0.5],\n",
    "                                       ],\n",
    "                         delete_generated_folders=True)"
   ]
  },
  {
   "cell_type": "markdown",
   "metadata": {},
   "source": [
    "Now that the speciation is complete, confirm that N2 and SO2 do not appear in results. The lookup table should be blank because these species have been suppressed:"
   ]
  },
  {
   "cell_type": "code",
   "execution_count": 3,
   "metadata": {},
   "outputs": [
    {
     "data": {
      "text/html": [
       "<div>\n",
       "<style scoped>\n",
       "    .dataframe tbody tr th:only-of-type {\n",
       "        vertical-align: middle;\n",
       "    }\n",
       "\n",
       "    .dataframe tbody tr th {\n",
       "        vertical-align: top;\n",
       "    }\n",
       "\n",
       "    .dataframe thead tr th {\n",
       "        text-align: left;\n",
       "    }\n",
       "</style>\n",
       "<table border=\"1\" class=\"dataframe\">\n",
       "  <thead>\n",
       "  </thead>\n",
       "  <tbody>\n",
       "    <tr>\n",
       "      <th>Bison Pool</th>\n",
       "    </tr>\n",
       "    <tr>\n",
       "      <th>Spray Geyser Source</th>\n",
       "    </tr>\n",
       "    <tr>\n",
       "      <th>Crater Hills Geyser</th>\n",
       "    </tr>\n",
       "    <tr>\n",
       "      <th>Ambergris</th>\n",
       "    </tr>\n",
       "    <tr>\n",
       "      <th>MLS Source</th>\n",
       "    </tr>\n",
       "    <tr>\n",
       "      <th>Gas Crack</th>\n",
       "    </tr>\n",
       "    <tr>\n",
       "      <th>Snail</th>\n",
       "    </tr>\n",
       "  </tbody>\n",
       "</table>\n",
       "</div>"
      ],
      "text/plain": [
       "Empty DataFrame\n",
       "Columns: []\n",
       "Index: [Bison Pool, Spray Geyser Source, Crater Hills Geyser, Ambergris, MLS Source, Gas Crack, Snail]"
      ]
     },
     "execution_count": 3,
     "metadata": {},
     "output_type": "execute_result"
    }
   ],
   "source": [
    "speciation.lookup([\"N2\", \"SO2\"])"
   ]
  },
  {
   "cell_type": "markdown",
   "metadata": {},
   "source": [
    "Next, perform a speciation calculation again but this time with no alter_options:"
   ]
  },
  {
   "cell_type": "code",
   "execution_count": 4,
   "metadata": {},
   "outputs": [
    {
     "name": "stdout",
     "output_type": "stream",
     "text": [
      "Warning: no 'logfO2' column found. Attempting to find a column for aqueous O2 to estimate logfO2 at sample temperature and pressure...\n",
      "Using wrm to speciate Bison Pool\n",
      "Using wrm to speciate Spray Geyser Source\n",
      "Warning: non-numeric aqueous O2 value in sample Crater Hills Geyser. Resorting to using Log fO2 (log bars) with a value of -6\n",
      "Using wrm to speciate Crater Hills Geyser\n",
      "Using wrm to speciate Ambergris\n",
      "Using wrm to speciate MLS Source\n",
      "Using wrm to speciate Gas Crack\n",
      "Using wrm to speciate Snail\n",
      "Finished!\n"
     ]
    }
   ],
   "source": [
    "speciation_no_options = ae.speciate(input_filename=\"input_example_wrm.csv\",\n",
    "                                    exclude=[\"Year\", \"Area\"],\n",
    "                                    delete_generated_folders=True)"
   ]
  },
  {
   "cell_type": "markdown",
   "metadata": {},
   "source": [
    "Examine the log activities of KOH and NaHSiO3 **with** and **without** alter options to ensure their dissociation reaction logK values have been modified:"
   ]
  },
  {
   "cell_type": "code",
   "execution_count": 5,
   "metadata": {},
   "outputs": [
    {
     "data": {
      "text/html": [
       "<div>\n",
       "<style scoped>\n",
       "    .dataframe tbody tr th:only-of-type {\n",
       "        vertical-align: middle;\n",
       "    }\n",
       "\n",
       "    .dataframe tbody tr th {\n",
       "        vertical-align: top;\n",
       "    }\n",
       "\n",
       "    .dataframe thead tr th {\n",
       "        text-align: left;\n",
       "    }\n",
       "</style>\n",
       "<table border=\"1\" class=\"dataframe\">\n",
       "  <thead>\n",
       "    <tr>\n",
       "      <th>Sample</th>\n",
       "      <th>KOH</th>\n",
       "      <th>NaHSiO3</th>\n",
       "    </tr>\n",
       "    <tr>\n",
       "      <th></th>\n",
       "      <th>log_activity</th>\n",
       "      <th>log_activity</th>\n",
       "    </tr>\n",
       "  </thead>\n",
       "  <tbody>\n",
       "    <tr>\n",
       "      <th>Bison Pool</th>\n",
       "      <td>-7.9443</td>\n",
       "      <td>-3.7939</td>\n",
       "    </tr>\n",
       "    <tr>\n",
       "      <th>Spray Geyser Source</th>\n",
       "      <td>-7.6180</td>\n",
       "      <td>-3.5838</td>\n",
       "    </tr>\n",
       "    <tr>\n",
       "      <th>Crater Hills Geyser</th>\n",
       "      <td>-11.1925</td>\n",
       "      <td>-7.4314</td>\n",
       "    </tr>\n",
       "    <tr>\n",
       "      <th>Ambergris</th>\n",
       "      <td>-7.6320</td>\n",
       "      <td>-3.9725</td>\n",
       "    </tr>\n",
       "    <tr>\n",
       "      <th>MLS Source</th>\n",
       "      <td>-7.7454</td>\n",
       "      <td>-3.6663</td>\n",
       "    </tr>\n",
       "    <tr>\n",
       "      <th>Gas Crack</th>\n",
       "      <td>-4.0327</td>\n",
       "      <td>-6.0227</td>\n",
       "    </tr>\n",
       "    <tr>\n",
       "      <th>Snail</th>\n",
       "      <td>-4.4011</td>\n",
       "      <td>-5.2690</td>\n",
       "    </tr>\n",
       "  </tbody>\n",
       "</table>\n",
       "</div>"
      ],
      "text/plain": [
       "Sample                       KOH      NaHSiO3\n",
       "                    log_activity log_activity\n",
       "Bison Pool               -7.9443      -3.7939\n",
       "Spray Geyser Source      -7.6180      -3.5838\n",
       "Crater Hills Geyser     -11.1925      -7.4314\n",
       "Ambergris                -7.6320      -3.9725\n",
       "MLS Source               -7.7454      -3.6663\n",
       "Gas Crack                -4.0327      -6.0227\n",
       "Snail                    -4.4011      -5.2690"
      ]
     },
     "execution_count": 5,
     "metadata": {},
     "output_type": "execute_result"
    }
   ],
   "source": [
    "# speciation with alter options:\n",
    "speciation.lookup([\"KOH\", \"NaHSiO3\"])"
   ]
  },
  {
   "cell_type": "code",
   "execution_count": 6,
   "metadata": {},
   "outputs": [
    {
     "data": {
      "text/html": [
       "<div>\n",
       "<style scoped>\n",
       "    .dataframe tbody tr th:only-of-type {\n",
       "        vertical-align: middle;\n",
       "    }\n",
       "\n",
       "    .dataframe tbody tr th {\n",
       "        vertical-align: top;\n",
       "    }\n",
       "\n",
       "    .dataframe thead tr th {\n",
       "        text-align: left;\n",
       "    }\n",
       "</style>\n",
       "<table border=\"1\" class=\"dataframe\">\n",
       "  <thead>\n",
       "    <tr>\n",
       "      <th>Sample</th>\n",
       "      <th>KOH</th>\n",
       "      <th>NaHSiO3</th>\n",
       "    </tr>\n",
       "    <tr>\n",
       "      <th></th>\n",
       "      <th>log_activity</th>\n",
       "      <th>log_activity</th>\n",
       "    </tr>\n",
       "  </thead>\n",
       "  <tbody>\n",
       "    <tr>\n",
       "      <th>Bison Pool</th>\n",
       "      <td>-8.4798</td>\n",
       "      <td>-4.2828</td>\n",
       "    </tr>\n",
       "    <tr>\n",
       "      <th>Spray Geyser Source</th>\n",
       "      <td>-8.1390</td>\n",
       "      <td>-4.0622</td>\n",
       "    </tr>\n",
       "    <tr>\n",
       "      <th>Crater Hills Geyser</th>\n",
       "      <td>-11.7956</td>\n",
       "      <td>-7.9314</td>\n",
       "    </tr>\n",
       "    <tr>\n",
       "      <th>Ambergris</th>\n",
       "      <td>-8.4014</td>\n",
       "      <td>-4.4522</td>\n",
       "    </tr>\n",
       "    <tr>\n",
       "      <th>MLS Source</th>\n",
       "      <td>-8.2436</td>\n",
       "      <td>-4.1474</td>\n",
       "    </tr>\n",
       "    <tr>\n",
       "      <th>Gas Crack</th>\n",
       "      <td>-6.0740</td>\n",
       "      <td>-6.2467</td>\n",
       "    </tr>\n",
       "    <tr>\n",
       "      <th>Snail</th>\n",
       "      <td>-6.7498</td>\n",
       "      <td>-5.5815</td>\n",
       "    </tr>\n",
       "  </tbody>\n",
       "</table>\n",
       "</div>"
      ],
      "text/plain": [
       "Sample                       KOH      NaHSiO3\n",
       "                    log_activity log_activity\n",
       "Bison Pool               -8.4798      -4.2828\n",
       "Spray Geyser Source      -8.1390      -4.0622\n",
       "Crater Hills Geyser     -11.7956      -7.9314\n",
       "Ambergris                -8.4014      -4.4522\n",
       "MLS Source               -8.2436      -4.1474\n",
       "Gas Crack                -6.0740      -6.2467\n",
       "Snail                    -6.7498      -5.5815"
      ]
     },
     "execution_count": 6,
     "metadata": {},
     "output_type": "execute_result"
    }
   ],
   "source": [
    "# speciation without alter options:\n",
    "speciation_no_options.lookup([\"KOH\", \"NaHSiO3\"])"
   ]
  },
  {
   "cell_type": "markdown",
   "metadata": {},
   "source": [
    "End of demo."
   ]
  },
  {
   "cell_type": "code",
   "execution_count": null,
   "metadata": {},
   "outputs": [],
   "source": []
  }
 ],
 "metadata": {
  "kernelspec": {
   "display_name": "Python 3",
   "language": "python",
   "name": "python3"
  },
  "language_info": {
   "codemirror_mode": {
    "name": "ipython",
    "version": 3
   },
   "file_extension": ".py",
   "mimetype": "text/x-python",
   "name": "python",
   "nbconvert_exporter": "python",
   "pygments_lexer": "ipython3",
   "version": "3.8.0"
  }
 },
 "nbformat": 4,
 "nbformat_minor": 4
}
