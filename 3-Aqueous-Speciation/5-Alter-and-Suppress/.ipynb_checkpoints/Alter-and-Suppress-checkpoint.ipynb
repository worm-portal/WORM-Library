{
 "cells": [
  {
   "cell_type": "markdown",
   "metadata": {},
   "source": [
    "### Alter and Suppress Options\n",
    "\n",
    "For this small demo, the `alter_options` option in the `speciate` function will be used to simultaneously:\n",
    "1) suppress the formation of SO$_2$\n",
    "2) suppress the formation of N$_2$\n",
    "3) replace the dissociation reaction logK of KOH with a value of 12.0\n",
    "4) adjust the dissociation reaction logK of NaHSiO$_3$ by -0.5\n",
    "\n",
    "Four options are shown here, but up to 100 can be provided to `alter_options`.\n",
    "\n",
    "---\n",
    "\n",
    "The `alter_options` option in the `speciate` function accepts a list of lists, *e.g.*,\n",
    "```\n",
    "alter_options = [\n",
    "                 [\"SO2\", \"Suppress\"],\n",
    "                 [\"N2\", \"Suppress\"],\n",
    "                 [\"KOH\", \"Replace\", 12.0],\n",
    "                 [\"NaHSiO3\", \"AugmentLogK\", -0.5],\n",
    "                ],\n",
    "```\n",
    "\n",
    "Each interior list represents a different option. The first element of each interior list is the name of a species. The second element is an option to alter the species and can be:\n",
    "\n",
    "- Suppress : suppress the formation of the species.\n",
    "- Replace : replace the species' log K value with a desired value.\n",
    "- AugmentLogK : augment the value of the species' log K.\n",
    "- AugmentG : augment the Gibbs free energy of the species by a desired value, in kcal/mol.\n",
    "\n",
    "The third element is a numeric value corresponding to the chosen option. A third element is not required for Suppress."
   ]
  },
  {
   "cell_type": "markdown",
   "metadata": {},
   "source": [
    "First, the AqEquil Python package is loaded:"
   ]
  },
  {
   "cell_type": "code",
   "execution_count": 1,
   "metadata": {},
   "outputs": [],
   "source": [
    "import AqEquil\n",
    "ae = AqEquil.AqEquil()"
   ]
  },
  {
   "cell_type": "markdown",
   "metadata": {},
   "source": [
    "Perform a speciation calculation with the default WORM database 'wrm' and specify a list of lists for alter_options:"
   ]
  },
  {
   "cell_type": "code",
   "execution_count": 2,
   "metadata": {},
   "outputs": [
    {
     "name": "stdout",
     "output_type": "stream",
     "text": [
      "Warning: no 'logfO2' column found. Attempting to find a column for aqueous O2 to estimate logfO2 at sample temperature and pressure...\n",
      "\n",
      "Warning: non-numeric aqueous O2 value in sample Crater Hills Geyser. Resorting to using Log fO2 (log bars) with a value of -6\n",
      "\n",
      "Using wrm to speciate Crater Hills Geyser\n",
      "Error: EQ3 failed to produce a pickup file for Crater.Hills.Geyser.3i\n",
      "Using wrm to speciate Gas Crack\n",
      "Using wrm to speciate Spray Geyser Source\n",
      "Error: EQ3 failed to produce a pickup file for Spray.Geyser.Source.3i\n",
      "Using wrm to speciate Bison Pool\n",
      "Error: EQ3 failed to produce a pickup file for Bison.Pool.3i\n",
      "Using wrm to speciate Snail\n",
      "Error: EQ3 failed to produce a pickup file for Snail.3i\n",
      "Using wrm to speciate Ambergris\n",
      "Error: EQ3 failed to produce a pickup file for Ambergris.3i\n",
      "Using wrm to speciate MLS Source\n",
      "Error: EQ3 failed to produce a pickup file for MLS.Source.3i\n",
      "\n",
      "Sample Bison Pool experienced errors during speciation:\n",
      "\n",
      "* Error - (EQLIB/alters) Couldn't find a non-zero reaction coefficient for the species NaF, which is specified in an nxmod alter option. Therefore can't alter the corresponding equilibrium constant.\n",
      "\n",
      "\n",
      "Sample Spray Geyser Source experienced errors during speciation:\n",
      "\n",
      "* Error - (EQLIB/alters) Couldn't find a non-zero reaction coefficient for the species NaF, which is specified in an nxmod alter option. Therefore can't alter the corresponding equilibrium constant.\n",
      "\n",
      "\n",
      "Sample Crater Hills Geyser experienced errors during speciation:\n",
      "\n",
      "* Error - (EQLIB/alters) Couldn't find a non-zero reaction coefficient for the species NaF, which is specified in an nxmod alter option. Therefore can't alter the corresponding equilibrium constant.\n",
      "\n",
      "\n",
      "Sample Ambergris experienced errors during speciation:\n",
      "\n",
      "* Error - (EQLIB/alters) Couldn't find a non-zero reaction coefficient for the species NaF, which is specified in an nxmod alter option. Therefore can't alter the corresponding equilibrium constant.\n",
      "\n",
      "\n",
      "Sample MLS Source experienced errors during speciation:\n",
      "\n",
      "* Error - (EQLIB/alters) Couldn't find a non-zero reaction coefficient for the species NaF, which is specified in an nxmod alter option. Therefore can't alter the corresponding equilibrium constant.\n",
      "\n",
      "\n",
      "Sample Gas Crack experienced errors during speciation:\n",
      "\n",
      "* Error- (EQLIB/alters) Can't find the species NaF, which is specified in an nxmod alter option. Check to make sure that a species of this name appears on the supporting data file.\n",
      "\n",
      "\n",
      "Sample Snail experienced errors during speciation:\n",
      "\n",
      "* Error - (EQLIB/alters) Couldn't find a non-zero reaction coefficient for the species NaF, which is specified in an nxmod alter option. Therefore can't alter the corresponding equilibrium constant.\n",
      "\n"
     ]
    },
    {
     "ename": "Exception",
     "evalue": "Could not compile a speciation report. This is likely because errors occurred during the speciation calculation.",
     "output_type": "error",
     "traceback": [
      "\u001b[0;31m---------------------------------------------------------------------------\u001b[0m",
      "\u001b[0;31mException\u001b[0m                                 Traceback (most recent call last)",
      "\u001b[0;32m<ipython-input-2-35a403c82c88>\u001b[0m in \u001b[0;36m<module>\u001b[0;34m\u001b[0m\n\u001b[1;32m      8\u001b[0m                                         \u001b[0;34m[\u001b[0m\u001b[0;34m\"NaF\"\u001b[0m\u001b[0;34m,\u001b[0m \u001b[0;34m\"AugmentG\"\u001b[0m\u001b[0;34m,\u001b[0m \u001b[0;34m-\u001b[0m\u001b[0;36m0.5\u001b[0m\u001b[0;34m]\u001b[0m\u001b[0;34m,\u001b[0m\u001b[0;34m\u001b[0m\u001b[0m\n\u001b[1;32m      9\u001b[0m                                        ],\n\u001b[0;32m---> 10\u001b[0;31m                          delete_generated_folders=True)\n\u001b[0m",
      "\u001b[0;32m/opt/conda/envs/python3/lib/python3.7/site-packages/AqEquil/AqSpeciation.py\u001b[0m in \u001b[0;36mspeciate\u001b[0;34m(self, input_filename, db, redox_flag, redox_aux, default_logfO2, exclude, suppress, alter_options, charge_balance_on, suppress_missing, verbose, report_filename, get_aq_dist, aq_dist_type, get_mass_contribution, mass_contribution_other, get_mineral_sat, mineral_sat_type, get_redox, redox_type, get_ion_activity_ratios, get_fugacity, get_affinity_energy, rxn_filename, not_limiting, get_charge_balance, custom_db, extra_eqpt_output, batch_3o_filename, delete_generated_folders)\u001b[0m\n\u001b[1;32m   1882\u001b[0m \u001b[0;34m\u001b[0m\u001b[0m\n\u001b[1;32m   1883\u001b[0m         \u001b[0;32mif\u001b[0m \u001b[0mlen\u001b[0m\u001b[0;34m(\u001b[0m\u001b[0mbatch_3o\u001b[0m\u001b[0;34m)\u001b[0m \u001b[0;34m==\u001b[0m \u001b[0;36m0\u001b[0m\u001b[0;34m:\u001b[0m\u001b[0;34m\u001b[0m\u001b[0m\n\u001b[0;32m-> 1884\u001b[0;31m             raise Exception(\"Could not compile a speciation report. This is \"\n\u001b[0m\u001b[1;32m   1885\u001b[0m                             \u001b[0;34m\"likely because errors occurred during \"\u001b[0m\u001b[0;34m\u001b[0m\u001b[0m\n\u001b[1;32m   1886\u001b[0m                             \"the speciation calculation.\")\n",
      "\u001b[0;31mException\u001b[0m: Could not compile a speciation report. This is likely because errors occurred during the speciation calculation."
     ]
    }
   ],
   "source": [
    "\n",
    "speciation = ae.speciate(input_filename=\"input_example_wrm.csv\",\n",
    "                         exclude=[\"Year\", \"Area\"],\n",
    "                         alter_options=[\n",
    "                                        [\"SO2\", \"Suppress\"],\n",
    "                                        [\"N2\", \"Suppress\"],\n",
    "                                        [\"KOH\", \"Replace\", 12.0],\n",
    "                                        [\"NaHSiO3\", \"AugmentLogK\", -0.5],\n",
    "                                       ],\n",
    "                         delete_generated_folders=True)"
   ]
  },
  {
   "cell_type": "markdown",
   "metadata": {},
   "source": [
    "Now that the speciation is complete, confirm that N2 and SO2 do not appear in results. The lookup table should be blank because these species have been suppressed:"
   ]
  },
  {
   "cell_type": "code",
   "execution_count": null,
   "metadata": {},
   "outputs": [],
   "source": [
    "speciation.lookup([\"N2\", \"SO2\"])"
   ]
  },
  {
   "cell_type": "markdown",
   "metadata": {},
   "source": [
    "Next, perform a speciation calculation again but this time with no alter_options:"
   ]
  },
  {
   "cell_type": "code",
   "execution_count": null,
   "metadata": {},
   "outputs": [],
   "source": [
    "speciation_no_options = ae.speciate(input_filename=\"input_example_wrm.csv\",\n",
    "                                    exclude=[\"Year\", \"Area\"],\n",
    "                                    delete_generated_folders=True)"
   ]
  },
  {
   "cell_type": "markdown",
   "metadata": {},
   "source": [
    "Examine the log activities of KOH and NaHSiO3 **with** and **without** alter options to ensure their dissociation reaction logK values have been modified:"
   ]
  },
  {
   "cell_type": "code",
   "execution_count": null,
   "metadata": {},
   "outputs": [],
   "source": [
    "# speciation with alter options:\n",
    "speciation.lookup([\"KOH\", \"NaHSiO3\"])"
   ]
  },
  {
   "cell_type": "code",
   "execution_count": null,
   "metadata": {},
   "outputs": [],
   "source": [
    "# speciation without alter options:\n",
    "speciation_no_options.lookup([\"KOH\", \"NaHSiO3\"])"
   ]
  },
  {
   "cell_type": "markdown",
   "metadata": {},
   "source": [
    "End of demo."
   ]
  },
  {
   "cell_type": "code",
   "execution_count": null,
   "metadata": {},
   "outputs": [],
   "source": []
  }
 ],
 "metadata": {
  "kernelspec": {
   "display_name": "Python 3",
   "language": "python",
   "name": "python3"
  },
  "language_info": {
   "codemirror_mode": {
    "name": "ipython",
    "version": 3
   },
   "file_extension": ".py",
   "mimetype": "text/x-python",
   "name": "python",
   "nbconvert_exporter": "python",
   "pygments_lexer": "ipython3",
   "version": "3.7.0"
  }
 },
 "nbformat": 4,
 "nbformat_minor": 4
}
