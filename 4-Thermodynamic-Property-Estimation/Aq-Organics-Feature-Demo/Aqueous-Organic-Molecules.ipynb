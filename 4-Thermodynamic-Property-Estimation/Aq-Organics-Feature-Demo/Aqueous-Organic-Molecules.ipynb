{
 "cells": [
  {
   "cell_type": "markdown",
   "metadata": {},
   "source": [
    "<left>\n",
    "<table style=\"margin-top:0px; margin-left:0px;\">\n",
    "<tr>\n",
    "  <td><img src=\"https://raw.githubusercontent.com/worm-portal/WORM-Figures/master/style/worm.png\" alt=\"WORM\" title=\"WORM\" width=50/></td>\n",
    "  <td><h1 style=font-size:30px>Aqueous Organic Estimator (AqOrg) feature demo</h1><br />\n",
    "</tr>\n",
    "</table>\n",
    "</left>"
   ]
  },
  {
   "cell_type": "code",
   "execution_count": 9,
   "metadata": {},
   "outputs": [],
   "source": [
    "from AqOrg import Estimate"
   ]
  },
  {
   "cell_type": "markdown",
   "metadata": {},
   "source": [
    "### Single compound estimation"
   ]
  },
  {
   "cell_type": "markdown",
   "metadata": {},
   "source": [
    "You can estimate the properties of a neutral organic molecule from its name alone. AqOrg will search the online PubChem database for a match and then attempt to estimate its properties using group additivity theory. Some functional groups are not yet supported."
   ]
  },
  {
   "cell_type": "code",
   "execution_count": 18,
   "metadata": {},
   "outputs": [
    {
     "data": {
      "image/svg+xml": [
       "<svg baseProfile=\"full\" height=\"150px\" version=\"1.1\" width=\"450px\" xml:space=\"preserve\" xmlns=\"http://www.w3.org/2000/svg\" xmlns:rdkit=\"http://www.rdkit.org/xml\" xmlns:xlink=\"http://www.w3.org/1999/xlink\">\n",
       "<rect height=\"150\" style=\"opacity:1.0;fill:#FFFFFF;stroke:none\" width=\"450\" x=\"0\" y=\"0\"> </rect>\n",
       "<path d=\"M 20.4545,86.5542 94.0292,48.9183\" style=\"fill:none;fill-rule:evenodd;stroke:#000000;stroke-width:2px;stroke-linecap:butt;stroke-linejoin:miter;stroke-opacity:1\"/>\n",
       "<path d=\"M 94.0292,48.9183 163.41,93.8179\" style=\"fill:none;fill-rule:evenodd;stroke:#000000;stroke-width:2px;stroke-linecap:butt;stroke-linejoin:miter;stroke-opacity:1\"/>\n",
       "<path d=\"M 163.41,93.8179 236.985,56.1821\" style=\"fill:none;fill-rule:evenodd;stroke:#000000;stroke-width:2px;stroke-linecap:butt;stroke-linejoin:miter;stroke-opacity:1\"/>\n",
       "<path d=\"M 236.985,56.1821 306.366,101.082\" style=\"fill:none;fill-rule:evenodd;stroke:#000000;stroke-width:2px;stroke-linecap:butt;stroke-linejoin:miter;stroke-opacity:1\"/>\n",
       "<path d=\"M 306.366,101.082 336.4,85.718\" style=\"fill:none;fill-rule:evenodd;stroke:#000000;stroke-width:2px;stroke-linecap:butt;stroke-linejoin:miter;stroke-opacity:1\"/>\n",
       "<path d=\"M 336.4,85.718 366.435,70.3543\" style=\"fill:none;fill-rule:evenodd;stroke:#FF0000;stroke-width:2px;stroke-linecap:butt;stroke-linejoin:miter;stroke-opacity:1\"/>\n",
       "<text style=\"font-size:15px;font-style:normal;font-weight:normal;fill-opacity:1;stroke:none;font-family:sans-serif;text-anchor:start;fill:#FF0000\" x=\"366.435\" y=\"70.9458\"><tspan>OH</tspan></text>\n",
       "</svg>"
      ],
      "text/plain": [
       "<IPython.core.display.SVG object>"
      ]
     },
     "metadata": {},
     "output_type": "display_data"
    }
   ],
   "source": [
    "pentanol = Estimate(\"pentanol\")"
   ]
  },
  {
   "cell_type": "markdown",
   "metadata": {},
   "source": [
    "Look up the molecule's OBIGT table of estimated values."
   ]
  },
  {
   "cell_type": "code",
   "execution_count": 19,
   "metadata": {},
   "outputs": [
    {
     "data": {
      "text/html": [
       "<div>\n",
       "<style scoped>\n",
       "    .dataframe tbody tr th:only-of-type {\n",
       "        vertical-align: middle;\n",
       "    }\n",
       "\n",
       "    .dataframe tbody tr th {\n",
       "        vertical-align: top;\n",
       "    }\n",
       "\n",
       "    .dataframe thead th {\n",
       "        text-align: right;\n",
       "    }\n",
       "</style>\n",
       "<table border=\"1\" class=\"dataframe\">\n",
       "  <thead>\n",
       "    <tr style=\"text-align: right;\">\n",
       "      <th></th>\n",
       "      <th>abbrv</th>\n",
       "      <th>formula</th>\n",
       "      <th>state</th>\n",
       "      <th>ref1</th>\n",
       "      <th>ref2</th>\n",
       "      <th>date</th>\n",
       "      <th>E_units</th>\n",
       "      <th>G</th>\n",
       "      <th>H</th>\n",
       "      <th>S</th>\n",
       "      <th>Cp</th>\n",
       "      <th>V</th>\n",
       "      <th>a1.a</th>\n",
       "      <th>a2.b</th>\n",
       "      <th>a3.c</th>\n",
       "      <th>a4.d</th>\n",
       "      <th>c1.e</th>\n",
       "      <th>c2.f</th>\n",
       "      <th>omega.lambda</th>\n",
       "      <th>z.T</th>\n",
       "    </tr>\n",
       "    <tr>\n",
       "      <th>name</th>\n",
       "      <th></th>\n",
       "      <th></th>\n",
       "      <th></th>\n",
       "      <th></th>\n",
       "      <th></th>\n",
       "      <th></th>\n",
       "      <th></th>\n",
       "      <th></th>\n",
       "      <th></th>\n",
       "      <th></th>\n",
       "      <th></th>\n",
       "      <th></th>\n",
       "      <th></th>\n",
       "      <th></th>\n",
       "      <th></th>\n",
       "      <th></th>\n",
       "      <th></th>\n",
       "      <th></th>\n",
       "      <th></th>\n",
       "      <th></th>\n",
       "    </tr>\n",
       "  </thead>\n",
       "  <tbody>\n",
       "    <tr>\n",
       "      <th>pentanol</th>\n",
       "      <td>C5H12O</td>\n",
       "      <td>C5H12O</td>\n",
       "      <td>aq</td>\n",
       "      <td>AqOrg</td>\n",
       "      <td>GrpAdd</td>\n",
       "      <td>12/03/2021 09:53:34</td>\n",
       "      <td>J</td>\n",
       "      <td>-156580.0</td>\n",
       "      <td>-363310.0</td>\n",
       "      <td>221.980182</td>\n",
       "      <td>528.305433</td>\n",
       "      <td>102.11</td>\n",
       "      <td>85.81333</td>\n",
       "      <td>60.774463</td>\n",
       "      <td>100.41907</td>\n",
       "      <td>-39.642369</td>\n",
       "      <td>498.412926</td>\n",
       "      <td>12.07798</td>\n",
       "      <td>-0.580589</td>\n",
       "      <td>0</td>\n",
       "    </tr>\n",
       "  </tbody>\n",
       "</table>\n",
       "</div>"
      ],
      "text/plain": [
       "           abbrv formula state   ref1    ref2                 date E_units  \\\n",
       "name                                                                         \n",
       "pentanol  C5H12O  C5H12O    aq  AqOrg  GrpAdd  12/03/2021 09:53:34       J   \n",
       "\n",
       "                 G         H           S          Cp       V      a1.a  \\\n",
       "name                                                                     \n",
       "pentanol -156580.0 -363310.0  221.980182  528.305433  102.11  85.81333   \n",
       "\n",
       "               a2.b       a3.c       a4.d        c1.e      c2.f  omega.lambda  \\\n",
       "name                                                                            \n",
       "pentanol  60.774463  100.41907 -39.642369  498.412926  12.07798     -0.580589   \n",
       "\n",
       "          z.T  \n",
       "name           \n",
       "pentanol    0  "
      ]
     },
     "execution_count": 19,
     "metadata": {},
     "output_type": "execute_result"
    }
   ],
   "source": [
    "pentanol.OBIGT"
   ]
  },
  {
   "cell_type": "markdown",
   "metadata": {},
   "source": [
    "Look up individual parameters."
   ]
  },
  {
   "cell_type": "code",
   "execution_count": 20,
   "metadata": {},
   "outputs": [
    {
     "data": {
      "text/plain": [
       "(528.3054331361576, -0.5805886985627096, -179.7, 5.6)"
      ]
     },
     "execution_count": 20,
     "metadata": {},
     "output_type": "execute_result"
    }
   ],
   "source": [
    "pentanol.Cp, pentanol.omega, pentanol.Sh, pentanol.Sh_err"
   ]
  },
  {
   "cell_type": "code",
   "execution_count": 22,
   "metadata": {},
   "outputs": [
    {
     "data": {
      "text/html": [
       "<div>\n",
       "<style scoped>\n",
       "    .dataframe tbody tr th:only-of-type {\n",
       "        vertical-align: middle;\n",
       "    }\n",
       "\n",
       "    .dataframe tbody tr th {\n",
       "        vertical-align: top;\n",
       "    }\n",
       "\n",
       "    .dataframe thead th {\n",
       "        text-align: right;\n",
       "    }\n",
       "</style>\n",
       "<table border=\"1\" class=\"dataframe\">\n",
       "  <thead>\n",
       "    <tr style=\"text-align: right;\">\n",
       "      <th></th>\n",
       "      <th>C-[CX4H3]</th>\n",
       "      <th>C-[CX4H2]-C</th>\n",
       "      <th>O-[CX4H2]-C</th>\n",
       "      <th>C-[OX2H]</th>\n",
       "      <th>formula</th>\n",
       "    </tr>\n",
       "  </thead>\n",
       "  <tbody>\n",
       "    <tr>\n",
       "      <th>pentanol</th>\n",
       "      <td>1</td>\n",
       "      <td>3</td>\n",
       "      <td>1</td>\n",
       "      <td>1</td>\n",
       "      <td>C5H12O</td>\n",
       "    </tr>\n",
       "  </tbody>\n",
       "</table>\n",
       "</div>"
      ],
      "text/plain": [
       "          C-[CX4H3]  C-[CX4H2]-C  O-[CX4H2]-C  C-[OX2H] formula\n",
       "pentanol          1            3            1         1  C5H12O"
      ]
     },
     "execution_count": 22,
     "metadata": {},
     "output_type": "execute_result"
    }
   ],
   "source": [
    "pentanol.group_matches"
   ]
  },
  {
   "cell_type": "markdown",
   "metadata": {},
   "source": [
    "Specify known values for properties and parameters. See which ones can be defined with `help(AqOrg.Estimate)`. Do not show a picture of the molecule with `show=False`."
   ]
  },
  {
   "cell_type": "code",
   "execution_count": 13,
   "metadata": {},
   "outputs": [
    {
     "data": {
      "text/html": [
       "<div>\n",
       "<style scoped>\n",
       "    .dataframe tbody tr th:only-of-type {\n",
       "        vertical-align: middle;\n",
       "    }\n",
       "\n",
       "    .dataframe tbody tr th {\n",
       "        vertical-align: top;\n",
       "    }\n",
       "\n",
       "    .dataframe thead th {\n",
       "        text-align: right;\n",
       "    }\n",
       "</style>\n",
       "<table border=\"1\" class=\"dataframe\">\n",
       "  <thead>\n",
       "    <tr style=\"text-align: right;\">\n",
       "      <th></th>\n",
       "      <th>abbrv</th>\n",
       "      <th>formula</th>\n",
       "      <th>state</th>\n",
       "      <th>ref1</th>\n",
       "      <th>ref2</th>\n",
       "      <th>date</th>\n",
       "      <th>E_units</th>\n",
       "      <th>G</th>\n",
       "      <th>H</th>\n",
       "      <th>S</th>\n",
       "      <th>Cp</th>\n",
       "      <th>V</th>\n",
       "      <th>a1.a</th>\n",
       "      <th>a2.b</th>\n",
       "      <th>a3.c</th>\n",
       "      <th>a4.d</th>\n",
       "      <th>c1.e</th>\n",
       "      <th>c2.f</th>\n",
       "      <th>omega.lambda</th>\n",
       "      <th>z.T</th>\n",
       "    </tr>\n",
       "    <tr>\n",
       "      <th>name</th>\n",
       "      <th></th>\n",
       "      <th></th>\n",
       "      <th></th>\n",
       "      <th></th>\n",
       "      <th></th>\n",
       "      <th></th>\n",
       "      <th></th>\n",
       "      <th></th>\n",
       "      <th></th>\n",
       "      <th></th>\n",
       "      <th></th>\n",
       "      <th></th>\n",
       "      <th></th>\n",
       "      <th></th>\n",
       "      <th></th>\n",
       "      <th></th>\n",
       "      <th></th>\n",
       "      <th></th>\n",
       "      <th></th>\n",
       "      <th></th>\n",
       "    </tr>\n",
       "  </thead>\n",
       "  <tbody>\n",
       "    <tr>\n",
       "      <th>pentanol</th>\n",
       "      <td>C5H12O</td>\n",
       "      <td>C5H12O</td>\n",
       "      <td>aq</td>\n",
       "      <td>AqOrg</td>\n",
       "      <td>GrpAdd</td>\n",
       "      <td>12/03/2021 09:51:43</td>\n",
       "      <td>J</td>\n",
       "      <td>-156710.0</td>\n",
       "      <td>-359110.0</td>\n",
       "      <td>236.503074</td>\n",
       "      <td>535.0</td>\n",
       "      <td>102.11</td>\n",
       "      <td>85.837993</td>\n",
       "      <td>60.710613</td>\n",
       "      <td>100.361467</td>\n",
       "      <td>-39.623208</td>\n",
       "      <td>505.369346</td>\n",
       "      <td>11.96761</td>\n",
       "      <td>-0.576511</td>\n",
       "      <td>0</td>\n",
       "    </tr>\n",
       "  </tbody>\n",
       "</table>\n",
       "</div>"
      ],
      "text/plain": [
       "           abbrv formula state   ref1    ref2                 date E_units  \\\n",
       "name                                                                         \n",
       "pentanol  C5H12O  C5H12O    aq  AqOrg  GrpAdd  12/03/2021 09:51:43       J   \n",
       "\n",
       "                 G         H           S     Cp       V       a1.a       a2.b  \\\n",
       "name                                                                            \n",
       "pentanol -156710.0 -359110.0  236.503074  535.0  102.11  85.837993  60.710613   \n",
       "\n",
       "                a3.c       a4.d        c1.e      c2.f  omega.lambda  z.T  \n",
       "name                                                                      \n",
       "pentanol  100.361467 -39.623208  505.369346  11.96761     -0.576511    0  "
      ]
     },
     "execution_count": 13,
     "metadata": {},
     "output_type": "execute_result"
    }
   ],
   "source": [
    "pentanol = Estimate(\"pentanol\", Gh=-11.11, Hig=-294.56, Cpaq=535, show=False)\n",
    "pentanol.OBIGT"
   ]
  },
  {
   "cell_type": "markdown",
   "metadata": {},
   "source": [
    "Perform simple group matching with `test=True`."
   ]
  },
  {
   "cell_type": "code",
   "execution_count": 14,
   "metadata": {},
   "outputs": [
    {
     "name": "stdout",
     "output_type": "stream",
     "text": [
      "{'C-[CX4H3]': 1, 'C-[CX4H2]-C': 3, 'O-[CX4H2]-C': 1, 'C-[OX2H]': 1, 'formula': 'C5H12O'}\n"
     ]
    },
    {
     "data": {
      "text/plain": [
       "<AqOrg.AqOrg.Estimate at 0x7fb11436c550>"
      ]
     },
     "execution_count": 14,
     "metadata": {},
     "output_type": "execute_result"
    }
   ],
   "source": [
    "Estimate(\"pentanol\", test=True, show=False)"
   ]
  },
  {
   "cell_type": "markdown",
   "metadata": {},
   "source": [
    "### Multi-compound estimation"
   ]
  },
  {
   "cell_type": "code",
   "execution_count": 15,
   "metadata": {},
   "outputs": [
    {
     "data": {
      "text/html": [
       "<div>\n",
       "<style scoped>\n",
       "    .dataframe tbody tr th:only-of-type {\n",
       "        vertical-align: middle;\n",
       "    }\n",
       "\n",
       "    .dataframe tbody tr th {\n",
       "        vertical-align: top;\n",
       "    }\n",
       "\n",
       "    .dataframe thead th {\n",
       "        text-align: right;\n",
       "    }\n",
       "</style>\n",
       "<table border=\"1\" class=\"dataframe\">\n",
       "  <thead>\n",
       "    <tr style=\"text-align: right;\">\n",
       "      <th></th>\n",
       "      <th>abbrv</th>\n",
       "      <th>formula</th>\n",
       "      <th>state</th>\n",
       "      <th>ref1</th>\n",
       "      <th>ref2</th>\n",
       "      <th>date</th>\n",
       "      <th>E_units</th>\n",
       "      <th>G</th>\n",
       "      <th>H</th>\n",
       "      <th>S</th>\n",
       "      <th>Cp</th>\n",
       "      <th>V</th>\n",
       "      <th>a1.a</th>\n",
       "      <th>a2.b</th>\n",
       "      <th>a3.c</th>\n",
       "      <th>a4.d</th>\n",
       "      <th>c1.e</th>\n",
       "      <th>c2.f</th>\n",
       "      <th>omega.lambda</th>\n",
       "      <th>z.T</th>\n",
       "    </tr>\n",
       "    <tr>\n",
       "      <th>name</th>\n",
       "      <th></th>\n",
       "      <th></th>\n",
       "      <th></th>\n",
       "      <th></th>\n",
       "      <th></th>\n",
       "      <th></th>\n",
       "      <th></th>\n",
       "      <th></th>\n",
       "      <th></th>\n",
       "      <th></th>\n",
       "      <th></th>\n",
       "      <th></th>\n",
       "      <th></th>\n",
       "      <th></th>\n",
       "      <th></th>\n",
       "      <th></th>\n",
       "      <th></th>\n",
       "      <th></th>\n",
       "      <th></th>\n",
       "      <th></th>\n",
       "    </tr>\n",
       "  </thead>\n",
       "  <tbody>\n",
       "    <tr>\n",
       "      <th>pentanol</th>\n",
       "      <td>C5H12O</td>\n",
       "      <td>C5H12O</td>\n",
       "      <td>aq</td>\n",
       "      <td>AqOrg</td>\n",
       "      <td>GrpAdd</td>\n",
       "      <td>12/03/2021 09:51:48</td>\n",
       "      <td>J</td>\n",
       "      <td>-156580.0</td>\n",
       "      <td>-363310.0</td>\n",
       "      <td>221.980182</td>\n",
       "      <td>528.305433</td>\n",
       "      <td>102.11</td>\n",
       "      <td>85.813330</td>\n",
       "      <td>60.774463</td>\n",
       "      <td>100.419070</td>\n",
       "      <td>-39.642369</td>\n",
       "      <td>498.412926</td>\n",
       "      <td>12.07798</td>\n",
       "      <td>-0.580589</td>\n",
       "      <td>0</td>\n",
       "    </tr>\n",
       "    <tr>\n",
       "      <th>hexanol</th>\n",
       "      <td>C6H14O</td>\n",
       "      <td>C6H14O</td>\n",
       "      <td>aq</td>\n",
       "      <td>AqOrg</td>\n",
       "      <td>GrpAdd</td>\n",
       "      <td>12/03/2021 09:51:48</td>\n",
       "      <td>J</td>\n",
       "      <td>-147480.0</td>\n",
       "      <td>-387470.0</td>\n",
       "      <td>246.845596</td>\n",
       "      <td>613.200273</td>\n",
       "      <td>117.72</td>\n",
       "      <td>98.783255</td>\n",
       "      <td>70.450358</td>\n",
       "      <td>119.933082</td>\n",
       "      <td>-46.711667</td>\n",
       "      <td>581.936497</td>\n",
       "      <td>12.65530</td>\n",
       "      <td>-0.602091</td>\n",
       "      <td>0</td>\n",
       "    </tr>\n",
       "    <tr>\n",
       "      <th>heptanol</th>\n",
       "      <td>C7H16O</td>\n",
       "      <td>C7H16O</td>\n",
       "      <td>aq</td>\n",
       "      <td>AqOrg</td>\n",
       "      <td>GrpAdd</td>\n",
       "      <td>12/03/2021 09:51:49</td>\n",
       "      <td>J</td>\n",
       "      <td>-138380.0</td>\n",
       "      <td>-411630.0</td>\n",
       "      <td>271.711009</td>\n",
       "      <td>698.095114</td>\n",
       "      <td>133.33</td>\n",
       "      <td>111.713735</td>\n",
       "      <td>80.228368</td>\n",
       "      <td>139.740061</td>\n",
       "      <td>-53.857142</td>\n",
       "      <td>665.457379</td>\n",
       "      <td>13.23262</td>\n",
       "      <td>-0.623885</td>\n",
       "      <td>0</td>\n",
       "    </tr>\n",
       "  </tbody>\n",
       "</table>\n",
       "</div>"
      ],
      "text/plain": [
       "           abbrv formula state   ref1    ref2                 date E_units  \\\n",
       "name                                                                         \n",
       "pentanol  C5H12O  C5H12O    aq  AqOrg  GrpAdd  12/03/2021 09:51:48       J   \n",
       "hexanol   C6H14O  C6H14O    aq  AqOrg  GrpAdd  12/03/2021 09:51:48       J   \n",
       "heptanol  C7H16O  C7H16O    aq  AqOrg  GrpAdd  12/03/2021 09:51:49       J   \n",
       "\n",
       "                 G         H           S          Cp       V        a1.a  \\\n",
       "name                                                                       \n",
       "pentanol -156580.0 -363310.0  221.980182  528.305433  102.11   85.813330   \n",
       "hexanol  -147480.0 -387470.0  246.845596  613.200273  117.72   98.783255   \n",
       "heptanol -138380.0 -411630.0  271.711009  698.095114  133.33  111.713735   \n",
       "\n",
       "               a2.b        a3.c       a4.d        c1.e      c2.f  \\\n",
       "name                                                               \n",
       "pentanol  60.774463  100.419070 -39.642369  498.412926  12.07798   \n",
       "hexanol   70.450358  119.933082 -46.711667  581.936497  12.65530   \n",
       "heptanol  80.228368  139.740061 -53.857142  665.457379  13.23262   \n",
       "\n",
       "          omega.lambda  z.T  \n",
       "name                         \n",
       "pentanol     -0.580589    0  \n",
       "hexanol      -0.602091    0  \n",
       "heptanol     -0.623885    0  "
      ]
     },
     "execution_count": 15,
     "metadata": {},
     "output_type": "execute_result"
    }
   ],
   "source": [
    "import pandas as pd\n",
    "mols = [\"pentanol\", \"hexanol\", \"heptanol\"]\n",
    "OBIGT = pd.DataFrame()\n",
    "for mol in mols:\n",
    "    OBIGT = OBIGT.append(Estimate(mol, show=False).OBIGT)\n",
    "OBIGT"
   ]
  },
  {
   "cell_type": "markdown",
   "metadata": {},
   "source": [
    "### Load a custom table of group contribution values\n",
    "\n",
    "AqOrg has a built-in table of group contribution values. If you want to replace it with your own custom table, specify the filename of your CSV table in ```group_data```. In this example, custom_groups.csv is no different than the default database so you should not expect the estimated values to be any different than before."
   ]
  },
  {
   "cell_type": "code",
   "execution_count": 17,
   "metadata": {},
   "outputs": [
    {
     "data": {
      "text/html": [
       "<div>\n",
       "<style scoped>\n",
       "    .dataframe tbody tr th:only-of-type {\n",
       "        vertical-align: middle;\n",
       "    }\n",
       "\n",
       "    .dataframe tbody tr th {\n",
       "        vertical-align: top;\n",
       "    }\n",
       "\n",
       "    .dataframe thead th {\n",
       "        text-align: right;\n",
       "    }\n",
       "</style>\n",
       "<table border=\"1\" class=\"dataframe\">\n",
       "  <thead>\n",
       "    <tr style=\"text-align: right;\">\n",
       "      <th></th>\n",
       "      <th>abbrv</th>\n",
       "      <th>formula</th>\n",
       "      <th>state</th>\n",
       "      <th>ref1</th>\n",
       "      <th>ref2</th>\n",
       "      <th>date</th>\n",
       "      <th>E_units</th>\n",
       "      <th>G</th>\n",
       "      <th>H</th>\n",
       "      <th>S</th>\n",
       "      <th>Cp</th>\n",
       "      <th>V</th>\n",
       "      <th>a1.a</th>\n",
       "      <th>a2.b</th>\n",
       "      <th>a3.c</th>\n",
       "      <th>a4.d</th>\n",
       "      <th>c1.e</th>\n",
       "      <th>c2.f</th>\n",
       "      <th>omega.lambda</th>\n",
       "      <th>z.T</th>\n",
       "    </tr>\n",
       "    <tr>\n",
       "      <th>name</th>\n",
       "      <th></th>\n",
       "      <th></th>\n",
       "      <th></th>\n",
       "      <th></th>\n",
       "      <th></th>\n",
       "      <th></th>\n",
       "      <th></th>\n",
       "      <th></th>\n",
       "      <th></th>\n",
       "      <th></th>\n",
       "      <th></th>\n",
       "      <th></th>\n",
       "      <th></th>\n",
       "      <th></th>\n",
       "      <th></th>\n",
       "      <th></th>\n",
       "      <th></th>\n",
       "      <th></th>\n",
       "      <th></th>\n",
       "      <th></th>\n",
       "    </tr>\n",
       "  </thead>\n",
       "  <tbody>\n",
       "    <tr>\n",
       "      <th>pentanol</th>\n",
       "      <td>C5H12O</td>\n",
       "      <td>C5H12O</td>\n",
       "      <td>aq</td>\n",
       "      <td>AqOrg</td>\n",
       "      <td>GrpAdd</td>\n",
       "      <td>12/03/2021 09:52:55</td>\n",
       "      <td>J</td>\n",
       "      <td>-156580.0</td>\n",
       "      <td>-363310.0</td>\n",
       "      <td>221.980182</td>\n",
       "      <td>528.305433</td>\n",
       "      <td>102.11</td>\n",
       "      <td>85.81333</td>\n",
       "      <td>60.774463</td>\n",
       "      <td>100.41907</td>\n",
       "      <td>-39.642369</td>\n",
       "      <td>498.412926</td>\n",
       "      <td>12.07798</td>\n",
       "      <td>-0.580589</td>\n",
       "      <td>0</td>\n",
       "    </tr>\n",
       "  </tbody>\n",
       "</table>\n",
       "</div>"
      ],
      "text/plain": [
       "           abbrv formula state   ref1    ref2                 date E_units  \\\n",
       "name                                                                         \n",
       "pentanol  C5H12O  C5H12O    aq  AqOrg  GrpAdd  12/03/2021 09:52:55       J   \n",
       "\n",
       "                 G         H           S          Cp       V      a1.a  \\\n",
       "name                                                                     \n",
       "pentanol -156580.0 -363310.0  221.980182  528.305433  102.11  85.81333   \n",
       "\n",
       "               a2.b       a3.c       a4.d        c1.e      c2.f  omega.lambda  \\\n",
       "name                                                                            \n",
       "pentanol  60.774463  100.41907 -39.642369  498.412926  12.07798     -0.580589   \n",
       "\n",
       "          z.T  \n",
       "name           \n",
       "pentanol    0  "
      ]
     },
     "execution_count": 17,
     "metadata": {},
     "output_type": "execute_result"
    }
   ],
   "source": [
    "pentanol = Estimate(\"pentanol\", group_data=\"custom_groups.csv\", show=False)\n",
    "pentanol.OBIGT"
   ]
  },
  {
   "cell_type": "code",
   "execution_count": null,
   "metadata": {},
   "outputs": [],
   "source": []
  }
 ],
 "metadata": {
  "kernelspec": {
   "display_name": "Python 3",
   "language": "python",
   "name": "python3"
  },
  "language_info": {
   "codemirror_mode": {
    "name": "ipython",
    "version": 3
   },
   "file_extension": ".py",
   "mimetype": "text/x-python",
   "name": "python",
   "nbconvert_exporter": "python",
   "pygments_lexer": "ipython3",
   "version": "3.7.0"
  }
 },
 "nbformat": 4,
 "nbformat_minor": 4
}
