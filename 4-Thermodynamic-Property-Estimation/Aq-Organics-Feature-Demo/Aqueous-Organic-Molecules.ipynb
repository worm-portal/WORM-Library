{
 "cells": [
  {
   "cell_type": "markdown",
   "metadata": {},
   "source": [
    "<left>\n",
    "<table style=\"margin-top:0px; margin-left:0px;\">\n",
    "<tr>\n",
    "  <td><img src=\"https://raw.githubusercontent.com/worm-portal/WORM-Figures/master/style/worm.png\" alt=\"WORM\" title=\"WORM\" width=50/></td>\n",
    "  <td><h1 style=font-size:30px>Aqueous Organic Estimator (AqOrg) feature demo</h1><br />\n",
    "</tr>\n",
    "</table>\n",
    "</left>"
   ]
  },
  {
   "cell_type": "code",
   "execution_count": 1,
   "metadata": {},
   "outputs": [],
   "source": [
    "from AqOrg import Estimate"
   ]
  },
  {
   "cell_type": "markdown",
   "metadata": {},
   "source": [
    "### Single compound estimation"
   ]
  },
  {
   "cell_type": "markdown",
   "metadata": {},
   "source": [
    "You can estimate the properties of a neutral organic molecule from its name alone. AqOrg will search the online PubChem database for a match and then attempt to estimate its properties using group additivity theory. Some functional groups are not yet supported."
   ]
  },
  {
   "cell_type": "code",
   "execution_count": 2,
   "metadata": {},
   "outputs": [
    {
     "data": {
      "image/svg+xml": [
       "<svg xmlns=\"http://www.w3.org/2000/svg\" xmlns:rdkit=\"http://www.rdkit.org/xml\" xmlns:xlink=\"http://www.w3.org/1999/xlink\" version=\"1.1\" baseProfile=\"full\" xml:space=\"preserve\" width=\"450px\" height=\"150px\" viewBox=\"0 0 450 150\">\n",
       "<!-- END OF HEADER -->\n",
       "<rect style=\"opacity:1.0;fill:#FFFFFF;stroke:none\" width=\"450\" height=\"150\" x=\"0\" y=\"0\"> </rect>\n",
       "<path class=\"bond-0 atom-0 atom-1\" d=\"M 20.4545,87.0779 L 97.364,47.7362\" style=\"fill:none;fill-rule:evenodd;stroke:#000000;stroke-width:2.0px;stroke-linecap:butt;stroke-linejoin:miter;stroke-opacity:1\"/>\n",
       "<path class=\"bond-1 atom-1 atom-2\" d=\"M 97.364,47.7362 L 169.89,94.6709\" style=\"fill:none;fill-rule:evenodd;stroke:#000000;stroke-width:2.0px;stroke-linecap:butt;stroke-linejoin:miter;stroke-opacity:1\"/>\n",
       "<path class=\"bond-2 atom-2 atom-3\" d=\"M 169.89,94.6709 L 246.799,55.3291\" style=\"fill:none;fill-rule:evenodd;stroke:#000000;stroke-width:2.0px;stroke-linecap:butt;stroke-linejoin:miter;stroke-opacity:1\"/>\n",
       "<path class=\"bond-3 atom-3 atom-4\" d=\"M 246.799,55.3291 L 319.325,102.264\" style=\"fill:none;fill-rule:evenodd;stroke:#000000;stroke-width:2.0px;stroke-linecap:butt;stroke-linejoin:miter;stroke-opacity:1\"/>\n",
       "<path class=\"bond-4 atom-4 atom-5\" d=\"M 319.325,102.264 L 351.085,86.0177\" style=\"fill:none;fill-rule:evenodd;stroke:#000000;stroke-width:2.0px;stroke-linecap:butt;stroke-linejoin:miter;stroke-opacity:1\"/>\n",
       "<path class=\"bond-4 atom-4 atom-5\" d=\"M 351.085,86.0177 L 382.844,69.7716\" style=\"fill:none;fill-rule:evenodd;stroke:#FF0000;stroke-width:2.0px;stroke-linecap:butt;stroke-linejoin:miter;stroke-opacity:1\"/>\n",
       "<path class=\"atom-5\" d=\"M 385.004 62.9912 Q 385.004 57.1169, 387.907 53.8341 Q 390.809 50.5514, 396.234 50.5514 Q 401.659 50.5514, 404.562 53.8341 Q 407.465 57.1169, 407.465 62.9912 Q 407.465 68.9347, 404.528 72.3211 Q 401.59 75.6729, 396.234 75.6729 Q 390.844 75.6729, 387.907 72.3211 Q 385.004 68.9692, 385.004 62.9912 M 396.234 72.9085 Q 399.966 72.9085, 401.97 70.4206 Q 404.009 67.898, 404.009 62.9912 Q 404.009 58.1881, 401.97 55.7692 Q 399.966 53.3158, 396.234 53.3158 Q 392.502 53.3158, 390.464 55.7346 Q 388.459 58.1535, 388.459 62.9912 Q 388.459 67.9326, 390.464 70.4206 Q 392.502 72.9085, 396.234 72.9085 \" fill=\"#FF0000\"/>\n",
       "<path class=\"atom-5\" d=\"M 410.402 50.8278 L 413.719 50.8278 L 413.719 61.2289 L 426.228 61.2289 L 426.228 50.8278 L 429.545 50.8278 L 429.545 75.2928 L 426.228 75.2928 L 426.228 63.9933 L 413.719 63.9933 L 413.719 75.2928 L 410.402 75.2928 L 410.402 50.8278 \" fill=\"#FF0000\"/>\n",
       "</svg>"
      ],
      "text/plain": [
       "<IPython.core.display.SVG object>"
      ]
     },
     "metadata": {},
     "output_type": "display_data"
    }
   ],
   "source": [
    "pentanol = Estimate(\"pentanol\")"
   ]
  },
  {
   "cell_type": "markdown",
   "metadata": {},
   "source": [
    "Look up the molecule's OBIGT table of estimated values."
   ]
  },
  {
   "cell_type": "code",
   "execution_count": 3,
   "metadata": {},
   "outputs": [
    {
     "data": {
      "text/html": [
       "<div>\n",
       "<style scoped>\n",
       "    .dataframe tbody tr th:only-of-type {\n",
       "        vertical-align: middle;\n",
       "    }\n",
       "\n",
       "    .dataframe tbody tr th {\n",
       "        vertical-align: top;\n",
       "    }\n",
       "\n",
       "    .dataframe thead th {\n",
       "        text-align: right;\n",
       "    }\n",
       "</style>\n",
       "<table border=\"1\" class=\"dataframe\">\n",
       "  <thead>\n",
       "    <tr style=\"text-align: right;\">\n",
       "      <th></th>\n",
       "      <th>name</th>\n",
       "      <th>abbrv</th>\n",
       "      <th>formula</th>\n",
       "      <th>state</th>\n",
       "      <th>ref1</th>\n",
       "      <th>ref2</th>\n",
       "      <th>date</th>\n",
       "      <th>E_units</th>\n",
       "      <th>G</th>\n",
       "      <th>H</th>\n",
       "      <th>...</th>\n",
       "      <th>Cp</th>\n",
       "      <th>V</th>\n",
       "      <th>a1.a</th>\n",
       "      <th>a2.b</th>\n",
       "      <th>a3.c</th>\n",
       "      <th>a4.d</th>\n",
       "      <th>c1.e</th>\n",
       "      <th>c2.f</th>\n",
       "      <th>omega.lambda</th>\n",
       "      <th>z.T</th>\n",
       "    </tr>\n",
       "  </thead>\n",
       "  <tbody>\n",
       "    <tr>\n",
       "      <th>0</th>\n",
       "      <td>pentanol</td>\n",
       "      <td>C5H12O</td>\n",
       "      <td>C5H12O</td>\n",
       "      <td>aq</td>\n",
       "      <td>AqOrg</td>\n",
       "      <td>GrpAdd</td>\n",
       "      <td>02/11/2021 16:50:32</td>\n",
       "      <td>J</td>\n",
       "      <td>-156580.0</td>\n",
       "      <td>-363310.0</td>\n",
       "      <td>...</td>\n",
       "      <td>528.305433</td>\n",
       "      <td>102.11</td>\n",
       "      <td>85.81333</td>\n",
       "      <td>60.774463</td>\n",
       "      <td>100.41907</td>\n",
       "      <td>-39.642369</td>\n",
       "      <td>498.412926</td>\n",
       "      <td>12.07798</td>\n",
       "      <td>-0.580589</td>\n",
       "      <td>0</td>\n",
       "    </tr>\n",
       "  </tbody>\n",
       "</table>\n",
       "<p>1 rows × 21 columns</p>\n",
       "</div>"
      ],
      "text/plain": [
       "       name   abbrv formula state   ref1    ref2                 date E_units  \\\n",
       "0  pentanol  C5H12O  C5H12O    aq  AqOrg  GrpAdd  02/11/2021 16:50:32       J   \n",
       "\n",
       "          G         H  ...          Cp       V      a1.a       a2.b  \\\n",
       "0 -156580.0 -363310.0  ...  528.305433  102.11  85.81333  60.774463   \n",
       "\n",
       "        a3.c       a4.d        c1.e      c2.f  omega.lambda  z.T  \n",
       "0  100.41907 -39.642369  498.412926  12.07798     -0.580589    0  \n",
       "\n",
       "[1 rows x 21 columns]"
      ]
     },
     "execution_count": 3,
     "metadata": {},
     "output_type": "execute_result"
    }
   ],
   "source": [
    "pentanol.OBIGT"
   ]
  },
  {
   "cell_type": "markdown",
   "metadata": {},
   "source": [
    "Look up individual parameters."
   ]
  },
  {
   "cell_type": "code",
   "execution_count": 4,
   "metadata": {},
   "outputs": [
    {
     "data": {
      "text/plain": [
       "(528.3054331361576, -0.5805886985627096, -179.7, 5.6)"
      ]
     },
     "execution_count": 4,
     "metadata": {},
     "output_type": "execute_result"
    }
   ],
   "source": [
    "pentanol.Cp, pentanol.omega, pentanol.Sh, pentanol.Sh_err"
   ]
  },
  {
   "cell_type": "code",
   "execution_count": 5,
   "metadata": {},
   "outputs": [
    {
     "data": {
      "text/html": [
       "<div>\n",
       "<style scoped>\n",
       "    .dataframe tbody tr th:only-of-type {\n",
       "        vertical-align: middle;\n",
       "    }\n",
       "\n",
       "    .dataframe tbody tr th {\n",
       "        vertical-align: top;\n",
       "    }\n",
       "\n",
       "    .dataframe thead th {\n",
       "        text-align: right;\n",
       "    }\n",
       "</style>\n",
       "<table border=\"1\" class=\"dataframe\">\n",
       "  <thead>\n",
       "    <tr style=\"text-align: right;\">\n",
       "      <th></th>\n",
       "      <th>[C!H3]-[CX4H3R0]</th>\n",
       "      <th>C-[CX4H2R0]-C</th>\n",
       "      <th>O-[CX4H2]-C</th>\n",
       "      <th>C-[OX2H]</th>\n",
       "      <th>formula</th>\n",
       "    </tr>\n",
       "  </thead>\n",
       "  <tbody>\n",
       "    <tr>\n",
       "      <th>pentanol</th>\n",
       "      <td>1</td>\n",
       "      <td>3</td>\n",
       "      <td>1</td>\n",
       "      <td>1</td>\n",
       "      <td>C5H12O</td>\n",
       "    </tr>\n",
       "  </tbody>\n",
       "</table>\n",
       "</div>"
      ],
      "text/plain": [
       "          [C!H3]-[CX4H3R0]  C-[CX4H2R0]-C  O-[CX4H2]-C  C-[OX2H] formula\n",
       "pentanol                 1              3            1         1  C5H12O"
      ]
     },
     "execution_count": 5,
     "metadata": {},
     "output_type": "execute_result"
    }
   ],
   "source": [
    "pentanol.group_matches"
   ]
  },
  {
   "cell_type": "markdown",
   "metadata": {},
   "source": [
    "Specify known values for properties and parameters. See which ones can be defined with `help(AqOrg.Estimate)`. Do not show a picture of the molecule with `show=False`."
   ]
  },
  {
   "cell_type": "code",
   "execution_count": 6,
   "metadata": {},
   "outputs": [
    {
     "data": {
      "text/html": [
       "<div>\n",
       "<style scoped>\n",
       "    .dataframe tbody tr th:only-of-type {\n",
       "        vertical-align: middle;\n",
       "    }\n",
       "\n",
       "    .dataframe tbody tr th {\n",
       "        vertical-align: top;\n",
       "    }\n",
       "\n",
       "    .dataframe thead th {\n",
       "        text-align: right;\n",
       "    }\n",
       "</style>\n",
       "<table border=\"1\" class=\"dataframe\">\n",
       "  <thead>\n",
       "    <tr style=\"text-align: right;\">\n",
       "      <th></th>\n",
       "      <th>name</th>\n",
       "      <th>abbrv</th>\n",
       "      <th>formula</th>\n",
       "      <th>state</th>\n",
       "      <th>ref1</th>\n",
       "      <th>ref2</th>\n",
       "      <th>date</th>\n",
       "      <th>E_units</th>\n",
       "      <th>G</th>\n",
       "      <th>H</th>\n",
       "      <th>...</th>\n",
       "      <th>Cp</th>\n",
       "      <th>V</th>\n",
       "      <th>a1.a</th>\n",
       "      <th>a2.b</th>\n",
       "      <th>a3.c</th>\n",
       "      <th>a4.d</th>\n",
       "      <th>c1.e</th>\n",
       "      <th>c2.f</th>\n",
       "      <th>omega.lambda</th>\n",
       "      <th>z.T</th>\n",
       "    </tr>\n",
       "  </thead>\n",
       "  <tbody>\n",
       "    <tr>\n",
       "      <th>0</th>\n",
       "      <td>pentanol</td>\n",
       "      <td>C5H12O</td>\n",
       "      <td>C5H12O</td>\n",
       "      <td>aq</td>\n",
       "      <td>AqOrg</td>\n",
       "      <td>GrpAdd</td>\n",
       "      <td>02/11/2021 16:50:33</td>\n",
       "      <td>J</td>\n",
       "      <td>-156710.0</td>\n",
       "      <td>-359110.0</td>\n",
       "      <td>...</td>\n",
       "      <td>535.0</td>\n",
       "      <td>102.11</td>\n",
       "      <td>85.837993</td>\n",
       "      <td>60.710613</td>\n",
       "      <td>100.361467</td>\n",
       "      <td>-39.623208</td>\n",
       "      <td>505.369346</td>\n",
       "      <td>11.96761</td>\n",
       "      <td>-0.576511</td>\n",
       "      <td>0</td>\n",
       "    </tr>\n",
       "  </tbody>\n",
       "</table>\n",
       "<p>1 rows × 21 columns</p>\n",
       "</div>"
      ],
      "text/plain": [
       "       name   abbrv formula state   ref1    ref2                 date E_units  \\\n",
       "0  pentanol  C5H12O  C5H12O    aq  AqOrg  GrpAdd  02/11/2021 16:50:33       J   \n",
       "\n",
       "          G         H  ...     Cp       V       a1.a       a2.b        a3.c  \\\n",
       "0 -156710.0 -359110.0  ...  535.0  102.11  85.837993  60.710613  100.361467   \n",
       "\n",
       "        a4.d        c1.e      c2.f  omega.lambda  z.T  \n",
       "0 -39.623208  505.369346  11.96761     -0.576511    0  \n",
       "\n",
       "[1 rows x 21 columns]"
      ]
     },
     "execution_count": 6,
     "metadata": {},
     "output_type": "execute_result"
    }
   ],
   "source": [
    "pentanol = Estimate(\"pentanol\", Gh=-11.11, Hig=-294.56, Cpaq=535, show=False)\n",
    "pentanol.OBIGT"
   ]
  },
  {
   "cell_type": "markdown",
   "metadata": {},
   "source": [
    "Perform simple group matching with `test=True`."
   ]
  },
  {
   "cell_type": "code",
   "execution_count": 7,
   "metadata": {},
   "outputs": [
    {
     "name": "stdout",
     "output_type": "stream",
     "text": [
      "{'[C!H3]-[CX4H3R0]': 1, 'C-[CX4H2R0]-C': 3, 'O-[CX4H2]-C': 1, 'C-[OX2H]': 1, 'formula': 'C5H12O'}\n"
     ]
    },
    {
     "data": {
      "text/plain": [
       "<AqOrg.AqOrg.Estimate at 0x7f80cd372b80>"
      ]
     },
     "execution_count": 7,
     "metadata": {},
     "output_type": "execute_result"
    }
   ],
   "source": [
    "Estimate(\"pentanol\", test=True, show=False)"
   ]
  },
  {
   "cell_type": "markdown",
   "metadata": {},
   "source": [
    "### Multi-compound estimation"
   ]
  },
  {
   "cell_type": "code",
   "execution_count": 8,
   "metadata": {},
   "outputs": [
    {
     "data": {
      "text/html": [
       "<div>\n",
       "<style scoped>\n",
       "    .dataframe tbody tr th:only-of-type {\n",
       "        vertical-align: middle;\n",
       "    }\n",
       "\n",
       "    .dataframe tbody tr th {\n",
       "        vertical-align: top;\n",
       "    }\n",
       "\n",
       "    .dataframe thead th {\n",
       "        text-align: right;\n",
       "    }\n",
       "</style>\n",
       "<table border=\"1\" class=\"dataframe\">\n",
       "  <thead>\n",
       "    <tr style=\"text-align: right;\">\n",
       "      <th></th>\n",
       "      <th>name</th>\n",
       "      <th>abbrv</th>\n",
       "      <th>formula</th>\n",
       "      <th>state</th>\n",
       "      <th>ref1</th>\n",
       "      <th>ref2</th>\n",
       "      <th>date</th>\n",
       "      <th>E_units</th>\n",
       "      <th>G</th>\n",
       "      <th>H</th>\n",
       "      <th>...</th>\n",
       "      <th>Cp</th>\n",
       "      <th>V</th>\n",
       "      <th>a1.a</th>\n",
       "      <th>a2.b</th>\n",
       "      <th>a3.c</th>\n",
       "      <th>a4.d</th>\n",
       "      <th>c1.e</th>\n",
       "      <th>c2.f</th>\n",
       "      <th>omega.lambda</th>\n",
       "      <th>z.T</th>\n",
       "    </tr>\n",
       "  </thead>\n",
       "  <tbody>\n",
       "    <tr>\n",
       "      <th>0</th>\n",
       "      <td>pentanol</td>\n",
       "      <td>C5H12O</td>\n",
       "      <td>C5H12O</td>\n",
       "      <td>aq</td>\n",
       "      <td>AqOrg</td>\n",
       "      <td>GrpAdd</td>\n",
       "      <td>02/11/2021 16:50:34</td>\n",
       "      <td>J</td>\n",
       "      <td>-156580.0</td>\n",
       "      <td>-363310.0</td>\n",
       "      <td>...</td>\n",
       "      <td>528.305433</td>\n",
       "      <td>102.11</td>\n",
       "      <td>85.813330</td>\n",
       "      <td>60.774463</td>\n",
       "      <td>100.419070</td>\n",
       "      <td>-39.642369</td>\n",
       "      <td>498.412926</td>\n",
       "      <td>12.07798</td>\n",
       "      <td>-0.580589</td>\n",
       "      <td>0</td>\n",
       "    </tr>\n",
       "    <tr>\n",
       "      <th>0</th>\n",
       "      <td>hexanol</td>\n",
       "      <td>C6H14O</td>\n",
       "      <td>C6H14O</td>\n",
       "      <td>aq</td>\n",
       "      <td>AqOrg</td>\n",
       "      <td>GrpAdd</td>\n",
       "      <td>02/11/2021 16:50:35</td>\n",
       "      <td>J</td>\n",
       "      <td>-147480.0</td>\n",
       "      <td>-387470.0</td>\n",
       "      <td>...</td>\n",
       "      <td>613.200273</td>\n",
       "      <td>117.72</td>\n",
       "      <td>98.783255</td>\n",
       "      <td>70.450358</td>\n",
       "      <td>119.933082</td>\n",
       "      <td>-46.711667</td>\n",
       "      <td>581.936497</td>\n",
       "      <td>12.65530</td>\n",
       "      <td>-0.602091</td>\n",
       "      <td>0</td>\n",
       "    </tr>\n",
       "    <tr>\n",
       "      <th>0</th>\n",
       "      <td>heptanol</td>\n",
       "      <td>C7H16O</td>\n",
       "      <td>C7H16O</td>\n",
       "      <td>aq</td>\n",
       "      <td>AqOrg</td>\n",
       "      <td>GrpAdd</td>\n",
       "      <td>02/11/2021 16:50:35</td>\n",
       "      <td>J</td>\n",
       "      <td>-138380.0</td>\n",
       "      <td>-411630.0</td>\n",
       "      <td>...</td>\n",
       "      <td>698.095114</td>\n",
       "      <td>133.33</td>\n",
       "      <td>111.713735</td>\n",
       "      <td>80.228368</td>\n",
       "      <td>139.740061</td>\n",
       "      <td>-53.857142</td>\n",
       "      <td>665.457379</td>\n",
       "      <td>13.23262</td>\n",
       "      <td>-0.623885</td>\n",
       "      <td>0</td>\n",
       "    </tr>\n",
       "  </tbody>\n",
       "</table>\n",
       "<p>3 rows × 21 columns</p>\n",
       "</div>"
      ],
      "text/plain": [
       "       name   abbrv formula state   ref1    ref2                 date E_units  \\\n",
       "0  pentanol  C5H12O  C5H12O    aq  AqOrg  GrpAdd  02/11/2021 16:50:34       J   \n",
       "0   hexanol  C6H14O  C6H14O    aq  AqOrg  GrpAdd  02/11/2021 16:50:35       J   \n",
       "0  heptanol  C7H16O  C7H16O    aq  AqOrg  GrpAdd  02/11/2021 16:50:35       J   \n",
       "\n",
       "          G         H  ...          Cp       V        a1.a       a2.b  \\\n",
       "0 -156580.0 -363310.0  ...  528.305433  102.11   85.813330  60.774463   \n",
       "0 -147480.0 -387470.0  ...  613.200273  117.72   98.783255  70.450358   \n",
       "0 -138380.0 -411630.0  ...  698.095114  133.33  111.713735  80.228368   \n",
       "\n",
       "         a3.c       a4.d        c1.e      c2.f  omega.lambda  z.T  \n",
       "0  100.419070 -39.642369  498.412926  12.07798     -0.580589    0  \n",
       "0  119.933082 -46.711667  581.936497  12.65530     -0.602091    0  \n",
       "0  139.740061 -53.857142  665.457379  13.23262     -0.623885    0  \n",
       "\n",
       "[3 rows x 21 columns]"
      ]
     },
     "execution_count": 8,
     "metadata": {},
     "output_type": "execute_result"
    }
   ],
   "source": [
    "import pandas as pd\n",
    "mols = [\"pentanol\", \"hexanol\", \"heptanol\"]\n",
    "OBIGT = pd.DataFrame()\n",
    "for mol in mols:\n",
    "    OBIGT = pd.concat([OBIGT, Estimate(mol, show=False).OBIGT], ignore_index=True)\n",
    "OBIGT"
   ]
  },
  {
   "cell_type": "markdown",
   "metadata": {},
   "source": [
    "### Load a custom table of group contribution values\n",
    "\n",
    "AqOrg has a built-in table of group contribution values. If you want to replace it with your own custom table, specify the filename of your CSV table in ```group_data```. In this example, custom_groups.csv is no different than the default database so you should not expect the estimated values to be any different than before."
   ]
  },
  {
   "cell_type": "code",
   "execution_count": 9,
   "metadata": {},
   "outputs": [
    {
     "data": {
      "text/html": [
       "<div>\n",
       "<style scoped>\n",
       "    .dataframe tbody tr th:only-of-type {\n",
       "        vertical-align: middle;\n",
       "    }\n",
       "\n",
       "    .dataframe tbody tr th {\n",
       "        vertical-align: top;\n",
       "    }\n",
       "\n",
       "    .dataframe thead th {\n",
       "        text-align: right;\n",
       "    }\n",
       "</style>\n",
       "<table border=\"1\" class=\"dataframe\">\n",
       "  <thead>\n",
       "    <tr style=\"text-align: right;\">\n",
       "      <th></th>\n",
       "      <th>name</th>\n",
       "      <th>abbrv</th>\n",
       "      <th>formula</th>\n",
       "      <th>state</th>\n",
       "      <th>ref1</th>\n",
       "      <th>ref2</th>\n",
       "      <th>date</th>\n",
       "      <th>E_units</th>\n",
       "      <th>G</th>\n",
       "      <th>H</th>\n",
       "      <th>...</th>\n",
       "      <th>Cp</th>\n",
       "      <th>V</th>\n",
       "      <th>a1.a</th>\n",
       "      <th>a2.b</th>\n",
       "      <th>a3.c</th>\n",
       "      <th>a4.d</th>\n",
       "      <th>c1.e</th>\n",
       "      <th>c2.f</th>\n",
       "      <th>omega.lambda</th>\n",
       "      <th>z.T</th>\n",
       "    </tr>\n",
       "  </thead>\n",
       "  <tbody>\n",
       "    <tr>\n",
       "      <th>0</th>\n",
       "      <td>pentanol</td>\n",
       "      <td>C5H12O</td>\n",
       "      <td>C5H12O</td>\n",
       "      <td>aq</td>\n",
       "      <td>AqOrg</td>\n",
       "      <td>GrpAdd</td>\n",
       "      <td>02/11/2021 16:50:36</td>\n",
       "      <td>J</td>\n",
       "      <td>-156580.0</td>\n",
       "      <td>-363310.0</td>\n",
       "      <td>...</td>\n",
       "      <td>528.305433</td>\n",
       "      <td>102.11</td>\n",
       "      <td>85.81333</td>\n",
       "      <td>60.774463</td>\n",
       "      <td>100.41907</td>\n",
       "      <td>-39.642369</td>\n",
       "      <td>498.412926</td>\n",
       "      <td>12.07798</td>\n",
       "      <td>-0.580589</td>\n",
       "      <td>0</td>\n",
       "    </tr>\n",
       "  </tbody>\n",
       "</table>\n",
       "<p>1 rows × 21 columns</p>\n",
       "</div>"
      ],
      "text/plain": [
       "       name   abbrv formula state   ref1    ref2                 date E_units  \\\n",
       "0  pentanol  C5H12O  C5H12O    aq  AqOrg  GrpAdd  02/11/2021 16:50:36       J   \n",
       "\n",
       "          G         H  ...          Cp       V      a1.a       a2.b  \\\n",
       "0 -156580.0 -363310.0  ...  528.305433  102.11  85.81333  60.774463   \n",
       "\n",
       "        a3.c       a4.d        c1.e      c2.f  omega.lambda  z.T  \n",
       "0  100.41907 -39.642369  498.412926  12.07798     -0.580589    0  \n",
       "\n",
       "[1 rows x 21 columns]"
      ]
     },
     "execution_count": 9,
     "metadata": {},
     "output_type": "execute_result"
    }
   ],
   "source": [
    "pentanol = Estimate(\"pentanol\", group_data=\"custom_groups.csv\", show=False)\n",
    "pentanol.OBIGT"
   ]
  },
  {
   "cell_type": "code",
   "execution_count": null,
   "metadata": {},
   "outputs": [],
   "source": []
  }
 ],
 "metadata": {
  "kernelspec": {
   "display_name": "Python 3",
   "language": "python",
   "name": "python3"
  },
  "language_info": {
   "codemirror_mode": {
    "name": "ipython",
    "version": 3
   },
   "file_extension": ".py",
   "mimetype": "text/x-python",
   "name": "python",
   "nbconvert_exporter": "python",
   "pygments_lexer": "ipython3",
   "version": "3.8.0"
  }
 },
 "nbformat": 4,
 "nbformat_minor": 4
}
