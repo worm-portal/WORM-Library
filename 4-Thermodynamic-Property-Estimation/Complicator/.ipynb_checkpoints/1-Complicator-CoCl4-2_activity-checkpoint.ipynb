{
 "cells": [
  {
   "cell_type": "markdown",
   "id": "ab2bcf6f-76e4-4fe9-a92d-ccf8a52a9005",
   "metadata": {},
   "source": [
    "<left>\n",
    "<table style=\"margin-top:0px; margin-left:0px;\">\n",
    "<tr>\n",
    "  <td><img src=\"https://raw.githubusercontent.com/worm-portal/WORM-Figures/master/style/worm.png\" alt=\"WORM\" title=\"WORM\" width=50/></td>\n",
    "  <td><h1 style=font-size:30px>Complicator Activity Time!</h1><h2>Can you fit experimental data for the association of CoCl<sub>4</sub><sup>2-</sup>?</h2></td>\n",
    "</tr>\n",
    "</table>\n",
    "</left>\n",
    "\n",
    "### Background\n",
    "\n",
    "Cobalt cations ($Co^{2+}$) and chloride anions ($Cl^{-}$) have been shown to form aqueous complexes in hydrothermal solutions. The overall reaction for the fourth association of the cobalt chloride complex can be represented as:\n",
    "\n",
    "$$Co^{2+} + 4Cl^- = CoCl_4^{2-}$$\n",
    "\n",
    "If we want to include $CoCl_4^{2-}$ in our geochemical models, we need partial molal standard state thermodynamic properties for the complex under reference conditions (298.15 K and 1 bar). These properties include:\n",
    "\n",
    "- **∆<sub>f</sub>G°**, cal mol<sup>-1</sup>, Gibbs free energy of formation\n",
    "- **∆<sub>f</sub>H°**, cal mol<sup>-1</sup>, enthalpy of formation\n",
    "- **S°**, cal mol<sup>-1</sup>K<sup>-1</sup>, third law entropy\n",
    "- **Cp°**, cal mol<sup>-1</sup>K<sup>-1</sup>, isobaric heat capacity\n",
    "- **V°**, cm<sup>3</sup> mol<sup>-1</sup>, volume\n",
    "\n",
    "The properties of solutes change depending on the temperature and pressure of the system. An equation of state, like the Helgeson-Kirkham-Flowers (HKF) equation, lets us estimate how these properties change with temperature (up to 1000 °C) and pressure (up to 5kb). The HKF equation requires seven parameters that describe a solute:\n",
    "\n",
    "- **a<sub>1</sub>** × 10, cal mol<sup>-1</sup> bar<sup>-1</sup>\n",
    "- **a<sub>2</sub>** × 10<sup>-2</sup>, cal mol<sup>-1</sup>\n",
    "- **a<sub>3</sub>**, cal K mol<sup>-1</sup> bar<sup>-1</sup>\n",
    "- **a<sub>4</sub>** × 10<sup>-4</sup>, cal K mol<sup>-1</sup>\n",
    "- **c<sub>1</sub>**, cal mol<sup>-1</sup>\n",
    "- **c<sub>2</sub>** × 10<sup>-4</sup>, cal K mol<sup>-1</sup>\n",
    "- **ω°** × 10<sup>-5</sup>, cal K mol<sup>-1</sup>, the Born solvation coefficient. (In the literature, ω is frequently referred to as a thermodynamic property, an HKF parameter, or both.)\n",
    "\n",
    "As you can see, some of the parameters are multiplied by one or more orders of magnitude. This is a convention that was adopted to make it easier to report these parameters in published tables.\n",
    "\n",
    "These HKF parameters can be derived by fitting experimental data for thermodynamic properties of aqueous species at elevated temperatures and pressures. However, these kinds of measurements are unavailable for most solutes, so methods were developed to estimate HKF parameters. For aqueous complexes, all seven HKF parameters can be estimated from thermodynamic properties.\n",
    "\n",
    "These methods are built into the WORM Complicator. Explore how the HKF parameters change when you toggle the thermodynamic properties in this activity:\n",
    "\n",
    "- Which properties affect the estimation of a<sub>1</sub> through a<sub>4</sub>? Which property affects them the most?\n",
    "- How about c<sub>1</sub> and c<sub>2</sub>?\n",
    "- What about ω?\n",
    "\n",
    "### Instructions\n",
    "\n",
    "Run the cell below to initiate the widgets. Select an initial set of parameters and hit the 'Calculate' button to generate an interactive figure. Temperature is along the x-axis. The y-axis indicates logβ<sub>4</sub>, the equilibrium constant for the fourth association of the cobalt chloride complex (see the reaction above).\n",
    "\n",
    "The points indicate experimentally measured observations along the liquid vapor saturation curve, (Psat, blue points) and at 600 bars (orange points). Adjust the widgets and recalculate until you have a set of properties and HKF parameters for $CoCl_4^{2-}$ that fit the experimental data.\n",
    "\n",
    "In other words, try to get the blue curve through the blue points, and the orange curve through the orange points!\n",
    "\n",
    "### Data Sources\n",
    "- Pan, P., & Susak, N. J. (1989). Co (II)-chloride and-bromide complexes in aqueous solutions up to 5 m NaX and 90 C: Spectrophotometric study and geological implications. *Geochimica et Cosmochimica Acta*, 53(2), 327-341. [DOI: https://doi.org/10.1016/0016-7037(89)90385-2](https://doi.org/10.1016/0016-7037(89)90385-2)\n",
    "- Liu, W., Borg, S. J., Testemale, D., Etschmann, B., Hazemann, J. L., & Brugger, J. (2011). Speciation and thermodynamic properties for cobalt chloride complexes in hydrothermal fluids at 35–440 C and 600 bar: an in-situ XAS study. *Geochimica et Cosmochimica Acta*, 75(5), 1227-1248. [DOI: https://doi.org/10.1016/j.gca.2010.12.002](https://doi.org/10.1016/j.gca.2010.12.002)"
   ]
  },
  {
   "cell_type": "code",
   "execution_count": null,
   "id": "2748ddf5-e713-41c5-8f0f-a7f6104f16f0",
   "metadata": {},
   "outputs": [],
   "source": [
    "from WORM_Complicator_activity import CoCl4_2_activity"
   ]
  }
 ],
 "metadata": {
  "kernelspec": {
   "display_name": "Python 3",
   "language": "python",
   "name": "python3"
  },
  "language_info": {
   "codemirror_mode": {
    "name": "ipython",
    "version": 3
   },
   "file_extension": ".py",
   "mimetype": "text/x-python",
   "name": "python",
   "nbconvert_exporter": "python",
   "pygments_lexer": "ipython3",
   "version": "3.12.11"
  }
 },
 "nbformat": 4,
 "nbformat_minor": 5
}
