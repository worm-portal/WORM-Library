{
 "cells": [
  {
   "cell_type": "markdown",
   "metadata": {
    "colab_type": "text",
    "id": "nqIxHuDUZtoy"
   },
   "source": [
    "## Calculating and Plotting Reaction Properties"
   ]
  },
  {
   "cell_type": "markdown",
   "metadata": {
    "colab_type": "text",
    "id": "2KugmmlVZtoz"
   },
   "source": [
    "### Getting ready\n",
    "\n",
    "Functions from the pyCHNOSZ and matplotlib packages are used in this demo. Import them with:"
   ]
  },
  {
   "cell_type": "code",
   "execution_count": 1,
   "metadata": {
    "colab": {},
    "colab_type": "code",
    "id": "bC6QRhPyZto3"
   },
   "outputs": [],
   "source": [
    "from pyCHNOSZ import *\n",
    "import matplotlib.pyplot as plt"
   ]
  },
  {
   "cell_type": "markdown",
   "metadata": {
    "colab_type": "text",
    "id": "B-3b8CeOZto6"
   },
   "source": [
    "Use info(\"name\") to search for the index number of a chemical species in the thermodynamic database, [OBIGT](https://chnosz.net/vignettes/OBIGT.html)."
   ]
  },
  {
   "cell_type": "code",
   "execution_count": 2,
   "metadata": {
    "colab": {},
    "colab_type": "code",
    "id": "-KK3cj52Zto7"
   },
   "outputs": [
    {
     "name": "stdout",
     "output_type": "stream",
     "text": [
      "info.approx: 'Pyri' is ambiguous; has approximate matches to 14 species:\n",
      "\n",
      " [1] \"a-aminobutyric acid\" \"deoxyribose\"         \"chalcopyrite\"       \n",
      " [4] \"chalcopyrite\"        \"chalcopyrite\"        \"chlorargyrite\"      \n",
      " [7] \"pyrite\"              \"arsenopyrite\"        \"deoxyribose\"        \n",
      "[10] \"pyridine\"            \"pyridine\"            \"3-methylpyridine\"   \n",
      "[13] \"pyridine\"            \"3-methylpyridine\"   \n",
      "\n"
     ]
    },
    {
     "data": {
      "text/plain": [
       "[NA]"
      ]
     },
     "execution_count": 2,
     "metadata": {},
     "output_type": "execute_result"
    }
   ],
   "source": [
    "info(\"Pyri\")  # a partial name might result in approximate matches to try"
   ]
  },
  {
   "cell_type": "code",
   "execution_count": 3,
   "metadata": {
    "colab": {},
    "colab_type": "code",
    "id": "XJ1Bf0HMZto-"
   },
   "outputs": [
    {
     "data": {
      "text/plain": [
       "[1929]"
      ]
     },
     "execution_count": 3,
     "metadata": {},
     "output_type": "execute_result"
    }
   ],
   "source": [
    "info(\"pyrite\") # case sensitive!"
   ]
  },
  {
   "cell_type": "markdown",
   "metadata": {
    "colab_type": "text",
    "id": "jXMg12kJZtpB"
   },
   "source": [
    "Use info(index) to get the entry itself."
   ]
  },
  {
   "cell_type": "code",
   "execution_count": 4,
   "metadata": {
    "colab": {},
    "colab_type": "code",
    "id": "R1pIO3ubZtpB"
   },
   "outputs": [
    {
     "name": "stdout",
     "output_type": "stream",
     "text": [
      "info.numeric: Cp of pyrite(cr) is NA; set by EOS parameters to 14.84 cal K-1 mol-1\n",
      "\n"
     ]
    },
    {
     "data": {
      "text/html": [
       "<div>\n",
       "<style scoped>\n",
       "    .dataframe tbody tr th:only-of-type {\n",
       "        vertical-align: middle;\n",
       "    }\n",
       "\n",
       "    .dataframe tbody tr th {\n",
       "        vertical-align: top;\n",
       "    }\n",
       "\n",
       "    .dataframe thead th {\n",
       "        text-align: right;\n",
       "    }\n",
       "</style>\n",
       "<table border=\"1\" class=\"dataframe\">\n",
       "  <thead>\n",
       "    <tr style=\"text-align: right;\">\n",
       "      <th></th>\n",
       "      <th>name</th>\n",
       "      <th>abbrv</th>\n",
       "      <th>formula</th>\n",
       "      <th>state</th>\n",
       "      <th>ref1</th>\n",
       "      <th>ref2</th>\n",
       "      <th>date</th>\n",
       "      <th>E_units</th>\n",
       "      <th>G</th>\n",
       "      <th>H</th>\n",
       "      <th>...</th>\n",
       "      <th>Cp</th>\n",
       "      <th>V</th>\n",
       "      <th>a</th>\n",
       "      <th>b</th>\n",
       "      <th>c</th>\n",
       "      <th>d</th>\n",
       "      <th>e</th>\n",
       "      <th>f</th>\n",
       "      <th>lambda</th>\n",
       "      <th>T</th>\n",
       "    </tr>\n",
       "  </thead>\n",
       "  <tbody>\n",
       "    <tr>\n",
       "      <th>1929</th>\n",
       "      <td>pyrite</td>\n",
       "      <td>Py</td>\n",
       "      <td>FeS2</td>\n",
       "      <td>cr</td>\n",
       "      <td>HDNB78</td>\n",
       "      <td>N</td>\n",
       "      <td>1978-05-05</td>\n",
       "      <td>cal</td>\n",
       "      <td>-38293.0</td>\n",
       "      <td>-41000.0</td>\n",
       "      <td>...</td>\n",
       "      <td>14.842483</td>\n",
       "      <td>23.94</td>\n",
       "      <td>17.88</td>\n",
       "      <td>0.00132</td>\n",
       "      <td>-305000.0</td>\n",
       "      <td>0.0</td>\n",
       "      <td>0.0</td>\n",
       "      <td>0.0</td>\n",
       "      <td>0.0</td>\n",
       "      <td>1000.0</td>\n",
       "    </tr>\n",
       "  </tbody>\n",
       "</table>\n",
       "<p>1 rows × 21 columns</p>\n",
       "</div>"
      ],
      "text/plain": [
       "        name abbrv formula state    ref1 ref2        date E_units        G  \\\n",
       "1929  pyrite    Py    FeS2    cr  HDNB78    N  1978-05-05     cal -38293.0   \n",
       "\n",
       "            H  ...         Cp      V      a        b         c    d    e    f  \\\n",
       "1929 -41000.0  ...  14.842483  23.94  17.88  0.00132 -305000.0  0.0  0.0  0.0   \n",
       "\n",
       "      lambda       T  \n",
       "1929     0.0  1000.0  \n",
       "\n",
       "[1 rows x 21 columns]"
      ]
     },
     "execution_count": 4,
     "metadata": {},
     "output_type": "execute_result"
    }
   ],
   "source": [
    "info(1929)"
   ]
  },
  {
   "cell_type": "markdown",
   "metadata": {
    "colab_type": "text",
    "id": "mbYn_p_CZtpE"
   },
   "source": [
    "What do these columns mean? What units are entries in? We can use `help(thermo)` for documentation."
   ]
  },
  {
   "cell_type": "code",
   "execution_count": 5,
   "metadata": {
    "colab": {},
    "colab_type": "code",
    "id": "AfpiiFASZtpE"
   },
   "outputs": [],
   "source": [
    "#help(thermo)"
   ]
  },
  {
   "cell_type": "markdown",
   "metadata": {
    "colab_type": "text",
    "id": "yFrMmoF2ZtpH"
   },
   "source": [
    "You can nest two info()s to look up a chemical species directly from its name."
   ]
  },
  {
   "cell_type": "code",
   "execution_count": 6,
   "metadata": {
    "colab": {},
    "colab_type": "code",
    "id": "wafZG4dAZtpH"
   },
   "outputs": [
    {
     "name": "stdout",
     "output_type": "stream",
     "text": [
      "info.numeric: Cp of pyrite(cr) is NA; set by EOS parameters to 14.84 cal K-1 mol-1\n",
      "\n"
     ]
    },
    {
     "data": {
      "text/html": [
       "<div>\n",
       "<style scoped>\n",
       "    .dataframe tbody tr th:only-of-type {\n",
       "        vertical-align: middle;\n",
       "    }\n",
       "\n",
       "    .dataframe tbody tr th {\n",
       "        vertical-align: top;\n",
       "    }\n",
       "\n",
       "    .dataframe thead th {\n",
       "        text-align: right;\n",
       "    }\n",
       "</style>\n",
       "<table border=\"1\" class=\"dataframe\">\n",
       "  <thead>\n",
       "    <tr style=\"text-align: right;\">\n",
       "      <th></th>\n",
       "      <th>name</th>\n",
       "      <th>abbrv</th>\n",
       "      <th>formula</th>\n",
       "      <th>state</th>\n",
       "      <th>ref1</th>\n",
       "      <th>ref2</th>\n",
       "      <th>date</th>\n",
       "      <th>E_units</th>\n",
       "      <th>G</th>\n",
       "      <th>H</th>\n",
       "      <th>...</th>\n",
       "      <th>Cp</th>\n",
       "      <th>V</th>\n",
       "      <th>a</th>\n",
       "      <th>b</th>\n",
       "      <th>c</th>\n",
       "      <th>d</th>\n",
       "      <th>e</th>\n",
       "      <th>f</th>\n",
       "      <th>lambda</th>\n",
       "      <th>T</th>\n",
       "    </tr>\n",
       "  </thead>\n",
       "  <tbody>\n",
       "    <tr>\n",
       "      <th>1929</th>\n",
       "      <td>pyrite</td>\n",
       "      <td>Py</td>\n",
       "      <td>FeS2</td>\n",
       "      <td>cr</td>\n",
       "      <td>HDNB78</td>\n",
       "      <td>N</td>\n",
       "      <td>1978-05-05</td>\n",
       "      <td>cal</td>\n",
       "      <td>-38293.0</td>\n",
       "      <td>-41000.0</td>\n",
       "      <td>...</td>\n",
       "      <td>14.842483</td>\n",
       "      <td>23.94</td>\n",
       "      <td>17.88</td>\n",
       "      <td>0.00132</td>\n",
       "      <td>-305000.0</td>\n",
       "      <td>0.0</td>\n",
       "      <td>0.0</td>\n",
       "      <td>0.0</td>\n",
       "      <td>0.0</td>\n",
       "      <td>1000.0</td>\n",
       "    </tr>\n",
       "  </tbody>\n",
       "</table>\n",
       "<p>1 rows × 21 columns</p>\n",
       "</div>"
      ],
      "text/plain": [
       "        name abbrv formula state    ref1 ref2        date E_units        G  \\\n",
       "1929  pyrite    Py    FeS2    cr  HDNB78    N  1978-05-05     cal -38293.0   \n",
       "\n",
       "            H  ...         Cp      V      a        b         c    d    e    f  \\\n",
       "1929 -41000.0  ...  14.842483  23.94  17.88  0.00132 -305000.0  0.0  0.0  0.0   \n",
       "\n",
       "      lambda       T  \n",
       "1929     0.0  1000.0  \n",
       "\n",
       "[1 rows x 21 columns]"
      ]
     },
     "execution_count": 6,
     "metadata": {},
     "output_type": "execute_result"
    }
   ],
   "source": [
    "info(info(\"pyrite\"))"
   ]
  },
  {
   "cell_type": "markdown",
   "metadata": {
    "colab_type": "text",
    "id": "5o31bmUUZtpJ"
   },
   "source": [
    "### Calculate standard state reaction properties\n",
    "\n",
    "Let's calculate reaction properties for the Knallgas reaction:\n",
    "\n",
    "$$H_{2(aq)} + \\frac{1}{2}O_{2(aq)} = H_{2}O_{}$$\n",
    "\n",
    "We can use pyCHNOSZ's subcrt() function for this."
   ]
  },
  {
   "cell_type": "code",
   "execution_count": 7,
   "metadata": {
    "colab": {},
    "colab_type": "code",
    "id": "AOpH_pAkZtpK"
   },
   "outputs": [
    {
     "name": "stdout",
     "output_type": "stream",
     "text": [
      "info.character: found H2(aq); other available state is gas\n",
      "\n",
      "info.character: found O2(aq); other available state is gas\n",
      "\n",
      "info.character: found H2O(liq); other available state is cr\n",
      "\n",
      "subcrt: 3 species at 15 values of T (ºC) and P (bar) (wet) [energy units: cal]\n",
      "\n"
     ]
    },
    {
     "data": {
      "text/html": [
       "<div>\n",
       "<style scoped>\n",
       "    .dataframe tbody tr th:only-of-type {\n",
       "        vertical-align: middle;\n",
       "    }\n",
       "\n",
       "    .dataframe tbody tr th {\n",
       "        vertical-align: top;\n",
       "    }\n",
       "\n",
       "    .dataframe thead th {\n",
       "        text-align: right;\n",
       "    }\n",
       "</style>\n",
       "<table border=\"1\" class=\"dataframe\">\n",
       "  <thead>\n",
       "    <tr style=\"text-align: right;\">\n",
       "      <th></th>\n",
       "      <th>coeff</th>\n",
       "      <th>name</th>\n",
       "      <th>formula</th>\n",
       "      <th>state</th>\n",
       "      <th>ispecies</th>\n",
       "    </tr>\n",
       "  </thead>\n",
       "  <tbody>\n",
       "    <tr>\n",
       "      <th>62</th>\n",
       "      <td>-1.0</td>\n",
       "      <td>H2</td>\n",
       "      <td>H2</td>\n",
       "      <td>aq</td>\n",
       "      <td>62.0</td>\n",
       "    </tr>\n",
       "    <tr>\n",
       "      <th>63</th>\n",
       "      <td>-0.5</td>\n",
       "      <td>O2</td>\n",
       "      <td>O2</td>\n",
       "      <td>aq</td>\n",
       "      <td>63.0</td>\n",
       "    </tr>\n",
       "    <tr>\n",
       "      <th>1</th>\n",
       "      <td>1.0</td>\n",
       "      <td>water</td>\n",
       "      <td>H2O</td>\n",
       "      <td>liq</td>\n",
       "      <td>1.0</td>\n",
       "    </tr>\n",
       "  </tbody>\n",
       "</table>\n",
       "</div>"
      ],
      "text/plain": [
       "    coeff   name formula state  ispecies\n",
       "62   -1.0     H2      H2    aq      62.0\n",
       "63   -0.5     O2      O2    aq      63.0\n",
       "1     1.0  water     H2O   liq       1.0"
      ]
     },
     "metadata": {},
     "output_type": "display_data"
    },
    {
     "data": {
      "text/html": [
       "<div>\n",
       "<style scoped>\n",
       "    .dataframe tbody tr th:only-of-type {\n",
       "        vertical-align: middle;\n",
       "    }\n",
       "\n",
       "    .dataframe tbody tr th {\n",
       "        vertical-align: top;\n",
       "    }\n",
       "\n",
       "    .dataframe thead th {\n",
       "        text-align: right;\n",
       "    }\n",
       "</style>\n",
       "<table border=\"1\" class=\"dataframe\">\n",
       "  <thead>\n",
       "    <tr style=\"text-align: right;\">\n",
       "      <th></th>\n",
       "      <th>T</th>\n",
       "      <th>P</th>\n",
       "      <th>rho</th>\n",
       "      <th>logK</th>\n",
       "      <th>G</th>\n",
       "      <th>H</th>\n",
       "      <th>S</th>\n",
       "      <th>V</th>\n",
       "      <th>Cp</th>\n",
       "    </tr>\n",
       "  </thead>\n",
       "  <tbody>\n",
       "    <tr>\n",
       "      <th>1</th>\n",
       "      <td>0.01</td>\n",
       "      <td>1.000000</td>\n",
       "      <td>0.999829</td>\n",
       "      <td>50.478389</td>\n",
       "      <td>-63092.808322</td>\n",
       "      <td>-64359.212668</td>\n",
       "      <td>-4.810284</td>\n",
       "      <td>-18.557592</td>\n",
       "      <td>-76.703793</td>\n",
       "    </tr>\n",
       "    <tr>\n",
       "      <th>2</th>\n",
       "      <td>25.00</td>\n",
       "      <td>1.000000</td>\n",
       "      <td>0.997061</td>\n",
       "      <td>46.106640</td>\n",
       "      <td>-62900.711481</td>\n",
       "      <td>-65866.755330</td>\n",
       "      <td>-10.107720</td>\n",
       "      <td>-22.446472</td>\n",
       "      <td>-49.846569</td>\n",
       "    </tr>\n",
       "    <tr>\n",
       "      <th>3</th>\n",
       "      <td>50.00</td>\n",
       "      <td>1.000000</td>\n",
       "      <td>0.988030</td>\n",
       "      <td>42.336740</td>\n",
       "      <td>-62600.649573</td>\n",
       "      <td>-66993.273805</td>\n",
       "      <td>-13.740359</td>\n",
       "      <td>-24.293507</td>\n",
       "      <td>-41.644555</td>\n",
       "    </tr>\n",
       "    <tr>\n",
       "      <th>4</th>\n",
       "      <td>75.00</td>\n",
       "      <td>1.000000</td>\n",
       "      <td>0.974864</td>\n",
       "      <td>39.057091</td>\n",
       "      <td>-62219.076845</td>\n",
       "      <td>-67989.022883</td>\n",
       "      <td>-16.709806</td>\n",
       "      <td>-25.387838</td>\n",
       "      <td>-38.486888</td>\n",
       "    </tr>\n",
       "    <tr>\n",
       "      <th>5</th>\n",
       "      <td>100.00</td>\n",
       "      <td>1.013220</td>\n",
       "      <td>0.958393</td>\n",
       "      <td>36.176209</td>\n",
       "      <td>-61768.033241</td>\n",
       "      <td>-68933.668125</td>\n",
       "      <td>-19.330585</td>\n",
       "      <td>-26.156020</td>\n",
       "      <td>-37.313166</td>\n",
       "    </tr>\n",
       "    <tr>\n",
       "      <th>6</th>\n",
       "      <td>125.00</td>\n",
       "      <td>2.320144</td>\n",
       "      <td>0.939073</td>\n",
       "      <td>33.623145</td>\n",
       "      <td>-61255.109428</td>\n",
       "      <td>-69864.522356</td>\n",
       "      <td>-21.743026</td>\n",
       "      <td>-26.801869</td>\n",
       "      <td>-37.273587</td>\n",
       "    </tr>\n",
       "    <tr>\n",
       "      <th>7</th>\n",
       "      <td>150.00</td>\n",
       "      <td>4.757169</td>\n",
       "      <td>0.917058</td>\n",
       "      <td>31.341857</td>\n",
       "      <td>-60684.298543</td>\n",
       "      <td>-70806.824286</td>\n",
       "      <td>-24.034263</td>\n",
       "      <td>-27.473745</td>\n",
       "      <td>-38.194051</td>\n",
       "    </tr>\n",
       "    <tr>\n",
       "      <th>8</th>\n",
       "      <td>175.00</td>\n",
       "      <td>8.918049</td>\n",
       "      <td>0.892343</td>\n",
       "      <td>29.288116</td>\n",
       "      <td>-60058.171603</td>\n",
       "      <td>-71786.005580</td>\n",
       "      <td>-26.275593</td>\n",
       "      <td>-28.327097</td>\n",
       "      <td>-40.251015</td>\n",
       "    </tr>\n",
       "    <tr>\n",
       "      <th>9</th>\n",
       "      <td>200.00</td>\n",
       "      <td>15.536499</td>\n",
       "      <td>0.864743</td>\n",
       "      <td>27.426282</td>\n",
       "      <td>-59377.655004</td>\n",
       "      <td>-72835.793927</td>\n",
       "      <td>-28.544250</td>\n",
       "      <td>-29.587828</td>\n",
       "      <td>-44.021230</td>\n",
       "    </tr>\n",
       "    <tr>\n",
       "      <th>10</th>\n",
       "      <td>225.00</td>\n",
       "      <td>25.478603</td>\n",
       "      <td>0.833873</td>\n",
       "      <td>25.727005</td>\n",
       "      <td>-58641.711411</td>\n",
       "      <td>-74010.359063</td>\n",
       "      <td>-30.946945</td>\n",
       "      <td>-31.657664</td>\n",
       "      <td>-50.842479</td>\n",
       "    </tr>\n",
       "    <tr>\n",
       "      <th>11</th>\n",
       "      <td>250.00</td>\n",
       "      <td>39.736493</td>\n",
       "      <td>0.799072</td>\n",
       "      <td>24.165335</td>\n",
       "      <td>-57846.397400</td>\n",
       "      <td>-75409.836570</td>\n",
       "      <td>-33.663408</td>\n",
       "      <td>-35.359336</td>\n",
       "      <td>-63.906663</td>\n",
       "    </tr>\n",
       "    <tr>\n",
       "      <th>12</th>\n",
       "      <td>275.00</td>\n",
       "      <td>59.431251</td>\n",
       "      <td>0.759236</td>\n",
       "      <td>22.718837</td>\n",
       "      <td>-56982.668616</td>\n",
       "      <td>-77246.368637</td>\n",
       "      <td>-37.054224</td>\n",
       "      <td>-42.628743</td>\n",
       "      <td>-91.922382</td>\n",
       "    </tr>\n",
       "    <tr>\n",
       "      <th>13</th>\n",
       "      <td>300.00</td>\n",
       "      <td>85.837843</td>\n",
       "      <td>0.712408</td>\n",
       "      <td>21.364961</td>\n",
       "      <td>-56030.909445</td>\n",
       "      <td>-80055.906162</td>\n",
       "      <td>-42.000470</td>\n",
       "      <td>-58.936806</td>\n",
       "      <td>-164.753493</td>\n",
       "    </tr>\n",
       "    <tr>\n",
       "      <th>14</th>\n",
       "      <td>325.00</td>\n",
       "      <td>120.457572</td>\n",
       "      <td>0.654577</td>\n",
       "      <td>20.074977</td>\n",
       "      <td>-54944.272536</td>\n",
       "      <td>-85629.534815</td>\n",
       "      <td>-51.379813</td>\n",
       "      <td>-105.030937</td>\n",
       "      <td>-434.181755</td>\n",
       "    </tr>\n",
       "    <tr>\n",
       "      <th>15</th>\n",
       "      <td>350.00</td>\n",
       "      <td>165.211289</td>\n",
       "      <td>0.574688</td>\n",
       "      <td>18.788640</td>\n",
       "      <td>-53572.905683</td>\n",
       "      <td>-104580.898241</td>\n",
       "      <td>-81.931422</td>\n",
       "      <td>-325.224690</td>\n",
       "      <td>-2723.259042</td>\n",
       "    </tr>\n",
       "  </tbody>\n",
       "</table>\n",
       "</div>"
      ],
      "text/plain": [
       "         T           P       rho       logK             G              H  \\\n",
       "1     0.01    1.000000  0.999829  50.478389 -63092.808322  -64359.212668   \n",
       "2    25.00    1.000000  0.997061  46.106640 -62900.711481  -65866.755330   \n",
       "3    50.00    1.000000  0.988030  42.336740 -62600.649573  -66993.273805   \n",
       "4    75.00    1.000000  0.974864  39.057091 -62219.076845  -67989.022883   \n",
       "5   100.00    1.013220  0.958393  36.176209 -61768.033241  -68933.668125   \n",
       "6   125.00    2.320144  0.939073  33.623145 -61255.109428  -69864.522356   \n",
       "7   150.00    4.757169  0.917058  31.341857 -60684.298543  -70806.824286   \n",
       "8   175.00    8.918049  0.892343  29.288116 -60058.171603  -71786.005580   \n",
       "9   200.00   15.536499  0.864743  27.426282 -59377.655004  -72835.793927   \n",
       "10  225.00   25.478603  0.833873  25.727005 -58641.711411  -74010.359063   \n",
       "11  250.00   39.736493  0.799072  24.165335 -57846.397400  -75409.836570   \n",
       "12  275.00   59.431251  0.759236  22.718837 -56982.668616  -77246.368637   \n",
       "13  300.00   85.837843  0.712408  21.364961 -56030.909445  -80055.906162   \n",
       "14  325.00  120.457572  0.654577  20.074977 -54944.272536  -85629.534815   \n",
       "15  350.00  165.211289  0.574688  18.788640 -53572.905683 -104580.898241   \n",
       "\n",
       "            S           V           Cp  \n",
       "1   -4.810284  -18.557592   -76.703793  \n",
       "2  -10.107720  -22.446472   -49.846569  \n",
       "3  -13.740359  -24.293507   -41.644555  \n",
       "4  -16.709806  -25.387838   -38.486888  \n",
       "5  -19.330585  -26.156020   -37.313166  \n",
       "6  -21.743026  -26.801869   -37.273587  \n",
       "7  -24.034263  -27.473745   -38.194051  \n",
       "8  -26.275593  -28.327097   -40.251015  \n",
       "9  -28.544250  -29.587828   -44.021230  \n",
       "10 -30.946945  -31.657664   -50.842479  \n",
       "11 -33.663408  -35.359336   -63.906663  \n",
       "12 -37.054224  -42.628743   -91.922382  \n",
       "13 -42.000470  -58.936806  -164.753493  \n",
       "14 -51.379813 -105.030937  -434.181755  \n",
       "15 -81.931422 -325.224690 -2723.259042  "
      ]
     },
     "metadata": {},
     "output_type": "display_data"
    },
    {
     "name": "stdout",
     "output_type": "stream",
     "text": [
      "done!\n"
     ]
    }
   ],
   "source": [
    "subcrt(\n",
    "    species=[\"H2\", \"O2\", \"H2O\"], # what chemical species are present in rxn?\n",
    "    coeff=[-1, -0.5, 1] # what are their stoichiometries? negative = reactant\n",
    "      )\n",
    "print(\"done!\")"
   ]
  },
  {
   "cell_type": "markdown",
   "metadata": {
    "colab_type": "text",
    "id": "xw4UHQHaZtpO"
   },
   "source": [
    "You can modify subcrt to calculate properties at a specific temperature (T) and pressure (P). If a temperature is given but no pressure, CHNOSZ will perform calculations along the liquid-vapor saturation curve (PSAT)."
   ]
  },
  {
   "cell_type": "code",
   "execution_count": 8,
   "metadata": {
    "colab": {},
    "colab_type": "code",
    "id": "NmpWTPs9ZtpP"
   },
   "outputs": [
    {
     "name": "stdout",
     "output_type": "stream",
     "text": [
      "info.character: found H2(aq); other available state is gas\n",
      "\n",
      "info.character: found O2(aq); other available state is gas\n",
      "\n",
      "info.character: found H2O(liq); other available state is cr\n",
      "\n",
      "subcrt: 3 species at 350 ºC and 2000 bar (wet) [energy units: cal]\n",
      "\n"
     ]
    },
    {
     "data": {
      "text/html": [
       "<div>\n",
       "<style scoped>\n",
       "    .dataframe tbody tr th:only-of-type {\n",
       "        vertical-align: middle;\n",
       "    }\n",
       "\n",
       "    .dataframe tbody tr th {\n",
       "        vertical-align: top;\n",
       "    }\n",
       "\n",
       "    .dataframe thead th {\n",
       "        text-align: right;\n",
       "    }\n",
       "</style>\n",
       "<table border=\"1\" class=\"dataframe\">\n",
       "  <thead>\n",
       "    <tr style=\"text-align: right;\">\n",
       "      <th></th>\n",
       "      <th>coeff</th>\n",
       "      <th>name</th>\n",
       "      <th>formula</th>\n",
       "      <th>state</th>\n",
       "      <th>ispecies</th>\n",
       "    </tr>\n",
       "  </thead>\n",
       "  <tbody>\n",
       "    <tr>\n",
       "      <th>62</th>\n",
       "      <td>-1.0</td>\n",
       "      <td>H2</td>\n",
       "      <td>H2</td>\n",
       "      <td>aq</td>\n",
       "      <td>62.0</td>\n",
       "    </tr>\n",
       "    <tr>\n",
       "      <th>63</th>\n",
       "      <td>-0.5</td>\n",
       "      <td>O2</td>\n",
       "      <td>O2</td>\n",
       "      <td>aq</td>\n",
       "      <td>63.0</td>\n",
       "    </tr>\n",
       "    <tr>\n",
       "      <th>1</th>\n",
       "      <td>1.0</td>\n",
       "      <td>water</td>\n",
       "      <td>H2O</td>\n",
       "      <td>liq</td>\n",
       "      <td>1.0</td>\n",
       "    </tr>\n",
       "  </tbody>\n",
       "</table>\n",
       "</div>"
      ],
      "text/plain": [
       "    coeff   name formula state  ispecies\n",
       "62   -1.0     H2      H2    aq      62.0\n",
       "63   -0.5     O2      O2    aq      63.0\n",
       "1     1.0  water     H2O   liq       1.0"
      ]
     },
     "metadata": {},
     "output_type": "display_data"
    },
    {
     "data": {
      "text/html": [
       "<div>\n",
       "<style scoped>\n",
       "    .dataframe tbody tr th:only-of-type {\n",
       "        vertical-align: middle;\n",
       "    }\n",
       "\n",
       "    .dataframe tbody tr th {\n",
       "        vertical-align: top;\n",
       "    }\n",
       "\n",
       "    .dataframe thead th {\n",
       "        text-align: right;\n",
       "    }\n",
       "</style>\n",
       "<table border=\"1\" class=\"dataframe\">\n",
       "  <thead>\n",
       "    <tr style=\"text-align: right;\">\n",
       "      <th></th>\n",
       "      <th>T</th>\n",
       "      <th>P</th>\n",
       "      <th>rho</th>\n",
       "      <th>logK</th>\n",
       "      <th>G</th>\n",
       "      <th>H</th>\n",
       "      <th>S</th>\n",
       "      <th>V</th>\n",
       "      <th>Cp</th>\n",
       "    </tr>\n",
       "  </thead>\n",
       "  <tbody>\n",
       "    <tr>\n",
       "      <th>1</th>\n",
       "      <td>350.0</td>\n",
       "      <td>2000</td>\n",
       "      <td>0.840542</td>\n",
       "      <td>19.528536</td>\n",
       "      <td>-55682.607387</td>\n",
       "      <td>-79239.245867</td>\n",
       "      <td>-37.87886</td>\n",
       "      <td>-26.814516</td>\n",
       "      <td>-41.204549</td>\n",
       "    </tr>\n",
       "  </tbody>\n",
       "</table>\n",
       "</div>"
      ],
      "text/plain": [
       "       T     P       rho       logK             G             H         S  \\\n",
       "1  350.0  2000  0.840542  19.528536 -55682.607387 -79239.245867 -37.87886   \n",
       "\n",
       "           V         Cp  \n",
       "1 -26.814516 -41.204549  "
      ]
     },
     "metadata": {},
     "output_type": "display_data"
    },
    {
     "name": "stdout",
     "output_type": "stream",
     "text": [
      "done!\n"
     ]
    }
   ],
   "source": [
    "subcrt(\n",
    "    species=[\"H2\", \"O2\", \"H2O\"], # what chemical species are present in rxn?\n",
    "    coeff=[-1, -0.5, 1], # what are their stoichiometries? negative = reactant\n",
    "    T=350, # degrees C\n",
    "    P=2000 # bars pressure\n",
    "      )\n",
    "print(\"done!\")"
   ]
  },
  {
   "cell_type": "markdown",
   "metadata": {
    "colab_type": "text",
    "id": "llEyU-hbZtpR"
   },
   "source": [
    "This can be done for a range of temperatures and pressures, but be certain the number of T's and P's are the same! (See what happens to the results if they're not!)"
   ]
  },
  {
   "cell_type": "code",
   "execution_count": 9,
   "metadata": {
    "colab": {},
    "colab_type": "code",
    "id": "zKM9ckOwZtpR"
   },
   "outputs": [
    {
     "name": "stdout",
     "output_type": "stream",
     "text": [
      "info.character: found H2(aq); other available state is gas\n",
      "\n",
      "info.character: found O2(aq); other available state is gas\n",
      "\n",
      "info.character: found H2O(liq); other available state is cr\n",
      "\n",
      "subcrt: 3 species at 4 values of T (ºC) and P (bar) (wet) [energy units: cal]\n",
      "\n"
     ]
    },
    {
     "data": {
      "text/html": [
       "<div>\n",
       "<style scoped>\n",
       "    .dataframe tbody tr th:only-of-type {\n",
       "        vertical-align: middle;\n",
       "    }\n",
       "\n",
       "    .dataframe tbody tr th {\n",
       "        vertical-align: top;\n",
       "    }\n",
       "\n",
       "    .dataframe thead th {\n",
       "        text-align: right;\n",
       "    }\n",
       "</style>\n",
       "<table border=\"1\" class=\"dataframe\">\n",
       "  <thead>\n",
       "    <tr style=\"text-align: right;\">\n",
       "      <th></th>\n",
       "      <th>coeff</th>\n",
       "      <th>name</th>\n",
       "      <th>formula</th>\n",
       "      <th>state</th>\n",
       "      <th>ispecies</th>\n",
       "    </tr>\n",
       "  </thead>\n",
       "  <tbody>\n",
       "    <tr>\n",
       "      <th>62</th>\n",
       "      <td>-1.0</td>\n",
       "      <td>H2</td>\n",
       "      <td>H2</td>\n",
       "      <td>aq</td>\n",
       "      <td>62.0</td>\n",
       "    </tr>\n",
       "    <tr>\n",
       "      <th>63</th>\n",
       "      <td>-0.5</td>\n",
       "      <td>O2</td>\n",
       "      <td>O2</td>\n",
       "      <td>aq</td>\n",
       "      <td>63.0</td>\n",
       "    </tr>\n",
       "    <tr>\n",
       "      <th>1</th>\n",
       "      <td>1.0</td>\n",
       "      <td>water</td>\n",
       "      <td>H2O</td>\n",
       "      <td>liq</td>\n",
       "      <td>1.0</td>\n",
       "    </tr>\n",
       "  </tbody>\n",
       "</table>\n",
       "</div>"
      ],
      "text/plain": [
       "    coeff   name formula state  ispecies\n",
       "62   -1.0     H2      H2    aq      62.0\n",
       "63   -0.5     O2      O2    aq      63.0\n",
       "1     1.0  water     H2O   liq       1.0"
      ]
     },
     "metadata": {},
     "output_type": "display_data"
    },
    {
     "data": {
      "text/html": [
       "<div>\n",
       "<style scoped>\n",
       "    .dataframe tbody tr th:only-of-type {\n",
       "        vertical-align: middle;\n",
       "    }\n",
       "\n",
       "    .dataframe tbody tr th {\n",
       "        vertical-align: top;\n",
       "    }\n",
       "\n",
       "    .dataframe thead th {\n",
       "        text-align: right;\n",
       "    }\n",
       "</style>\n",
       "<table border=\"1\" class=\"dataframe\">\n",
       "  <thead>\n",
       "    <tr style=\"text-align: right;\">\n",
       "      <th></th>\n",
       "      <th>T</th>\n",
       "      <th>P</th>\n",
       "      <th>rho</th>\n",
       "      <th>logK</th>\n",
       "      <th>G</th>\n",
       "      <th>H</th>\n",
       "      <th>S</th>\n",
       "      <th>V</th>\n",
       "      <th>Cp</th>\n",
       "    </tr>\n",
       "  </thead>\n",
       "  <tbody>\n",
       "    <tr>\n",
       "      <th>1</th>\n",
       "      <td>150.00</td>\n",
       "      <td>1000</td>\n",
       "      <td>0.964753</td>\n",
       "      <td>31.660177</td>\n",
       "      <td>-61300.632169</td>\n",
       "      <td>-71237.089186</td>\n",
       "      <td>-23.594541</td>\n",
       "      <td>-24.744085</td>\n",
       "      <td>-35.831941</td>\n",
       "    </tr>\n",
       "    <tr>\n",
       "      <th>2</th>\n",
       "      <td>250.00</td>\n",
       "      <td>1050</td>\n",
       "      <td>0.879700</td>\n",
       "      <td>24.464608</td>\n",
       "      <td>-58562.790646</td>\n",
       "      <td>-75048.054633</td>\n",
       "      <td>-31.602479</td>\n",
       "      <td>-26.531714</td>\n",
       "      <td>-39.974409</td>\n",
       "    </tr>\n",
       "    <tr>\n",
       "      <th>3</th>\n",
       "      <td>250.25</td>\n",
       "      <td>1050</td>\n",
       "      <td>0.879453</td>\n",
       "      <td>24.449623</td>\n",
       "      <td>-58554.887617</td>\n",
       "      <td>-75058.147175</td>\n",
       "      <td>-31.621766</td>\n",
       "      <td>-26.540365</td>\n",
       "      <td>-39.996025</td>\n",
       "    </tr>\n",
       "    <tr>\n",
       "      <th>4</th>\n",
       "      <td>350.00</td>\n",
       "      <td>2000</td>\n",
       "      <td>0.840542</td>\n",
       "      <td>19.528536</td>\n",
       "      <td>-55682.607387</td>\n",
       "      <td>-79239.245867</td>\n",
       "      <td>-37.878860</td>\n",
       "      <td>-26.814516</td>\n",
       "      <td>-41.204549</td>\n",
       "    </tr>\n",
       "  </tbody>\n",
       "</table>\n",
       "</div>"
      ],
      "text/plain": [
       "        T     P       rho       logK             G             H          S  \\\n",
       "1  150.00  1000  0.964753  31.660177 -61300.632169 -71237.089186 -23.594541   \n",
       "2  250.00  1050  0.879700  24.464608 -58562.790646 -75048.054633 -31.602479   \n",
       "3  250.25  1050  0.879453  24.449623 -58554.887617 -75058.147175 -31.621766   \n",
       "4  350.00  2000  0.840542  19.528536 -55682.607387 -79239.245867 -37.878860   \n",
       "\n",
       "           V         Cp  \n",
       "1 -24.744085 -35.831941  \n",
       "2 -26.531714 -39.974409  \n",
       "3 -26.540365 -39.996025  \n",
       "4 -26.814516 -41.204549  "
      ]
     },
     "metadata": {},
     "output_type": "display_data"
    },
    {
     "name": "stdout",
     "output_type": "stream",
     "text": [
      "done!\n"
     ]
    }
   ],
   "source": [
    "subcrt(\n",
    "    species=[\"H2\", \"O2\", \"H2O\"], # what chemical species are present in rxn?\n",
    "    coeff=[-1, -0.5, 1], # what are their stoichiometries? negative = reactant\n",
    "    T=[150, 250, 250.25, 350], # degrees C\n",
    "    P=[1000, 1050, 1050, 2000] # bars pressure\n",
    "      )\n",
    "print(\"done!\")"
   ]
  },
  {
   "cell_type": "markdown",
   "metadata": {
    "colab_type": "text",
    "id": "vEGV0u3VZtpT"
   },
   "source": [
    "You can change the phase (cr, liq, aq, gas) of a chemical species if an entry exists in the thermodynamic database. Searching for \"O2\" with info() will reveal that it has entries for \"aq\" and \"gas\" phases. Aqueous O2 is selected by default in subcrt(), but we can change it to a gas in our reaction:"
   ]
  },
  {
   "cell_type": "code",
   "execution_count": 10,
   "metadata": {
    "colab": {},
    "colab_type": "code",
    "id": "bJJw82QqZtpU"
   },
   "outputs": [
    {
     "name": "stdout",
     "output_type": "stream",
     "text": [
      "subcrt: 3 species at 350 ºC and 2000 bar (wet) [energy units: cal]\n",
      "\n"
     ]
    },
    {
     "data": {
      "text/html": [
       "<div>\n",
       "<style scoped>\n",
       "    .dataframe tbody tr th:only-of-type {\n",
       "        vertical-align: middle;\n",
       "    }\n",
       "\n",
       "    .dataframe tbody tr th {\n",
       "        vertical-align: top;\n",
       "    }\n",
       "\n",
       "    .dataframe thead th {\n",
       "        text-align: right;\n",
       "    }\n",
       "</style>\n",
       "<table border=\"1\" class=\"dataframe\">\n",
       "  <thead>\n",
       "    <tr style=\"text-align: right;\">\n",
       "      <th></th>\n",
       "      <th>coeff</th>\n",
       "      <th>name</th>\n",
       "      <th>formula</th>\n",
       "      <th>state</th>\n",
       "      <th>ispecies</th>\n",
       "    </tr>\n",
       "  </thead>\n",
       "  <tbody>\n",
       "    <tr>\n",
       "      <th>62</th>\n",
       "      <td>-1.0</td>\n",
       "      <td>H2</td>\n",
       "      <td>H2</td>\n",
       "      <td>aq</td>\n",
       "      <td>62.0</td>\n",
       "    </tr>\n",
       "    <tr>\n",
       "      <th>2612</th>\n",
       "      <td>-0.5</td>\n",
       "      <td>oxygen</td>\n",
       "      <td>O2</td>\n",
       "      <td>gas</td>\n",
       "      <td>2612.0</td>\n",
       "    </tr>\n",
       "    <tr>\n",
       "      <th>1</th>\n",
       "      <td>1.0</td>\n",
       "      <td>water</td>\n",
       "      <td>H2O</td>\n",
       "      <td>liq</td>\n",
       "      <td>1.0</td>\n",
       "    </tr>\n",
       "  </tbody>\n",
       "</table>\n",
       "</div>"
      ],
      "text/plain": [
       "      coeff    name formula state  ispecies\n",
       "62     -1.0      H2      H2    aq      62.0\n",
       "2612   -0.5  oxygen      O2   gas    2612.0\n",
       "1       1.0   water     H2O   liq       1.0"
      ]
     },
     "metadata": {},
     "output_type": "display_data"
    },
    {
     "data": {
      "text/html": [
       "<div>\n",
       "<style scoped>\n",
       "    .dataframe tbody tr th:only-of-type {\n",
       "        vertical-align: middle;\n",
       "    }\n",
       "\n",
       "    .dataframe tbody tr th {\n",
       "        vertical-align: top;\n",
       "    }\n",
       "\n",
       "    .dataframe thead th {\n",
       "        text-align: right;\n",
       "    }\n",
       "</style>\n",
       "<table border=\"1\" class=\"dataframe\">\n",
       "  <thead>\n",
       "    <tr style=\"text-align: right;\">\n",
       "      <th></th>\n",
       "      <th>T</th>\n",
       "      <th>P</th>\n",
       "      <th>rho</th>\n",
       "      <th>logK</th>\n",
       "      <th>G</th>\n",
       "      <th>H</th>\n",
       "      <th>S</th>\n",
       "      <th>V</th>\n",
       "      <th>Cp</th>\n",
       "    </tr>\n",
       "  </thead>\n",
       "  <tbody>\n",
       "    <tr>\n",
       "      <th>1</th>\n",
       "      <td>350.0</td>\n",
       "      <td>2000</td>\n",
       "      <td>0.840542</td>\n",
       "      <td>18.124346</td>\n",
       "      <td>-51678.775004</td>\n",
       "      <td>-74002.446233</td>\n",
       "      <td>-35.900392</td>\n",
       "      <td>-8.187146</td>\n",
       "      <td>-20.734742</td>\n",
       "    </tr>\n",
       "  </tbody>\n",
       "</table>\n",
       "</div>"
      ],
      "text/plain": [
       "       T     P       rho       logK             G             H          S  \\\n",
       "1  350.0  2000  0.840542  18.124346 -51678.775004 -74002.446233 -35.900392   \n",
       "\n",
       "          V         Cp  \n",
       "1 -8.187146 -20.734742  "
      ]
     },
     "metadata": {},
     "output_type": "display_data"
    },
    {
     "name": "stdout",
     "output_type": "stream",
     "text": [
      "done!\n"
     ]
    }
   ],
   "source": [
    "subcrt(\n",
    "    species=[\"H2\", \"O2\", \"H2O\"], # what chemical species are present in rxn?\n",
    "    coeff=[-1, -0.5, 1], # what are their stoichiometries? negative = reactant\n",
    "    state=[\"aq\", \"gas\", \"liq\"], # what phases are the chemical species in?\n",
    "    T=350, # degrees C\n",
    "    P=2000 # bars pressure\n",
    "      )\n",
    "print(\"done!\")"
   ]
  },
  {
   "cell_type": "markdown",
   "metadata": {
    "colab_type": "text",
    "id": "myzp1HRzZtpW"
   },
   "source": [
    "Another example, this time with the reaction:\n",
    "\n",
    "\\begin{align}\n",
    "\\mathop{\\rm{K(AlSi_{3})O_{8}}}\\limits_{(K\\text{-}feldspar)} + \\mathop{\\rm{Al_{2}Si_{2}O_{5}(OH)_{4}}}\\limits_{(kaolinite)} & \\rightleftharpoons \\rm{H_{2}O} + \\rm{2SiO_{2(aq)}} + \\mathop{\\rm{KAl_{2}(AlSi_{3})O_{10}(OH)_{2}}}\\limits_{(muscovite)} \\\\\n",
    "\\end{align}\n",
    "\n",
    "First, let's check if these entries are in the database:"
   ]
  },
  {
   "cell_type": "code",
   "execution_count": 11,
   "metadata": {
    "colab": {},
    "colab_type": "code",
    "id": "vbuPXGlkZtpW"
   },
   "outputs": [
    {
     "name": "stdout",
     "output_type": "stream",
     "text": [
      "info.approx: 'K-feld' is ambiguous; has approximate matches to 3 species:\n",
      "\n",
      "[1] \"K-feldspar\"      \"K-feldspar,high\" \"K-feldspar,low\" \n",
      "\n"
     ]
    },
    {
     "data": {
      "text/plain": [
       "[NA]"
      ]
     },
     "execution_count": 11,
     "metadata": {},
     "output_type": "execute_result"
    }
   ],
   "source": [
    "info(\"K-feld\") # a partial name might result in approximate matches to try"
   ]
  },
  {
   "cell_type": "code",
   "execution_count": 12,
   "metadata": {
    "colab": {},
    "colab_type": "code",
    "id": "Uf1J8SHRduo7"
   },
   "outputs": [
    {
     "data": {
      "text/html": [
       "<div>\n",
       "<style scoped>\n",
       "    .dataframe tbody tr th:only-of-type {\n",
       "        vertical-align: middle;\n",
       "    }\n",
       "\n",
       "    .dataframe tbody tr th {\n",
       "        vertical-align: top;\n",
       "    }\n",
       "\n",
       "    .dataframe thead th {\n",
       "        text-align: right;\n",
       "    }\n",
       "</style>\n",
       "<table border=\"1\" class=\"dataframe\">\n",
       "  <thead>\n",
       "    <tr style=\"text-align: right;\">\n",
       "      <th></th>\n",
       "      <th>name</th>\n",
       "      <th>abbrv</th>\n",
       "      <th>formula</th>\n",
       "      <th>state</th>\n",
       "      <th>ref1</th>\n",
       "      <th>ref2</th>\n",
       "      <th>date</th>\n",
       "      <th>E_units</th>\n",
       "      <th>G</th>\n",
       "      <th>H</th>\n",
       "      <th>...</th>\n",
       "      <th>Cp</th>\n",
       "      <th>V</th>\n",
       "      <th>a</th>\n",
       "      <th>b</th>\n",
       "      <th>c</th>\n",
       "      <th>d</th>\n",
       "      <th>e</th>\n",
       "      <th>f</th>\n",
       "      <th>lambda</th>\n",
       "      <th>T</th>\n",
       "    </tr>\n",
       "  </thead>\n",
       "  <tbody>\n",
       "    <tr>\n",
       "      <th>2557</th>\n",
       "      <td>K-feldspar</td>\n",
       "      <td>Kfs</td>\n",
       "      <td>KAlSi3O8</td>\n",
       "      <td>cr</td>\n",
       "      <td>Ber88</td>\n",
       "      <td>SHD91</td>\n",
       "      <td>2017-10-03</td>\n",
       "      <td>cal</td>\n",
       "      <td>NaN</td>\n",
       "      <td>NaN</td>\n",
       "      <td>...</td>\n",
       "      <td>NaN</td>\n",
       "      <td>NaN</td>\n",
       "      <td>NaN</td>\n",
       "      <td>NaN</td>\n",
       "      <td>NaN</td>\n",
       "      <td>NaN</td>\n",
       "      <td>NaN</td>\n",
       "      <td>NaN</td>\n",
       "      <td>NaN</td>\n",
       "      <td>NaN</td>\n",
       "    </tr>\n",
       "    <tr>\n",
       "      <th>2543</th>\n",
       "      <td>kaolinite</td>\n",
       "      <td>Kln</td>\n",
       "      <td>Al2Si2O9H4</td>\n",
       "      <td>cr</td>\n",
       "      <td>Ber88</td>\n",
       "      <td>NA</td>\n",
       "      <td>2017-10-01</td>\n",
       "      <td>cal</td>\n",
       "      <td>NaN</td>\n",
       "      <td>NaN</td>\n",
       "      <td>...</td>\n",
       "      <td>NaN</td>\n",
       "      <td>NaN</td>\n",
       "      <td>NaN</td>\n",
       "      <td>NaN</td>\n",
       "      <td>NaN</td>\n",
       "      <td>NaN</td>\n",
       "      <td>NaN</td>\n",
       "      <td>NaN</td>\n",
       "      <td>NaN</td>\n",
       "      <td>NaN</td>\n",
       "    </tr>\n",
       "    <tr>\n",
       "      <th>2553</th>\n",
       "      <td>muscovite</td>\n",
       "      <td>Ms</td>\n",
       "      <td>KAl3Si3O12H2</td>\n",
       "      <td>cr</td>\n",
       "      <td>Ber88</td>\n",
       "      <td>SHD91</td>\n",
       "      <td>2017-10-03</td>\n",
       "      <td>cal</td>\n",
       "      <td>NaN</td>\n",
       "      <td>NaN</td>\n",
       "      <td>...</td>\n",
       "      <td>NaN</td>\n",
       "      <td>NaN</td>\n",
       "      <td>NaN</td>\n",
       "      <td>NaN</td>\n",
       "      <td>NaN</td>\n",
       "      <td>NaN</td>\n",
       "      <td>NaN</td>\n",
       "      <td>NaN</td>\n",
       "      <td>NaN</td>\n",
       "      <td>NaN</td>\n",
       "    </tr>\n",
       "  </tbody>\n",
       "</table>\n",
       "<p>3 rows × 21 columns</p>\n",
       "</div>"
      ],
      "text/plain": [
       "            name abbrv       formula state   ref1   ref2        date E_units  \\\n",
       "2557  K-feldspar   Kfs      KAlSi3O8    cr  Ber88  SHD91  2017-10-03     cal   \n",
       "2543   kaolinite   Kln    Al2Si2O9H4    cr  Ber88     NA  2017-10-01     cal   \n",
       "2553   muscovite    Ms  KAl3Si3O12H2    cr  Ber88  SHD91  2017-10-03     cal   \n",
       "\n",
       "       G   H  ...  Cp   V   a   b   c   d   e   f  lambda   T  \n",
       "2557 NaN NaN  ... NaN NaN NaN NaN NaN NaN NaN NaN     NaN NaN  \n",
       "2543 NaN NaN  ... NaN NaN NaN NaN NaN NaN NaN NaN     NaN NaN  \n",
       "2553 NaN NaN  ... NaN NaN NaN NaN NaN NaN NaN NaN     NaN NaN  \n",
       "\n",
       "[3 rows x 21 columns]"
      ]
     },
     "execution_count": 12,
     "metadata": {},
     "output_type": "execute_result"
    }
   ],
   "source": [
    "info(info([\"K-feldspar\", \"kaolinite\", \"muscovite\"]))"
   ]
  },
  {
   "cell_type": "code",
   "execution_count": 13,
   "metadata": {
    "colab": {},
    "colab_type": "code",
    "id": "ei623TxYdP2t"
   },
   "outputs": [
    {
     "name": "stdout",
     "output_type": "stream",
     "text": [
      "add.OBIGT: read 178 rows; made 65 replacements, 113 additions [energy units: cal]\n",
      "\n"
     ]
    }
   ],
   "source": [
    "# tell pyCHNOSZ to use species from the SUPCRT92 database\n",
    "_ = add_OBIGT(\"SUPCRT92\")"
   ]
  },
  {
   "cell_type": "code",
   "execution_count": 14,
   "metadata": {
    "colab": {},
    "colab_type": "code",
    "id": "7m7usxdgZtpY"
   },
   "outputs": [
    {
     "name": "stdout",
     "output_type": "stream",
     "text": [
      "info.numeric: Cp of K-feldspar(cr) is NA; set by EOS parameters to 44.22 cal K-1 mol-1\n",
      "\n",
      "info.numeric: Cp of kaolinite(cr) is NA; set by EOS parameters to 57.27 cal K-1 mol-1\n",
      "\n",
      "info.numeric: Cp of muscovite(cr) is NA; set by EOS parameters to 76.81 cal K-1 mol-1\n",
      "\n"
     ]
    },
    {
     "data": {
      "text/html": [
       "<div>\n",
       "<style scoped>\n",
       "    .dataframe tbody tr th:only-of-type {\n",
       "        vertical-align: middle;\n",
       "    }\n",
       "\n",
       "    .dataframe tbody tr th {\n",
       "        vertical-align: top;\n",
       "    }\n",
       "\n",
       "    .dataframe thead th {\n",
       "        text-align: right;\n",
       "    }\n",
       "</style>\n",
       "<table border=\"1\" class=\"dataframe\">\n",
       "  <thead>\n",
       "    <tr style=\"text-align: right;\">\n",
       "      <th></th>\n",
       "      <th>name</th>\n",
       "      <th>abbrv</th>\n",
       "      <th>formula</th>\n",
       "      <th>state</th>\n",
       "      <th>ref1</th>\n",
       "      <th>ref2</th>\n",
       "      <th>date</th>\n",
       "      <th>E_units</th>\n",
       "      <th>G</th>\n",
       "      <th>H</th>\n",
       "      <th>...</th>\n",
       "      <th>Cp</th>\n",
       "      <th>V</th>\n",
       "      <th>a</th>\n",
       "      <th>b</th>\n",
       "      <th>c</th>\n",
       "      <th>d</th>\n",
       "      <th>e</th>\n",
       "      <th>f</th>\n",
       "      <th>lambda</th>\n",
       "      <th>T</th>\n",
       "    </tr>\n",
       "  </thead>\n",
       "  <tbody>\n",
       "    <tr>\n",
       "      <th>2557</th>\n",
       "      <td>K-feldspar</td>\n",
       "      <td>K-Fs</td>\n",
       "      <td>K(AlSi3)O8</td>\n",
       "      <td>cr</td>\n",
       "      <td>HDNB78</td>\n",
       "      <td>N</td>\n",
       "      <td>1978-05-05</td>\n",
       "      <td>cal</td>\n",
       "      <td>-895374.0</td>\n",
       "      <td>-949188.0</td>\n",
       "      <td>...</td>\n",
       "      <td>44.215918</td>\n",
       "      <td>108.87</td>\n",
       "      <td>76.617</td>\n",
       "      <td>0.004311</td>\n",
       "      <td>-2994500.0</td>\n",
       "      <td>0.0</td>\n",
       "      <td>0.0</td>\n",
       "      <td>0.0</td>\n",
       "      <td>0.0</td>\n",
       "      <td>1400.0</td>\n",
       "    </tr>\n",
       "    <tr>\n",
       "      <th>2543</th>\n",
       "      <td>kaolinite</td>\n",
       "      <td>Kln</td>\n",
       "      <td>Al2Si2O5(OH)4</td>\n",
       "      <td>cr</td>\n",
       "      <td>HDNB78</td>\n",
       "      <td>N</td>\n",
       "      <td>1978-05-05</td>\n",
       "      <td>cal</td>\n",
       "      <td>-905614.0</td>\n",
       "      <td>-982221.0</td>\n",
       "      <td>...</td>\n",
       "      <td>57.267215</td>\n",
       "      <td>99.52</td>\n",
       "      <td>72.770</td>\n",
       "      <td>0.029200</td>\n",
       "      <td>-2152000.0</td>\n",
       "      <td>0.0</td>\n",
       "      <td>0.0</td>\n",
       "      <td>0.0</td>\n",
       "      <td>0.0</td>\n",
       "      <td>1000.0</td>\n",
       "    </tr>\n",
       "    <tr>\n",
       "      <th>2553</th>\n",
       "      <td>muscovite</td>\n",
       "      <td>Ms</td>\n",
       "      <td>KAl2(AlSi3)O10(OH)2</td>\n",
       "      <td>cr</td>\n",
       "      <td>HDNB78</td>\n",
       "      <td>N</td>\n",
       "      <td>1978-05-05</td>\n",
       "      <td>cal</td>\n",
       "      <td>-1336301.0</td>\n",
       "      <td>-1427408.0</td>\n",
       "      <td>...</td>\n",
       "      <td>76.806657</td>\n",
       "      <td>140.71</td>\n",
       "      <td>97.560</td>\n",
       "      <td>0.026380</td>\n",
       "      <td>-2544000.0</td>\n",
       "      <td>0.0</td>\n",
       "      <td>0.0</td>\n",
       "      <td>0.0</td>\n",
       "      <td>0.0</td>\n",
       "      <td>1000.0</td>\n",
       "    </tr>\n",
       "  </tbody>\n",
       "</table>\n",
       "<p>3 rows × 21 columns</p>\n",
       "</div>"
      ],
      "text/plain": [
       "            name abbrv              formula state    ref1 ref2        date  \\\n",
       "2557  K-feldspar  K-Fs           K(AlSi3)O8    cr  HDNB78    N  1978-05-05   \n",
       "2543   kaolinite   Kln        Al2Si2O5(OH)4    cr  HDNB78    N  1978-05-05   \n",
       "2553   muscovite    Ms  KAl2(AlSi3)O10(OH)2    cr  HDNB78    N  1978-05-05   \n",
       "\n",
       "     E_units          G          H  ...         Cp       V       a         b  \\\n",
       "2557     cal  -895374.0  -949188.0  ...  44.215918  108.87  76.617  0.004311   \n",
       "2543     cal  -905614.0  -982221.0  ...  57.267215   99.52  72.770  0.029200   \n",
       "2553     cal -1336301.0 -1427408.0  ...  76.806657  140.71  97.560  0.026380   \n",
       "\n",
       "              c    d    e    f  lambda       T  \n",
       "2557 -2994500.0  0.0  0.0  0.0     0.0  1400.0  \n",
       "2543 -2152000.0  0.0  0.0  0.0     0.0  1000.0  \n",
       "2553 -2544000.0  0.0  0.0  0.0     0.0  1000.0  \n",
       "\n",
       "[3 rows x 21 columns]"
      ]
     },
     "execution_count": 14,
     "metadata": {},
     "output_type": "execute_result"
    }
   ],
   "source": [
    "info(info([\"K-feldspar\", \"kaolinite\", \"muscovite\"]))"
   ]
  },
  {
   "cell_type": "code",
   "execution_count": 15,
   "metadata": {
    "colab": {},
    "colab_type": "code",
    "id": "n_CZ5F8EZtpb"
   },
   "outputs": [
    {
     "name": "stdout",
     "output_type": "stream",
     "text": [
      "info.character: found H2O(liq); other available state is cr\n",
      "\n",
      "info.character: found SiO2(aq); other available phases are coesite, cristobalite,alpha, cristobalite,beta, quartz, quartz,beta, tridymite,high, tridymite,low, amorphous silica, chalcedony, cristobalite\n",
      "\n",
      "subcrt: 5 species at 8 values of T (ºC) and P (bar) (wet) [energy units: cal]\n",
      "\n"
     ]
    },
    {
     "data": {
      "text/html": [
       "<div>\n",
       "<style scoped>\n",
       "    .dataframe tbody tr th:only-of-type {\n",
       "        vertical-align: middle;\n",
       "    }\n",
       "\n",
       "    .dataframe tbody tr th {\n",
       "        vertical-align: top;\n",
       "    }\n",
       "\n",
       "    .dataframe thead th {\n",
       "        text-align: right;\n",
       "    }\n",
       "</style>\n",
       "<table border=\"1\" class=\"dataframe\">\n",
       "  <thead>\n",
       "    <tr style=\"text-align: right;\">\n",
       "      <th></th>\n",
       "      <th>coeff</th>\n",
       "      <th>name</th>\n",
       "      <th>formula</th>\n",
       "      <th>state</th>\n",
       "      <th>ispecies</th>\n",
       "    </tr>\n",
       "  </thead>\n",
       "  <tbody>\n",
       "    <tr>\n",
       "      <th>2557</th>\n",
       "      <td>-1</td>\n",
       "      <td>K-feldspar</td>\n",
       "      <td>K(AlSi3)O8</td>\n",
       "      <td>cr</td>\n",
       "      <td>2557.0</td>\n",
       "    </tr>\n",
       "    <tr>\n",
       "      <th>2543</th>\n",
       "      <td>-1</td>\n",
       "      <td>kaolinite</td>\n",
       "      <td>Al2Si2O5(OH)4</td>\n",
       "      <td>cr</td>\n",
       "      <td>2543.0</td>\n",
       "    </tr>\n",
       "    <tr>\n",
       "      <th>1</th>\n",
       "      <td>1</td>\n",
       "      <td>water</td>\n",
       "      <td>H2O</td>\n",
       "      <td>liq</td>\n",
       "      <td>1.0</td>\n",
       "    </tr>\n",
       "    <tr>\n",
       "      <th>67</th>\n",
       "      <td>2</td>\n",
       "      <td>SiO2</td>\n",
       "      <td>SiO2</td>\n",
       "      <td>aq</td>\n",
       "      <td>67.0</td>\n",
       "    </tr>\n",
       "    <tr>\n",
       "      <th>2553</th>\n",
       "      <td>1</td>\n",
       "      <td>muscovite</td>\n",
       "      <td>KAl2(AlSi3)O10(OH)2</td>\n",
       "      <td>cr</td>\n",
       "      <td>2553.0</td>\n",
       "    </tr>\n",
       "  </tbody>\n",
       "</table>\n",
       "</div>"
      ],
      "text/plain": [
       "      coeff        name              formula state  ispecies\n",
       "2557     -1  K-feldspar           K(AlSi3)O8    cr    2557.0\n",
       "2543     -1   kaolinite        Al2Si2O5(OH)4    cr    2543.0\n",
       "1         1       water                  H2O   liq       1.0\n",
       "67        2        SiO2                 SiO2    aq      67.0\n",
       "2553      1   muscovite  KAl2(AlSi3)O10(OH)2    cr    2553.0"
      ]
     },
     "metadata": {},
     "output_type": "display_data"
    },
    {
     "data": {
      "text/html": [
       "<div>\n",
       "<style scoped>\n",
       "    .dataframe tbody tr th:only-of-type {\n",
       "        vertical-align: middle;\n",
       "    }\n",
       "\n",
       "    .dataframe tbody tr th {\n",
       "        vertical-align: top;\n",
       "    }\n",
       "\n",
       "    .dataframe thead th {\n",
       "        text-align: right;\n",
       "    }\n",
       "</style>\n",
       "<table border=\"1\" class=\"dataframe\">\n",
       "  <thead>\n",
       "    <tr style=\"text-align: right;\">\n",
       "      <th></th>\n",
       "      <th>T</th>\n",
       "      <th>P</th>\n",
       "      <th>rho</th>\n",
       "      <th>logK</th>\n",
       "      <th>G</th>\n",
       "      <th>H</th>\n",
       "      <th>S</th>\n",
       "      <th>V</th>\n",
       "      <th>Cp</th>\n",
       "    </tr>\n",
       "  </thead>\n",
       "  <tbody>\n",
       "    <tr>\n",
       "      <th>1</th>\n",
       "      <td>0.01</td>\n",
       "      <td>1.000000</td>\n",
       "      <td>0.999829</td>\n",
       "      <td>-8.328090</td>\n",
       "      <td>10409.258104</td>\n",
       "      <td>22914.037676</td>\n",
       "      <td>45.779326</td>\n",
       "      <td>-11.155500</td>\n",
       "      <td>-447.204769</td>\n",
       "    </tr>\n",
       "    <tr>\n",
       "      <th>2</th>\n",
       "      <td>50.00</td>\n",
       "      <td>1.000000</td>\n",
       "      <td>0.988030</td>\n",
       "      <td>-6.220115</td>\n",
       "      <td>9197.288626</td>\n",
       "      <td>13466.922013</td>\n",
       "      <td>13.213475</td>\n",
       "      <td>-20.439476</td>\n",
       "      <td>-68.715258</td>\n",
       "    </tr>\n",
       "    <tr>\n",
       "      <th>3</th>\n",
       "      <td>100.00</td>\n",
       "      <td>1.013220</td>\n",
       "      <td>0.958393</td>\n",
       "      <td>-5.093168</td>\n",
       "      <td>8696.183136</td>\n",
       "      <td>11782.210421</td>\n",
       "      <td>8.271013</td>\n",
       "      <td>-23.196874</td>\n",
       "      <td>-11.707746</td>\n",
       "    </tr>\n",
       "    <tr>\n",
       "      <th>4</th>\n",
       "      <td>150.00</td>\n",
       "      <td>4.757169</td>\n",
       "      <td>0.917058</td>\n",
       "      <td>-4.284951</td>\n",
       "      <td>8296.548133</td>\n",
       "      <td>11662.460840</td>\n",
       "      <td>7.955131</td>\n",
       "      <td>-24.602986</td>\n",
       "      <td>3.832525</td>\n",
       "    </tr>\n",
       "    <tr>\n",
       "      <th>5</th>\n",
       "      <td>200.00</td>\n",
       "      <td>15.536499</td>\n",
       "      <td>0.864743</td>\n",
       "      <td>-3.638153</td>\n",
       "      <td>7876.569060</td>\n",
       "      <td>11954.965566</td>\n",
       "      <td>8.620306</td>\n",
       "      <td>-26.063214</td>\n",
       "      <td>6.421813</td>\n",
       "    </tr>\n",
       "    <tr>\n",
       "      <th>6</th>\n",
       "      <td>250.00</td>\n",
       "      <td>39.736493</td>\n",
       "      <td>0.799072</td>\n",
       "      <td>-3.098384</td>\n",
       "      <td>7416.837243</td>\n",
       "      <td>12116.300626</td>\n",
       "      <td>8.983589</td>\n",
       "      <td>-29.536201</td>\n",
       "      <td>-3.136008</td>\n",
       "    </tr>\n",
       "    <tr>\n",
       "      <th>7</th>\n",
       "      <td>300.00</td>\n",
       "      <td>85.837843</td>\n",
       "      <td>0.712408</td>\n",
       "      <td>-2.652400</td>\n",
       "      <td>6956.079639</td>\n",
       "      <td>11076.799658</td>\n",
       "      <td>7.190127</td>\n",
       "      <td>-43.941600</td>\n",
       "      <td>-64.819056</td>\n",
       "    </tr>\n",
       "    <tr>\n",
       "      <th>8</th>\n",
       "      <td>350.00</td>\n",
       "      <td>165.211289</td>\n",
       "      <td>0.574688</td>\n",
       "      <td>-2.359478</td>\n",
       "      <td>6727.686469</td>\n",
       "      <td>-2473.987632</td>\n",
       "      <td>-14.765904</td>\n",
       "      <td>-211.500284</td>\n",
       "      <td>-1684.113530</td>\n",
       "    </tr>\n",
       "  </tbody>\n",
       "</table>\n",
       "</div>"
      ],
      "text/plain": [
       "        T           P       rho      logK             G             H  \\\n",
       "1    0.01    1.000000  0.999829 -8.328090  10409.258104  22914.037676   \n",
       "2   50.00    1.000000  0.988030 -6.220115   9197.288626  13466.922013   \n",
       "3  100.00    1.013220  0.958393 -5.093168   8696.183136  11782.210421   \n",
       "4  150.00    4.757169  0.917058 -4.284951   8296.548133  11662.460840   \n",
       "5  200.00   15.536499  0.864743 -3.638153   7876.569060  11954.965566   \n",
       "6  250.00   39.736493  0.799072 -3.098384   7416.837243  12116.300626   \n",
       "7  300.00   85.837843  0.712408 -2.652400   6956.079639  11076.799658   \n",
       "8  350.00  165.211289  0.574688 -2.359478   6727.686469  -2473.987632   \n",
       "\n",
       "           S           V           Cp  \n",
       "1  45.779326  -11.155500  -447.204769  \n",
       "2  13.213475  -20.439476   -68.715258  \n",
       "3   8.271013  -23.196874   -11.707746  \n",
       "4   7.955131  -24.602986     3.832525  \n",
       "5   8.620306  -26.063214     6.421813  \n",
       "6   8.983589  -29.536201    -3.136008  \n",
       "7   7.190127  -43.941600   -64.819056  \n",
       "8 -14.765904 -211.500284 -1684.113530  "
      ]
     },
     "metadata": {},
     "output_type": "display_data"
    },
    {
     "name": "stdout",
     "output_type": "stream",
     "text": [
      "done!\n"
     ]
    }
   ],
   "source": [
    "subcrt(\n",
    "    species=[\"K-feldspar\", \"kaolinite\", \"H2O\", \"SiO2\", \"muscovite\"], # what chemical species are present in rxn?\n",
    "    coeff=[-1, -1, 1, 2, 1], # what are their stoichiometries? negative = reactant\n",
    "    T=list(range(0, 360, 50)) # list(range(from, to, by)) to create a sequence. Note that 'to' actually means 'up to but not including'.\n",
    ")\n",
    "print(\"done!\")"
   ]
  },
  {
   "cell_type": "markdown",
   "metadata": {
    "colab_type": "text",
    "id": "JsuJbAUUZtpd"
   },
   "source": [
    "### Exporting and plotting results from subcrt"
   ]
  },
  {
   "cell_type": "markdown",
   "metadata": {
    "colab_type": "text",
    "id": "AEUNBoFJZtpe"
   },
   "source": [
    "You can export a table of results into your notebook directory as a downloadable csv."
   ]
  },
  {
   "cell_type": "code",
   "execution_count": 16,
   "metadata": {
    "colab": {},
    "colab_type": "code",
    "id": "sluUpa-pZtpe"
   },
   "outputs": [
    {
     "name": "stdout",
     "output_type": "stream",
     "text": [
      "info.character: found H2O(liq); other available state is cr\n",
      "\n",
      "info.character: found SiO2(aq); other available phases are coesite, cristobalite,alpha, cristobalite,beta, quartz, quartz,beta, tridymite,high, tridymite,low, amorphous silica, chalcedony, cristobalite\n",
      "\n",
      "subcrt: 5 species at 36 values of T (ºC) and P (bar) (wet) [energy units: cal]\n",
      "\n"
     ]
    }
   ],
   "source": [
    "my_results = subcrt(\n",
    "    species=[\"K-feldspar\", \"kaolinite\", \"H2O\", \"SiO2\", \"muscovite\"], # what chemical species are present in rxn?\n",
    "    coeff=[-1, -1, 1, 2, 1], # what are their stoichiometries? negative = reactant\n",
    "    T=list(range(0, 360, 10)), # list(range(from, to, by)) to create a sequence. Note that 'to' actually means 'up to but not including'.\n",
    "    show=False # don't show me the tables\n",
    "    )\n",
    "\n",
    "my_results[\"out\"].to_csv(\"results.csv\")"
   ]
  },
  {
   "cell_type": "markdown",
   "metadata": {
    "colab_type": "text",
    "id": "zTx1Rzs2Ztpg"
   },
   "source": [
    "Results can also be plotted directly in a notebook with the matplotlib package:"
   ]
  },
  {
   "cell_type": "code",
   "execution_count": 17,
   "metadata": {},
   "outputs": [
    {
     "name": "stdout",
     "output_type": "stream",
     "text": [
      "done!\n"
     ]
    },
    {
     "data": {
      "image/png": "[encoded data removed]",
      "text/plain": [
       "<Figure size 432x288 with 1 Axes>"
      ]
     },
     "metadata": {
      "needs_background": "light"
     },
     "output_type": "display_data"
    }
   ],
   "source": [
    "fig = plt.figure()\n",
    "ax = plt.axes()\n",
    "x = my_results[\"out\"][\"T\"]\n",
    "y = my_results[\"out\"][\"logK\"]\n",
    "plt.xlabel(\"Temperature, °C\")\n",
    "plt.ylabel(\"logK\")\n",
    "ax.plot(x, y)\n",
    "print(\"done!\")"
   ]
  }
 ],
 "metadata": {
  "colab": {
   "collapsed_sections": [],
   "name": "CHNOSZ demo.ipynb",
   "provenance": []
  },
  "kernelspec": {
   "display_name": "Python 3",
   "language": "python",
   "name": "python3"
  },
  "language_info": {
   "codemirror_mode": {
    "name": "ipython",
    "version": 3
   },
   "file_extension": ".py",
   "mimetype": "text/x-python",
   "name": "python",
   "nbconvert_exporter": "python",
   "pygments_lexer": "ipython3",
   "version": "3.7.0"
  }
 },
 "nbformat": 4,
 "nbformat_minor": 4
}
