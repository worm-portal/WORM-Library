{
 "cells": [
  {
   "cell_type": "markdown",
   "metadata": {},
   "source": [
    "# Welcome to the WORM Portal!"
   ]
  },
  {
   "cell_type": "markdown",
   "metadata": {},
   "source": [
    "The Water Organic Rock Microbe (WORM) Portal is an online computational space that comes with tools for modeling reactions. These tools are in the form of Jupyter notebooks (you are looking at one now!). Notebooks are files that can mix working code, text, and visualizations. Notebooks are handy because they can perform calculations, contain descriptions of what is happening at each step, and can be modified and shared with others.\n",
    "\n",
    "The WORM Portal is under active development by Everett Shock's research group, GEOPIG. Content and organization are likely to change over time. Suggestions and feeback are appreciated! Contact Grayson Boyer (gmboyer@asu.edu) about joining the [WORM community on Slack](http://wormportal.slack.com/)."
   ]
  },
  {
   "cell_type": "markdown",
   "metadata": {},
   "source": [
    "---"
   ]
  },
  {
   "cell_type": "markdown",
   "metadata": {},
   "source": [
    "### Getting Started"
   ]
  },
  {
   "cell_type": "markdown",
   "metadata": {},
   "source": [
    "Here are some steps to help you get started by copying demo notebooks to your personal workspace and running them.\n",
    "\n",
    "1. **Navigate into the \"2 WORM Library Demo\" folder.**\n",
    "2. **Select and copy all of the files in this folder.** To do this, click the uppermost file to select it. Then hold shift and click on the file at the bottom. This should select all files. Right click on any file and choose 'Copy'.\n",
    "3. **Navigate to your personal workspace and create a folder called 'demo'.** You can return to your personal workspace by clicking the folder icon to the left of /WORM-Library/ in the browser window. Create a folder by clicking the New Folder button above the file browser window.\n",
    "4. **Enter your new folder and paste files.** Right click in the browser window and select 'Paste'. The files you copied should appear. Note that entire folders cannot be copied this way.\n",
    "5. **Open and run \"1-quartz-solubility.ipynb\".** Double click a notebook file (.ipynb) to open it. Click the 'Kernel' dropdown tab and select 'Restart Kernel and Run All Cells...' to run the entire notebook from the beginning. Note that a bunch of new files and folders were created when you did this!\n",
    "6. **Open and run the other copied notebooks.**\n",
    "7. **Try modifying a notebook and then run it.** Change a number or two and see what happens. Explore different chemical species. Try to produce an error! You can always undo changes, close the file without saving and then reopen it, or grab a fresh copy of a notebook from the WORM library.\n",
    "\n",
    "All of the demos and software tools in the WORM library can be copied to your workspace and run in this way."
   ]
  },
  {
   "cell_type": "markdown",
   "metadata": {},
   "source": [
    "---"
   ]
  }
 ],
 "metadata": {
  "kernelspec": {
   "display_name": "Python 3",
   "language": "python",
   "name": "python3"
  },
  "language_info": {
   "codemirror_mode": {
    "name": "ipython",
    "version": 3
   },
   "file_extension": ".py",
   "mimetype": "text/x-python",
   "name": "python",
   "nbconvert_exporter": "python",
   "pygments_lexer": "ipython3",
   "version": "3.9.1"
  }
 },
 "nbformat": 4,
 "nbformat_minor": 4
}
